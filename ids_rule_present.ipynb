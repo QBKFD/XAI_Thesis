{
 "cells": [
  {
   "cell_type": "code",
   "execution_count": 1,
   "metadata": {},
   "outputs": [],
   "source": [
    "import pandas as pd\n",
    "import pyarc\n",
    "from pyids import IDS\n",
    "from pyids.algorithms.ids_classifier import mine_CARs\n",
    "from pyids.rule_mining import RuleMiner\n",
    "from pyarc.qcba.data_structures import QuantitativeDataFrame\n",
    "\n",
    "from sklearn.model_selection import train_test_split"
   ]
  },
  {
   "cell_type": "code",
   "execution_count": 4,
   "metadata": {},
   "outputs": [],
   "source": [
    "data = pd.read_csv(\"https://raw.githubusercontent.com/jirifilip/pyIDS/master/data/titanic.csv\").sample(frac=1).reset_index(drop=True)\n",
    "\n",
    "data_train, data_test = train_test_split(data, test_size=0.8)"
   ]
  },
  {
   "cell_type": "code",
   "execution_count": 5,
   "metadata": {},
   "outputs": [
    {
     "name": "stdout",
     "output_type": "stream",
     "text": [
      "[CAR {Age_Cat=adult} => {Died=0} sup: 0.95 conf: 0.00 len: 2, id: 930816, CAR {Age_Cat=adult} => {Died=1} sup: 0.95 conf: 0.00 len: 2, id: 930817, CAR {Gender=male} => {Died=0} sup: 0.80 conf: 0.00 len: 2, id: 930812, CAR {Gender=male} => {Died=1} sup: 0.80 conf: 0.00 len: 2, id: 930813, CAR {Gender=male,Age_Cat=adult} => {Died=0} sup: 0.77 conf: 0.00 len: 3, id: 930814, CAR {Gender=male,Age_Cat=adult} => {Died=1} sup: 0.77 conf: 0.00 len: 3, id: 930815, CAR {Passenger_Cat=crew} => {Died=0} sup: 0.39 conf: 0.00 len: 2, id: 930806, CAR {Passenger_Cat=crew} => {Died=1} sup: 0.39 conf: 0.00 len: 2, id: 930807, CAR {Passenger_Cat=crew,Age_Cat=adult} => {Died=0} sup: 0.39 conf: 0.00 len: 3, id: 930804, CAR {Passenger_Cat=crew,Age_Cat=adult} => {Died=1} sup: 0.39 conf: 0.00 len: 3, id: 930805, CAR {Passenger_Cat=crew,Gender=male} => {Died=0} sup: 0.38 conf: 0.00 len: 3, id: 930810, CAR {Passenger_Cat=crew,Gender=male} => {Died=1} sup: 0.38 conf: 0.00 len: 3, id: 930811, CAR {Gender=male,Passenger_Cat=crew,Age_Cat=adult} => {Died=0} sup: 0.38 conf: 0.00 len: 4, id: 930808, CAR {Gender=male,Passenger_Cat=crew,Age_Cat=adult} => {Died=1} sup: 0.38 conf: 0.00 len: 4, id: 930809, CAR {Passenger_Cat=3rd_class} => {Died=0} sup: 0.34 conf: 0.00 len: 2, id: 930796, CAR {Passenger_Cat=3rd_class} => {Died=1} sup: 0.34 conf: 0.00 len: 2, id: 930797, CAR {Passenger_Cat=3rd_class,Age_Cat=adult} => {Died=0} sup: 0.31 conf: 0.00 len: 3, id: 930802, CAR {Passenger_Cat=3rd_class,Age_Cat=adult} => {Died=1} sup: 0.31 conf: 0.00 len: 3, id: 930803, CAR {Passenger_Cat=3rd_class,Gender=male} => {Died=0} sup: 0.26 conf: 0.00 len: 3, id: 930798, CAR {Passenger_Cat=3rd_class,Gender=male} => {Died=1} sup: 0.26 conf: 0.00 len: 3, id: 930799, CAR {Passenger_Cat=3rd_class,Gender=male,Age_Cat=adult} => {Died=0} sup: 0.24 conf: 0.00 len: 4, id: 930800, CAR {Passenger_Cat=3rd_class,Gender=male,Age_Cat=adult} => {Died=1} sup: 0.24 conf: 0.00 len: 4, id: 930801]\n"
     ]
    }
   ],
   "source": [
    "rm = RuleMiner()\n",
    "rules = rm.mine_rules(data_train)"
   ]
  },
  {
   "cell_type": "code",
   "execution_count": 7,
   "metadata": {},
   "outputs": [],
   "source": [
    "quant_dataframe_train = QuantitativeDataFrame(data_train)\n",
    "quant_dataframe_test = QuantitativeDataFrame(data_test)"
   ]
  },
  {
   "cell_type": "code",
   "execution_count": 8,
   "metadata": {},
   "outputs": [
    {
     "name": "stderr",
     "output_type": "stream",
     "text": [
      "/Users/x/miniconda3/envs/orange3/lib/python3.10/site-packages/pyids-0.0.1-py3.10.egg/pyids/algorithms/ids_classifier.py:58: FutureWarning: iteritems is deprecated and will be removed in a future version. Use .items instead.\n"
     ]
    },
    {
     "data": {
      "text/plain": [
       "<pyids.algorithms.ids.IDS at 0x37dede290>"
      ]
     },
     "execution_count": 8,
     "metadata": {},
     "output_type": "execute_result"
    }
   ],
   "source": [
    "ids = IDS()\n",
    "ids.fit(class_association_rules=rules, quant_dataframe=quant_dataframe_train, random_seed=5)"
   ]
  },
  {
   "cell_type": "code",
   "execution_count": 9,
   "metadata": {},
   "outputs": [
    {
     "data": {
      "text/plain": [
       "'0'"
      ]
     },
     "execution_count": 9,
     "metadata": {},
     "output_type": "execute_result"
    }
   ],
   "source": [
    "ids.clf.default_class"
   ]
  },
  {
   "cell_type": "code",
   "execution_count": null,
   "metadata": {},
   "outputs": [],
   "source": [
    "print(\"Accuracy on train data: \", ids.score(quant_dataframe_train))\n",
    "print(\"Accuracy on test data: \", ids.score(quant_dataframe_test))\n",
    "print(\"AUC on train data: \", ids.score_auc(quant_dataframe_train))\n",
    "print(\"AUC on test data: \", ids.score_auc(quant_dataframe_test))"
   ]
  },
  {
   "cell_type": "code",
   "execution_count": null,
   "metadata": {},
   "outputs": [],
   "source": [
    "ids.score_interpretability_metrics(quant_dataframe_train)\n",
    "ids.score_interpretability_metrics(quant_dataframe_test)"
   ]
  },
  {
   "cell_type": "code",
   "execution_count": 11,
   "metadata": {},
   "outputs": [
    {
     "name": "stdout",
     "output_type": "stream",
     "text": [
      "{'l1': 153, 'l2': 145, 'l3': 726, 'l4': 350, 'l5': 271, 'l6': 213, 'l7': 624}\n"
     ]
    },
    {
     "name": "stderr",
     "output_type": "stream",
     "text": [
      "/Users/x/miniconda3/envs/orange3/lib/python3.10/site-packages/pyids-0.0.1-py3.10.egg/pyids/algorithms/ids_classifier.py:58: FutureWarning: iteritems is deprecated and will be removed in a future version. Use .items instead.\n"
     ]
    },
    {
     "name": "stdout",
     "output_type": "stream",
     "text": [
      "{'fraction_overlap': 0.00017035775127768315, 'fraction_classes': 1.0, 'fraction_uncovered': 0.16922203293583193, 'average_rule_width': 2.2, 'ruleset_length': 5}\n",
      "using precision 50\n",
      "{'l1': 334.0, 'l2': 145, 'l3': 726, 'l4': 350, 'l5': 271, 'l6': 213, 'l7': 624}\n"
     ]
    },
    {
     "name": "stderr",
     "output_type": "stream",
     "text": [
      "/Users/x/miniconda3/envs/orange3/lib/python3.10/site-packages/pyids-0.0.1-py3.10.egg/pyids/algorithms/ids_classifier.py:58: FutureWarning: iteritems is deprecated and will be removed in a future version. Use .items instead.\n"
     ]
    },
    {
     "name": "stdout",
     "output_type": "stream",
     "text": [
      "{'fraction_overlap': 0.02701387198831832, 'fraction_classes': 1.0, 'fraction_uncovered': 0.1726291879613856, 'average_rule_width': 2.25, 'ruleset_length': 8}\n",
      "{'l1': 667.0, 'l2': 145, 'l3': 726, 'l4': 350, 'l5': 271, 'l6': 213, 'l7': 624}\n"
     ]
    },
    {
     "name": "stderr",
     "output_type": "stream",
     "text": [
      "/Users/x/miniconda3/envs/orange3/lib/python3.10/site-packages/pyids-0.0.1-py3.10.egg/pyids/algorithms/ids_classifier.py:58: FutureWarning: iteritems is deprecated and will be removed in a future version. Use .items instead.\n"
     ]
    },
    {
     "name": "stdout",
     "output_type": "stream",
     "text": [
      "{'fraction_overlap': 0.003461236851356102, 'fraction_classes': 1.0, 'fraction_uncovered': 0.8023850085178875, 'average_rule_width': 2.7142857142857144, 'ruleset_length': 7}\n",
      "{'l1': 223.0, 'l2': 145, 'l3': 726, 'l4': 350, 'l5': 271, 'l6': 213, 'l7': 624}\n"
     ]
    },
    {
     "name": "stderr",
     "output_type": "stream",
     "text": [
      "/Users/x/miniconda3/envs/orange3/lib/python3.10/site-packages/pyids-0.0.1-py3.10.egg/pyids/algorithms/ids_classifier.py:58: FutureWarning: iteritems is deprecated and will be removed in a future version. Use .items instead.\n"
     ]
    },
    {
     "name": "stdout",
     "output_type": "stream",
     "text": [
      "{'fraction_overlap': 0.004700612025995332, 'fraction_classes': 1.0, 'fraction_uncovered': 0.4128336172629188, 'average_rule_width': 2.4444444444444446, 'ruleset_length': 9}\n",
      "{'l1': 445.0, 'l2': 145, 'l3': 726, 'l4': 350, 'l5': 271, 'l6': 213, 'l7': 624}\n"
     ]
    },
    {
     "name": "stderr",
     "output_type": "stream",
     "text": [
      "/Users/x/miniconda3/envs/orange3/lib/python3.10/site-packages/pyids-0.0.1-py3.10.egg/pyids/algorithms/ids_classifier.py:58: FutureWarning: iteritems is deprecated and will be removed in a future version. Use .items instead.\n"
     ]
    },
    {
     "name": "stdout",
     "output_type": "stream",
     "text": [
      "{'fraction_overlap': 0.003142154079121711, 'fraction_classes': 1.0, 'fraction_uncovered': 0.7189097103918228, 'average_rule_width': 2.6666666666666665, 'ruleset_length': 6}\n",
      "{'l1': 149.0, 'l2': 145, 'l3': 726, 'l4': 350, 'l5': 271, 'l6': 213, 'l7': 624}\n"
     ]
    },
    {
     "name": "stderr",
     "output_type": "stream",
     "text": [
      "/Users/x/miniconda3/envs/orange3/lib/python3.10/site-packages/pyids-0.0.1-py3.10.egg/pyids/algorithms/ids_classifier.py:58: FutureWarning: iteritems is deprecated and will be removed in a future version. Use .items instead.\n"
     ]
    },
    {
     "name": "stdout",
     "output_type": "stream",
     "text": [
      "{'fraction_overlap': 0.003871767074492798, 'fraction_classes': 1.0, 'fraction_uncovered': 0.17376490630323682, 'average_rule_width': 2.5833333333333335, 'ruleset_length': 12}\n",
      "{'l1': 297.0, 'l2': 145, 'l3': 726, 'l4': 350, 'l5': 271, 'l6': 213, 'l7': 624}\n"
     ]
    },
    {
     "name": "stderr",
     "output_type": "stream",
     "text": [
      "/Users/x/miniconda3/envs/orange3/lib/python3.10/site-packages/pyids-0.0.1-py3.10.egg/pyids/algorithms/ids_classifier.py:58: FutureWarning: iteritems is deprecated and will be removed in a future version. Use .items instead.\n",
      "/Users/x/miniconda3/envs/orange3/lib/python3.10/site-packages/pyids-0.0.1-py3.10.egg/pyids/algorithms/ids_classifier.py:58: FutureWarning: iteritems is deprecated and will be removed in a future version. Use .items instead.\n"
     ]
    },
    {
     "name": "stdout",
     "output_type": "stream",
     "text": [
      "{'fraction_overlap': 0.032070522700846385, 'fraction_classes': 1.0, 'fraction_uncovered': 0.13458262350936967, 'average_rule_width': 2.5714285714285716, 'ruleset_length': 7}\n",
      "0.7074928079885977\n",
      "{'l1': 247.66666666666669, 'l2': 145, 'l3': 726, 'l4': 350, 'l5': 271, 'l6': 213, 'l7': 624}\n"
     ]
    },
    {
     "name": "stderr",
     "output_type": "stream",
     "text": [
      "/Users/x/miniconda3/envs/orange3/lib/python3.10/site-packages/pyids-0.0.1-py3.10.egg/pyids/algorithms/ids_classifier.py:91: FutureWarning: iteritems is deprecated and will be removed in a future version. Use .items instead.\n",
      "/Users/x/miniconda3/envs/orange3/lib/python3.10/site-packages/pyids-0.0.1-py3.10.egg/pyids/algorithms/ids_classifier.py:58: FutureWarning: iteritems is deprecated and will be removed in a future version. Use .items instead.\n"
     ]
    },
    {
     "name": "stdout",
     "output_type": "stream",
     "text": [
      "{'fraction_overlap': 0.0, 'fraction_classes': 1.0, 'fraction_uncovered': 0.909710391822828, 'average_rule_width': 3.0, 'ruleset_length': 5}\n",
      "{'l1': 346.3333333333333, 'l2': 145, 'l3': 726, 'l4': 350, 'l5': 271, 'l6': 213, 'l7': 624}\n"
     ]
    },
    {
     "name": "stderr",
     "output_type": "stream",
     "text": [
      "/Users/x/miniconda3/envs/orange3/lib/python3.10/site-packages/pyids-0.0.1-py3.10.egg/pyids/algorithms/ids_classifier.py:58: FutureWarning: iteritems is deprecated and will be removed in a future version. Use .items instead.\n"
     ]
    },
    {
     "name": "stdout",
     "output_type": "stream",
     "text": [
      "{'fraction_overlap': 0.01336046438261089, 'fraction_classes': 1.0, 'fraction_uncovered': 0.1357183418512209, 'average_rule_width': 2.4444444444444446, 'ruleset_length': 9}\n",
      "0.7061746369017952\n",
      "{'l1': 313.44444444444446, 'l2': 145, 'l3': 726, 'l4': 350, 'l5': 271, 'l6': 213, 'l7': 624}\n"
     ]
    },
    {
     "name": "stderr",
     "output_type": "stream",
     "text": [
      "/Users/x/miniconda3/envs/orange3/lib/python3.10/site-packages/pyids-0.0.1-py3.10.egg/pyids/algorithms/ids_classifier.py:58: FutureWarning: iteritems is deprecated and will be removed in a future version. Use .items instead.\n",
      "/Users/x/miniconda3/envs/orange3/lib/python3.10/site-packages/pyids-0.0.1-py3.10.egg/pyids/algorithms/ids_classifier.py:91: FutureWarning: iteritems is deprecated and will be removed in a future version. Use .items instead.\n",
      "/Users/x/miniconda3/envs/orange3/lib/python3.10/site-packages/pyids-0.0.1-py3.10.egg/pyids/algorithms/ids_classifier.py:58: FutureWarning: iteritems is deprecated and will be removed in a future version. Use .items instead.\n"
     ]
    },
    {
     "name": "stdout",
     "output_type": "stream",
     "text": [
      "{'fraction_overlap': 0.029074389551391258, 'fraction_classes': 1.0, 'fraction_uncovered': 0.21237932992617825, 'average_rule_width': 2.2, 'ruleset_length': 5}\n",
      "{'l1': 379.22222222222223, 'l2': 145, 'l3': 726, 'l4': 350, 'l5': 271, 'l6': 213, 'l7': 624}\n"
     ]
    },
    {
     "name": "stderr",
     "output_type": "stream",
     "text": [
      "/Users/x/miniconda3/envs/orange3/lib/python3.10/site-packages/pyids-0.0.1-py3.10.egg/pyids/algorithms/ids_classifier.py:58: FutureWarning: iteritems is deprecated and will be removed in a future version. Use .items instead.\n"
     ]
    },
    {
     "name": "stdout",
     "output_type": "stream",
     "text": [
      "{'fraction_overlap': 0.008233957978421353, 'fraction_classes': 1.0, 'fraction_uncovered': 0.17546848381601365, 'average_rule_width': 2.6, 'ruleset_length': 5}\n",
      "{'l1': 291.51851851851853, 'l2': 145, 'l3': 726, 'l4': 350, 'l5': 271, 'l6': 213, 'l7': 624}\n"
     ]
    },
    {
     "name": "stderr",
     "output_type": "stream",
     "text": [
      "/Users/x/miniconda3/envs/orange3/lib/python3.10/site-packages/pyids-0.0.1-py3.10.egg/pyids/algorithms/ids_classifier.py:58: FutureWarning: iteritems is deprecated and will be removed in a future version. Use .items instead.\n",
      "/Users/x/miniconda3/envs/orange3/lib/python3.10/site-packages/pyids-0.0.1-py3.10.egg/pyids/algorithms/ids_classifier.py:58: FutureWarning: iteritems is deprecated and will be removed in a future version. Use .items instead.\n"
     ]
    },
    {
     "name": "stdout",
     "output_type": "stream",
     "text": [
      "{'fraction_overlap': 0.014966243927061647, 'fraction_classes': 1.0, 'fraction_uncovered': 0.11697898921067573, 'average_rule_width': 2.7, 'ruleset_length': 10}\n",
      "0.7253577060179719\n",
      "{'l1': 335.3703703703704, 'l2': 145, 'l3': 726, 'l4': 350, 'l5': 271, 'l6': 213, 'l7': 624}\n"
     ]
    },
    {
     "name": "stderr",
     "output_type": "stream",
     "text": [
      "/Users/x/miniconda3/envs/orange3/lib/python3.10/site-packages/pyids-0.0.1-py3.10.egg/pyids/algorithms/ids_classifier.py:91: FutureWarning: iteritems is deprecated and will be removed in a future version. Use .items instead.\n",
      "/Users/x/miniconda3/envs/orange3/lib/python3.10/site-packages/pyids-0.0.1-py3.10.egg/pyids/algorithms/ids_classifier.py:58: FutureWarning: iteritems is deprecated and will be removed in a future version. Use .items instead.\n"
     ]
    },
    {
     "name": "stdout",
     "output_type": "stream",
     "text": [
      "{'fraction_overlap': 0.015352478299667396, 'fraction_classes': 1.0, 'fraction_uncovered': 0.20613287904599653, 'average_rule_width': 2.5, 'ruleset_length': 8}\n",
      "{'l1': 276.90123456790127, 'l2': 145, 'l3': 726, 'l4': 350, 'l5': 271, 'l6': 213, 'l7': 624}\n"
     ]
    },
    {
     "name": "stderr",
     "output_type": "stream",
     "text": [
      "/Users/x/miniconda3/envs/orange3/lib/python3.10/site-packages/pyids-0.0.1-py3.10.egg/pyids/algorithms/ids_classifier.py:58: FutureWarning: iteritems is deprecated and will be removed in a future version. Use .items instead.\n",
      "/Users/x/miniconda3/envs/orange3/lib/python3.10/site-packages/pyids-0.0.1-py3.10.egg/pyids/algorithms/ids_classifier.py:58: FutureWarning: iteritems is deprecated and will be removed in a future version. Use .items instead.\n"
     ]
    },
    {
     "name": "stdout",
     "output_type": "stream",
     "text": [
      "{'fraction_overlap': 0.0033260322868500043, 'fraction_classes': 1.0, 'fraction_uncovered': 0.11697898921067573, 'average_rule_width': 2.25, 'ruleset_length': 8}\n",
      "0.7098937884921988\n",
      "{'l1': 306.1358024691358, 'l2': 145, 'l3': 726, 'l4': 350, 'l5': 271, 'l6': 213, 'l7': 624}\n"
     ]
    },
    {
     "name": "stderr",
     "output_type": "stream",
     "text": [
      "/Users/x/miniconda3/envs/orange3/lib/python3.10/site-packages/pyids-0.0.1-py3.10.egg/pyids/algorithms/ids_classifier.py:91: FutureWarning: iteritems is deprecated and will be removed in a future version. Use .items instead.\n",
      "/Users/x/miniconda3/envs/orange3/lib/python3.10/site-packages/pyids-0.0.1-py3.10.egg/pyids/algorithms/ids_classifier.py:58: FutureWarning: iteritems is deprecated and will be removed in a future version. Use .items instead.\n"
     ]
    },
    {
     "name": "stdout",
     "output_type": "stream",
     "text": [
      "{'fraction_overlap': 0.18120386144236228, 'fraction_classes': 1.0, 'fraction_uncovered': 0.2197614991482112, 'average_rule_width': 2.2, 'ruleset_length': 5}\n",
      "{'l1': 267.1563786008231, 'l2': 145, 'l3': 726, 'l4': 350, 'l5': 271, 'l6': 213, 'l7': 624}\n"
     ]
    },
    {
     "name": "stderr",
     "output_type": "stream",
     "text": [
      "/Users/x/miniconda3/envs/orange3/lib/python3.10/site-packages/pyids-0.0.1-py3.10.egg/pyids/algorithms/ids_classifier.py:58: FutureWarning: iteritems is deprecated and will be removed in a future version. Use .items instead.\n"
     ]
    },
    {
     "name": "stdout",
     "output_type": "stream",
     "text": [
      "{'fraction_overlap': 0.00015142911224682944, 'fraction_classes': 1.0, 'fraction_uncovered': 0.8739352640545145, 'average_rule_width': 2.6666666666666665, 'ruleset_length': 6}\n",
      "{'l1': 286.6460905349794, 'l2': 145, 'l3': 726, 'l4': 350, 'l5': 271, 'l6': 213, 'l7': 624}\n"
     ]
    },
    {
     "name": "stderr",
     "output_type": "stream",
     "text": [
      "/Users/x/miniconda3/envs/orange3/lib/python3.10/site-packages/pyids-0.0.1-py3.10.egg/pyids/algorithms/ids_classifier.py:58: FutureWarning: iteritems is deprecated and will be removed in a future version. Use .items instead.\n"
     ]
    },
    {
     "name": "stdout",
     "output_type": "stream",
     "text": [
      "{'fraction_overlap': 0, 'fraction_classes': 1.0, 'fraction_uncovered': 0.9880749574105622, 'average_rule_width': 2.0, 'ruleset_length': 1}\n",
      "{'l1': 267.156378600823, 'l2': 145, 'l3': 726, 'l4': 350, 'l5': 271, 'l6': 213, 'l7': 624}\n"
     ]
    },
    {
     "name": "stderr",
     "output_type": "stream",
     "text": [
      "/Users/x/miniconda3/envs/orange3/lib/python3.10/site-packages/pyids-0.0.1-py3.10.egg/pyids/algorithms/ids_classifier.py:58: FutureWarning: iteritems is deprecated and will be removed in a future version. Use .items instead.\n"
     ]
    },
    {
     "name": "stdout",
     "output_type": "stream",
     "text": [
      "{'fraction_overlap': 0.0002271436683702442, 'fraction_classes': 1.0, 'fraction_uncovered': 0.9085746734809768, 'average_rule_width': 2.6, 'ruleset_length': 5}\n",
      "using precision 50\n",
      "{'l1': 267.156378600823, 'l2': 334.0, 'l3': 726, 'l4': 350, 'l5': 271, 'l6': 213, 'l7': 624}\n"
     ]
    },
    {
     "name": "stderr",
     "output_type": "stream",
     "text": [
      "/Users/x/miniconda3/envs/orange3/lib/python3.10/site-packages/pyids-0.0.1-py3.10.egg/pyids/algorithms/ids_classifier.py:58: FutureWarning: iteritems is deprecated and will be removed in a future version. Use .items instead.\n"
     ]
    },
    {
     "name": "stdout",
     "output_type": "stream",
     "text": [
      "{'fraction_overlap': 0.0005678591709256103, 'fraction_classes': 1.0, 'fraction_uncovered': 0.22657580919931852, 'average_rule_width': 2.4285714285714284, 'ruleset_length': 7}\n",
      "{'l1': 267.156378600823, 'l2': 667.0, 'l3': 726, 'l4': 350, 'l5': 271, 'l6': 213, 'l7': 624}\n"
     ]
    },
    {
     "name": "stderr",
     "output_type": "stream",
     "text": [
      "/Users/x/miniconda3/envs/orange3/lib/python3.10/site-packages/pyids-0.0.1-py3.10.egg/pyids/algorithms/ids_classifier.py:58: FutureWarning: iteritems is deprecated and will be removed in a future version. Use .items instead.\n",
      "/Users/x/miniconda3/envs/orange3/lib/python3.10/site-packages/pyids-0.0.1-py3.10.egg/pyids/algorithms/ids_classifier.py:58: FutureWarning: iteritems is deprecated and will be removed in a future version. Use .items instead.\n",
      "/Users/x/miniconda3/envs/orange3/lib/python3.10/site-packages/pyids-0.0.1-py3.10.egg/pyids/algorithms/ids_classifier.py:91: FutureWarning: iteritems is deprecated and will be removed in a future version. Use .items instead.\n"
     ]
    },
    {
     "name": "stdout",
     "output_type": "stream",
     "text": [
      "{'fraction_overlap': 0.017299424028555204, 'fraction_classes': 1.0, 'fraction_uncovered': 0.1357183418512209, 'average_rule_width': 2.375, 'ruleset_length': 8}\n",
      "0.7061775515973989\n",
      "{'l1': 267.156378600823, 'l2': 556.0, 'l3': 726, 'l4': 350, 'l5': 271, 'l6': 213, 'l7': 624}\n"
     ]
    },
    {
     "name": "stderr",
     "output_type": "stream",
     "text": [
      "/Users/x/miniconda3/envs/orange3/lib/python3.10/site-packages/pyids-0.0.1-py3.10.egg/pyids/algorithms/ids_classifier.py:58: FutureWarning: iteritems is deprecated and will be removed in a future version. Use .items instead.\n",
      "/Users/x/miniconda3/envs/orange3/lib/python3.10/site-packages/pyids-0.0.1-py3.10.egg/pyids/algorithms/ids_classifier.py:58: FutureWarning: iteritems is deprecated and will be removed in a future version. Use .items instead.\n",
      "/Users/x/miniconda3/envs/orange3/lib/python3.10/site-packages/pyids-0.0.1-py3.10.egg/pyids/algorithms/ids_classifier.py:91: FutureWarning: iteritems is deprecated and will be removed in a future version. Use .items instead.\n"
     ]
    },
    {
     "name": "stdout",
     "output_type": "stream",
     "text": [
      "{'fraction_overlap': 0.02070793109975393, 'fraction_classes': 1.0, 'fraction_uncovered': 0.10221465076660985, 'average_rule_width': 2.1666666666666665, 'ruleset_length': 6}\n",
      "0.7087235382072874\n",
      "{'l1': 267.156378600823, 'l2': 778.0, 'l3': 726, 'l4': 350, 'l5': 271, 'l6': 213, 'l7': 624}\n"
     ]
    },
    {
     "name": "stderr",
     "output_type": "stream",
     "text": [
      "/Users/x/miniconda3/envs/orange3/lib/python3.10/site-packages/pyids-0.0.1-py3.10.egg/pyids/algorithms/ids_classifier.py:58: FutureWarning: iteritems is deprecated and will be removed in a future version. Use .items instead.\n"
     ]
    },
    {
     "name": "stdout",
     "output_type": "stream",
     "text": [
      "{'fraction_overlap': 0.01329736891917471, 'fraction_classes': 1.0, 'fraction_uncovered': 0.16127200454287338, 'average_rule_width': 2.4444444444444446, 'ruleset_length': 9}\n",
      "{'l1': 267.156378600823, 'l2': 482.0, 'l3': 726, 'l4': 350, 'l5': 271, 'l6': 213, 'l7': 624}\n"
     ]
    },
    {
     "name": "stderr",
     "output_type": "stream",
     "text": [
      "/Users/x/miniconda3/envs/orange3/lib/python3.10/site-packages/pyids-0.0.1-py3.10.egg/pyids/algorithms/ids_classifier.py:58: FutureWarning: iteritems is deprecated and will be removed in a future version. Use .items instead.\n"
     ]
    },
    {
     "name": "stdout",
     "output_type": "stream",
     "text": [
      "{'fraction_overlap': 0.05919931856899489, 'fraction_classes': 1.0, 'fraction_uncovered': 0.20840431572969897, 'average_rule_width': 2.2222222222222223, 'ruleset_length': 9}\n",
      "{'l1': 267.156378600823, 'l2': 630.0, 'l3': 726, 'l4': 350, 'l5': 271, 'l6': 213, 'l7': 624}\n"
     ]
    },
    {
     "name": "stderr",
     "output_type": "stream",
     "text": [
      "/Users/x/miniconda3/envs/orange3/lib/python3.10/site-packages/pyids-0.0.1-py3.10.egg/pyids/algorithms/ids_classifier.py:58: FutureWarning: iteritems is deprecated and will be removed in a future version. Use .items instead.\n"
     ]
    },
    {
     "name": "stdout",
     "output_type": "stream",
     "text": [
      "{'fraction_overlap': 0.031118682566723455, 'fraction_classes': 1.0, 'fraction_uncovered': 0.1726291879613856, 'average_rule_width': 2.1666666666666665, 'ruleset_length': 6}\n",
      "{'l1': 267.156378600823, 'l2': 432.6666666666667, 'l3': 726, 'l4': 350, 'l5': 271, 'l6': 213, 'l7': 624}\n"
     ]
    },
    {
     "name": "stderr",
     "output_type": "stream",
     "text": [
      "/Users/x/miniconda3/envs/orange3/lib/python3.10/site-packages/pyids-0.0.1-py3.10.egg/pyids/algorithms/ids_classifier.py:58: FutureWarning: iteritems is deprecated and will be removed in a future version. Use .items instead.\n"
     ]
    },
    {
     "name": "stdout",
     "output_type": "stream",
     "text": [
      "{'fraction_overlap': 0.010167383250858548, 'fraction_classes': 1.0, 'fraction_uncovered': 0.35888699602498575, 'average_rule_width': 2.5714285714285716, 'ruleset_length': 7}\n",
      "{'l1': 267.156378600823, 'l2': 531.3333333333334, 'l3': 726, 'l4': 350, 'l5': 271, 'l6': 213, 'l7': 624}\n"
     ]
    },
    {
     "name": "stderr",
     "output_type": "stream",
     "text": [
      "/Users/x/miniconda3/envs/orange3/lib/python3.10/site-packages/pyids-0.0.1-py3.10.egg/pyids/algorithms/ids_classifier.py:58: FutureWarning: iteritems is deprecated and will be removed in a future version. Use .items instead.\n",
      "/Users/x/miniconda3/envs/orange3/lib/python3.10/site-packages/pyids-0.0.1-py3.10.egg/pyids/algorithms/ids_classifier.py:58: FutureWarning: iteritems is deprecated and will be removed in a future version. Use .items instead.\n",
      "/Users/x/miniconda3/envs/orange3/lib/python3.10/site-packages/pyids-0.0.1-py3.10.egg/pyids/algorithms/ids_classifier.py:91: FutureWarning: iteritems is deprecated and will be removed in a future version. Use .items instead.\n"
     ]
    },
    {
     "name": "stdout",
     "output_type": "stream",
     "text": [
      "{'fraction_overlap': 0.0051485898163922015, 'fraction_classes': 1.0, 'fraction_uncovered': 0.13458262350936967, 'average_rule_width': 2.6666666666666665, 'ruleset_length': 6}\n",
      "0.7229567255143708\n",
      "{'l1': 267.156378600823, 'l2': 498.44444444444446, 'l3': 726, 'l4': 350, 'l5': 271, 'l6': 213, 'l7': 624}\n"
     ]
    },
    {
     "name": "stderr",
     "output_type": "stream",
     "text": [
      "/Users/x/miniconda3/envs/orange3/lib/python3.10/site-packages/pyids-0.0.1-py3.10.egg/pyids/algorithms/ids_classifier.py:58: FutureWarning: iteritems is deprecated and will be removed in a future version. Use .items instead.\n"
     ]
    },
    {
     "name": "stdout",
     "output_type": "stream",
     "text": [
      "{'fraction_overlap': 0.011130039750141964, 'fraction_classes': 1.0, 'fraction_uncovered': 0.16297558205565021, 'average_rule_width': 2.4, 'ruleset_length': 10}\n",
      "{'l1': 267.156378600823, 'l2': 564.2222222222222, 'l3': 726, 'l4': 350, 'l5': 271, 'l6': 213, 'l7': 624}\n"
     ]
    },
    {
     "name": "stderr",
     "output_type": "stream",
     "text": [
      "/Users/x/miniconda3/envs/orange3/lib/python3.10/site-packages/pyids-0.0.1-py3.10.egg/pyids/algorithms/ids_classifier.py:58: FutureWarning: iteritems is deprecated and will be removed in a future version. Use .items instead.\n"
     ]
    },
    {
     "name": "stdout",
     "output_type": "stream",
     "text": [
      "{'fraction_overlap': 0.004031800113571834, 'fraction_classes': 1.0, 'fraction_uncovered': 0.6399772856331629, 'average_rule_width': 2.2, 'ruleset_length': 5}\n",
      "{'l1': 267.156378600823, 'l2': 476.51851851851853, 'l3': 726, 'l4': 350, 'l5': 271, 'l6': 213, 'l7': 624}\n"
     ]
    },
    {
     "name": "stderr",
     "output_type": "stream",
     "text": [
      "/Users/x/miniconda3/envs/orange3/lib/python3.10/site-packages/pyids-0.0.1-py3.10.egg/pyids/algorithms/ids_classifier.py:58: FutureWarning: iteritems is deprecated and will be removed in a future version. Use .items instead.\n"
     ]
    },
    {
     "name": "stdout",
     "output_type": "stream",
     "text": [
      "{'fraction_overlap': 0.0010789324247586598, 'fraction_classes': 1.0, 'fraction_uncovered': 0.5542305508233958, 'average_rule_width': 2.8, 'ruleset_length': 5}\n",
      "{'l1': 267.156378600823, 'l2': 520.3703703703703, 'l3': 726, 'l4': 350, 'l5': 271, 'l6': 213, 'l7': 624}\n"
     ]
    },
    {
     "name": "stderr",
     "output_type": "stream",
     "text": [
      "/Users/x/miniconda3/envs/orange3/lib/python3.10/site-packages/pyids-0.0.1-py3.10.egg/pyids/algorithms/ids_classifier.py:58: FutureWarning: iteritems is deprecated and will be removed in a future version. Use .items instead.\n"
     ]
    },
    {
     "name": "stdout",
     "output_type": "stream",
     "text": [
      "{'fraction_overlap': 0.0, 'fraction_classes': 1.0, 'fraction_uncovered': 0.22771152754116974, 'average_rule_width': 2.2, 'ruleset_length': 5}\n",
      "{'l1': 267.156378600823, 'l2': 461.9012345679012, 'l3': 726, 'l4': 350, 'l5': 271, 'l6': 213, 'l7': 624}\n"
     ]
    },
    {
     "name": "stderr",
     "output_type": "stream",
     "text": [
      "/Users/x/miniconda3/envs/orange3/lib/python3.10/site-packages/pyids-0.0.1-py3.10.egg/pyids/algorithms/ids_classifier.py:58: FutureWarning: iteritems is deprecated and will be removed in a future version. Use .items instead.\n",
      "/Users/x/miniconda3/envs/orange3/lib/python3.10/site-packages/pyids-0.0.1-py3.10.egg/pyids/algorithms/ids_classifier.py:58: FutureWarning: iteritems is deprecated and will be removed in a future version. Use .items instead.\n",
      "/Users/x/miniconda3/envs/orange3/lib/python3.10/site-packages/pyids-0.0.1-py3.10.egg/pyids/algorithms/ids_classifier.py:91: FutureWarning: iteritems is deprecated and will be removed in a future version. Use .items instead.\n"
     ]
    },
    {
     "name": "stdout",
     "output_type": "stream",
     "text": [
      "{'fraction_overlap': 0.03612665963602931, 'fraction_classes': 1.0, 'fraction_uncovered': 0.09540034071550252, 'average_rule_width': 2.2857142857142856, 'ruleset_length': 7}\n",
      "0.7097932314938689\n",
      "{'l1': 267.156378600823, 'l2': 491.1358024691358, 'l3': 726, 'l4': 350, 'l5': 271, 'l6': 213, 'l7': 624}\n"
     ]
    },
    {
     "name": "stderr",
     "output_type": "stream",
     "text": [
      "/Users/x/miniconda3/envs/orange3/lib/python3.10/site-packages/pyids-0.0.1-py3.10.egg/pyids/algorithms/ids_classifier.py:58: FutureWarning: iteritems is deprecated and will be removed in a future version. Use .items instead.\n"
     ]
    },
    {
     "name": "stdout",
     "output_type": "stream",
     "text": [
      "{'fraction_overlap': 0.07791027825099375, 'fraction_classes': 1.0, 'fraction_uncovered': 0.17376490630323682, 'average_rule_width': 2.6666666666666665, 'ruleset_length': 6}\n",
      "{'l1': 267.156378600823, 'l2': 452.1563786008231, 'l3': 726, 'l4': 350, 'l5': 271, 'l6': 213, 'l7': 624}\n"
     ]
    },
    {
     "name": "stderr",
     "output_type": "stream",
     "text": [
      "/Users/x/miniconda3/envs/orange3/lib/python3.10/site-packages/pyids-0.0.1-py3.10.egg/pyids/algorithms/ids_classifier.py:58: FutureWarning: iteritems is deprecated and will be removed in a future version. Use .items instead.\n"
     ]
    },
    {
     "name": "stdout",
     "output_type": "stream",
     "text": [
      "{'fraction_overlap': 0.0008517887563884156, 'fraction_classes': 1.0, 'fraction_uncovered': 0.9750141964792731, 'average_rule_width': 2.5, 'ruleset_length': 4}\n",
      "{'l1': 267.156378600823, 'l2': 471.6460905349794, 'l3': 726, 'l4': 350, 'l5': 271, 'l6': 213, 'l7': 624}\n"
     ]
    },
    {
     "name": "stderr",
     "output_type": "stream",
     "text": [
      "/Users/x/miniconda3/envs/orange3/lib/python3.10/site-packages/pyids-0.0.1-py3.10.egg/pyids/algorithms/ids_classifier.py:58: FutureWarning: iteritems is deprecated and will be removed in a future version. Use .items instead.\n",
      "/Users/x/miniconda3/envs/orange3/lib/python3.10/site-packages/pyids-0.0.1-py3.10.egg/pyids/algorithms/ids_classifier.py:58: FutureWarning: iteritems is deprecated and will be removed in a future version. Use .items instead.\n",
      "/Users/x/miniconda3/envs/orange3/lib/python3.10/site-packages/pyids-0.0.1-py3.10.egg/pyids/algorithms/ids_classifier.py:91: FutureWarning: iteritems is deprecated and will be removed in a future version. Use .items instead.\n"
     ]
    },
    {
     "name": "stdout",
     "output_type": "stream",
     "text": [
      "{'fraction_overlap': 0.02839295854628052, 'fraction_classes': 1.0, 'fraction_uncovered': 0.12776831345826234, 'average_rule_width': 2.5714285714285716, 'ruleset_length': 7}\n",
      "0.7240672245394052\n",
      "{'l1': 267.156378600823, 'l2': 471.6460905349794, 'l3': 726, 'l4': 350, 'l5': 271, 'l6': 213, 'l7': 624}\n"
     ]
    },
    {
     "name": "stderr",
     "output_type": "stream",
     "text": [
      "/Users/x/miniconda3/envs/orange3/lib/python3.10/site-packages/pyids-0.0.1-py3.10.egg/pyids/algorithms/ids_classifier.py:58: FutureWarning: iteritems is deprecated and will be removed in a future version. Use .items instead.\n",
      "/Users/x/miniconda3/envs/orange3/lib/python3.10/site-packages/pyids-0.0.1-py3.10.egg/pyids/algorithms/ids_classifier.py:58: FutureWarning: iteritems is deprecated and will be removed in a future version. Use .items instead.\n",
      "/Users/x/miniconda3/envs/orange3/lib/python3.10/site-packages/pyids-0.0.1-py3.10.egg/pyids/algorithms/ids_classifier.py:91: FutureWarning: iteritems is deprecated and will be removed in a future version. Use .items instead.\n"
     ]
    },
    {
     "name": "stdout",
     "output_type": "stream",
     "text": [
      "{'fraction_overlap': 0.021355560963738137, 'fraction_classes': 1.0, 'fraction_uncovered': 0.09596819988642813, 'average_rule_width': 2.625, 'ruleset_length': 8}\n",
      "0.709704333277954\n",
      "using precision 50\n",
      "{'l1': 267.156378600823, 'l2': 471.6460905349794, 'l3': 334.0, 'l4': 350, 'l5': 271, 'l6': 213, 'l7': 624}\n"
     ]
    },
    {
     "name": "stderr",
     "output_type": "stream",
     "text": [
      "/Users/x/miniconda3/envs/orange3/lib/python3.10/site-packages/pyids-0.0.1-py3.10.egg/pyids/algorithms/ids_classifier.py:58: FutureWarning: iteritems is deprecated and will be removed in a future version. Use .items instead.\n",
      "/Users/x/miniconda3/envs/orange3/lib/python3.10/site-packages/pyids-0.0.1-py3.10.egg/pyids/algorithms/ids_classifier.py:58: FutureWarning: iteritems is deprecated and will be removed in a future version. Use .items instead.\n",
      "/Users/x/miniconda3/envs/orange3/lib/python3.10/site-packages/pyids-0.0.1-py3.10.egg/pyids/algorithms/ids_classifier.py:91: FutureWarning: iteritems is deprecated and will be removed in a future version. Use .items instead.\n"
     ]
    },
    {
     "name": "stdout",
     "output_type": "stream",
     "text": [
      "{'fraction_overlap': 0.013780049214461479, 'fraction_classes': 1.0, 'fraction_uncovered': 0.10618966496308913, 'average_rule_width': 2.3333333333333335, 'ruleset_length': 6}\n",
      "0.7152480843163145\n",
      "{'l1': 267.156378600823, 'l2': 471.6460905349794, 'l3': 667.0, 'l4': 350, 'l5': 271, 'l6': 213, 'l7': 624}\n"
     ]
    },
    {
     "name": "stderr",
     "output_type": "stream",
     "text": [
      "/Users/x/miniconda3/envs/orange3/lib/python3.10/site-packages/pyids-0.0.1-py3.10.egg/pyids/algorithms/ids_classifier.py:58: FutureWarning: iteritems is deprecated and will be removed in a future version. Use .items instead.\n"
     ]
    },
    {
     "name": "stdout",
     "output_type": "stream",
     "text": [
      "{'fraction_overlap': 0.011120575430626538, 'fraction_classes': 1.0, 'fraction_uncovered': 0.3390119250425895, 'average_rule_width': 2.7777777777777777, 'ruleset_length': 9}\n",
      "{'l1': 267.156378600823, 'l2': 471.6460905349794, 'l3': 223.0, 'l4': 350, 'l5': 271, 'l6': 213, 'l7': 624}\n"
     ]
    },
    {
     "name": "stderr",
     "output_type": "stream",
     "text": [
      "/Users/x/miniconda3/envs/orange3/lib/python3.10/site-packages/pyids-0.0.1-py3.10.egg/pyids/algorithms/ids_classifier.py:58: FutureWarning: iteritems is deprecated and will be removed in a future version. Use .items instead.\n"
     ]
    },
    {
     "name": "stdout",
     "output_type": "stream",
     "text": [
      "{'fraction_overlap': 0.0, 'fraction_classes': 1.0, 'fraction_uncovered': 0.5258375922771152, 'average_rule_width': 2.0, 'ruleset_length': 3}\n",
      "{'l1': 267.156378600823, 'l2': 471.6460905349794, 'l3': 445.0, 'l4': 350, 'l5': 271, 'l6': 213, 'l7': 624}\n"
     ]
    },
    {
     "name": "stderr",
     "output_type": "stream",
     "text": [
      "/Users/x/miniconda3/envs/orange3/lib/python3.10/site-packages/pyids-0.0.1-py3.10.egg/pyids/algorithms/ids_classifier.py:58: FutureWarning: iteritems is deprecated and will be removed in a future version. Use .items instead.\n"
     ]
    },
    {
     "name": "stdout",
     "output_type": "stream",
     "text": [
      "{'fraction_overlap': 0.0004056136935182931, 'fraction_classes': 1.0, 'fraction_uncovered': 0.5082339579784214, 'average_rule_width': 2.5714285714285716, 'ruleset_length': 7}\n",
      "{'l1': 267.156378600823, 'l2': 471.6460905349794, 'l3': 149.0, 'l4': 350, 'l5': 271, 'l6': 213, 'l7': 624}\n"
     ]
    },
    {
     "name": "stderr",
     "output_type": "stream",
     "text": [
      "/Users/x/miniconda3/envs/orange3/lib/python3.10/site-packages/pyids-0.0.1-py3.10.egg/pyids/algorithms/ids_classifier.py:58: FutureWarning: iteritems is deprecated and will be removed in a future version. Use .items instead.\n"
     ]
    },
    {
     "name": "stdout",
     "output_type": "stream",
     "text": [
      "{'fraction_overlap': 0.03895513912549688, 'fraction_classes': 1.0, 'fraction_uncovered': 0.4860874503123226, 'average_rule_width': 2.6, 'ruleset_length': 5}\n",
      "{'l1': 267.156378600823, 'l2': 471.6460905349794, 'l3': 297.0, 'l4': 350, 'l5': 271, 'l6': 213, 'l7': 624}\n"
     ]
    },
    {
     "name": "stderr",
     "output_type": "stream",
     "text": [
      "/Users/x/miniconda3/envs/orange3/lib/python3.10/site-packages/pyids-0.0.1-py3.10.egg/pyids/algorithms/ids_classifier.py:58: FutureWarning: iteritems is deprecated and will be removed in a future version. Use .items instead.\n"
     ]
    },
    {
     "name": "stdout",
     "output_type": "stream",
     "text": [
      "{'fraction_overlap': 0.010978610637895134, 'fraction_classes': 1.0, 'fraction_uncovered': 0.532084043157297, 'average_rule_width': 2.5, 'ruleset_length': 4}\n",
      "{'l1': 267.156378600823, 'l2': 471.6460905349794, 'l3': 99.66666666666667, 'l4': 350, 'l5': 271, 'l6': 213, 'l7': 624}\n"
     ]
    },
    {
     "name": "stderr",
     "output_type": "stream",
     "text": [
      "/Users/x/miniconda3/envs/orange3/lib/python3.10/site-packages/pyids-0.0.1-py3.10.egg/pyids/algorithms/ids_classifier.py:58: FutureWarning: iteritems is deprecated and will be removed in a future version. Use .items instead.\n",
      "/Users/x/miniconda3/envs/orange3/lib/python3.10/site-packages/pyids-0.0.1-py3.10.egg/pyids/algorithms/ids_classifier.py:58: FutureWarning: iteritems is deprecated and will be removed in a future version. Use .items instead.\n"
     ]
    },
    {
     "name": "stdout",
     "output_type": "stream",
     "text": [
      "{'fraction_overlap': 0.019606915262792606, 'fraction_classes': 1.0, 'fraction_uncovered': 0.14253265190232822, 'average_rule_width': 2.3333333333333335, 'ruleset_length': 9}\n",
      "0.7051894697877228\n",
      "{'l1': 267.156378600823, 'l2': 471.6460905349794, 'l3': 198.33333333333331, 'l4': 350, 'l5': 271, 'l6': 213, 'l7': 624}\n"
     ]
    },
    {
     "name": "stderr",
     "output_type": "stream",
     "text": [
      "/Users/x/miniconda3/envs/orange3/lib/python3.10/site-packages/pyids-0.0.1-py3.10.egg/pyids/algorithms/ids_classifier.py:91: FutureWarning: iteritems is deprecated and will be removed in a future version. Use .items instead.\n",
      "/Users/x/miniconda3/envs/orange3/lib/python3.10/site-packages/pyids-0.0.1-py3.10.egg/pyids/algorithms/ids_classifier.py:58: FutureWarning: iteritems is deprecated and will be removed in a future version. Use .items instead.\n",
      "/Users/x/miniconda3/envs/orange3/lib/python3.10/site-packages/pyids-0.0.1-py3.10.egg/pyids/algorithms/ids_classifier.py:58: FutureWarning: iteritems is deprecated and will be removed in a future version. Use .items instead.\n"
     ]
    },
    {
     "name": "stdout",
     "output_type": "stream",
     "text": [
      "{'fraction_overlap': 0.010562180579216356, 'fraction_classes': 1.0, 'fraction_uncovered': 0.11697898921067573, 'average_rule_width': 2.6, 'ruleset_length': 10}\n",
      "0.7252119712377838\n",
      "{'l1': 267.156378600823, 'l2': 471.6460905349794, 'l3': 165.44444444444446, 'l4': 350, 'l5': 271, 'l6': 213, 'l7': 624}\n"
     ]
    },
    {
     "name": "stderr",
     "output_type": "stream",
     "text": [
      "/Users/x/miniconda3/envs/orange3/lib/python3.10/site-packages/pyids-0.0.1-py3.10.egg/pyids/algorithms/ids_classifier.py:91: FutureWarning: iteritems is deprecated and will be removed in a future version. Use .items instead.\n",
      "/Users/x/miniconda3/envs/orange3/lib/python3.10/site-packages/pyids-0.0.1-py3.10.egg/pyids/algorithms/ids_classifier.py:58: FutureWarning: iteritems is deprecated and will be removed in a future version. Use .items instead.\n"
     ]
    },
    {
     "name": "stdout",
     "output_type": "stream",
     "text": [
      "{'fraction_overlap': 0.004894405235120739, 'fraction_classes': 1.0, 'fraction_uncovered': 0.7932992617830779, 'average_rule_width': 2.4285714285714284, 'ruleset_length': 7}\n",
      "{'l1': 267.156378600823, 'l2': 471.6460905349794, 'l3': 231.22222222222223, 'l4': 350, 'l5': 271, 'l6': 213, 'l7': 624}\n"
     ]
    },
    {
     "name": "stderr",
     "output_type": "stream",
     "text": [
      "/Users/x/miniconda3/envs/orange3/lib/python3.10/site-packages/pyids-0.0.1-py3.10.egg/pyids/algorithms/ids_classifier.py:58: FutureWarning: iteritems is deprecated and will be removed in a future version. Use .items instead.\n"
     ]
    },
    {
     "name": "stdout",
     "output_type": "stream",
     "text": [
      "{'fraction_overlap': 0.0, 'fraction_classes': 1.0, 'fraction_uncovered': 0.625212947189097, 'average_rule_width': 2.5, 'ruleset_length': 6}\n",
      "{'l1': 267.156378600823, 'l2': 471.6460905349794, 'l3': 143.51851851851853, 'l4': 350, 'l5': 271, 'l6': 213, 'l7': 624}\n"
     ]
    },
    {
     "name": "stderr",
     "output_type": "stream",
     "text": [
      "/Users/x/miniconda3/envs/orange3/lib/python3.10/site-packages/pyids-0.0.1-py3.10.egg/pyids/algorithms/ids_classifier.py:58: FutureWarning: iteritems is deprecated and will be removed in a future version. Use .items instead.\n"
     ]
    },
    {
     "name": "stdout",
     "output_type": "stream",
     "text": [
      "{'fraction_overlap': 0.0007192882831724399, 'fraction_classes': 1.0, 'fraction_uncovered': 0.526405451448041, 'average_rule_width': 2.5, 'ruleset_length': 6}\n",
      "{'l1': 267.156378600823, 'l2': 471.6460905349794, 'l3': 187.37037037037038, 'l4': 350, 'l5': 271, 'l6': 213, 'l7': 624}\n"
     ]
    },
    {
     "name": "stderr",
     "output_type": "stream",
     "text": [
      "/Users/x/miniconda3/envs/orange3/lib/python3.10/site-packages/pyids-0.0.1-py3.10.egg/pyids/algorithms/ids_classifier.py:58: FutureWarning: iteritems is deprecated and will be removed in a future version. Use .items instead.\n"
     ]
    },
    {
     "name": "stdout",
     "output_type": "stream",
     "text": [
      "{'fraction_overlap': 0.052167329169032745, 'fraction_classes': 1.0, 'fraction_uncovered': 0.16865417376490632, 'average_rule_width': 2.4, 'ruleset_length': 10}\n",
      "{'l1': 267.156378600823, 'l2': 471.6460905349794, 'l3': 128.90123456790124, 'l4': 350, 'l5': 271, 'l6': 213, 'l7': 624}\n"
     ]
    },
    {
     "name": "stderr",
     "output_type": "stream",
     "text": [
      "/Users/x/miniconda3/envs/orange3/lib/python3.10/site-packages/pyids-0.0.1-py3.10.egg/pyids/algorithms/ids_classifier.py:58: FutureWarning: iteritems is deprecated and will be removed in a future version. Use .items instead.\n"
     ]
    },
    {
     "name": "stdout",
     "output_type": "stream",
     "text": [
      "{'fraction_overlap': 0.021605689408074415, 'fraction_classes': 1.0, 'fraction_uncovered': 0.21408290743895508, 'average_rule_width': 2.4285714285714284, 'ruleset_length': 7}\n",
      "{'l1': 267.156378600823, 'l2': 471.6460905349794, 'l3': 158.1358024691358, 'l4': 350, 'l5': 271, 'l6': 213, 'l7': 624}\n"
     ]
    },
    {
     "name": "stderr",
     "output_type": "stream",
     "text": [
      "/Users/x/miniconda3/envs/orange3/lib/python3.10/site-packages/pyids-0.0.1-py3.10.egg/pyids/algorithms/ids_classifier.py:58: FutureWarning: iteritems is deprecated and will be removed in a future version. Use .items instead.\n"
     ]
    },
    {
     "name": "stdout",
     "output_type": "stream",
     "text": [
      "{'fraction_overlap': 0.04667802385008518, 'fraction_classes': 1.0, 'fraction_uncovered': 0.23452583759227708, 'average_rule_width': 2.6, 'ruleset_length': 5}\n",
      "{'l1': 267.156378600823, 'l2': 471.6460905349794, 'l3': 119.15637860082305, 'l4': 350, 'l5': 271, 'l6': 213, 'l7': 624}\n"
     ]
    },
    {
     "name": "stderr",
     "output_type": "stream",
     "text": [
      "/Users/x/miniconda3/envs/orange3/lib/python3.10/site-packages/pyids-0.0.1-py3.10.egg/pyids/algorithms/ids_classifier.py:58: FutureWarning: iteritems is deprecated and will be removed in a future version. Use .items instead.\n"
     ]
    },
    {
     "name": "stdout",
     "output_type": "stream",
     "text": [
      "{'fraction_overlap': 0.00039434664647611836, 'fraction_classes': 1.0, 'fraction_uncovered': 0.34923339011925036, 'average_rule_width': 2.6666666666666665, 'ruleset_length': 9}\n",
      "{'l1': 267.156378600823, 'l2': 471.6460905349794, 'l3': 138.6460905349794, 'l4': 350, 'l5': 271, 'l6': 213, 'l7': 624}\n"
     ]
    },
    {
     "name": "stderr",
     "output_type": "stream",
     "text": [
      "/Users/x/miniconda3/envs/orange3/lib/python3.10/site-packages/pyids-0.0.1-py3.10.egg/pyids/algorithms/ids_classifier.py:58: FutureWarning: iteritems is deprecated and will be removed in a future version. Use .items instead.\n"
     ]
    },
    {
     "name": "stdout",
     "output_type": "stream",
     "text": [
      "{'fraction_overlap': 0.0031367458965414667, 'fraction_classes': 1.0, 'fraction_uncovered': 0.5741056218057922, 'average_rule_width': 2.5714285714285716, 'ruleset_length': 7}\n",
      "{'l1': 267.156378600823, 'l2': 471.6460905349794, 'l3': 119.15637860082305, 'l4': 350, 'l5': 271, 'l6': 213, 'l7': 624}\n"
     ]
    },
    {
     "name": "stderr",
     "output_type": "stream",
     "text": [
      "/Users/x/miniconda3/envs/orange3/lib/python3.10/site-packages/pyids-0.0.1-py3.10.egg/pyids/algorithms/ids_classifier.py:58: FutureWarning: iteritems is deprecated and will be removed in a future version. Use .items instead.\n",
      "/Users/x/miniconda3/envs/orange3/lib/python3.10/site-packages/pyids-0.0.1-py3.10.egg/pyids/algorithms/ids_classifier.py:58: FutureWarning: iteritems is deprecated and will be removed in a future version. Use .items instead.\n",
      "/Users/x/miniconda3/envs/orange3/lib/python3.10/site-packages/pyids-0.0.1-py3.10.egg/pyids/algorithms/ids_classifier.py:91: FutureWarning: iteritems is deprecated and will be removed in a future version. Use .items instead.\n"
     ]
    },
    {
     "name": "stdout",
     "output_type": "stream",
     "text": [
      "{'fraction_overlap': 0.020670073821692222, 'fraction_classes': 1.0, 'fraction_uncovered': 0.14821124361158433, 'average_rule_width': 2.4, 'ruleset_length': 5}\n",
      "0.7114254610319771\n",
      "using precision 50\n",
      "{'l1': 267.156378600823, 'l2': 471.6460905349794, 'l3': 119.15637860082305, 'l4': 334.0, 'l5': 271, 'l6': 213, 'l7': 624}\n"
     ]
    },
    {
     "name": "stderr",
     "output_type": "stream",
     "text": [
      "/Users/x/miniconda3/envs/orange3/lib/python3.10/site-packages/pyids-0.0.1-py3.10.egg/pyids/algorithms/ids_classifier.py:58: FutureWarning: iteritems is deprecated and will be removed in a future version. Use .items instead.\n"
     ]
    },
    {
     "name": "stdout",
     "output_type": "stream",
     "text": [
      "{'fraction_overlap': 0.020670073821692222, 'fraction_classes': 1.0, 'fraction_uncovered': 0.1771720613287905, 'average_rule_width': 2.4, 'ruleset_length': 5}\n",
      "{'l1': 267.156378600823, 'l2': 471.6460905349794, 'l3': 119.15637860082305, 'l4': 667.0, 'l5': 271, 'l6': 213, 'l7': 624}\n"
     ]
    },
    {
     "name": "stderr",
     "output_type": "stream",
     "text": [
      "/Users/x/miniconda3/envs/orange3/lib/python3.10/site-packages/pyids-0.0.1-py3.10.egg/pyids/algorithms/ids_classifier.py:58: FutureWarning: iteritems is deprecated and will be removed in a future version. Use .items instead.\n"
     ]
    },
    {
     "name": "stdout",
     "output_type": "stream",
     "text": [
      "{'fraction_overlap': 0.00034071550255536625, 'fraction_classes': 1.0, 'fraction_uncovered': 0.6121521862578081, 'average_rule_width': 2.5, 'ruleset_length': 6}\n",
      "{'l1': 267.156378600823, 'l2': 471.6460905349794, 'l3': 119.15637860082305, 'l4': 223.0, 'l5': 271, 'l6': 213, 'l7': 624}\n"
     ]
    },
    {
     "name": "stderr",
     "output_type": "stream",
     "text": [
      "/Users/x/miniconda3/envs/orange3/lib/python3.10/site-packages/pyids-0.0.1-py3.10.egg/pyids/algorithms/ids_classifier.py:58: FutureWarning: iteritems is deprecated and will be removed in a future version. Use .items instead.\n"
     ]
    },
    {
     "name": "stdout",
     "output_type": "stream",
     "text": [
      "{'fraction_overlap': 0.013780049214461479, 'fraction_classes': 1.0, 'fraction_uncovered': 0.31061896649630893, 'average_rule_width': 2.6666666666666665, 'ruleset_length': 6}\n",
      "{'l1': 267.156378600823, 'l2': 471.6460905349794, 'l3': 119.15637860082305, 'l4': 445.0, 'l5': 271, 'l6': 213, 'l7': 624}\n"
     ]
    },
    {
     "name": "stderr",
     "output_type": "stream",
     "text": [
      "/Users/x/miniconda3/envs/orange3/lib/python3.10/site-packages/pyids-0.0.1-py3.10.egg/pyids/algorithms/ids_classifier.py:58: FutureWarning: iteritems is deprecated and will be removed in a future version. Use .items instead.\n",
      "/Users/x/miniconda3/envs/orange3/lib/python3.10/site-packages/pyids-0.0.1-py3.10.egg/pyids/algorithms/ids_classifier.py:58: FutureWarning: iteritems is deprecated and will be removed in a future version. Use .items instead.\n"
     ]
    },
    {
     "name": "stdout",
     "output_type": "stream",
     "text": [
      "{'fraction_overlap': 0.028266767619408162, 'fraction_classes': 1.0, 'fraction_uncovered': 0.12776831345826234, 'average_rule_width': 2.4, 'ruleset_length': 10}\n",
      "0.708603307013632\n",
      "{'l1': 267.156378600823, 'l2': 471.6460905349794, 'l3': 119.15637860082305, 'l4': 371.0, 'l5': 271, 'l6': 213, 'l7': 624}\n"
     ]
    },
    {
     "name": "stderr",
     "output_type": "stream",
     "text": [
      "/Users/x/miniconda3/envs/orange3/lib/python3.10/site-packages/pyids-0.0.1-py3.10.egg/pyids/algorithms/ids_classifier.py:91: FutureWarning: iteritems is deprecated and will be removed in a future version. Use .items instead.\n",
      "/Users/x/miniconda3/envs/orange3/lib/python3.10/site-packages/pyids-0.0.1-py3.10.egg/pyids/algorithms/ids_classifier.py:58: FutureWarning: iteritems is deprecated and will be removed in a future version. Use .items instead.\n"
     ]
    },
    {
     "name": "stdout",
     "output_type": "stream",
     "text": [
      "{'fraction_overlap': 0.0006057164489873178, 'fraction_classes': 1.0, 'fraction_uncovered': 0.8427030096536059, 'average_rule_width': 2.5, 'ruleset_length': 6}\n",
      "{'l1': 267.156378600823, 'l2': 471.6460905349794, 'l3': 119.15637860082305, 'l4': 519.0, 'l5': 271, 'l6': 213, 'l7': 624}\n"
     ]
    },
    {
     "name": "stderr",
     "output_type": "stream",
     "text": [
      "/Users/x/miniconda3/envs/orange3/lib/python3.10/site-packages/pyids-0.0.1-py3.10.egg/pyids/algorithms/ids_classifier.py:58: FutureWarning: iteritems is deprecated and will be removed in a future version. Use .items instead.\n"
     ]
    },
    {
     "name": "stdout",
     "output_type": "stream",
     "text": [
      "{'fraction_overlap': 0.025970092750331252, 'fraction_classes': 1.0, 'fraction_uncovered': 0.23168654173764902, 'average_rule_width': 2.5, 'ruleset_length': 6}\n",
      "{'l1': 267.156378600823, 'l2': 471.6460905349794, 'l3': 119.15637860082305, 'l4': 321.6666666666667, 'l5': 271, 'l6': 213, 'l7': 624}\n"
     ]
    },
    {
     "name": "stderr",
     "output_type": "stream",
     "text": [
      "/Users/x/miniconda3/envs/orange3/lib/python3.10/site-packages/pyids-0.0.1-py3.10.egg/pyids/algorithms/ids_classifier.py:58: FutureWarning: iteritems is deprecated and will be removed in a future version. Use .items instead.\n"
     ]
    },
    {
     "name": "stdout",
     "output_type": "stream",
     "text": [
      "{'fraction_overlap': 0.05932776290527568, 'fraction_classes': 1.0, 'fraction_uncovered': 0.18966496308915393, 'average_rule_width': 2.2857142857142856, 'ruleset_length': 7}\n",
      "{'l1': 267.156378600823, 'l2': 471.6460905349794, 'l3': 119.15637860082305, 'l4': 420.3333333333333, 'l5': 271, 'l6': 213, 'l7': 624}\n"
     ]
    },
    {
     "name": "stderr",
     "output_type": "stream",
     "text": [
      "/Users/x/miniconda3/envs/orange3/lib/python3.10/site-packages/pyids-0.0.1-py3.10.egg/pyids/algorithms/ids_classifier.py:58: FutureWarning: iteritems is deprecated and will be removed in a future version. Use .items instead.\n",
      "/Users/x/miniconda3/envs/orange3/lib/python3.10/site-packages/pyids-0.0.1-py3.10.egg/pyids/algorithms/ids_classifier.py:58: FutureWarning: iteritems is deprecated and will be removed in a future version. Use .items instead.\n",
      "/Users/x/miniconda3/envs/orange3/lib/python3.10/site-packages/pyids-0.0.1-py3.10.egg/pyids/algorithms/ids_classifier.py:91: FutureWarning: iteritems is deprecated and will be removed in a future version. Use .items instead.\n"
     ]
    },
    {
     "name": "stdout",
     "output_type": "stream",
     "text": [
      "{'fraction_overlap': 0.09269624942538059, 'fraction_classes': 1.0, 'fraction_uncovered': 0.14253265190232822, 'average_rule_width': 2.0, 'ruleset_length': 7}\n",
      "0.705186555092119\n",
      "{'l1': 267.156378600823, 'l2': 471.6460905349794, 'l3': 119.15637860082305, 'l4': 387.44444444444446, 'l5': 271, 'l6': 213, 'l7': 624}\n"
     ]
    },
    {
     "name": "stderr",
     "output_type": "stream",
     "text": [
      "/Users/x/miniconda3/envs/orange3/lib/python3.10/site-packages/pyids-0.0.1-py3.10.egg/pyids/algorithms/ids_classifier.py:58: FutureWarning: iteritems is deprecated and will be removed in a future version. Use .items instead.\n",
      "/Users/x/miniconda3/envs/orange3/lib/python3.10/site-packages/pyids-0.0.1-py3.10.egg/pyids/algorithms/ids_classifier.py:58: FutureWarning: iteritems is deprecated and will be removed in a future version. Use .items instead.\n",
      "/Users/x/miniconda3/envs/orange3/lib/python3.10/site-packages/pyids-0.0.1-py3.10.egg/pyids/algorithms/ids_classifier.py:91: FutureWarning: iteritems is deprecated and will be removed in a future version. Use .items instead.\n"
     ]
    },
    {
     "name": "stdout",
     "output_type": "stream",
     "text": [
      "{'fraction_overlap': 0.06387063627268055, 'fraction_classes': 1.0, 'fraction_uncovered': 0.09596819988642813, 'average_rule_width': 2.142857142857143, 'ruleset_length': 7}\n",
      "0.7095556838021622\n",
      "{'l1': 267.156378600823, 'l2': 471.6460905349794, 'l3': 119.15637860082305, 'l4': 453.22222222222223, 'l5': 271, 'l6': 213, 'l7': 624}\n"
     ]
    },
    {
     "ename": "KeyboardInterrupt",
     "evalue": "",
     "output_type": "error",
     "traceback": [
      "\u001b[0;31m---------------------------------------------------------------------------\u001b[0m",
      "\u001b[0;31mKeyboardInterrupt\u001b[0m                         Traceback (most recent call last)",
      "Cell \u001b[0;32mIn[11], line 84\u001b[0m\n\u001b[1;32m     65\u001b[0m     \u001b[39mreturn\u001b[39;00m auc\n\u001b[1;32m     69\u001b[0m coord_asc \u001b[39m=\u001b[39m CoordinateAscent(\n\u001b[1;32m     70\u001b[0m     func\u001b[39m=\u001b[39mfmax,\n\u001b[1;32m     71\u001b[0m     func_args_ranges\u001b[39m=\u001b[39m\u001b[39mdict\u001b[39m(\n\u001b[0;32m   (...)\u001b[0m\n\u001b[1;32m     81\u001b[0m     max_iterations\u001b[39m=\u001b[39m\u001b[39m2\u001b[39m\n\u001b[1;32m     82\u001b[0m )\n\u001b[0;32m---> 84\u001b[0m best_pars \u001b[39m=\u001b[39m coord_asc\u001b[39m.\u001b[39;49mfit()\n\u001b[1;32m     86\u001b[0m df \u001b[39m=\u001b[39m pd\u001b[39m.\u001b[39mDataFrame(coord_asc\u001b[39m.\u001b[39mprocedure_data)\n",
      "File \u001b[0;32m~/miniconda3/envs/orange3/lib/python3.10/site-packages/pyids-0.0.1-py3.10.egg/pyids/model_selection/coordinate_ascent.py:95\u001b[0m, in \u001b[0;36mCoordinateAscent.fit\u001b[0;34m(self)\u001b[0m\n\u001b[1;32m     92\u001b[0m \u001b[39mprint\u001b[39m(\u001b[39mf\u001b[39m\u001b[39m\"\u001b[39m\u001b[39musing precision \u001b[39m\u001b[39m{\u001b[39;00m\u001b[39mself\u001b[39m\u001b[39m.\u001b[39mternary_search_precision[arg_name]\u001b[39m}\u001b[39;00m\u001b[39m\"\u001b[39m)\n\u001b[1;32m     94\u001b[0m interval_lower, interval_upper \u001b[39m=\u001b[39m \u001b[39mself\u001b[39m\u001b[39m.\u001b[39mfunc_args_ranges[arg_name]\n\u001b[0;32m---> 95\u001b[0m best_param \u001b[39m=\u001b[39m _ternary_search(\n\u001b[1;32m     96\u001b[0m     arg_func,\n\u001b[1;32m     97\u001b[0m     interval_lower,\n\u001b[1;32m     98\u001b[0m     interval_upper,\n\u001b[1;32m     99\u001b[0m     \u001b[39mself\u001b[39;49m\u001b[39m.\u001b[39;49mternary_search_precision[arg_name]\n\u001b[1;32m    100\u001b[0m )\n\u001b[1;32m    102\u001b[0m \u001b[39mself\u001b[39m\u001b[39m.\u001b[39mextend_interval(arg_name, best_param)\n\u001b[1;32m    104\u001b[0m _, interval_upper_new \u001b[39m=\u001b[39m \u001b[39mself\u001b[39m\u001b[39m.\u001b[39mfunc_args_ranges[arg_name]\n",
      "File \u001b[0;32m~/miniconda3/envs/orange3/lib/python3.10/site-packages/pyids-0.0.1-py3.10.egg/pyids/model_selection/coordinate_ascent.py:20\u001b[0m, in \u001b[0;36m_ternary_search\u001b[0;34m(func, left, right, absolute_precision, debug)\u001b[0m\n\u001b[1;32m     17\u001b[0m \u001b[39mif\u001b[39;00m debug:\n\u001b[1;32m     18\u001b[0m     \u001b[39mprint\u001b[39m(left_third, right_third)\n\u001b[0;32m---> 20\u001b[0m \u001b[39mif\u001b[39;00m func(left_third) \u001b[39m<\u001b[39m func(right_third):\n\u001b[1;32m     21\u001b[0m     left \u001b[39m=\u001b[39m left_third\n\u001b[1;32m     22\u001b[0m \u001b[39melse\u001b[39;00m:\n",
      "File \u001b[0;32m~/miniconda3/envs/orange3/lib/python3.10/site-packages/pyids-0.0.1-py3.10.egg/pyids/model_selection/coordinate_ascent.py:63\u001b[0m, in \u001b[0;36mCoordinateAscent.make_1arg_func.<locals>.func\u001b[0;34m(x)\u001b[0m\n\u001b[1;32m     59\u001b[0m fixed_params_copy \u001b[39m=\u001b[39m fixed_params\u001b[39m.\u001b[39mcopy()\n\u001b[1;32m     61\u001b[0m fixed_params_copy[variable_arg_name] \u001b[39m=\u001b[39m x\n\u001b[0;32m---> 63\u001b[0m \u001b[39mreturn\u001b[39;00m \u001b[39mself\u001b[39;49m\u001b[39m.\u001b[39;49mfunc(fixed_params_copy)\n",
      "Cell \u001b[0;32mIn[11], line 47\u001b[0m, in \u001b[0;36mfmax\u001b[0;34m(lambda_dict)\u001b[0m\n\u001b[1;32m     45\u001b[0m \u001b[39mprint\u001b[39m(lambda_dict)\n\u001b[1;32m     46\u001b[0m ids \u001b[39m=\u001b[39m IDS(algorithm\u001b[39m=\u001b[39m\u001b[39m\"\u001b[39m\u001b[39mSLS\u001b[39m\u001b[39m\"\u001b[39m)\n\u001b[0;32m---> 47\u001b[0m ids\u001b[39m.\u001b[39;49mfit(class_association_rules\u001b[39m=\u001b[39;49mcars, quant_dataframe\u001b[39m=\u001b[39;49mquant_df, lambda_array\u001b[39m=\u001b[39;49m\u001b[39mlist\u001b[39;49m(lambda_dict\u001b[39m.\u001b[39;49mvalues()))\n\u001b[1;32m     49\u001b[0m metrics \u001b[39m=\u001b[39m ids\u001b[39m.\u001b[39mscore_interpretability_metrics(quant_df)\n\u001b[1;32m     51\u001b[0m \u001b[39m\u001b[39m\u001b[39m\"\"\"\u001b[39;00m\n\u001b[1;32m     52\u001b[0m \u001b[39mif not is_solution_interpretable(metrics):\u001b[39;00m\n\u001b[1;32m     53\u001b[0m \u001b[39m    distance = -solution_interpretability_distance(metrics)\u001b[39;00m\n\u001b[1;32m     54\u001b[0m \u001b[39m    print(distance)\u001b[39;00m\n\u001b[1;32m     55\u001b[0m \u001b[39m    return -distance\u001b[39;00m\n\u001b[1;32m     56\u001b[0m \u001b[39m\"\"\"\u001b[39;00m\n",
      "File \u001b[0;32m~/miniconda3/envs/orange3/lib/python3.10/site-packages/pyids-0.0.1-py3.10.egg/pyids/algorithms/ids.py:74\u001b[0m, in \u001b[0;36mIDS.fit\u001b[0;34m(self, quant_dataframe, class_association_rules, lambda_array, default_class, optimizer_args, random_seed)\u001b[0m\n\u001b[1;32m     65\u001b[0m objective_function \u001b[39m=\u001b[39m IDSObjectiveFunction(objective_func_params\u001b[39m=\u001b[39mparams, cacher\u001b[39m=\u001b[39m\u001b[39mself\u001b[39m\u001b[39m.\u001b[39mcacher)\n\u001b[1;32m     67\u001b[0m optimizer \u001b[39m=\u001b[39m \u001b[39mself\u001b[39m\u001b[39m.\u001b[39malgorithms[\u001b[39mself\u001b[39m\u001b[39m.\u001b[39malgorithm](\n\u001b[1;32m     68\u001b[0m     objective_function,\n\u001b[1;32m     69\u001b[0m     params,\n\u001b[1;32m     70\u001b[0m     random_seed\u001b[39m=\u001b[39mrandom_seed,\n\u001b[1;32m     71\u001b[0m     optimizer_args\u001b[39m=\u001b[39moptimizer_args\n\u001b[1;32m     72\u001b[0m )\n\u001b[0;32m---> 74\u001b[0m solution_set \u001b[39m=\u001b[39m optimizer\u001b[39m.\u001b[39;49moptimize()\n\u001b[1;32m     76\u001b[0m \u001b[39mself\u001b[39m\u001b[39m.\u001b[39mlogger\u001b[39m.\u001b[39mdebug(\u001b[39m\"\u001b[39m\u001b[39mSolution set optimized\u001b[39m\u001b[39m\"\u001b[39m)\n\u001b[1;32m     78\u001b[0m \u001b[39mself\u001b[39m\u001b[39m.\u001b[39mclf \u001b[39m=\u001b[39m IDSClassifier(solution_set)\n",
      "File \u001b[0;32m~/miniconda3/envs/orange3/lib/python3.10/site-packages/pyids-0.0.1-py3.10.egg/pyids/algorithms/optimizers/sls_optimizer.py:179\u001b[0m, in \u001b[0;36mSLSOptimizer.optimize\u001b[0;34m(self)\u001b[0m\n\u001b[1;32m    178\u001b[0m \u001b[39mdef\u001b[39;00m \u001b[39moptimize\u001b[39m(\u001b[39mself\u001b[39m):\n\u001b[0;32m--> 179\u001b[0m     solution1 \u001b[39m=\u001b[39m \u001b[39mself\u001b[39;49m\u001b[39m.\u001b[39;49moptimize_delta(\u001b[39m1\u001b[39;49m \u001b[39m/\u001b[39;49m \u001b[39m3\u001b[39;49m, \u001b[39m1\u001b[39;49m \u001b[39m/\u001b[39;49m \u001b[39m3\u001b[39;49m)\n\u001b[1;32m    180\u001b[0m     solution2 \u001b[39m=\u001b[39m \u001b[39mself\u001b[39m\u001b[39m.\u001b[39moptimize_delta(\u001b[39m1\u001b[39m \u001b[39m/\u001b[39m \u001b[39m3\u001b[39m, \u001b[39m-\u001b[39m\u001b[39m1.0\u001b[39m)\n\u001b[1;32m    182\u001b[0m     func_val1 \u001b[39m=\u001b[39m \u001b[39mself\u001b[39m\u001b[39m.\u001b[39mobjective_function\u001b[39m.\u001b[39mevaluate(IDSRuleSet(solution1))\n",
      "File \u001b[0;32m~/miniconda3/envs/orange3/lib/python3.10/site-packages/pyids-0.0.1-py3.10.egg/pyids/algorithms/optimizers/sls_optimizer.py:126\u001b[0m, in \u001b[0;36mSLSOptimizer.optimize_delta\u001b[0;34m(self, delta, delta_prime)\u001b[0m\n\u001b[1;32m    123\u001b[0m \u001b[39mfor\u001b[39;00m rule \u001b[39min\u001b[39;00m all_rules\u001b[39m.\u001b[39mruleset:\n\u001b[1;32m    124\u001b[0m     \u001b[39mself\u001b[39m\u001b[39m.\u001b[39mlogger\u001b[39m.\u001b[39mdebug(\u001b[39m\"\u001b[39m\u001b[39mINFO - Estimating omega for rule: \u001b[39m\u001b[39m{}\u001b[39;00m\u001b[39m\"\u001b[39m\u001b[39m.\u001b[39mformat(rule))\n\u001b[0;32m--> 126\u001b[0m     omega_est \u001b[39m=\u001b[39m \u001b[39mself\u001b[39;49m\u001b[39m.\u001b[39;49mestimate_omega(rule, soln_set, \u001b[39m1.0\u001b[39;49m \u001b[39m/\u001b[39;49m (n \u001b[39m*\u001b[39;49m n) \u001b[39m*\u001b[39;49m OPT, delta)\n\u001b[1;32m    127\u001b[0m     omega_estimates[rule] \u001b[39m=\u001b[39m omega_est\n\u001b[1;32m    129\u001b[0m     \u001b[39mif\u001b[39;00m rule \u001b[39min\u001b[39;00m soln_set\u001b[39m.\u001b[39mruleset:\n",
      "File \u001b[0;32m~/miniconda3/envs/orange3/lib/python3.10/site-packages/pyids-0.0.1-py3.10.egg/pyids/algorithms/optimizers/sls_optimizer.py:48\u001b[0m, in \u001b[0;36mSLSOptimizer.estimate_omega\u001b[0;34m(self, rule, solution_set, error_threshold, delta)\u001b[0m\n\u001b[1;32m     45\u001b[0m     temp_soln_set \u001b[39m=\u001b[39m \u001b[39mself\u001b[39m\u001b[39m.\u001b[39msample_random_set(solution_set\u001b[39m.\u001b[39mruleset, delta)\n\u001b[1;32m     46\u001b[0m     temp_soln_set\u001b[39m.\u001b[39madd(rule)\n\u001b[0;32m---> 48\u001b[0m     func_val \u001b[39m=\u001b[39m \u001b[39mself\u001b[39;49m\u001b[39m.\u001b[39;49mobjective_function\u001b[39m.\u001b[39;49mevaluate(IDSRuleSet(temp_soln_set))\n\u001b[1;32m     50\u001b[0m     exp_include_func_vals\u001b[39m.\u001b[39mappend(func_val)\n\u001b[1;32m     52\u001b[0m \u001b[39mfor\u001b[39;00m _ \u001b[39min\u001b[39;00m \u001b[39mrange\u001b[39m(omega_estimation_iterations):\n",
      "File \u001b[0;32m~/miniconda3/envs/orange3/lib/python3.10/site-packages/pyids-0.0.1-py3.10.egg/pyids/algorithms/ids_objective_function.py:136\u001b[0m, in \u001b[0;36mIDSObjectiveFunction.evaluate\u001b[0;34m(self, solution_set)\u001b[0m\n\u001b[1;32m    134\u001b[0m f0 \u001b[39m=\u001b[39m \u001b[39mself\u001b[39m\u001b[39m.\u001b[39mf0(solution_set) \u001b[39mif\u001b[39;00m l[\u001b[39m0\u001b[39m] \u001b[39m!=\u001b[39m \u001b[39m0\u001b[39m \u001b[39melse\u001b[39;00m \u001b[39m0\u001b[39m\n\u001b[1;32m    135\u001b[0m f1 \u001b[39m=\u001b[39m \u001b[39mself\u001b[39m\u001b[39m.\u001b[39mf1(solution_set) \u001b[39mif\u001b[39;00m l[\u001b[39m1\u001b[39m] \u001b[39m!=\u001b[39m \u001b[39m0\u001b[39m \u001b[39melse\u001b[39;00m \u001b[39m0\u001b[39m\n\u001b[0;32m--> 136\u001b[0m f2 \u001b[39m=\u001b[39m \u001b[39mself\u001b[39;49m\u001b[39m.\u001b[39;49mf2(solution_set) \u001b[39mif\u001b[39;00m l[\u001b[39m2\u001b[39m] \u001b[39m!=\u001b[39m \u001b[39m0\u001b[39m \u001b[39melse\u001b[39;00m \u001b[39m0\u001b[39m\n\u001b[1;32m    137\u001b[0m f3 \u001b[39m=\u001b[39m \u001b[39mself\u001b[39m\u001b[39m.\u001b[39mf3(solution_set) \u001b[39mif\u001b[39;00m l[\u001b[39m3\u001b[39m] \u001b[39m!=\u001b[39m \u001b[39m0\u001b[39m \u001b[39melse\u001b[39;00m \u001b[39m0\u001b[39m\n\u001b[1;32m    138\u001b[0m f4 \u001b[39m=\u001b[39m \u001b[39mself\u001b[39m\u001b[39m.\u001b[39mf4(solution_set) \u001b[39mif\u001b[39;00m l[\u001b[39m4\u001b[39m] \u001b[39m!=\u001b[39m \u001b[39m0\u001b[39m \u001b[39melse\u001b[39;00m \u001b[39m0\u001b[39m\n",
      "File \u001b[0;32m~/miniconda3/envs/orange3/lib/python3.10/site-packages/pyids-0.0.1-py3.10.egg/pyids/algorithms/ids_objective_function.py:66\u001b[0m, in \u001b[0;36mIDSObjectiveFunction.f2\u001b[0;34m(self, solution_set)\u001b[0m\n\u001b[1;32m     63\u001b[0m             \u001b[39mcontinue\u001b[39;00m\n\u001b[1;32m     65\u001b[0m         \u001b[39mif\u001b[39;00m r1\u001b[39m.\u001b[39mcar\u001b[39m.\u001b[39mconsequent\u001b[39m.\u001b[39mvalue \u001b[39m==\u001b[39m r2\u001b[39m.\u001b[39mcar\u001b[39m.\u001b[39mconsequent\u001b[39m.\u001b[39mvalue:\n\u001b[0;32m---> 66\u001b[0m             overlap_tmp \u001b[39m=\u001b[39m \u001b[39mself\u001b[39;49m\u001b[39m.\u001b[39;49mcacher\u001b[39m.\u001b[39;49moverlap(r1, r2)\n\u001b[1;32m     68\u001b[0m             overlap_intraclass_sum \u001b[39m+\u001b[39m\u001b[39m=\u001b[39m overlap_tmp\n\u001b[1;32m     70\u001b[0m f2 \u001b[39m=\u001b[39m quant_dataframe\u001b[39m.\u001b[39mdataframe\u001b[39m.\u001b[39mshape[\u001b[39m0\u001b[39m] \u001b[39m*\u001b[39m len_all_rules \u001b[39m*\u001b[39m\u001b[39m*\u001b[39m \u001b[39m2\u001b[39m \u001b[39m-\u001b[39m overlap_intraclass_sum\n",
      "File \u001b[0;32m~/miniconda3/envs/orange3/lib/python3.10/site-packages/pyids-0.0.1-py3.10.egg/pyids/data_structures/ids_cacher.py:13\u001b[0m, in \u001b[0;36mIDSCacher.overlap\u001b[0;34m(self, rule1, rule2)\u001b[0m\n\u001b[1;32m     12\u001b[0m \u001b[39mdef\u001b[39;00m \u001b[39moverlap\u001b[39m(\u001b[39mself\u001b[39m, rule1, rule2):\n\u001b[0;32m---> 13\u001b[0m     \u001b[39mreturn\u001b[39;00m \u001b[39mself\u001b[39m\u001b[39m.\u001b[39moverlap_cache[\u001b[39mrepr\u001b[39m(rule1) \u001b[39m+\u001b[39m \u001b[39mrepr\u001b[39;49m(rule2)]\n",
      "File \u001b[0;32m~/miniconda3/envs/orange3/lib/python3.10/site-packages/pyids-0.0.1-py3.10.egg/pyids/data_structures/ids_rule.py:42\u001b[0m, in \u001b[0;36mIDSRule.__repr__\u001b[0;34m(self)\u001b[0m\n\u001b[1;32m     40\u001b[0m \u001b[39mdef\u001b[39;00m \u001b[39m__repr__\u001b[39m(\u001b[39mself\u001b[39m):\n\u001b[1;32m     41\u001b[0m     args \u001b[39m=\u001b[39m [\n\u001b[0;32m---> 42\u001b[0m         \u001b[39mself\u001b[39;49m\u001b[39m.\u001b[39;49mcar\u001b[39m.\u001b[39;49mantecedent\u001b[39m.\u001b[39;49mstring(),\n\u001b[1;32m     43\u001b[0m         \u001b[39m\"\u001b[39m\u001b[39m{\u001b[39m\u001b[39m\"\u001b[39m \u001b[39m+\u001b[39m \u001b[39mself\u001b[39m\u001b[39m.\u001b[39mcar\u001b[39m.\u001b[39mconsequent\u001b[39m.\u001b[39mstring() \u001b[39m+\u001b[39m \u001b[39m\"\u001b[39m\u001b[39m}\u001b[39m\u001b[39m\"\u001b[39m,\n\u001b[1;32m     44\u001b[0m         \u001b[39mself\u001b[39m\u001b[39m.\u001b[39mcar\u001b[39m.\u001b[39msupport,\n\u001b[1;32m     45\u001b[0m         \u001b[39mself\u001b[39m\u001b[39m.\u001b[39mcar\u001b[39m.\u001b[39mconfidence,\n\u001b[1;32m     46\u001b[0m         \u001b[39mself\u001b[39m\u001b[39m.\u001b[39mf1,\n\u001b[1;32m     47\u001b[0m         \u001b[39mself\u001b[39m\u001b[39m.\u001b[39mcar\u001b[39m.\u001b[39mrulelen,\n\u001b[1;32m     48\u001b[0m         \u001b[39mself\u001b[39m\u001b[39m.\u001b[39mcar\u001b[39m.\u001b[39mrid\n\u001b[1;32m     49\u001b[0m     ]\n\u001b[1;32m     51\u001b[0m     text \u001b[39m=\u001b[39m \u001b[39m\"\u001b[39m\u001b[39mIDSRule \u001b[39m\u001b[39m{}\u001b[39;00m\u001b[39m => \u001b[39m\u001b[39m{}\u001b[39;00m\u001b[39m sup: \u001b[39m\u001b[39m{:.2f}\u001b[39;00m\u001b[39m conf: \u001b[39m\u001b[39m{:.2f}\u001b[39;00m\u001b[39m, f1: \u001b[39m\u001b[39m{:.2f}\u001b[39;00m\u001b[39m, len: \u001b[39m\u001b[39m{}\u001b[39;00m\u001b[39m, id: \u001b[39m\u001b[39m{}\u001b[39;00m\u001b[39m\"\u001b[39m\u001b[39m.\u001b[39mformat(\u001b[39m*\u001b[39margs)\n\u001b[1;32m     53\u001b[0m     \u001b[39mreturn\u001b[39;00m text\n",
      "File \u001b[0;32m~/miniconda3/envs/orange3/lib/python3.10/site-packages/pyarc/data_structures/antecedent.py:85\u001b[0m, in \u001b[0;36mAntecedent.string\u001b[0;34m(self)\u001b[0m\n\u001b[1;32m     84\u001b[0m \u001b[39mdef\u001b[39;00m \u001b[39mstring\u001b[39m(\u001b[39mself\u001b[39m):\n\u001b[0;32m---> 85\u001b[0m     items \u001b[39m=\u001b[39m \u001b[39mlist\u001b[39m(\u001b[39mself\u001b[39;49m\u001b[39m.\u001b[39;49mitemset\u001b[39m.\u001b[39;49mitems())\n\u001b[1;32m     86\u001b[0m     string_items \u001b[39m=\u001b[39m [ \u001b[39m\"\u001b[39m\u001b[39m{}\u001b[39;00m\u001b[39m=\u001b[39m\u001b[39m{}\u001b[39;00m\u001b[39m\"\u001b[39m\u001b[39m.\u001b[39mformat(key, val) \u001b[39mfor\u001b[39;00m key, val \u001b[39min\u001b[39;00m items ]\n\u001b[1;32m     88\u001b[0m     string_ant \u001b[39m=\u001b[39m \u001b[39m\"\u001b[39m\u001b[39m,\u001b[39m\u001b[39m\"\u001b[39m\u001b[39m.\u001b[39mjoin(string_items)\n",
      "\u001b[0;31mKeyboardInterrupt\u001b[0m: "
     ]
    }
   ],
   "source": [
    "from pyids.model_selection import CoordinateAscent\n",
    "from pyids.algorithms.ids import IDS\n",
    "from pyids.algorithms import mine_CARs, mine_IDS_ruleset\n",
    "\n",
    "from pyarc.qcba.data_structures import QuantitativeDataFrame\n",
    "\n",
    "import pandas as pd\n",
    "import numpy as np\n",
    "\n",
    "df_iris = pd.read_csv(\"https://raw.githubusercontent.com/jirifilip/pyIDS/master/data/titanic.csv\")\n",
    "quant_df = QuantitativeDataFrame(df_iris)\n",
    "cars = mine_CARs(df_iris, 20)\n",
    "\n",
    "\n",
    "interpretability_bounds = dict(\n",
    "    fraction_overlap=0.1,\n",
    "    fraction_classes=1,\n",
    "    fraction_uncovered=0.15,\n",
    "    average_rule_width=8,\n",
    "    ruleset_length=10\n",
    ")\n",
    "\n",
    "def is_solution_interpretable(metrics):\n",
    "    print(metrics)\n",
    "    return (\n",
    "        metrics[\"fraction_overlap\"] <= interpretability_bounds[\"fraction_overlap\"] and\n",
    "        metrics[\"fraction_classes\"] >= interpretability_bounds[\"fraction_classes\"] and\n",
    "        metrics[\"fraction_uncovered\"] <= interpretability_bounds[\"fraction_uncovered\"] and\n",
    "        metrics[\"average_rule_width\"] <= interpretability_bounds[\"average_rule_width\"] and\n",
    "        metrics[\"ruleset_length\"] <= interpretability_bounds[\"ruleset_length\"]\n",
    "    )\n",
    "\n",
    "def solution_interpretability_distance(metrics):\n",
    "    distance_vector = np.array([\n",
    "        max(metrics[\"fraction_overlap\"] - interpretability_bounds[\"fraction_overlap\"], 0),\n",
    "        max(interpretability_bounds[\"fraction_classes\"] - metrics[\"fraction_classes\"], 0),\n",
    "        max(metrics[\"fraction_uncovered\"] - interpretability_bounds[\"fraction_uncovered\"], 0),\n",
    "        max(metrics[\"average_rule_width\"] - interpretability_bounds[\"average_rule_width\"], 0),\n",
    "        max(metrics[\"ruleset_length\"] - interpretability_bounds[\"ruleset_length\"], 0)\n",
    "    ])\n",
    "    return np.sum(distance_vector)\n",
    "    #return np.linalg.norm(distance_vector)\n",
    "\n",
    "def fmax(lambda_dict):\n",
    "    print(lambda_dict)\n",
    "    ids = IDS(algorithm=\"SLS\")\n",
    "    ids.fit(class_association_rules=cars, quant_dataframe=quant_df, lambda_array=list(lambda_dict.values()))\n",
    "\n",
    "    metrics = ids.score_interpretability_metrics(quant_df)\n",
    "\n",
    "    \"\"\"\n",
    "    if not is_solution_interpretable(metrics):\n",
    "        distance = -solution_interpretability_distance(metrics)\n",
    "        print(distance)\n",
    "        return -distance\n",
    "    \"\"\"\n",
    "\n",
    "    if not is_solution_interpretable(metrics):\n",
    "        return 0\n",
    "\n",
    "    auc = ids.score_auc(quant_df)\n",
    "\n",
    "    print(auc)\n",
    "\n",
    "    return auc\n",
    "\n",
    "\n",
    "\n",
    "coord_asc = CoordinateAscent(\n",
    "    func=fmax,\n",
    "    func_args_ranges=dict(\n",
    "        l1=(1, 1000),\n",
    "        l2=(1, 1000),\n",
    "        l3=(1, 1000),\n",
    "        l4=(1, 1000),\n",
    "        l5=(1, 1000),\n",
    "        l6=(1, 1000),\n",
    "        l7=(1, 1000)\n",
    "    ),\n",
    "    ternary_search_precision=50,\n",
    "    max_iterations=2\n",
    ")\n",
    "\n",
    "best_pars = coord_asc.fit()\n",
    "\n",
    "df = pd.DataFrame(coord_asc.procedure_data)"
   ]
  },
  {
   "cell_type": "code",
   "execution_count": 14,
   "metadata": {},
   "outputs": [
    {
     "ename": "NameError",
     "evalue": "name 'best_pars' is not defined",
     "output_type": "error",
     "traceback": [
      "\u001b[0;31m---------------------------------------------------------------------------\u001b[0m",
      "\u001b[0;31mNameError\u001b[0m                                 Traceback (most recent call last)",
      "Cell \u001b[0;32mIn[14], line 2\u001b[0m\n\u001b[1;32m      1\u001b[0m \u001b[39m# Rounding the best parameters\u001b[39;00m\n\u001b[0;32m----> 2\u001b[0m pars \u001b[39m=\u001b[39m [\u001b[39mround\u001b[39m(x, \u001b[39m2\u001b[39m) \u001b[39mfor\u001b[39;00m x \u001b[39min\u001b[39;00m best_pars]\n\u001b[1;32m      4\u001b[0m \u001b[39m# Creating the parameters dataframe\u001b[39;00m\n\u001b[1;32m      5\u001b[0m pars_df \u001b[39m=\u001b[39m pd\u001b[39m.\u001b[39mDataFrame({\n\u001b[1;32m      6\u001b[0m     \u001b[39m\"\u001b[39m\u001b[39mParameter\u001b[39m\u001b[39m\"\u001b[39m: [\u001b[39mf\u001b[39m\u001b[39m\"\u001b[39m\u001b[39m$\u001b[39m\u001b[39m\\\\\u001b[39;00m\u001b[39mlambda_\u001b[39m\u001b[39m{\u001b[39;00mi\u001b[39m}\u001b[39;00m\u001b[39m$\u001b[39m\u001b[39m\"\u001b[39m \u001b[39mfor\u001b[39;00m i \u001b[39min\u001b[39;00m \u001b[39mrange\u001b[39m(\u001b[39m1\u001b[39m, \u001b[39m8\u001b[39m)],\n\u001b[1;32m      7\u001b[0m     \u001b[39m\"\u001b[39m\u001b[39mParameter Value\u001b[39m\u001b[39m\"\u001b[39m: pars\n\u001b[1;32m      8\u001b[0m })\n",
      "\u001b[0;31mNameError\u001b[0m: name 'best_pars' is not defined"
     ]
    }
   ],
   "source": [
    "# Rounding the best parameters\n",
    "pars = [round(x, 2) for x in best_pars]\n",
    "\n",
    "# Creating the parameters dataframe\n",
    "pars_df = pd.DataFrame({\n",
    "    \"Parameter\": [f\"$\\\\lambda_{i}$\" for i in range(1, 8)],\n",
    "    \"Parameter Value\": pars\n",
    "})\n",
    "\n",
    "# Printing the parameters dataframe as a LaTeX table\n",
    "print(pars_df.to_latex(index=False, escape=False))"
   ]
  },
  {
   "cell_type": "code",
   "execution_count": null,
   "metadata": {},
   "outputs": [],
   "source": [
    "ids = IDS()\n",
    "ids.fit(class_association_rules=rules, quant_dataframe=quant_dataframe_train, lambda_array=best_pars)\n",
    "ids.score_auc(quant_dataframe_test)"
   ]
  },
  {
   "cell_type": "code",
   "execution_count": 13,
   "metadata": {},
   "outputs": [
    {
     "name": "stderr",
     "output_type": "stream",
     "text": [
      "/Users/x/miniconda3/envs/orange3/lib/python3.10/site-packages/pyids-0.0.1-py3.10.egg/pyids/algorithms/ids_classifier.py:58: FutureWarning: iteritems is deprecated and will be removed in a future version. Use .items instead.\n",
      "/Users/x/miniconda3/envs/orange3/lib/python3.10/site-packages/pyids-0.0.1-py3.10.egg/pyids/algorithms/ids_classifier.py:58: FutureWarning: iteritems is deprecated and will be removed in a future version. Use .items instead.\n",
      "/Users/x/miniconda3/envs/orange3/lib/python3.10/site-packages/pyids-0.0.1-py3.10.egg/pyids/algorithms/ids_classifier.py:91: FutureWarning: iteritems is deprecated and will be removed in a future version. Use .items instead.\n",
      "/Users/x/miniconda3/envs/orange3/lib/python3.10/site-packages/pyids-0.0.1-py3.10.egg/pyids/algorithms/ids_classifier.py:58: FutureWarning: iteritems is deprecated and will be removed in a future version. Use .items instead.\n",
      "/Users/x/miniconda3/envs/orange3/lib/python3.10/site-packages/pyids-0.0.1-py3.10.egg/pyids/algorithms/ids_classifier.py:58: FutureWarning: iteritems is deprecated and will be removed in a future version. Use .items instead.\n",
      "/Users/x/miniconda3/envs/orange3/lib/python3.10/site-packages/pyids-0.0.1-py3.10.egg/pyids/algorithms/ids_classifier.py:91: FutureWarning: iteritems is deprecated and will be removed in a future version. Use .items instead.\n"
     ]
    }
   ],
   "source": [
    "metric_df = pd.DataFrame([\n",
    "    {\"Data\": \"Train\", \"Accuracy\": ids.score(quant_dataframe_train), \"AUC\": ids.score_auc(quant_dataframe_train)},\n",
    "    {\"Data\": \"Test\", \"Accuracy\": ids.score(quant_dataframe_test), \"AUC\": ids.score_auc(quant_dataframe_test)}\n",
    "])"
   ]
  },
  {
   "cell_type": "code",
   "execution_count": null,
   "metadata": {},
   "outputs": [],
   "source": [
    "metric_df[\"Správnost\"] = metric_df[\"Správnost\"].apply(lambda x: round(x, 2))\n",
    "metric_df[\"AUC\"] = metric_df[\"AUC\"].apply(lambda x: round(x, 2))\n",
    "print(metric_df[[\"Data\", \"Správnost\", \"AUC\"]].to_latex(index=False))"
   ]
  },
  {
   "cell_type": "code",
   "execution_count": null,
   "metadata": {},
   "outputs": [],
   "source": [
    "ids.score_interpretability_metrics(quant_dataframe_test)"
   ]
  },
  {
   "cell_type": "code",
   "execution_count": null,
   "metadata": {},
   "outputs": [],
   "source": [
    "procedure_data = coord_asc.procedure_data\n",
    "procedure_df = pd.DataFrame(procedure_data).reset_index()\n",
    "procedure_df"
   ]
  }
 ],
 "metadata": {
  "kernelspec": {
   "display_name": "Python 3",
   "language": "python",
   "name": "python3"
  },
  "language_info": {
   "codemirror_mode": {
    "name": "ipython",
    "version": 3
   },
   "file_extension": ".py",
   "mimetype": "text/x-python",
   "name": "python",
   "nbconvert_exporter": "python",
   "pygments_lexer": "ipython3",
   "version": "3.10.14"
  },
  "orig_nbformat": 4
 },
 "nbformat": 4,
 "nbformat_minor": 2
}
