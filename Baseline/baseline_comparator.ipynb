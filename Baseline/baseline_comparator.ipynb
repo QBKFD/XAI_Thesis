{
  "cells": [
    {
      "cell_type": "markdown",
      "source": [
        "# Import packages"
      ],
      "metadata": {
        "id": "CNXett9NLW6O"
      }
    },
    {
      "cell_type": "code",
      "execution_count": 1,
      "metadata": {
        "colab": {
          "base_uri": "https://localhost:8080/"
        },
        "id": "5tB3u93YhNsi",
        "outputId": "5d57d5a8-b478-4080-eaf0-c5680ea5f3ff"
      },
      "outputs": [
        {
          "output_type": "stream",
          "name": "stdout",
          "text": [
            "Collecting c45-decision-tree\n",
            "  Downloading c45_decision_tree-1.0.2-py3-none-any.whl (5.8 kB)\n",
            "Installing collected packages: c45-decision-tree\n",
            "Successfully installed c45-decision-tree-1.0.2\n"
          ]
        }
      ],
      "source": [
        "pip install c45-decision-tree"
      ]
    },
    {
      "cell_type": "code",
      "execution_count": 15,
      "metadata": {
        "id": "_-U6W-u6hNsl"
      },
      "outputs": [],
      "source": [
        "import pandas as pd\n",
        "from sklearn.model_selection import train_test_split\n",
        "from sklearn.ensemble import RandomForestClassifier\n",
        "from sklearn.tree import DecisionTreeClassifier\n",
        "from C45 import C45Classifier\n",
        "from sklearn.metrics import accuracy_score\n",
        "from sklearn.metrics import precision_score, recall_score, f1_score, accuracy_score\n",
        "import matplotlib.pyplot as plt\n",
        "from sklearn.metrics import roc_auc_score, roc_curve, auc"
      ]
    },
    {
      "cell_type": "code",
      "execution_count": 3,
      "metadata": {
        "colab": {
          "base_uri": "https://localhost:8080/"
        },
        "id": "2yhGzJ4_hNsl",
        "outputId": "6c102e61-40fb-4f94-8e3e-0ae29358ecef"
      },
      "outputs": [
        {
          "output_type": "stream",
          "name": "stdout",
          "text": [
            "Mounted at /content/drive\n"
          ]
        }
      ],
      "source": [
        "from google.colab import drive\n",
        "drive.mount('/content/drive')"
      ]
    },
    {
      "cell_type": "markdown",
      "source": [
        "# Import the data"
      ],
      "metadata": {
        "id": "3mDxhbIwLZ1w"
      }
    },
    {
      "cell_type": "code",
      "execution_count": 5,
      "metadata": {
        "id": "3tTSdeH-hNsl"
      },
      "outputs": [],
      "source": [
        "\n",
        "# Load the data\n",
        "data = pd.read_csv(\"/content/glass1.csv\")\n",
        "\n",
        "# Separate the target variable and features\n",
        "y = data.iloc[:, -1]\n",
        "X = data.iloc[:, :-1]\n",
        "\n",
        "# Split the data into training and test sets\n",
        "X_train, X_test, y_train, y_test = train_test_split(X, y, test_size=0.2, random_state=42)\n"
      ]
    },
    {
      "cell_type": "markdown",
      "source": [
        "# Check the data"
      ],
      "metadata": {
        "id": "bDwk4JD5LcXz"
      }
    },
    {
      "cell_type": "code",
      "execution_count": 6,
      "metadata": {
        "colab": {
          "base_uri": "https://localhost:8080/"
        },
        "id": "EdoshyXXhNsl",
        "outputId": "6a2c5785-5464-44bb-992e-cfe106b5072d"
      },
      "outputs": [
        {
          "output_type": "stream",
          "name": "stdout",
          "text": [
            "\n",
            "Summary statistics of the dataset:\n",
            "               RI          Na          Mg          Al          Si           K  \\\n",
            "count  214.000000  214.000000  214.000000  214.000000  214.000000  214.000000   \n",
            "mean     1.518365   13.407850    2.684533    1.444907   72.650935    0.497056   \n",
            "std      0.003037    0.816604    1.442408    0.499270    0.774546    0.652192   \n",
            "min      1.511150   10.730000    0.000000    0.290000   69.810000    0.000000   \n",
            "25%      1.516522   12.907500    2.115000    1.190000   72.280000    0.122500   \n",
            "50%      1.517680   13.300000    3.480000    1.360000   72.790000    0.555000   \n",
            "75%      1.519157   13.825000    3.600000    1.630000   73.087500    0.610000   \n",
            "max      1.533930   17.380000    4.490000    3.500000   75.410000    6.210000   \n",
            "\n",
            "               Ca          Ba          Fe        Type  \n",
            "count  214.000000  214.000000  214.000000  214.000000  \n",
            "mean     8.956963    0.175047    0.057009    2.542056  \n",
            "std      1.423153    0.497219    0.097439    1.707648  \n",
            "min      5.430000    0.000000    0.000000    1.000000  \n",
            "25%      8.240000    0.000000    0.000000    1.000000  \n",
            "50%      8.600000    0.000000    0.000000    2.000000  \n",
            "75%      9.172500    0.000000    0.100000    3.000000  \n",
            "max     16.190000    3.150000    0.510000    6.000000  \n",
            "\n",
            "Structure of the dataset:\n",
            "<class 'pandas.core.frame.DataFrame'>\n",
            "RangeIndex: 214 entries, 0 to 213\n",
            "Data columns (total 10 columns):\n",
            " #   Column  Non-Null Count  Dtype  \n",
            "---  ------  --------------  -----  \n",
            " 0   RI      214 non-null    float64\n",
            " 1   Na      214 non-null    float64\n",
            " 2   Mg      214 non-null    float64\n",
            " 3   Al      214 non-null    float64\n",
            " 4   Si      214 non-null    float64\n",
            " 5   K       214 non-null    float64\n",
            " 6   Ca      214 non-null    float64\n",
            " 7   Ba      214 non-null    float64\n",
            " 8   Fe      214 non-null    float64\n",
            " 9   Type    214 non-null    int64  \n",
            "dtypes: float64(9), int64(1)\n",
            "memory usage: 16.8 KB\n",
            "None\n",
            "\n",
            "Number of missing values in each column:\n",
            "RI      0\n",
            "Na      0\n",
            "Mg      0\n",
            "Al      0\n",
            "Si      0\n",
            "K       0\n",
            "Ca      0\n",
            "Ba      0\n",
            "Fe      0\n",
            "Type    0\n",
            "dtype: int64\n",
            "\n",
            "Column names of the dataset:\n",
            "Index(['RI', 'Na', 'Mg', 'Al', 'Si', 'K', 'Ca', 'Ba', 'Fe', 'Type'], dtype='object')\n",
            "\n",
            "Data types of each column:\n",
            "RI      float64\n",
            "Na      float64\n",
            "Mg      float64\n",
            "Al      float64\n",
            "Si      float64\n",
            "K       float64\n",
            "Ca      float64\n",
            "Ba      float64\n",
            "Fe      float64\n",
            "Type      int64\n",
            "dtype: object\n",
            "\n",
            "Number of unique values in each column:\n",
            "RI      178\n",
            "Na      142\n",
            "Mg       94\n",
            "Al      118\n",
            "Si      133\n",
            "K        65\n",
            "Ca      143\n",
            "Ba       34\n",
            "Fe       32\n",
            "Type      6\n",
            "dtype: int64\n",
            "\n",
            "Correlation matrix:\n",
            "            RI        Na        Mg        Al        Si         K        Ca  \\\n",
            "RI    1.000000 -0.191885 -0.122274 -0.407326 -0.542052 -0.289833  0.810403   \n",
            "Na   -0.191885  1.000000 -0.273732  0.156794 -0.069809 -0.266087 -0.275442   \n",
            "Mg   -0.122274 -0.273732  1.000000 -0.481799 -0.165927  0.005396 -0.443750   \n",
            "Al   -0.407326  0.156794 -0.481799  1.000000 -0.005524  0.325958 -0.259592   \n",
            "Si   -0.542052 -0.069809 -0.165927 -0.005524  1.000000 -0.193331 -0.208732   \n",
            "K    -0.289833 -0.266087  0.005396  0.325958 -0.193331  1.000000 -0.317836   \n",
            "Ca    0.810403 -0.275442 -0.443750 -0.259592 -0.208732 -0.317836  1.000000   \n",
            "Ba   -0.000386  0.326603 -0.492262  0.479404 -0.102151 -0.042618 -0.112841   \n",
            "Fe    0.143010 -0.241346  0.083060 -0.074402 -0.094201 -0.007719  0.124968   \n",
            "Type -0.168739  0.506424 -0.728160  0.591198  0.149691 -0.025835 -0.008998   \n",
            "\n",
            "            Ba        Fe      Type  \n",
            "RI   -0.000386  0.143010 -0.168739  \n",
            "Na    0.326603 -0.241346  0.506424  \n",
            "Mg   -0.492262  0.083060 -0.728160  \n",
            "Al    0.479404 -0.074402  0.591198  \n",
            "Si   -0.102151 -0.094201  0.149691  \n",
            "K    -0.042618 -0.007719 -0.025835  \n",
            "Ca   -0.112841  0.124968 -0.008998  \n",
            "Ba    1.000000 -0.058692  0.577676  \n",
            "Fe   -0.058692  1.000000 -0.183207  \n",
            "Type  0.577676 -0.183207  1.000000  \n"
          ]
        }
      ],
      "source": [
        "# Display summary statistics of the dataset\n",
        "print(\"\\nSummary statistics of the dataset:\")\n",
        "print(data.describe())\n",
        "\n",
        "# Display the structure (info) of the dataset\n",
        "print(\"\\nStructure of the dataset:\")\n",
        "print(data.info())\n",
        "\n",
        "# Display the number of missing values in each column\n",
        "print(\"\\nNumber of missing values in each column:\")\n",
        "print(data.isnull().sum())\n",
        "\n",
        "# Display the column names of the dataset\n",
        "print(\"\\nColumn names of the dataset:\")\n",
        "print(data.columns)\n",
        "\n",
        "# Display the data types of each column\n",
        "print(\"\\nData types of each column:\")\n",
        "print(data.dtypes)\n",
        "\n",
        "# Display the number of unique values in each column\n",
        "print(\"\\nNumber of unique values in each column:\")\n",
        "print(data.nunique())\n",
        "\n",
        "# Display the correlation matrix\n",
        "print(\"\\nCorrelation matrix:\")\n",
        "print(data.corr())"
      ]
    },
    {
      "cell_type": "code",
      "source": [
        "print(data.head(5))"
      ],
      "metadata": {
        "colab": {
          "base_uri": "https://localhost:8080/"
        },
        "id": "BttLPJP2qqPI",
        "outputId": "5c6bd22b-64b4-4da3-c222-42d6dd3cbc46"
      },
      "execution_count": null,
      "outputs": [
        {
          "output_type": "stream",
          "name": "stdout",
          "text": [
            "   x  x.1  x.2  x.3  o  o.1  x.4  o.2  o.3  positive\n",
            "0  1    1    1    1  0    0    0    1    0         1\n",
            "1  1    1    1    1  0    0    0    0    1         1\n",
            "2  1    1    1    1  0    0    0   -1   -1         1\n",
            "3  1    1    1    1  0    0   -1    0   -1         1\n",
            "4  1    1    1    1  0    0   -1   -1    0         1\n"
          ]
        }
      ]
    },
    {
      "cell_type": "markdown",
      "source": [
        "# Run picked baselines"
      ],
      "metadata": {
        "id": "WUWHiZNfLfIi"
      }
    },
    {
      "cell_type": "code",
      "execution_count": 16,
      "metadata": {
        "id": "WPo8Myp3hNsm"
      },
      "outputs": [],
      "source": [
        "\n",
        "y = data.iloc[:, -1]\n",
        "X = data.iloc[:, :-1]\n",
        "random_state =42\n",
        "X_train, X_test, y_train, y_test = train_test_split(X, y, test_size=0.2, random_state=random_state)\n",
        "\n",
        "\n",
        "# RandomForest\n",
        "def run_random_forest(X_trainrf, X_testrf, y_trainrf, y_testrf):\n",
        "    rf = RandomForestClassifier(random_state=random_state)\n",
        "    rf.fit(X_trainrf, y_trainrf)\n",
        "    y_predrf = rf.predict(X_testrf)\n",
        "    accuracyrf = accuracy_score(y_testrf, y_predrf)\n",
        "    precisionrf = precision_score(y_testrf, y_predrf, average='macro')\n",
        "    recallrf = recall_score(y_testrf, y_predrf, average='macro')\n",
        "    f1rf = f1_score(y_testrf, y_predrf, average='macro')\n",
        "    return accuracyrf, precisionrf, recallrf, f1rf\n",
        "\n",
        "# CART (Decision Tree)\n",
        "def run_cart(X_train, X_test, y_train, y_test):\n",
        "    cart = DecisionTreeClassifier(random_state=random_state)\n",
        "    cart.fit(X_train, y_train)\n",
        "    y_pred = cart.predict(X_test)\n",
        "    accuracy = accuracy_score(y_test, y_pred)\n",
        "    precision = precision_score(y_test, y_pred, average='macro')\n",
        "    recall = recall_score(y_test, y_pred, average='macro')\n",
        "    f1 = f1_score(y_test, y_pred, average='macro')\n",
        "    return accuracy, precision, recall, f1\n",
        "\n",
        "# C4.5\n",
        "def run_c45(X_trainca, X_testca, y_trainca, y_testca):\n",
        "    modelca = C45Classifier()\n",
        "    modelca.fit(X_trainca, y_trainca)\n",
        "    y_predca = modelca.predict(X_testca)\n",
        "    accuracyca = accuracy_score(y_testca, y_predca)\n",
        "    precisionca = precision_score(y_testca, y_predca, average='macro')\n",
        "    recallca = recall_score(y_testca, y_predca, average='macro')\n",
        "    f1ca = f1_score(y_testca, y_predca, average='macro')\n",
        "    return accuracyca, precisionca, recallca, f1ca\n",
        "\n"
      ]
    },
    {
      "cell_type": "markdown",
      "source": [
        "# Printing results"
      ],
      "metadata": {
        "id": "N-kuZP3dLiqG"
      }
    },
    {
      "cell_type": "code",
      "execution_count": 10,
      "metadata": {
        "colab": {
          "base_uri": "https://localhost:8080/"
        },
        "id": "zyEY89zhhNsm",
        "outputId": "8e5b767f-13cc-4bd8-982e-39f172d7d8e8"
      },
      "outputs": [
        {
          "output_type": "stream",
          "name": "stdout",
          "text": [
            "Random Forest accuracy: 0.8372093023255814\n",
            "Random Forest precision: 0.9127314814814816\n",
            "Random Forest recall: 0.8432539682539683\n",
            "Random Forest F1 score: 0.8605223570909845\n",
            "CART accuracy: 0.7209302325581395\n",
            "CART precision: 0.7232563732563732\n",
            "CART recall: 0.720959595959596\n",
            "CART F1 score: 0.6974183006535948\n",
            "C4.5 accuracy: 0.3488372093023256\n",
            "C4.5 precision: 0.26071428571428573\n",
            "C4.5 recall: 0.2573051948051948\n",
            "C4.5 F1 score: 0.21003898635477583\n"
          ]
        },
        {
          "output_type": "stream",
          "name": "stderr",
          "text": [
            "/usr/local/lib/python3.10/dist-packages/sklearn/metrics/_classification.py:1344: UndefinedMetricWarning: Precision is ill-defined and being set to 0.0 in labels with no predicted samples. Use `zero_division` parameter to control this behavior.\n",
            "  _warn_prf(average, modifier, msg_start, len(result))\n"
          ]
        }
      ],
      "source": [
        "rf_accuracy, rf_precision, rf_recall, rf_f1 = run_random_forest(X_train, X_test, y_train, y_test)\n",
        "print(f\"Random Forest accuracy: {rf_accuracy}\")\n",
        "print(f\"Random Forest precision: {rf_precision}\")\n",
        "print(f\"Random Forest recall: {rf_recall}\")\n",
        "print(f\"Random Forest F1 score: {rf_f1}\")\n",
        "\n",
        "cart_accuracy, cart_precision, cart_recall, cart_f1 = run_cart(X_train, X_test, y_train, y_test)\n",
        "print(f\"CART accuracy: {cart_accuracy}\")\n",
        "print(f\"CART precision: {cart_precision}\")\n",
        "print(f\"CART recall: {cart_recall}\")\n",
        "print(f\"CART F1 score: {cart_f1}\")\n",
        "\n",
        "c45_accuracy, c45_precision, c45_recall, c45_f1 = run_c45(X_train, X_test, y_train, y_test)\n",
        "print(f\"C4.5 accuracy: {c45_accuracy}\")\n",
        "print(f\"C4.5 precision: {c45_precision}\")\n",
        "print(f\"C4.5 recall: {c45_recall}\")\n",
        "print(f\"C4.5 F1 score: {c45_f1}\")"
      ]
    },
    {
      "cell_type": "markdown",
      "source": [
        "# Hypertuning (not used)"
      ],
      "metadata": {
        "id": "C1VCDIA8Llv9"
      }
    },
    {
      "cell_type": "code",
      "source": [
        "from sklearn.model_selection import GridSearchCV\n",
        "\n",
        "# RandomForest with GridSearchCV\n",
        "def run_random_forest_cv(X_train, y_train):\n",
        "    rf = RandomForestClassifier()\n",
        "    param_grid_rf = {\n",
        "        'n_estimators': [10,50,100],\n",
        "        'max_depth': [10, 20,30],\n",
        "        'min_samples_split': [2, 5, 10],\n",
        "        'min_samples_leaf': [1, 2, 4],\n",
        "        'max_features': ['sqrt', 'log2'],\n",
        "        'bootstrap': [True, False]\n",
        "    }\n",
        "    grid_search_rf = GridSearchCV(estimator=rf, param_grid=param_grid_rf, cv=5, n_jobs=-1, scoring='accuracy')\n",
        "    grid_search_rf.fit(X_train, y_train)\n",
        "    return grid_search_rf.best_estimator_, grid_search_rf.best_params_\n",
        "\n",
        "# CART with GridSearchCV\n",
        "def run_cart_cv(X_train, y_train):\n",
        "    cart = DecisionTreeClassifier()\n",
        "    param_grid_cart = {\n",
        "        'max_depth': [10, 20, 30],\n",
        "        'min_samples_split': [2, 5, 10],\n",
        "        'min_samples_leaf': [1, 2, 4],\n",
        "        'max_features': ['sqrt', 'log2'],\n",
        "        'criterion': ['gini', 'entropy']\n",
        "    }\n",
        "    grid_search_cart = GridSearchCV(estimator=cart, param_grid=param_grid_cart, cv=5, n_jobs=-1, scoring='accuracy')\n",
        "    grid_search_cart.fit(X_train, y_train)\n",
        "    return grid_search_cart.best_estimator_, grid_search_cart.best_params_\n",
        "\n",
        "# Main execution code\n",
        "y = data.iloc[:, -1]\n",
        "X = data.iloc[:, :-1]\n",
        "X_train, X_test, y_train, y_test = train_test_split(X, y, test_size=0.2, random_state=42)\n",
        "\n",
        "# Random Forest\n",
        "best_rf, best_rf_params = run_random_forest_cv(X_train, y_train)\n",
        "rf_accuracy, rf_precision, rf_recall, rf_f1 = evaluate_model_cv(best_rf, X, y)\n",
        "print(f\"Random Forest best parameters: {best_rf_params}\")\n",
        "print(f\"Random Forest accuracy: {rf_accuracy}\")\n",
        "print(f\"Random Forest precision: {rf_precision}\")\n",
        "print(f\"Random Forest recall: {rf_recall}\")\n",
        "print(f\"Random Forest F1 score: {rf_f1}\")\n",
        "\n",
        "# CART\n",
        "best_cart, best_cart_params = run_cart_cv(X_train, y_train)\n",
        "cart_accuracy, cart_precision, cart_recall, cart_f1 = evaluate_model_cv(best_cart, X, y)\n",
        "print(f\"CART best parameters: {best_cart_params}\")\n",
        "print(f\"CART accuracy: {cart_accuracy}\")\n",
        "print(f\"CART precision: {cart_precision}\")\n",
        "print(f\"CART recall: {cart_recall}\")\n",
        "print(f\"CART F1 score: {cart_f1}\")\n",
        "\n"
      ],
      "metadata": {
        "colab": {
          "base_uri": "https://localhost:8080/"
        },
        "id": "Yi0Wkergbz3G",
        "outputId": "01f7d999-a95a-4f4a-f8ce-21db35de1a21"
      },
      "execution_count": null,
      "outputs": [
        {
          "output_type": "stream",
          "name": "stderr",
          "text": [
            "/usr/local/lib/python3.10/dist-packages/sklearn/metrics/_classification.py:1344: UndefinedMetricWarning: Precision is ill-defined and being set to 0.0 in labels with no predicted samples. Use `zero_division` parameter to control this behavior.\n",
            "  _warn_prf(average, modifier, msg_start, len(result))\n"
          ]
        },
        {
          "output_type": "stream",
          "name": "stdout",
          "text": [
            "Random Forest best parameters: {'bootstrap': True, 'max_depth': 20, 'max_features': 'sqrt', 'min_samples_leaf': 1, 'min_samples_split': 2, 'n_estimators': 50}\n",
            "Random Forest accuracy: 0.6918050941306755\n",
            "Random Forest precision: 0.7370695520223384\n",
            "Random Forest recall: 0.646984126984127\n",
            "Random Forest F1 score: 0.6677360036636888\n",
            "CART best parameters: {'criterion': 'gini', 'max_depth': 10, 'max_features': 'sqrt', 'min_samples_leaf': 4, 'min_samples_split': 5}\n",
            "CART accuracy: 0.5984496124031008\n",
            "CART precision: 0.5688765795989739\n",
            "CART recall: 0.5793253968253967\n",
            "CART F1 score: 0.4835576144356632\n"
          ]
        },
        {
          "output_type": "stream",
          "name": "stderr",
          "text": [
            "/usr/local/lib/python3.10/dist-packages/sklearn/metrics/_classification.py:1344: UndefinedMetricWarning: Precision is ill-defined and being set to 0.0 in labels with no predicted samples. Use `zero_division` parameter to control this behavior.\n",
            "  _warn_prf(average, modifier, msg_start, len(result))\n"
          ]
        }
      ]
    },
    {
      "cell_type": "markdown",
      "source": [
        "# AUC ROC Curve"
      ],
      "metadata": {
        "id": "5eqWjlJOLpjs"
      }
    },
    {
      "cell_type": "code",
      "execution_count": 14,
      "metadata": {
        "id": "Bk7AJ_wuhNsp",
        "colab": {
          "base_uri": "https://localhost:8080/"
        },
        "outputId": "9ef3e015-7837-40a6-b4a9-aec3773ea784"
      },
      "outputs": [
        {
          "output_type": "stream",
          "name": "stdout",
          "text": [
            "Class 0 AUC-ROC Curve Score: 0.94\n",
            "Class 1 AUC-ROC Curve Score: 0.94\n"
          ]
        }
      ],
      "source": [
        "data = pd.read_csv(\"/content/modified_cell_samples.csv\")\n",
        "X = data.iloc[:, :-1]\n",
        "y = data.iloc[:, -1]\n",
        "\n",
        "X_train, X_test, y_train, y_test = train_test_split(X, y, test_size=0.3, random_state=42)\n",
        "\n",
        "# Initialize the Decision Tree (CART) classifier\n",
        "clf = DecisionTreeClassifier()\n",
        "\n",
        "# Fit the model on the training data\n",
        "clf.fit(X_train, y_train)\n",
        "\n",
        "y_proba = clf.predict_proba(X_test)\n",
        "\n",
        "# For multiclass classification, use the one-vs-rest approach\n",
        "# Compute the AUC-ROC curve score\n",
        "auc_roc_scores = []\n",
        "for i in range(y_proba.shape[1]):\n",
        "    auc_score = roc_auc_score(y_test == i, y_proba[:, i])\n",
        "    auc_roc_scores.append((i, auc_score))\n",
        "\n",
        "# Print the AUC-ROC score for each class\n",
        "for class_idx, score in auc_roc_scores:\n",
        "    print(f'Class {class_idx} AUC-ROC Curve Score: {score:.2f}')"
      ]
    }
  ],
  "metadata": {
    "kernelspec": {
      "display_name": "Python 3",
      "language": "python",
      "name": "python3"
    },
    "language_info": {
      "codemirror_mode": {
        "name": "ipython",
        "version": 3
      },
      "file_extension": ".py",
      "mimetype": "text/x-python",
      "name": "python",
      "nbconvert_exporter": "python",
      "pygments_lexer": "ipython3",
      "version": "3.10.14"
    },
    "orig_nbformat": 4,
    "colab": {
      "provenance": []
    }
  },
  "nbformat": 4,
  "nbformat_minor": 0
}