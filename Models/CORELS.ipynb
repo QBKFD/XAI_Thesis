{
  "nbformat": 4,
  "nbformat_minor": 0,
  "metadata": {
    "colab": {
      "provenance": []
    },
    "kernelspec": {
      "name": "python3",
      "display_name": "Python 3"
    },
    "language_info": {
      "name": "python"
    }
  },
  "cells": [
    {
      "cell_type": "markdown",
      "source": [
        "# Import packages\n"
      ],
      "metadata": {
        "id": "J67O-1OuHd_i"
      }
    },
    {
      "cell_type": "code",
      "execution_count": 1,
      "metadata": {
        "colab": {
          "base_uri": "https://localhost:8080/"
        },
        "id": "9eeLkiJv8sgc",
        "outputId": "affecc7d-030d-48af-eeff-591dffd8d267"
      },
      "outputs": [
        {
          "output_type": "stream",
          "name": "stdout",
          "text": [
            "Collecting corels\n",
            "  Downloading corels-1.1.29.tar.gz (105 kB)\n",
            "\u001b[?25l     \u001b[90m━━━━━━━━━━━━━━━━━━━━━━━━━━━━━━━━━━━━━━━━\u001b[0m \u001b[32m0.0/105.8 kB\u001b[0m \u001b[31m?\u001b[0m eta \u001b[36m-:--:--\u001b[0m\r\u001b[2K     \u001b[91m━━━━━━━━━━━━━━━━━━━━━━━━━━━━━━━━━━━━━━\u001b[0m\u001b[91m╸\u001b[0m\u001b[90m━\u001b[0m \u001b[32m102.4/105.8 kB\u001b[0m \u001b[31m3.5 MB/s\u001b[0m eta \u001b[36m0:00:01\u001b[0m\r\u001b[2K     \u001b[90m━━━━━━━━━━━━━━━━━━━━━━━━━━━━━━━━━━━━━━━━\u001b[0m \u001b[32m105.8/105.8 kB\u001b[0m \u001b[31m2.6 MB/s\u001b[0m eta \u001b[36m0:00:00\u001b[0m\n",
            "\u001b[?25h  Preparing metadata (setup.py) ... \u001b[?25l\u001b[?25hdone\n",
            "Requirement already satisfied: numpy in /usr/local/lib/python3.10/dist-packages (from corels) (1.25.2)\n",
            "Building wheels for collected packages: corels\n",
            "  Building wheel for corels (setup.py) ... \u001b[?25l\u001b[?25hdone\n",
            "  Created wheel for corels: filename=corels-1.1.29-cp310-cp310-linux_x86_64.whl size=882059 sha256=156fca8ece8d91a948101a7de65b98682db03d49a9e481777262d2f1e6c99b14\n",
            "  Stored in directory: /root/.cache/pip/wheels/06/49/a4/1df2ba8a89393279c62caf239b65a8e4143a58883ad3fe1cb3\n",
            "Successfully built corels\n",
            "Installing collected packages: corels\n",
            "Successfully installed corels-1.1.29\n"
          ]
        }
      ],
      "source": [
        "pip install corels"
      ]
    },
    {
      "cell_type": "code",
      "source": [
        "from corels import *\n",
        "import numpy as np\n",
        "import pandas as pd\n",
        "from sklearn.model_selection import train_test_split\n",
        "from corels import CorelsClassifier\n",
        "from sklearn.metrics import accuracy_score, f1_score, precision_score, recall_score\n"
      ],
      "metadata": {
        "id": "7NGbQSK_-ZfW"
      },
      "execution_count": 18,
      "outputs": []
    },
    {
      "cell_type": "code",
      "source": [
        "np.bool=bool\n"
      ],
      "metadata": {
        "id": "kOTXjlYHHm10"
      },
      "execution_count": 6,
      "outputs": []
    },
    {
      "cell_type": "markdown",
      "source": [
        "# Implement the algorithm"
      ],
      "metadata": {
        "id": "JwOJELqnHiYg"
      }
    },
    {
      "cell_type": "code",
      "source": [
        "data = pd.read_csv(\"/content/titanic_binarized - titanic_binarized.csv.csv\")\n",
        "data.fillna(0, inplace=True)\n",
        "target = data['Died']\n",
        "feature_names = ['Passenger_Cat_2nd_class', 'Passenger_Cat_3rd_class', 'Passenger_Cat_crew', 'Age_Cat_child', 'Gender_male']\n",
        "\n",
        "X = pd.DataFrame(data, columns=feature_names)\n",
        "y = target\n",
        "\n",
        "X_train, X_test, y_train, y_test = train_test_split(X, y, test_size=0.2)\n",
        "\n",
        "# Define classifiers\n",
        "C_Survived = CorelsClassifier(verbosity=['rulelist'])\n",
        "C_Died = CorelsClassifier(verbosity=['rulelist'])\n",
        "\n",
        "# Train and score classifiers\n",
        "C_Survived.fit(X_train, y_train == 0, features=feature_names, prediction_name=\"Survived\")\n",
        "s_Survived = C_Survived.score(X_test, y_test == 0)\n",
        "\n",
        "C_Died.fit(X_train, y_train == 1, features=feature_names, prediction_name=\"Died\")\n",
        "s_Died = C_Died.score(X_test, y_test == 1)\n",
        "\n",
        "print(\"Negative (Survived)\")\n",
        "print(C_Survived.rl())\n",
        "print(\"Survived score = \" + str(s_Survived))\n",
        "\n",
        "print(\"Positive (Died)\")\n",
        "print(C_Died.rl())\n",
        "print(\"Amount of deaths = \" + str(s_Died))\n",
        "\n",
        "# General classifier and metric calculations\n",
        "C = CorelsClassifier(verbosity=['rulelist'])\n",
        "\n",
        "# Fit the classifier\n",
        "C.fit(X_train, y_train, features=feature_names, prediction_name=\"Died\")\n",
        "\n",
        "# Make predictions\n",
        "y_pred = C.predict(X_test)\n",
        "\n",
        "# Calculate metrics\n",
        "accuracy = accuracy_score(y_test, y_pred)\n",
        "f1 = f1_score(y_test, y_pred)\n",
        "precision = precision_score(y_test, y_pred)\n",
        "recall = recall_score(y_test, y_pred)\n",
        "\n",
        "# Print results\n",
        "print(\"RULE LIST:\")\n",
        "print(C.rl())\n",
        "print(\"Accuracy:\", accuracy)\n",
        "print(\"F1 Score:\", f1)\n",
        "print(\"Precision:\", precision)\n",
        "print(\"Recall:\", recall)\n"
      ],
      "metadata": {
        "colab": {
          "base_uri": "https://localhost:8080/"
        },
        "id": "Zw-iEV02jM7g",
        "outputId": "c8ae388b-7516-4a01-93bd-b0434eef6e0b"
      },
      "execution_count": 20,
      "outputs": [
        {
          "output_type": "stream",
          "name": "stdout",
          "text": [
            "RULELIST:\n",
            "if [not Passenger_Cat_3rd_class && not Gender_male]:\n",
            "  Survived = True\n",
            "else \n",
            "  Survived = False\n",
            "RULELIST:\n",
            "if [not Passenger_Cat_3rd_class && not Gender_male]:\n",
            "  Died = False\n",
            "else \n",
            "  Died = True\n",
            "Negative (Survived)\n",
            "RULELIST:\n",
            "if [not Passenger_Cat_3rd_class && not Gender_male]:\n",
            "  Survived = True\n",
            "else \n",
            "  Survived = False\n",
            "Survived score = 0.773371104815864\n",
            "Positive (Died)\n",
            "RULELIST:\n",
            "if [not Passenger_Cat_3rd_class && not Gender_male]:\n",
            "  Died = False\n",
            "else \n",
            "  Died = True\n",
            "Amount of deaths = 0.773371104815864\n",
            "RULELIST:\n",
            "if [not Passenger_Cat_3rd_class && not Gender_male]:\n",
            "  Died = False\n",
            "else \n",
            "  Died = True\n",
            "RULE LIST:\n",
            "RULELIST:\n",
            "if [not Passenger_Cat_3rd_class && not Gender_male]:\n",
            "  Died = False\n",
            "else \n",
            "  Died = True\n",
            "Accuracy: 0.773371104815864\n",
            "F1 Score: 0.8484848484848485\n",
            "Precision: 0.7466666666666667\n",
            "Recall: 0.9824561403508771\n"
          ]
        }
      ]
    },
    {
      "cell_type": "code",
      "source": [
        "data = pd.read_csv(\"/content/tictactoe_binarized.csv\")\n",
        "target = data['positive_0']\n",
        "feature_names=['x_0', 'x_1', 'x_2', 'x.1_0', 'x.1_1', 'x.1_2', 'x.2_0', 'x.2_1',\n",
        "       'x.2_2', 'x.3_0', 'x.3_1', 'x.3_2', 'o_0', 'o_1', 'o_2', 'o.1_0',\n",
        "       'o.1_1', 'o.1_2', 'x.4_0', 'x.4_1', 'x.4_2', 'o.2_0', 'o.2_1', 'o.2_2',\n",
        "       'o.3_0', 'o.3_1', 'o.3_2']\n",
        "\n",
        "\n",
        "X, y = pd.DataFrame(data, columns=feature_names), target\n",
        "\n",
        "X_train, X_test, y_train, y_test = train_test_split(X, y, test_size=0.2)\n",
        "\n",
        "C_Setosa = CorelsClassifier(verbosity=['rulelist'])\n",
        "C_Versicolour = CorelsClassifier(verbosity=['rulelist'])\n",
        "\n",
        "C_Setosa.fit(X_train, y_train == 1, features=feature_names, prediction_name=\"Negative\")\n",
        "s_Setosa = C_Setosa.score(X_test, y_test == 0)\n",
        "\n",
        "C_Versicolour.fit(X_train, y_train == 1, features=feature_names, prediction_name=\"Positive\")\n",
        "s_Versicolour = C_Versicolour.score(X_test, y_test == 1)\n",
        "\n",
        "print(\"Negative\")\n",
        "print(C_Setosa.rl())\n",
        "print(\"Negative score = \" + str(s_Setosa))\n",
        "\n",
        "print(\"Positive\")\n",
        "print(C_Versicolour.rl())\n",
        "print(\"Positive score= \" + str(s_Versicolour))\n",
        "from sklearn.metrics import accuracy_score, f1_score, precision_score, recall_score\n",
        "C = CorelsClassifier(verbosity=['rulelist'])\n",
        "\n",
        "# Fit the classifier\n",
        "C.fit(X_train, y_train, features=feature_names, prediction_name=\"Class\")\n",
        "\n",
        "# Make predictions\n",
        "y_pred = C.predict(X_test)\n",
        "\n",
        "# Calculate metrics\n",
        "accuracy = accuracy_score(y_test, y_pred)\n",
        "f1 = f1_score(y_test, y_pred)\n",
        "precision = precision_score(y_test, y_pred)\n",
        "recall = recall_score(y_test, y_pred)\n",
        "\n",
        "# Print results\n",
        "print(\"RULE LIST:\")\n",
        "print(C.rl())\n",
        "print(\"Accuracy:\", accuracy)\n",
        "print(\"F1 Score:\", f1)\n",
        "print(\"Precision:\", precision)\n",
        "print(\"Recall:\", recall)"
      ],
      "metadata": {
        "colab": {
          "base_uri": "https://localhost:8080/"
        },
        "id": "h89-TZ99E7H0",
        "outputId": "61dc2000-f244-4755-aa6b-32888afc0c52"
      },
      "execution_count": 15,
      "outputs": [
        {
          "output_type": "stream",
          "name": "stdout",
          "text": [
            "RULELIST:\n",
            "if [o_1 && not x_2]:\n",
            "  Negative = False\n",
            "else \n",
            "  Negative = True\n",
            "RULELIST:\n",
            "if [o_1 && not x_2]:\n",
            "  Positive = False\n",
            "else \n",
            "  Positive = True\n",
            "Negative\n",
            "RULELIST:\n",
            "if [o_1 && not x_2]:\n",
            "  Negative = False\n",
            "else \n",
            "  Negative = True\n",
            "Negative score = 0.296875\n",
            "Positive\n",
            "RULELIST:\n",
            "if [o_1 && not x_2]:\n",
            "  Positive = False\n",
            "else \n",
            "  Positive = True\n",
            "Positive score= 0.703125\n",
            "RULELIST:\n",
            "if [o_1 && not x_2]:\n",
            "  Class = False\n",
            "else \n",
            "  Class = True\n",
            "RULE LIST:\n",
            "RULELIST:\n",
            "if [o_1 && not x_2]:\n",
            "  Class = False\n",
            "else \n",
            "  Class = True\n",
            "Accuracy: 0.703125\n",
            "F1 Score: 0.7942238267148015\n",
            "Precision: 0.7142857142857143\n",
            "Recall: 0.8943089430894309\n"
          ]
        }
      ]
    },
    {
      "cell_type": "code",
      "source": [
        "data = pd.read_csv(\"/content/binarized_cell_samples.csv\")\n",
        "target = data['Class']\n",
        "feature_names = ['Clump', 'UnifSize', 'UnifShape', 'MargAdh', 'SingEpiSize', 'BareNuc', 'BlandChrom', 'NormNucl', 'Mit']\n",
        "\n",
        "X = pd.DataFrame(data, columns=feature_names)\n",
        "y = target\n",
        "\n",
        "X_train, X_test, y_train, y_test = train_test_split(X, y, test_size=0.2)\n",
        "\n",
        "# Define classifiers\n",
        "C_Malignant = CorelsClassifier(verbosity=['rulelist'])\n",
        "C_Benign = CorelsClassifier(verbosity=['rulelist'])\n",
        "\n",
        "# Train and score classifiers\n",
        "C_Malignant.fit(X_train, y_train == 1, features=feature_names, prediction_name=\"Malignant\")\n",
        "s_Malignant = C_Malignant.score(X_test, y_test == 0)\n",
        "\n",
        "C_Benign.fit(X_train, y_train == 0, features=feature_names, prediction_name=\"Benign\")\n",
        "s_Benign = C_Benign.score(X_test, y_test == 1)\n",
        "\n",
        "print(\"Malignant\")\n",
        "print(C_Malignant.rl())\n",
        "print(\"Malignant diagnose = \" + str(s_Malignant))\n",
        "\n",
        "print(\"Benign\")\n",
        "print(C_Benign.rl())\n",
        "print(\"Benign diagnose = \" + str(s_Benign))\n",
        "\n",
        "# General classifier and metric calculations\n",
        "C = CorelsClassifier(verbosity=['rulelist'])\n",
        "\n",
        "# Fit the classifier\n",
        "C.fit(X_train, y_train, features=feature_names, prediction_name=\"Class\")\n",
        "\n",
        "# Make predictions\n",
        "y_pred = C.predict(X_test)\n",
        "\n",
        "# Calculate metrics\n",
        "accuracy = accuracy_score(y_test, y_pred)\n",
        "f1 = f1_score(y_test, y_pred)\n",
        "precision = precision_score(y_test, y_pred)\n",
        "recall = recall_score(y_test, y_pred)\n",
        "\n",
        "# Print results\n",
        "print(\"RULE LIST:\")\n",
        "print(C.rl())\n",
        "print(\"Accuracy:\", accuracy)\n",
        "print(\"F1 Score:\", f1)\n",
        "print(\"Precision:\", precision)\n",
        "print(\"Recall:\", recall)\n"
      ],
      "metadata": {
        "colab": {
          "base_uri": "https://localhost:8080/"
        },
        "id": "_QZ3_SVoXBcs",
        "outputId": "a722e497-b938-4ccc-9871-df3b1604fd24"
      },
      "execution_count": 22,
      "outputs": [
        {
          "output_type": "stream",
          "name": "stdout",
          "text": [
            "RULELIST:\n",
            "if [SingEpiSize && BlandChrom]:\n",
            "  Malignant = True\n",
            "else if [Clump && BareNuc]:\n",
            "  Malignant = True\n",
            "else \n",
            "  Malignant = False\n",
            "RULELIST:\n",
            "if [SingEpiSize && BlandChrom]:\n",
            "  Benign = False\n",
            "else if [Clump && BareNuc]:\n",
            "  Benign = False\n",
            "else \n",
            "  Benign = True\n",
            "Malignant\n",
            "RULELIST:\n",
            "if [SingEpiSize && BlandChrom]:\n",
            "  Malignant = True\n",
            "else if [Clump && BareNuc]:\n",
            "  Malignant = True\n",
            "else \n",
            "  Malignant = False\n",
            "Malignant diagnose = 0.06428571428571428\n",
            "Benign\n",
            "RULELIST:\n",
            "if [SingEpiSize && BlandChrom]:\n",
            "  Benign = False\n",
            "else if [Clump && BareNuc]:\n",
            "  Benign = False\n",
            "else \n",
            "  Benign = True\n",
            "Benign diagnose = 0.06428571428571428\n",
            "RULELIST:\n",
            "if [SingEpiSize && BlandChrom]:\n",
            "  Class = True\n",
            "else if [Clump && BareNuc]:\n",
            "  Class = True\n",
            "else \n",
            "  Class = False\n",
            "RULE LIST:\n",
            "RULELIST:\n",
            "if [SingEpiSize && BlandChrom]:\n",
            "  Class = True\n",
            "else if [Clump && BareNuc]:\n",
            "  Class = True\n",
            "else \n",
            "  Class = False\n",
            "Accuracy: 0.9357142857142857\n",
            "F1 Score: 0.9010989010989012\n",
            "Precision: 0.8367346938775511\n",
            "Recall: 0.9761904761904762\n"
          ]
        }
      ]
    }
  ]
}