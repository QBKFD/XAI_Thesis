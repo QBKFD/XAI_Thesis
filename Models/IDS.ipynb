{
  "cells": [
    {
      "cell_type": "markdown",
      "metadata": {
        "id": "EXXUQN5wKUSX"
      },
      "source": [
        "# IDS Demonstration"
      ]
    },
    {
      "cell_type": "markdown",
      "metadata": {
        "id": "TcNgsPPyKUSY"
      },
      "source": [
        "## Importing required libraries"
      ]
    },
    {
      "cell_type": "code",
      "source": [
        "!git clone https://github.com/jirifilip/pyIDS.git\n"
      ],
      "metadata": {
        "colab": {
          "base_uri": "https://localhost:8080/"
        },
        "id": "hXYWtJI7KXQt",
        "outputId": "4ab96eb8-0450-48cb-f87d-736d7da6a996"
      },
      "execution_count": 1,
      "outputs": [
        {
          "output_type": "stream",
          "name": "stdout",
          "text": [
            "Cloning into 'pyIDS'...\n",
            "remote: Enumerating objects: 1023, done.\u001b[K\n",
            "remote: Counting objects: 100% (520/520), done.\u001b[K\n",
            "remote: Compressing objects: 100% (357/357), done.\u001b[K\n",
            "remote: Total 1023 (delta 259), reused 389 (delta 150), pack-reused 503\u001b[K\n",
            "Receiving objects: 100% (1023/1023), 3.21 MiB | 14.25 MiB/s, done.\n",
            "Resolving deltas: 100% (533/533), done.\n"
          ]
        }
      ]
    },
    {
      "cell_type": "code",
      "source": [
        "%cd pyIDS\n"
      ],
      "metadata": {
        "colab": {
          "base_uri": "https://localhost:8080/"
        },
        "id": "XTiBUyeqKYhs",
        "outputId": "f9baa8e9-d4c1-41a4-cfd4-49998c28be97"
      },
      "execution_count": 2,
      "outputs": [
        {
          "output_type": "stream",
          "name": "stdout",
          "text": [
            "/content/pyIDS\n"
          ]
        }
      ]
    },
    {
      "cell_type": "code",
      "source": [
        "pip install pandas==1.5.3"
      ],
      "metadata": {
        "colab": {
          "base_uri": "https://localhost:8080/"
        },
        "id": "WTGyIp1WKZqE",
        "outputId": "d366661b-1852-48e4-8854-a0e39f723533"
      },
      "execution_count": 3,
      "outputs": [
        {
          "output_type": "stream",
          "name": "stdout",
          "text": [
            "Collecting pandas==1.5.3\n",
            "  Downloading pandas-1.5.3-cp310-cp310-manylinux_2_17_x86_64.manylinux2014_x86_64.whl (12.1 MB)\n",
            "\u001b[2K     \u001b[90m━━━━━━━━━━━━━━━━━━━━━━━━━━━━━━━━━━━━━━━━\u001b[0m \u001b[32m12.1/12.1 MB\u001b[0m \u001b[31m20.4 MB/s\u001b[0m eta \u001b[36m0:00:00\u001b[0m\n",
            "\u001b[?25hRequirement already satisfied: python-dateutil>=2.8.1 in /usr/local/lib/python3.10/dist-packages (from pandas==1.5.3) (2.8.2)\n",
            "Requirement already satisfied: pytz>=2020.1 in /usr/local/lib/python3.10/dist-packages (from pandas==1.5.3) (2023.4)\n",
            "Requirement already satisfied: numpy>=1.21.0 in /usr/local/lib/python3.10/dist-packages (from pandas==1.5.3) (1.25.2)\n",
            "Requirement already satisfied: six>=1.5 in /usr/local/lib/python3.10/dist-packages (from python-dateutil>=2.8.1->pandas==1.5.3) (1.16.0)\n",
            "Installing collected packages: pandas\n",
            "  Attempting uninstall: pandas\n",
            "    Found existing installation: pandas 2.0.3\n",
            "    Uninstalling pandas-2.0.3:\n",
            "      Successfully uninstalled pandas-2.0.3\n",
            "\u001b[31mERROR: pip's dependency resolver does not currently take into account all the packages that are installed. This behaviour is the source of the following dependency conflicts.\n",
            "cudf-cu12 24.4.1 requires pandas<2.2.2dev0,>=2.0, but you have pandas 1.5.3 which is incompatible.\n",
            "google-colab 1.0.0 requires pandas==2.0.3, but you have pandas 1.5.3 which is incompatible.\u001b[0m\u001b[31m\n",
            "\u001b[0mSuccessfully installed pandas-1.5.3\n"
          ]
        }
      ]
    },
    {
      "cell_type": "code",
      "source": [
        "pip install pyarc --no-deps\n"
      ],
      "metadata": {
        "colab": {
          "base_uri": "https://localhost:8080/"
        },
        "id": "BC_zugVXKa2Y",
        "outputId": "c2bad6e2-ddde-46da-ffa0-a25445509fd4"
      },
      "execution_count": 4,
      "outputs": [
        {
          "output_type": "stream",
          "name": "stdout",
          "text": [
            "Collecting pyarc\n",
            "  Downloading pyarc-1.1.4-py2.py3-none-any.whl (36 kB)\n",
            "Installing collected packages: pyarc\n",
            "Successfully installed pyarc-1.1.4\n"
          ]
        }
      ]
    },
    {
      "cell_type": "code",
      "source": [
        "pip install pyfim --no-deps\n"
      ],
      "metadata": {
        "colab": {
          "base_uri": "https://localhost:8080/"
        },
        "id": "tAJAakKtKb-Q",
        "outputId": "18400d26-5ee9-47e4-fefb-74a612d367bd"
      },
      "execution_count": 5,
      "outputs": [
        {
          "output_type": "stream",
          "name": "stdout",
          "text": [
            "Collecting pyfim\n",
            "  Downloading pyfim-6.28.tar.gz (357 kB)\n",
            "\u001b[2K     \u001b[90m━━━━━━━━━━━━━━━━━━━━━━━━━━━━━━━━━━━━━━━━\u001b[0m \u001b[32m357.3/357.3 kB\u001b[0m \u001b[31m3.5 MB/s\u001b[0m eta \u001b[36m0:00:00\u001b[0m\n",
            "\u001b[?25h  Preparing metadata (setup.py) ... \u001b[?25l\u001b[?25hdone\n",
            "Building wheels for collected packages: pyfim\n",
            "  Building wheel for pyfim (setup.py) ... \u001b[?25l\u001b[?25hdone\n",
            "  Created wheel for pyfim: filename=pyfim-6.28-cp310-cp310-linux_x86_64.whl size=644238 sha256=eafe89c934446156276cdaebd44c260d7c90c72a9df55af98dde14a6f9c43cec\n",
            "  Stored in directory: /root/.cache/pip/wheels/96/0a/b3/c877bfa85c4cfe1baf3de4a89e1949382be09de5eabe49314f\n",
            "Successfully built pyfim\n",
            "Installing collected packages: pyfim\n",
            "Successfully installed pyfim-6.28\n"
          ]
        }
      ]
    },
    {
      "cell_type": "code",
      "source": [
        "from google.colab import drive\n",
        "drive.mount('/content/drive')"
      ],
      "metadata": {
        "colab": {
          "base_uri": "https://localhost:8080/"
        },
        "id": "1P9VG8p2Kd20",
        "outputId": "3ad4e74d-fe5e-4a3e-9164-85aa77bad0c9"
      },
      "execution_count": 6,
      "outputs": [
        {
          "output_type": "stream",
          "name": "stdout",
          "text": [
            "Mounted at /content/drive\n"
          ]
        }
      ]
    },
    {
      "cell_type": "code",
      "execution_count": 7,
      "metadata": {
        "id": "dgz-K3a3KUSY"
      },
      "outputs": [],
      "source": [
        "import pandas as pd\n",
        "import pyarc\n",
        "from pyids import IDS\n",
        "from pyids.algorithms.ids_classifier import mine_CARs\n",
        "from pyarc.qcba.data_structures import QuantitativeDataFrame\n",
        "from pyids.model_selection.coordinate_ascent import CoordinateAscent\n"
      ]
    },
    {
      "cell_type": "code",
      "source": [
        "from sklearn.model_selection import train_test_split\n",
        "data = pd.read_csv(\"/content/transformed_cell_samples1.csv\")\n",
        "data_train, data_test = train_test_split(data, test_size=0.2, random_state=42)\n"
      ],
      "metadata": {
        "id": "VUDAvbVsqFjw"
      },
      "execution_count": 8,
      "outputs": []
    },
    {
      "cell_type": "code",
      "source": [
        "quant_dataframe_train = QuantitativeDataFrame(data_train)\n",
        "quant_dataframe_test = QuantitativeDataFrame(data_test)"
      ],
      "metadata": {
        "id": "Vz2KVP5AqLNi"
      },
      "execution_count": 9,
      "outputs": []
    },
    {
      "cell_type": "code",
      "source": [
        "cars = mine_CARs(data_train, 50, sample=False)"
      ],
      "metadata": {
        "id": "wuxwI-05qcyk"
      },
      "execution_count": 10,
      "outputs": []
    },
    {
      "cell_type": "code",
      "source": [
        "from pyids.rule_mining import RuleMiner\n",
        "rm = RuleMiner()\n",
        "rules = rm.mine_rules(data_train)"
      ],
      "metadata": {
        "colab": {
          "base_uri": "https://localhost:8080/"
        },
        "id": "feKBHEjBqQaW",
        "outputId": "f6f6ac50-8b7d-4d83-d00d-9b0435c18b8c"
      },
      "execution_count": 11,
      "outputs": [
        {
          "output_type": "stream",
          "name": "stdout",
          "text": [
            "[CAR {Mitoses=-inf_to_1.5} => {Class=benign} sup: 0.83 conf: 0.00 len: 2, id: 4653, CAR {Mitoses=-inf_to_1.5} => {Class=malignant} sup: 0.83 conf: 0.00 len: 2, id: 4654, CAR {Normal_Nucleoli=-inf_to_2.5} => {Class=benign} sup: 0.69 conf: 0.00 len: 2, id: 4649, CAR {Normal_Nucleoli=-inf_to_2.5} => {Class=malignant} sup: 0.69 conf: 0.00 len: 2, id: 4650, CAR {Mitoses=-inf_to_1.5,Normal_Nucleoli=-inf_to_2.5} => {Class=benign} sup: 0.66 conf: 0.00 len: 3, id: 4651, CAR {Mitoses=-inf_to_1.5,Normal_Nucleoli=-inf_to_2.5} => {Class=malignant} sup: 0.66 conf: 0.00 len: 3, id: 4652, CAR {Single_Epi_Cell_Size=-inf_to_2.5} => {Class=benign} sup: 0.62 conf: 0.00 len: 2, id: 4641, CAR {Single_Epi_Cell_Size=-inf_to_2.5} => {Class=malignant} sup: 0.62 conf: 0.00 len: 2, id: 4642, CAR {Mitoses=-inf_to_1.5,Single_Epi_Cell_Size=-inf_to_2.5} => {Class=benign} sup: 0.60 conf: 0.00 len: 3, id: 4647, CAR {Mitoses=-inf_to_1.5,Single_Epi_Cell_Size=-inf_to_2.5} => {Class=malignant} sup: 0.60 conf: 0.00 len: 3, id: 4648, CAR {Bare_Nuclei=-inf_to_1.5} => {Class=benign} sup: 0.59 conf: 0.00 len: 2, id: 4625, CAR {Bare_Nuclei=-inf_to_1.5} => {Class=malignant} sup: 0.59 conf: 0.00 len: 2, id: 4626, CAR {Normal_Nucleoli=-inf_to_2.5,Single_Epi_Cell_Size=-inf_to_2.5} => {Class=benign} sup: 0.58 conf: 0.00 len: 3, id: 4643, CAR {Normal_Nucleoli=-inf_to_2.5,Single_Epi_Cell_Size=-inf_to_2.5} => {Class=malignant} sup: 0.58 conf: 0.00 len: 3, id: 4644, CAR {Marginal_Adhesion=-inf_to_1.5} => {Class=benign} sup: 0.58 conf: 0.00 len: 2, id: 4593, CAR {Marginal_Adhesion=-inf_to_1.5} => {Class=malignant} sup: 0.58 conf: 0.00 len: 2, id: 4594, CAR {Mitoses=-inf_to_1.5,Bare_Nuclei=-inf_to_1.5} => {Class=benign} sup: 0.58 conf: 0.00 len: 3, id: 4639, CAR {Mitoses=-inf_to_1.5,Bare_Nuclei=-inf_to_1.5} => {Class=malignant} sup: 0.58 conf: 0.00 len: 3, id: 4640, CAR {Mitoses=-inf_to_1.5,Normal_Nucleoli=-inf_to_2.5,Single_Epi_Cell_Size=-inf_to_2.5} => {Class=benign} sup: 0.57 conf: 0.00 len: 4, id: 4645, CAR {Mitoses=-inf_to_1.5,Normal_Nucleoli=-inf_to_2.5,Single_Epi_Cell_Size=-inf_to_2.5} => {Class=malignant} sup: 0.57 conf: 0.00 len: 4, id: 4646, CAR {Normal_Nucleoli=-inf_to_2.5,Bare_Nuclei=-inf_to_1.5} => {Class=benign} sup: 0.56 conf: 0.00 len: 3, id: 4635, CAR {Normal_Nucleoli=-inf_to_2.5,Bare_Nuclei=-inf_to_1.5} => {Class=malignant} sup: 0.56 conf: 0.00 len: 3, id: 4636, CAR {Mitoses=-inf_to_1.5,Marginal_Adhesion=-inf_to_1.5} => {Class=benign} sup: 0.55 conf: 0.00 len: 3, id: 4623, CAR {Mitoses=-inf_to_1.5,Marginal_Adhesion=-inf_to_1.5} => {Class=malignant} sup: 0.55 conf: 0.00 len: 3, id: 4624, CAR {Mitoses=-inf_to_1.5,Normal_Nucleoli=-inf_to_2.5,Bare_Nuclei=-inf_to_1.5} => {Class=benign} sup: 0.55 conf: 0.00 len: 4, id: 4637, CAR {Mitoses=-inf_to_1.5,Normal_Nucleoli=-inf_to_2.5,Bare_Nuclei=-inf_to_1.5} => {Class=malignant} sup: 0.55 conf: 0.00 len: 4, id: 4638, CAR {Cell_Size_Uniformity=-inf_to_1.5} => {Class=benign} sup: 0.54 conf: 0.00 len: 2, id: 4529, CAR {Cell_Size_Uniformity=-inf_to_1.5} => {Class=malignant} sup: 0.54 conf: 0.00 len: 2, id: 4530, CAR {Clump_Thickness=-inf_to_4.5} => {Class=benign} sup: 0.53 conf: 0.00 len: 2, id: 4401, CAR {Clump_Thickness=-inf_to_4.5} => {Class=malignant} sup: 0.53 conf: 0.00 len: 2, id: 4402, CAR {Marginal_Adhesion=-inf_to_1.5,Normal_Nucleoli=-inf_to_2.5} => {Class=benign} sup: 0.53 conf: 0.00 len: 3, id: 4619, CAR {Marginal_Adhesion=-inf_to_1.5,Normal_Nucleoli=-inf_to_2.5} => {Class=malignant} sup: 0.53 conf: 0.00 len: 3, id: 4620, CAR {Bare_Nuclei=-inf_to_1.5,Single_Epi_Cell_Size=-inf_to_2.5} => {Class=benign} sup: 0.53 conf: 0.00 len: 3, id: 4627, CAR {Bare_Nuclei=-inf_to_1.5,Single_Epi_Cell_Size=-inf_to_2.5} => {Class=malignant} sup: 0.53 conf: 0.00 len: 3, id: 4628, CAR {Normal_Nucleoli=-inf_to_2.5,Cell_Size_Uniformity=-inf_to_1.5} => {Class=benign} sup: 0.53 conf: 0.00 len: 3, id: 4587, CAR {Normal_Nucleoli=-inf_to_2.5,Cell_Size_Uniformity=-inf_to_1.5} => {Class=malignant} sup: 0.53 conf: 0.00 len: 3, id: 4588, CAR {Mitoses=-inf_to_1.5,Cell_Size_Uniformity=-inf_to_1.5} => {Class=benign} sup: 0.53 conf: 0.00 len: 3, id: 4591, CAR {Mitoses=-inf_to_1.5,Cell_Size_Uniformity=-inf_to_1.5} => {Class=malignant} sup: 0.53 conf: 0.00 len: 3, id: 4592, CAR {Mitoses=-inf_to_1.5,Bare_Nuclei=-inf_to_1.5,Single_Epi_Cell_Size=-inf_to_2.5} => {Class=benign} sup: 0.52 conf: 0.00 len: 4, id: 4633, CAR {Mitoses=-inf_to_1.5,Bare_Nuclei=-inf_to_1.5,Single_Epi_Cell_Size=-inf_to_2.5} => {Class=malignant} sup: 0.52 conf: 0.00 len: 4, id: 4634, CAR {Mitoses=-inf_to_1.5,Normal_Nucleoli=-inf_to_2.5,Cell_Size_Uniformity=-inf_to_1.5} => {Class=benign} sup: 0.52 conf: 0.00 len: 4, id: 4589, CAR {Mitoses=-inf_to_1.5,Normal_Nucleoli=-inf_to_2.5,Cell_Size_Uniformity=-inf_to_1.5} => {Class=malignant} sup: 0.52 conf: 0.00 len: 4, id: 4590, CAR {Mitoses=-inf_to_1.5,Marginal_Adhesion=-inf_to_1.5,Normal_Nucleoli=-inf_to_2.5} => {Class=benign} sup: 0.52 conf: 0.00 len: 4, id: 4621, CAR {Mitoses=-inf_to_1.5,Marginal_Adhesion=-inf_to_1.5,Normal_Nucleoli=-inf_to_2.5} => {Class=malignant} sup: 0.52 conf: 0.00 len: 4, id: 4622, CAR {Normal_Nucleoli=-inf_to_2.5,Bare_Nuclei=-inf_to_1.5,Single_Epi_Cell_Size=-inf_to_2.5} => {Class=benign} sup: 0.52 conf: 0.00 len: 4, id: 4629, CAR {Normal_Nucleoli=-inf_to_2.5,Bare_Nuclei=-inf_to_1.5,Single_Epi_Cell_Size=-inf_to_2.5} => {Class=malignant} sup: 0.52 conf: 0.00 len: 4, id: 4630, CAR {Mitoses=-inf_to_1.5,Clump_Thickness=-inf_to_4.5} => {Class=benign} sup: 0.51 conf: 0.00 len: 3, id: 4527, CAR {Mitoses=-inf_to_1.5,Clump_Thickness=-inf_to_4.5} => {Class=malignant} sup: 0.51 conf: 0.00 len: 3, id: 4528, CAR {Marginal_Adhesion=-inf_to_1.5,Single_Epi_Cell_Size=-inf_to_2.5} => {Class=benign} sup: 0.51 conf: 0.00 len: 3, id: 4611, CAR {Marginal_Adhesion=-inf_to_1.5,Single_Epi_Cell_Size=-inf_to_2.5} => {Class=malignant} sup: 0.51 conf: 0.00 len: 3, id: 4612, CAR {Mitoses=-inf_to_1.5,Normal_Nucleoli=-inf_to_2.5,Bare_Nuclei=-inf_to_1.5,Single_Epi_Cell_Size=-inf_to_2.5} => {Class=benign} sup: 0.51 conf: 0.00 len: 5, id: 4631, CAR {Mitoses=-inf_to_1.5,Normal_Nucleoli=-inf_to_2.5,Bare_Nuclei=-inf_to_1.5,Single_Epi_Cell_Size=-inf_to_2.5} => {Class=malignant} sup: 0.51 conf: 0.00 len: 5, id: 4632, CAR {Single_Epi_Cell_Size=-inf_to_2.5,Cell_Size_Uniformity=-inf_to_1.5} => {Class=benign} sup: 0.51 conf: 0.00 len: 3, id: 4579, CAR {Single_Epi_Cell_Size=-inf_to_2.5,Cell_Size_Uniformity=-inf_to_1.5} => {Class=malignant} sup: 0.51 conf: 0.00 len: 3, id: 4580, CAR {Normal_Nucleoli=-inf_to_2.5,Single_Epi_Cell_Size=-inf_to_2.5,Cell_Size_Uniformity=-inf_to_1.5} => {Class=benign} sup: 0.50 conf: 0.00 len: 4, id: 4581, CAR {Normal_Nucleoli=-inf_to_2.5,Single_Epi_Cell_Size=-inf_to_2.5,Cell_Size_Uniformity=-inf_to_1.5} => {Class=malignant} sup: 0.50 conf: 0.00 len: 4, id: 4582, CAR {Mitoses=-inf_to_1.5,Single_Epi_Cell_Size=-inf_to_2.5,Cell_Size_Uniformity=-inf_to_1.5} => {Class=benign} sup: 0.50 conf: 0.00 len: 4, id: 4585, CAR {Mitoses=-inf_to_1.5,Single_Epi_Cell_Size=-inf_to_2.5,Cell_Size_Uniformity=-inf_to_1.5} => {Class=malignant} sup: 0.50 conf: 0.00 len: 4, id: 4586, CAR {Mitoses=-inf_to_1.5,Marginal_Adhesion=-inf_to_1.5,Single_Epi_Cell_Size=-inf_to_2.5} => {Class=benign} sup: 0.50 conf: 0.00 len: 4, id: 4617, CAR {Mitoses=-inf_to_1.5,Marginal_Adhesion=-inf_to_1.5,Single_Epi_Cell_Size=-inf_to_2.5} => {Class=malignant} sup: 0.50 conf: 0.00 len: 4, id: 4618, CAR {Marginal_Adhesion=-inf_to_1.5,Bare_Nuclei=-inf_to_1.5} => {Class=benign} sup: 0.50 conf: 0.00 len: 3, id: 4595, CAR {Marginal_Adhesion=-inf_to_1.5,Bare_Nuclei=-inf_to_1.5} => {Class=malignant} sup: 0.50 conf: 0.00 len: 3, id: 4596, CAR {Marginal_Adhesion=-inf_to_1.5,Normal_Nucleoli=-inf_to_2.5,Single_Epi_Cell_Size=-inf_to_2.5} => {Class=benign} sup: 0.50 conf: 0.00 len: 4, id: 4613, CAR {Marginal_Adhesion=-inf_to_1.5,Normal_Nucleoli=-inf_to_2.5,Single_Epi_Cell_Size=-inf_to_2.5} => {Class=malignant} sup: 0.50 conf: 0.00 len: 4, id: 4614, CAR {Mitoses=-inf_to_1.5,Normal_Nucleoli=-inf_to_2.5,Single_Epi_Cell_Size=-inf_to_2.5,Cell_Size_Uniformity=-inf_to_1.5} => {Class=benign} sup: 0.49 conf: 0.00 len: 5, id: 4583, CAR {Mitoses=-inf_to_1.5,Normal_Nucleoli=-inf_to_2.5,Single_Epi_Cell_Size=-inf_to_2.5,Cell_Size_Uniformity=-inf_to_1.5} => {Class=malignant} sup: 0.49 conf: 0.00 len: 5, id: 4584, CAR {Cell_Shape_Uniformity=-inf_to_1.5} => {Class=benign} sup: 0.49 conf: 0.00 len: 2, id: 4145, CAR {Cell_Shape_Uniformity=-inf_to_1.5} => {Class=malignant} sup: 0.49 conf: 0.00 len: 2, id: 4146, CAR {Normal_Nucleoli=-inf_to_2.5,Clump_Thickness=-inf_to_4.5} => {Class=benign} sup: 0.49 conf: 0.00 len: 3, id: 4523, CAR {Normal_Nucleoli=-inf_to_2.5,Clump_Thickness=-inf_to_4.5} => {Class=malignant} sup: 0.49 conf: 0.00 len: 3, id: 4524, CAR {Bare_Nuclei=-inf_to_1.5,Cell_Size_Uniformity=-inf_to_1.5} => {Class=benign} sup: 0.49 conf: 0.00 len: 3, id: 4563, CAR {Bare_Nuclei=-inf_to_1.5,Cell_Size_Uniformity=-inf_to_1.5} => {Class=malignant} sup: 0.49 conf: 0.00 len: 3, id: 4564, CAR {Mitoses=-inf_to_1.5,Marginal_Adhesion=-inf_to_1.5,Bare_Nuclei=-inf_to_1.5} => {Class=benign} sup: 0.49 conf: 0.00 len: 4, id: 4609, CAR {Mitoses=-inf_to_1.5,Marginal_Adhesion=-inf_to_1.5,Bare_Nuclei=-inf_to_1.5} => {Class=malignant} sup: 0.49 conf: 0.00 len: 4, id: 4610, CAR {Normal_Nucleoli=-inf_to_2.5,Bare_Nuclei=-inf_to_1.5,Cell_Size_Uniformity=-inf_to_1.5} => {Class=benign} sup: 0.49 conf: 0.00 len: 4, id: 4573, CAR {Normal_Nucleoli=-inf_to_2.5,Bare_Nuclei=-inf_to_1.5,Cell_Size_Uniformity=-inf_to_1.5} => {Class=malignant} sup: 0.49 conf: 0.00 len: 4, id: 4574, CAR {Cell_Shape_Uniformity=-inf_to_1.5,Normal_Nucleoli=-inf_to_2.5} => {Class=benign} sup: 0.48 conf: 0.00 len: 3, id: 4395, CAR {Cell_Shape_Uniformity=-inf_to_1.5,Normal_Nucleoli=-inf_to_2.5} => {Class=malignant} sup: 0.48 conf: 0.00 len: 3, id: 4396, CAR {Cell_Shape_Uniformity=-inf_to_1.5,Mitoses=-inf_to_1.5} => {Class=benign} sup: 0.48 conf: 0.00 len: 3, id: 4399, CAR {Cell_Shape_Uniformity=-inf_to_1.5,Mitoses=-inf_to_1.5} => {Class=malignant} sup: 0.48 conf: 0.00 len: 3, id: 4400, CAR {Mitoses=-inf_to_1.5,Bare_Nuclei=-inf_to_1.5,Cell_Size_Uniformity=-inf_to_1.5} => {Class=benign} sup: 0.48 conf: 0.00 len: 4, id: 4577, CAR {Mitoses=-inf_to_1.5,Bare_Nuclei=-inf_to_1.5,Cell_Size_Uniformity=-inf_to_1.5} => {Class=malignant} sup: 0.48 conf: 0.00 len: 4, id: 4578, CAR {Mitoses=-inf_to_1.5,Marginal_Adhesion=-inf_to_1.5,Normal_Nucleoli=-inf_to_2.5,Single_Epi_Cell_Size=-inf_to_2.5} => {Class=benign} sup: 0.48 conf: 0.00 len: 5, id: 4615, CAR {Mitoses=-inf_to_1.5,Marginal_Adhesion=-inf_to_1.5,Normal_Nucleoli=-inf_to_2.5,Single_Epi_Cell_Size=-inf_to_2.5} => {Class=malignant} sup: 0.48 conf: 0.00 len: 5, id: 4616, CAR {Marginal_Adhesion=-inf_to_1.5,Normal_Nucleoli=-inf_to_2.5,Bare_Nuclei=-inf_to_1.5} => {Class=benign} sup: 0.48 conf: 0.00 len: 4, id: 4605, CAR {Marginal_Adhesion=-inf_to_1.5,Normal_Nucleoli=-inf_to_2.5,Bare_Nuclei=-inf_to_1.5} => {Class=malignant} sup: 0.48 conf: 0.00 len: 4, id: 4606, CAR {Mitoses=-inf_to_1.5,Normal_Nucleoli=-inf_to_2.5,Bare_Nuclei=-inf_to_1.5,Cell_Size_Uniformity=-inf_to_1.5} => {Class=benign} sup: 0.48 conf: 0.00 len: 5, id: 4575, CAR {Mitoses=-inf_to_1.5,Normal_Nucleoli=-inf_to_2.5,Bare_Nuclei=-inf_to_1.5,Cell_Size_Uniformity=-inf_to_1.5} => {Class=malignant} sup: 0.48 conf: 0.00 len: 5, id: 4576, CAR {Mitoses=-inf_to_1.5,Normal_Nucleoli=-inf_to_2.5,Clump_Thickness=-inf_to_4.5} => {Class=benign} sup: 0.48 conf: 0.00 len: 4, id: 4525, CAR {Mitoses=-inf_to_1.5,Normal_Nucleoli=-inf_to_2.5,Clump_Thickness=-inf_to_4.5} => {Class=malignant} sup: 0.48 conf: 0.00 len: 4, id: 4526, CAR {Cell_Shape_Uniformity=-inf_to_1.5,Normal_Nucleoli=-inf_to_2.5,Mitoses=-inf_to_1.5} => {Class=benign} sup: 0.48 conf: 0.00 len: 4, id: 4397, CAR {Cell_Shape_Uniformity=-inf_to_1.5,Normal_Nucleoli=-inf_to_2.5,Mitoses=-inf_to_1.5} => {Class=malignant} sup: 0.48 conf: 0.00 len: 4, id: 4398, CAR {Mitoses=-inf_to_1.5,Marginal_Adhesion=-inf_to_1.5,Normal_Nucleoli=-inf_to_2.5,Bare_Nuclei=-inf_to_1.5} => {Class=benign} sup: 0.47 conf: 0.00 len: 5, id: 4607, CAR {Mitoses=-inf_to_1.5,Marginal_Adhesion=-inf_to_1.5,Normal_Nucleoli=-inf_to_2.5,Bare_Nuclei=-inf_to_1.5} => {Class=malignant} sup: 0.47 conf: 0.00 len: 5, id: 4608, CAR {Single_Epi_Cell_Size=-inf_to_2.5,Bare_Nuclei=-inf_to_1.5,Cell_Size_Uniformity=-inf_to_1.5} => {Class=benign} sup: 0.47 conf: 0.00 len: 4, id: 4565, CAR {Single_Epi_Cell_Size=-inf_to_2.5,Bare_Nuclei=-inf_to_1.5,Cell_Size_Uniformity=-inf_to_1.5} => {Class=malignant} sup: 0.47 conf: 0.00 len: 4, id: 4566, CAR {Bland_Chromatin=-inf_to_2.5} => {Class=benign} sup: 0.47 conf: 0.00 len: 2, id: 3633, CAR {Bland_Chromatin=-inf_to_2.5} => {Class=malignant} sup: 0.47 conf: 0.00 len: 2, id: 3634, CAR {Marginal_Adhesion=-inf_to_1.5,Bare_Nuclei=-inf_to_1.5,Single_Epi_Cell_Size=-inf_to_2.5} => {Class=benign} sup: 0.47 conf: 0.00 len: 4, id: 4597, CAR {Marginal_Adhesion=-inf_to_1.5,Bare_Nuclei=-inf_to_1.5,Single_Epi_Cell_Size=-inf_to_2.5} => {Class=malignant} sup: 0.47 conf: 0.00 len: 4, id: 4598, CAR {Normal_Nucleoli=-inf_to_2.5,Single_Epi_Cell_Size=-inf_to_2.5,Bare_Nuclei=-inf_to_1.5,Cell_Size_Uniformity=-inf_to_1.5} => {Class=benign} sup: 0.47 conf: 0.00 len: 5, id: 4567, CAR {Normal_Nucleoli=-inf_to_2.5,Single_Epi_Cell_Size=-inf_to_2.5,Bare_Nuclei=-inf_to_1.5,Cell_Size_Uniformity=-inf_to_1.5} => {Class=malignant} sup: 0.47 conf: 0.00 len: 5, id: 4568, CAR {Marginal_Adhesion=-inf_to_1.5,Cell_Size_Uniformity=-inf_to_1.5} => {Class=benign} sup: 0.47 conf: 0.00 len: 3, id: 4531, CAR {Marginal_Adhesion=-inf_to_1.5,Cell_Size_Uniformity=-inf_to_1.5} => {Class=malignant} sup: 0.47 conf: 0.00 len: 3, id: 4532, CAR {Mitoses=-inf_to_1.5,Single_Epi_Cell_Size=-inf_to_2.5,Bare_Nuclei=-inf_to_1.5,Cell_Size_Uniformity=-inf_to_1.5} => {Class=benign} sup: 0.46 conf: 0.00 len: 5, id: 4571, CAR {Mitoses=-inf_to_1.5,Single_Epi_Cell_Size=-inf_to_2.5,Bare_Nuclei=-inf_to_1.5,Cell_Size_Uniformity=-inf_to_1.5} => {Class=malignant} sup: 0.46 conf: 0.00 len: 5, id: 4572, CAR {Cell_Shape_Uniformity=-inf_to_1.5,Cell_Size_Uniformity=-inf_to_1.5} => {Class=benign} sup: 0.46 conf: 0.00 len: 3, id: 4275, CAR {Cell_Shape_Uniformity=-inf_to_1.5,Cell_Size_Uniformity=-inf_to_1.5} => {Class=malignant} sup: 0.46 conf: 0.00 len: 3, id: 4276, CAR {Cell_Shape_Uniformity=-inf_to_1.5,Single_Epi_Cell_Size=-inf_to_2.5} => {Class=benign} sup: 0.46 conf: 0.00 len: 3, id: 4387, CAR {Cell_Shape_Uniformity=-inf_to_1.5,Single_Epi_Cell_Size=-inf_to_2.5} => {Class=malignant} sup: 0.46 conf: 0.00 len: 3, id: 4388, CAR {Mitoses=-inf_to_1.5,Marginal_Adhesion=-inf_to_1.5,Bare_Nuclei=-inf_to_1.5,Single_Epi_Cell_Size=-inf_to_2.5} => {Class=benign} sup: 0.46 conf: 0.00 len: 5, id: 4603, CAR {Mitoses=-inf_to_1.5,Marginal_Adhesion=-inf_to_1.5,Bare_Nuclei=-inf_to_1.5,Single_Epi_Cell_Size=-inf_to_2.5} => {Class=malignant} sup: 0.46 conf: 0.00 len: 5, id: 4604, CAR {Mitoses=-inf_to_1.5,Normal_Nucleoli=-inf_to_2.5,Single_Epi_Cell_Size=-inf_to_2.5,Bare_Nuclei=-inf_to_1.5,Cell_Size_Uniformity=-inf_to_1.5} => {Class=benign} sup: 0.46 conf: 0.00 len: 6, id: 4569, CAR {Mitoses=-inf_to_1.5,Normal_Nucleoli=-inf_to_2.5,Single_Epi_Cell_Size=-inf_to_2.5,Bare_Nuclei=-inf_to_1.5,Cell_Size_Uniformity=-inf_to_1.5} => {Class=malignant} sup: 0.46 conf: 0.00 len: 6, id: 4570, CAR {Single_Epi_Cell_Size=-inf_to_2.5,Clump_Thickness=-inf_to_4.5} => {Class=benign} sup: 0.46 conf: 0.00 len: 3, id: 4515, CAR {Single_Epi_Cell_Size=-inf_to_2.5,Clump_Thickness=-inf_to_4.5} => {Class=malignant} sup: 0.46 conf: 0.00 len: 3, id: 4516, CAR {Marginal_Adhesion=-inf_to_1.5,Normal_Nucleoli=-inf_to_2.5,Cell_Size_Uniformity=-inf_to_1.5} => {Class=benign} sup: 0.46 conf: 0.00 len: 4, id: 4557, CAR {Marginal_Adhesion=-inf_to_1.5,Normal_Nucleoli=-inf_to_2.5,Cell_Size_Uniformity=-inf_to_1.5} => {Class=malignant} sup: 0.46 conf: 0.00 len: 4, id: 4558, CAR {Mitoses=-inf_to_1.5,Marginal_Adhesion=-inf_to_1.5,Cell_Size_Uniformity=-inf_to_1.5} => {Class=benign} sup: 0.46 conf: 0.00 len: 4, id: 4561, CAR {Mitoses=-inf_to_1.5,Marginal_Adhesion=-inf_to_1.5,Cell_Size_Uniformity=-inf_to_1.5} => {Class=malignant} sup: 0.46 conf: 0.00 len: 4, id: 4562, CAR {Cell_Shape_Uniformity=-inf_to_1.5,Normal_Nucleoli=-inf_to_2.5,Cell_Size_Uniformity=-inf_to_1.5} => {Class=benign} sup: 0.46 conf: 0.00 len: 4, id: 4333, CAR {Cell_Shape_Uniformity=-inf_to_1.5,Normal_Nucleoli=-inf_to_2.5,Cell_Size_Uniformity=-inf_to_1.5} => {Class=malignant} sup: 0.46 conf: 0.00 len: 4, id: 4334, CAR {Marginal_Adhesion=-inf_to_1.5,Normal_Nucleoli=-inf_to_2.5,Bare_Nuclei=-inf_to_1.5,Single_Epi_Cell_Size=-inf_to_2.5} => {Class=benign} sup: 0.46 conf: 0.00 len: 5, id: 4599, CAR {Marginal_Adhesion=-inf_to_1.5,Normal_Nucleoli=-inf_to_2.5,Bare_Nuclei=-inf_to_1.5,Single_Epi_Cell_Size=-inf_to_2.5} => {Class=malignant} sup: 0.46 conf: 0.00 len: 5, id: 4600, CAR {Cell_Shape_Uniformity=-inf_to_1.5,Normal_Nucleoli=-inf_to_2.5,Single_Epi_Cell_Size=-inf_to_2.5} => {Class=benign} sup: 0.45 conf: 0.00 len: 4, id: 4389, CAR {Cell_Shape_Uniformity=-inf_to_1.5,Normal_Nucleoli=-inf_to_2.5,Single_Epi_Cell_Size=-inf_to_2.5} => {Class=malignant} sup: 0.45 conf: 0.00 len: 4, id: 4390, CAR {Cell_Shape_Uniformity=-inf_to_1.5,Mitoses=-inf_to_1.5,Cell_Size_Uniformity=-inf_to_1.5} => {Class=benign} sup: 0.45 conf: 0.00 len: 4, id: 4337, CAR {Cell_Shape_Uniformity=-inf_to_1.5,Mitoses=-inf_to_1.5,Cell_Size_Uniformity=-inf_to_1.5} => {Class=malignant} sup: 0.45 conf: 0.00 len: 4, id: 4338, CAR {Cell_Shape_Uniformity=-inf_to_1.5,Mitoses=-inf_to_1.5,Single_Epi_Cell_Size=-inf_to_2.5} => {Class=benign} sup: 0.45 conf: 0.00 len: 4, id: 4393, CAR {Cell_Shape_Uniformity=-inf_to_1.5,Mitoses=-inf_to_1.5,Single_Epi_Cell_Size=-inf_to_2.5} => {Class=malignant} sup: 0.45 conf: 0.00 len: 4, id: 4394, CAR {Normal_Nucleoli=-inf_to_2.5,Bland_Chromatin=-inf_to_2.5} => {Class=benign} sup: 0.45 conf: 0.00 len: 3, id: 4139, CAR {Normal_Nucleoli=-inf_to_2.5,Bland_Chromatin=-inf_to_2.5} => {Class=malignant} sup: 0.45 conf: 0.00 len: 3, id: 4140, CAR {Normal_Nucleoli=-inf_to_2.5,Single_Epi_Cell_Size=-inf_to_2.5,Clump_Thickness=-inf_to_4.5} => {Class=benign} sup: 0.45 conf: 0.00 len: 4, id: 4517, CAR {Normal_Nucleoli=-inf_to_2.5,Single_Epi_Cell_Size=-inf_to_2.5,Clump_Thickness=-inf_to_4.5} => {Class=malignant} sup: 0.45 conf: 0.00 len: 4, id: 4518, CAR {Mitoses=-inf_to_1.5,Marginal_Adhesion=-inf_to_1.5,Normal_Nucleoli=-inf_to_2.5,Cell_Size_Uniformity=-inf_to_1.5} => {Class=benign} sup: 0.45 conf: 0.00 len: 5, id: 4559, CAR {Mitoses=-inf_to_1.5,Marginal_Adhesion=-inf_to_1.5,Normal_Nucleoli=-inf_to_2.5,Cell_Size_Uniformity=-inf_to_1.5} => {Class=malignant} sup: 0.45 conf: 0.00 len: 5, id: 4560, CAR {Mitoses=-inf_to_1.5,Normal_Nucleoli=-inf_to_2.5,Marginal_Adhesion=-inf_to_1.5,Single_Epi_Cell_Size=-inf_to_2.5,Bare_Nuclei=-inf_to_1.5} => {Class=benign} sup: 0.45 conf: 0.00 len: 6, id: 4601, CAR {Mitoses=-inf_to_1.5,Normal_Nucleoli=-inf_to_2.5,Marginal_Adhesion=-inf_to_1.5,Single_Epi_Cell_Size=-inf_to_2.5,Bare_Nuclei=-inf_to_1.5} => {Class=malignant} sup: 0.45 conf: 0.00 len: 6, id: 4602, CAR {Mitoses=-inf_to_1.5,Bland_Chromatin=-inf_to_2.5} => {Class=benign} sup: 0.45 conf: 0.00 len: 3, id: 4143, CAR {Mitoses=-inf_to_1.5,Bland_Chromatin=-inf_to_2.5} => {Class=malignant} sup: 0.45 conf: 0.00 len: 3, id: 4144, CAR {Cell_Shape_Uniformity=-inf_to_1.5,Bare_Nuclei=-inf_to_1.5} => {Class=benign} sup: 0.45 conf: 0.00 len: 3, id: 4371, CAR {Cell_Shape_Uniformity=-inf_to_1.5,Bare_Nuclei=-inf_to_1.5} => {Class=malignant} sup: 0.45 conf: 0.00 len: 3, id: 4372, CAR {Mitoses=-inf_to_1.5,Single_Epi_Cell_Size=-inf_to_2.5,Clump_Thickness=-inf_to_4.5} => {Class=benign} sup: 0.45 conf: 0.00 len: 4, id: 4521, CAR {Mitoses=-inf_to_1.5,Single_Epi_Cell_Size=-inf_to_2.5,Clump_Thickness=-inf_to_4.5} => {Class=malignant} sup: 0.45 conf: 0.00 len: 4, id: 4522, CAR {Marginal_Adhesion=-inf_to_1.5,Single_Epi_Cell_Size=-inf_to_2.5,Cell_Size_Uniformity=-inf_to_1.5} => {Class=benign} sup: 0.45 conf: 0.00 len: 4, id: 4549, CAR {Marginal_Adhesion=-inf_to_1.5,Single_Epi_Cell_Size=-inf_to_2.5,Cell_Size_Uniformity=-inf_to_1.5} => {Class=malignant} sup: 0.45 conf: 0.00 len: 4, id: 4550, CAR {Cell_Shape_Uniformity=-inf_to_1.5,Normal_Nucleoli=-inf_to_2.5,Mitoses=-inf_to_1.5,Cell_Size_Uniformity=-inf_to_1.5} => {Class=benign} sup: 0.45 conf: 0.00 len: 5, id: 4335, CAR {Cell_Shape_Uniformity=-inf_to_1.5,Normal_Nucleoli=-inf_to_2.5,Mitoses=-inf_to_1.5,Cell_Size_Uniformity=-inf_to_1.5} => {Class=malignant} sup: 0.45 conf: 0.00 len: 5, id: 4336, CAR {Cell_Shape_Uniformity=-inf_to_1.5,Normal_Nucleoli=-inf_to_2.5,Mitoses=-inf_to_1.5,Single_Epi_Cell_Size=-inf_to_2.5} => {Class=benign} sup: 0.45 conf: 0.00 len: 5, id: 4391, CAR {Cell_Shape_Uniformity=-inf_to_1.5,Normal_Nucleoli=-inf_to_2.5,Mitoses=-inf_to_1.5,Single_Epi_Cell_Size=-inf_to_2.5} => {Class=malignant} sup: 0.45 conf: 0.00 len: 5, id: 4392, CAR {Cell_Shape_Uniformity=-inf_to_1.5,Normal_Nucleoli=-inf_to_2.5,Bare_Nuclei=-inf_to_1.5} => {Class=benign} sup: 0.44 conf: 0.00 len: 4, id: 4381, CAR {Cell_Shape_Uniformity=-inf_to_1.5,Normal_Nucleoli=-inf_to_2.5,Bare_Nuclei=-inf_to_1.5} => {Class=malignant} sup: 0.44 conf: 0.00 len: 4, id: 4382, CAR {Marginal_Adhesion=-inf_to_1.5,Normal_Nucleoli=-inf_to_2.5,Single_Epi_Cell_Size=-inf_to_2.5,Cell_Size_Uniformity=-inf_to_1.5} => {Class=benign} sup: 0.44 conf: 0.00 len: 5, id: 4551, CAR {Marginal_Adhesion=-inf_to_1.5,Normal_Nucleoli=-inf_to_2.5,Single_Epi_Cell_Size=-inf_to_2.5,Cell_Size_Uniformity=-inf_to_1.5} => {Class=malignant} sup: 0.44 conf: 0.00 len: 5, id: 4552, CAR {Bare_Nuclei=-inf_to_1.5,Clump_Thickness=-inf_to_4.5} => {Class=benign} sup: 0.44 conf: 0.00 len: 3, id: 4499, CAR {Bare_Nuclei=-inf_to_1.5,Clump_Thickness=-inf_to_4.5} => {Class=malignant} sup: 0.44 conf: 0.00 len: 3, id: 4500, CAR {Cell_Shape_Uniformity=-inf_to_1.5,Bare_Nuclei=-inf_to_1.5,Mitoses=-inf_to_1.5} => {Class=benign} sup: 0.44 conf: 0.00 len: 4, id: 4385, CAR {Cell_Shape_Uniformity=-inf_to_1.5,Bare_Nuclei=-inf_to_1.5,Mitoses=-inf_to_1.5} => {Class=malignant} sup: 0.44 conf: 0.00 len: 4, id: 4386, CAR {Mitoses=-inf_to_1.5,Normal_Nucleoli=-inf_to_2.5,Single_Epi_Cell_Size=-inf_to_2.5,Clump_Thickness=-inf_to_4.5} => {Class=benign} sup: 0.44 conf: 0.00 len: 5, id: 4519, CAR {Mitoses=-inf_to_1.5,Normal_Nucleoli=-inf_to_2.5,Single_Epi_Cell_Size=-inf_to_2.5,Clump_Thickness=-inf_to_4.5} => {Class=malignant} sup: 0.44 conf: 0.00 len: 5, id: 4520, CAR {Mitoses=-inf_to_1.5,Marginal_Adhesion=-inf_to_1.5,Single_Epi_Cell_Size=-inf_to_2.5,Cell_Size_Uniformity=-inf_to_1.5} => {Class=benign} sup: 0.44 conf: 0.00 len: 5, id: 4555, CAR {Mitoses=-inf_to_1.5,Marginal_Adhesion=-inf_to_1.5,Single_Epi_Cell_Size=-inf_to_2.5,Cell_Size_Uniformity=-inf_to_1.5} => {Class=malignant} sup: 0.44 conf: 0.00 len: 5, id: 4556, CAR {Cell_Shape_Uniformity=-inf_to_1.5,Single_Epi_Cell_Size=-inf_to_2.5,Cell_Size_Uniformity=-inf_to_1.5} => {Class=benign} sup: 0.44 conf: 0.00 len: 4, id: 4325, CAR {Cell_Shape_Uniformity=-inf_to_1.5,Single_Epi_Cell_Size=-inf_to_2.5,Cell_Size_Uniformity=-inf_to_1.5} => {Class=malignant} sup: 0.44 conf: 0.00 len: 4, id: 4326, CAR {Mitoses=-inf_to_1.5,Normal_Nucleoli=-inf_to_2.5,Bland_Chromatin=-inf_to_2.5} => {Class=benign} sup: 0.43 conf: 0.00 len: 4, id: 4141, CAR {Mitoses=-inf_to_1.5,Normal_Nucleoli=-inf_to_2.5,Bland_Chromatin=-inf_to_2.5} => {Class=malignant} sup: 0.43 conf: 0.00 len: 4, id: 4142, CAR {Cell_Shape_Uniformity=-inf_to_1.5,Normal_Nucleoli=-inf_to_2.5,Bare_Nuclei=-inf_to_1.5,Mitoses=-inf_to_1.5} => {Class=benign} sup: 0.43 conf: 0.00 len: 5, id: 4383, CAR {Cell_Shape_Uniformity=-inf_to_1.5,Normal_Nucleoli=-inf_to_2.5,Bare_Nuclei=-inf_to_1.5,Mitoses=-inf_to_1.5} => {Class=malignant} sup: 0.43 conf: 0.00 len: 5, id: 4384, CAR {Mitoses=-inf_to_1.5,Normal_Nucleoli=-inf_to_2.5,Marginal_Adhesion=-inf_to_1.5,Single_Epi_Cell_Size=-inf_to_2.5,Cell_Size_Uniformity=-inf_to_1.5} => {Class=benign} sup: 0.43 conf: 0.00 len: 6, id: 4553, CAR {Mitoses=-inf_to_1.5,Normal_Nucleoli=-inf_to_2.5,Marginal_Adhesion=-inf_to_1.5,Single_Epi_Cell_Size=-inf_to_2.5,Cell_Size_Uniformity=-inf_to_1.5} => {Class=malignant} sup: 0.43 conf: 0.00 len: 6, id: 4554, CAR {Cell_Shape_Uniformity=-inf_to_1.5,Marginal_Adhesion=-inf_to_1.5} => {Class=benign} sup: 0.43 conf: 0.00 len: 3, id: 4339, CAR {Cell_Shape_Uniformity=-inf_to_1.5,Marginal_Adhesion=-inf_to_1.5} => {Class=malignant} sup: 0.43 conf: 0.00 len: 3, id: 4340, CAR {Mitoses=-inf_to_1.5,Bare_Nuclei=-inf_to_1.5,Clump_Thickness=-inf_to_4.5} => {Class=benign} sup: 0.43 conf: 0.00 len: 4, id: 4513, CAR {Mitoses=-inf_to_1.5,Bare_Nuclei=-inf_to_1.5,Clump_Thickness=-inf_to_4.5} => {Class=malignant} sup: 0.43 conf: 0.00 len: 4, id: 4514, CAR {Marginal_Adhesion=-inf_to_1.5,Bare_Nuclei=-inf_to_1.5,Cell_Size_Uniformity=-inf_to_1.5} => {Class=benign} sup: 0.43 conf: 0.00 len: 4, id: 4533, CAR {Marginal_Adhesion=-inf_to_1.5,Bare_Nuclei=-inf_to_1.5,Cell_Size_Uniformity=-inf_to_1.5} => {Class=malignant} sup: 0.43 conf: 0.00 len: 4, id: 4534, CAR {Cell_Shape_Uniformity=-inf_to_1.5,Normal_Nucleoli=-inf_to_2.5,Single_Epi_Cell_Size=-inf_to_2.5,Cell_Size_Uniformity=-inf_to_1.5} => {Class=benign} sup: 0.43 conf: 0.00 len: 5, id: 4327, CAR {Cell_Shape_Uniformity=-inf_to_1.5,Normal_Nucleoli=-inf_to_2.5,Single_Epi_Cell_Size=-inf_to_2.5,Cell_Size_Uniformity=-inf_to_1.5} => {Class=malignant} sup: 0.43 conf: 0.00 len: 5, id: 4328, CAR {Normal_Nucleoli=-inf_to_2.5,Bare_Nuclei=-inf_to_1.5,Clump_Thickness=-inf_to_4.5} => {Class=benign} sup: 0.43 conf: 0.00 len: 4, id: 4509, CAR {Normal_Nucleoli=-inf_to_2.5,Bare_Nuclei=-inf_to_1.5,Clump_Thickness=-inf_to_4.5} => {Class=malignant} sup: 0.43 conf: 0.00 len: 4, id: 4510, CAR {Cell_Shape_Uniformity=-inf_to_1.5,Single_Epi_Cell_Size=-inf_to_2.5,Mitoses=-inf_to_1.5,Cell_Size_Uniformity=-inf_to_1.5} => {Class=benign} sup: 0.43 conf: 0.00 len: 5, id: 4331, CAR {Cell_Shape_Uniformity=-inf_to_1.5,Single_Epi_Cell_Size=-inf_to_2.5,Mitoses=-inf_to_1.5,Cell_Size_Uniformity=-inf_to_1.5} => {Class=malignant} sup: 0.43 conf: 0.00 len: 5, id: 4332, CAR {Marginal_Adhesion=-inf_to_1.5,Normal_Nucleoli=-inf_to_2.5,Bare_Nuclei=-inf_to_1.5,Cell_Size_Uniformity=-inf_to_1.5} => {Class=benign} sup: 0.43 conf: 0.00 len: 5, id: 4543, CAR {Marginal_Adhesion=-inf_to_1.5,Normal_Nucleoli=-inf_to_2.5,Bare_Nuclei=-inf_to_1.5,Cell_Size_Uniformity=-inf_to_1.5} => {Class=malignant} sup: 0.43 conf: 0.00 len: 5, id: 4544, CAR {Marginal_Adhesion=-inf_to_1.5,Clump_Thickness=-inf_to_4.5} => {Class=benign} sup: 0.43 conf: 0.00 len: 3, id: 4467, CAR {Marginal_Adhesion=-inf_to_1.5,Clump_Thickness=-inf_to_4.5} => {Class=malignant} sup: 0.43 conf: 0.00 len: 3, id: 4468, CAR {Clump_Thickness=-inf_to_4.5,Cell_Size_Uniformity=-inf_to_1.5} => {Class=benign} sup: 0.42 conf: 0.00 len: 3, id: 4403, CAR {Clump_Thickness=-inf_to_4.5,Cell_Size_Uniformity=-inf_to_1.5} => {Class=malignant} sup: 0.42 conf: 0.00 len: 3, id: 4404, CAR {Cell_Shape_Uniformity=-inf_to_1.5,Marginal_Adhesion=-inf_to_1.5,Normal_Nucleoli=-inf_to_2.5} => {Class=benign} sup: 0.42 conf: 0.00 len: 4, id: 4365, CAR {Cell_Shape_Uniformity=-inf_to_1.5,Marginal_Adhesion=-inf_to_1.5,Normal_Nucleoli=-inf_to_2.5} => {Class=malignant} sup: 0.42 conf: 0.00 len: 4, id: 4366, CAR {Cell_Shape_Uniformity=-inf_to_1.5,Marginal_Adhesion=-inf_to_1.5,Mitoses=-inf_to_1.5} => {Class=benign} sup: 0.42 conf: 0.00 len: 4, id: 4369, CAR {Cell_Shape_Uniformity=-inf_to_1.5,Marginal_Adhesion=-inf_to_1.5,Mitoses=-inf_to_1.5} => {Class=malignant} sup: 0.42 conf: 0.00 len: 4, id: 4370, CAR {Mitoses=-inf_to_1.5,Marginal_Adhesion=-inf_to_1.5,Bare_Nuclei=-inf_to_1.5,Cell_Size_Uniformity=-inf_to_1.5} => {Class=benign} sup: 0.42 conf: 0.00 len: 5, id: 4547, CAR {Mitoses=-inf_to_1.5,Marginal_Adhesion=-inf_to_1.5,Bare_Nuclei=-inf_to_1.5,Cell_Size_Uniformity=-inf_to_1.5} => {Class=malignant} sup: 0.42 conf: 0.00 len: 5, id: 4548, CAR {Single_Epi_Cell_Size=-inf_to_2.5,Bland_Chromatin=-inf_to_2.5} => {Class=benign} sup: 0.42 conf: 0.00 len: 3, id: 4131, CAR {Single_Epi_Cell_Size=-inf_to_2.5,Bland_Chromatin=-inf_to_2.5} => {Class=malignant} sup: 0.42 conf: 0.00 len: 3, id: 4132, CAR {Cell_Shape_Uniformity=-inf_to_1.5,Bare_Nuclei=-inf_to_1.5,Single_Epi_Cell_Size=-inf_to_2.5} => {Class=benign} sup: 0.42 conf: 0.00 len: 4, id: 4373, CAR {Cell_Shape_Uniformity=-inf_to_1.5,Bare_Nuclei=-inf_to_1.5,Single_Epi_Cell_Size=-inf_to_2.5} => {Class=malignant} sup: 0.42 conf: 0.00 len: 4, id: 4374, CAR {Cell_Shape_Uniformity=-inf_to_1.5,Mitoses=-inf_to_1.5,Normal_Nucleoli=-inf_to_2.5,Single_Epi_Cell_Size=-inf_to_2.5,Cell_Size_Uniformity=-inf_to_1.5} => {Class=benign} sup: 0.42 conf: 0.00 len: 6, id: 4329, CAR {Cell_Shape_Uniformity=-inf_to_1.5,Mitoses=-inf_to_1.5,Normal_Nucleoli=-inf_to_2.5,Single_Epi_Cell_Size=-inf_to_2.5,Cell_Size_Uniformity=-inf_to_1.5} => {Class=malignant} sup: 0.42 conf: 0.00 len: 6, id: 4330, CAR {Cell_Shape_Uniformity=-inf_to_1.5,Bare_Nuclei=-inf_to_1.5,Cell_Size_Uniformity=-inf_to_1.5} => {Class=benign} sup: 0.42 conf: 0.00 len: 4, id: 4309, CAR {Cell_Shape_Uniformity=-inf_to_1.5,Bare_Nuclei=-inf_to_1.5,Cell_Size_Uniformity=-inf_to_1.5} => {Class=malignant} sup: 0.42 conf: 0.00 len: 4, id: 4310, CAR {Normal_Nucleoli=-inf_to_2.5,Clump_Thickness=-inf_to_4.5,Cell_Size_Uniformity=-inf_to_1.5} => {Class=benign} sup: 0.42 conf: 0.00 len: 4, id: 4461, CAR {Normal_Nucleoli=-inf_to_2.5,Clump_Thickness=-inf_to_4.5,Cell_Size_Uniformity=-inf_to_1.5} => {Class=malignant} sup: 0.42 conf: 0.00 len: 4, id: 4462, CAR {Mitoses=-inf_to_1.5,Normal_Nucleoli=-inf_to_2.5,Bare_Nuclei=-inf_to_1.5,Clump_Thickness=-inf_to_4.5} => {Class=benign} sup: 0.42 conf: 0.00 len: 5, id: 4511, CAR {Mitoses=-inf_to_1.5,Normal_Nucleoli=-inf_to_2.5,Bare_Nuclei=-inf_to_1.5,Clump_Thickness=-inf_to_4.5} => {Class=malignant} sup: 0.42 conf: 0.00 len: 5, id: 4512, CAR {Mitoses=-inf_to_1.5,Normal_Nucleoli=-inf_to_2.5,Marginal_Adhesion=-inf_to_1.5,Bare_Nuclei=-inf_to_1.5,Cell_Size_Uniformity=-inf_to_1.5} => {Class=benign} sup: 0.42 conf: 0.00 len: 6, id: 4545, CAR {Mitoses=-inf_to_1.5,Normal_Nucleoli=-inf_to_2.5,Marginal_Adhesion=-inf_to_1.5,Bare_Nuclei=-inf_to_1.5,Cell_Size_Uniformity=-inf_to_1.5} => {Class=malignant} sup: 0.42 conf: 0.00 len: 6, id: 4546, CAR {Marginal_Adhesion=-inf_to_1.5,Normal_Nucleoli=-inf_to_2.5,Clump_Thickness=-inf_to_4.5} => {Class=benign} sup: 0.42 conf: 0.00 len: 4, id: 4493, CAR {Marginal_Adhesion=-inf_to_1.5,Normal_Nucleoli=-inf_to_2.5,Clump_Thickness=-inf_to_4.5} => {Class=malignant} sup: 0.42 conf: 0.00 len: 4, id: 4494, CAR {Marginal_Adhesion=-inf_to_1.5,Single_Epi_Cell_Size=-inf_to_2.5,Bare_Nuclei=-inf_to_1.5,Cell_Size_Uniformity=-inf_to_1.5} => {Class=benign} sup: 0.42 conf: 0.00 len: 5, id: 4535, CAR {Marginal_Adhesion=-inf_to_1.5,Single_Epi_Cell_Size=-inf_to_2.5,Bare_Nuclei=-inf_to_1.5,Cell_Size_Uniformity=-inf_to_1.5} => {Class=malignant} sup: 0.42 conf: 0.00 len: 5, id: 4536, CAR {Mitoses=-inf_to_1.5,Marginal_Adhesion=-inf_to_1.5,Clump_Thickness=-inf_to_4.5} => {Class=benign} sup: 0.42 conf: 0.00 len: 4, id: 4497, CAR {Mitoses=-inf_to_1.5,Marginal_Adhesion=-inf_to_1.5,Clump_Thickness=-inf_to_4.5} => {Class=malignant} sup: 0.42 conf: 0.00 len: 4, id: 4498, CAR {Cell_Shape_Uniformity=-inf_to_1.5,Normal_Nucleoli=-inf_to_2.5,Bare_Nuclei=-inf_to_1.5,Cell_Size_Uniformity=-inf_to_1.5} => {Class=benign} sup: 0.42 conf: 0.00 len: 5, id: 4319, CAR {Cell_Shape_Uniformity=-inf_to_1.5,Normal_Nucleoli=-inf_to_2.5,Bare_Nuclei=-inf_to_1.5,Cell_Size_Uniformity=-inf_to_1.5} => {Class=malignant} sup: 0.42 conf: 0.00 len: 5, id: 4320, CAR {Cell_Shape_Uniformity=-inf_to_1.5,Marginal_Adhesion=-inf_to_1.5,Normal_Nucleoli=-inf_to_2.5,Mitoses=-inf_to_1.5} => {Class=benign} sup: 0.42 conf: 0.00 len: 5, id: 4367, CAR {Cell_Shape_Uniformity=-inf_to_1.5,Marginal_Adhesion=-inf_to_1.5,Normal_Nucleoli=-inf_to_2.5,Mitoses=-inf_to_1.5} => {Class=malignant} sup: 0.42 conf: 0.00 len: 5, id: 4368, CAR {Cell_Shape_Uniformity=-inf_to_1.5,Normal_Nucleoli=-inf_to_2.5,Bare_Nuclei=-inf_to_1.5,Single_Epi_Cell_Size=-inf_to_2.5} => {Class=benign} sup: 0.42 conf: 0.00 len: 5, id: 4375, CAR {Cell_Shape_Uniformity=-inf_to_1.5,Normal_Nucleoli=-inf_to_2.5,Bare_Nuclei=-inf_to_1.5,Single_Epi_Cell_Size=-inf_to_2.5} => {Class=malignant} sup: 0.42 conf: 0.00 len: 5, id: 4376, CAR {Bare_Nuclei=-inf_to_1.5,Bland_Chromatin=-inf_to_2.5} => {Class=benign} sup: 0.42 conf: 0.00 len: 3, id: 4115, CAR {Bare_Nuclei=-inf_to_1.5,Bland_Chromatin=-inf_to_2.5} => {Class=malignant} sup: 0.42 conf: 0.00 len: 3, id: 4116, CAR {Mitoses=-inf_to_1.5,Clump_Thickness=-inf_to_4.5,Cell_Size_Uniformity=-inf_to_1.5} => {Class=benign} sup: 0.42 conf: 0.00 len: 4, id: 4465, CAR {Mitoses=-inf_to_1.5,Clump_Thickness=-inf_to_4.5,Cell_Size_Uniformity=-inf_to_1.5} => {Class=malignant} sup: 0.42 conf: 0.00 len: 4, id: 4466, CAR {Cell_Shape_Uniformity=-inf_to_1.5,Single_Epi_Cell_Size=-inf_to_2.5,Bare_Nuclei=-inf_to_1.5,Mitoses=-inf_to_1.5} => {Class=benign} sup: 0.42 conf: 0.00 len: 5, id: 4379, CAR {Cell_Shape_Uniformity=-inf_to_1.5,Single_Epi_Cell_Size=-inf_to_2.5,Bare_Nuclei=-inf_to_1.5,Mitoses=-inf_to_1.5} => {Class=malignant} sup: 0.42 conf: 0.00 len: 5, id: 4380, CAR {Normal_Nucleoli=-inf_to_2.5,Marginal_Adhesion=-inf_to_1.5,Single_Epi_Cell_Size=-inf_to_2.5,Bare_Nuclei=-inf_to_1.5,Cell_Size_Uniformity=-inf_to_1.5} => {Class=benign} sup: 0.42 conf: 0.00 len: 6, id: 4537, CAR {Normal_Nucleoli=-inf_to_2.5,Marginal_Adhesion=-inf_to_1.5,Single_Epi_Cell_Size=-inf_to_2.5,Bare_Nuclei=-inf_to_1.5,Cell_Size_Uniformity=-inf_to_1.5} => {Class=malignant} sup: 0.42 conf: 0.00 len: 6, id: 4538, CAR {Cell_Shape_Uniformity=-inf_to_1.5,Mitoses=-inf_to_1.5,Bare_Nuclei=-inf_to_1.5,Cell_Size_Uniformity=-inf_to_1.5} => {Class=benign} sup: 0.41 conf: 0.00 len: 5, id: 4323, CAR {Cell_Shape_Uniformity=-inf_to_1.5,Mitoses=-inf_to_1.5,Bare_Nuclei=-inf_to_1.5,Cell_Size_Uniformity=-inf_to_1.5} => {Class=malignant} sup: 0.41 conf: 0.00 len: 5, id: 4324, CAR {Normal_Nucleoli=-inf_to_2.5,Single_Epi_Cell_Size=-inf_to_2.5,Bland_Chromatin=-inf_to_2.5} => {Class=benign} sup: 0.41 conf: 0.00 len: 4, id: 4133, CAR {Normal_Nucleoli=-inf_to_2.5,Single_Epi_Cell_Size=-inf_to_2.5,Bland_Chromatin=-inf_to_2.5} => {Class=malignant} sup: 0.41 conf: 0.00 len: 4, id: 4134, CAR {Single_Epi_Cell_Size=-inf_to_2.5,Bare_Nuclei=-inf_to_1.5,Clump_Thickness=-inf_to_4.5} => {Class=benign} sup: 0.41 conf: 0.00 len: 4, id: 4501, CAR {Single_Epi_Cell_Size=-inf_to_2.5,Bare_Nuclei=-inf_to_1.5,Clump_Thickness=-inf_to_4.5} => {Class=malignant} sup: 0.41 conf: 0.00 len: 4, id: 4502, CAR {Mitoses=-inf_to_1.5,Normal_Nucleoli=-inf_to_2.5,Clump_Thickness=-inf_to_4.5,Cell_Size_Uniformity=-inf_to_1.5} => {Class=benign} sup: 0.41 conf: 0.00 len: 5, id: 4463, CAR {Mitoses=-inf_to_1.5,Normal_Nucleoli=-inf_to_2.5,Clump_Thickness=-inf_to_4.5,Cell_Size_Uniformity=-inf_to_1.5} => {Class=malignant} sup: 0.41 conf: 0.00 len: 5, id: 4464, CAR {Mitoses=-inf_to_1.5,Marginal_Adhesion=-inf_to_1.5,Single_Epi_Cell_Size=-inf_to_2.5,Bare_Nuclei=-inf_to_1.5,Cell_Size_Uniformity=-inf_to_1.5} => {Class=benign} sup: 0.41 conf: 0.00 len: 6, id: 4541, CAR {Mitoses=-inf_to_1.5,Marginal_Adhesion=-inf_to_1.5,Single_Epi_Cell_Size=-inf_to_2.5,Bare_Nuclei=-inf_to_1.5,Cell_Size_Uniformity=-inf_to_1.5} => {Class=malignant} sup: 0.41 conf: 0.00 len: 6, id: 4542, CAR {Cell_Shape_Uniformity=-inf_to_1.5,Marginal_Adhesion=-inf_to_1.5,Single_Epi_Cell_Size=-inf_to_2.5} => {Class=benign} sup: 0.41 conf: 0.00 len: 4, id: 4357, CAR {Cell_Shape_Uniformity=-inf_to_1.5,Marginal_Adhesion=-inf_to_1.5,Single_Epi_Cell_Size=-inf_to_2.5} => {Class=malignant} sup: 0.41 conf: 0.00 len: 4, id: 4358, CAR {Mitoses=-inf_to_1.5,Marginal_Adhesion=-inf_to_1.5,Normal_Nucleoli=-inf_to_2.5,Clump_Thickness=-inf_to_4.5} => {Class=benign} sup: 0.41 conf: 0.00 len: 5, id: 4495, CAR {Mitoses=-inf_to_1.5,Marginal_Adhesion=-inf_to_1.5,Normal_Nucleoli=-inf_to_2.5,Clump_Thickness=-inf_to_4.5} => {Class=malignant} sup: 0.41 conf: 0.00 len: 5, id: 4496, CAR {Cell_Shape_Uniformity=-inf_to_1.5,Mitoses=-inf_to_1.5,Normal_Nucleoli=-inf_to_2.5,Bare_Nuclei=-inf_to_1.5,Cell_Size_Uniformity=-inf_to_1.5} => {Class=benign} sup: 0.41 conf: 0.00 len: 6, id: 4321, CAR {Cell_Shape_Uniformity=-inf_to_1.5,Mitoses=-inf_to_1.5,Normal_Nucleoli=-inf_to_2.5,Bare_Nuclei=-inf_to_1.5,Cell_Size_Uniformity=-inf_to_1.5} => {Class=malignant} sup: 0.41 conf: 0.00 len: 6, id: 4322, CAR {Cell_Shape_Uniformity=-inf_to_1.5,Mitoses=-inf_to_1.5,Normal_Nucleoli=-inf_to_2.5,Single_Epi_Cell_Size=-inf_to_2.5,Bare_Nuclei=-inf_to_1.5} => {Class=benign} sup: 0.41 conf: 0.00 len: 6, id: 4377, CAR {Cell_Shape_Uniformity=-inf_to_1.5,Mitoses=-inf_to_1.5,Normal_Nucleoli=-inf_to_2.5,Single_Epi_Cell_Size=-inf_to_2.5,Bare_Nuclei=-inf_to_1.5} => {Class=malignant} sup: 0.41 conf: 0.00 len: 6, id: 4378, CAR {Mitoses=-inf_to_1.5,Single_Epi_Cell_Size=-inf_to_2.5,Bland_Chromatin=-inf_to_2.5} => {Class=benign} sup: 0.41 conf: 0.00 len: 4, id: 4137, CAR {Mitoses=-inf_to_1.5,Single_Epi_Cell_Size=-inf_to_2.5,Bland_Chromatin=-inf_to_2.5} => {Class=malignant} sup: 0.41 conf: 0.00 len: 4, id: 4138, CAR {Mitoses=-inf_to_1.5,Normal_Nucleoli=-inf_to_2.5,Marginal_Adhesion=-inf_to_1.5,Single_Epi_Cell_Size=-inf_to_2.5,Bare_Nuclei=-inf_to_1.5,Cell_Size_Uniformity=-inf_to_1.5} => {Class=benign} sup: 0.41 conf: 0.00 len: 7, id: 4539, CAR {Mitoses=-inf_to_1.5,Normal_Nucleoli=-inf_to_2.5,Marginal_Adhesion=-inf_to_1.5,Single_Epi_Cell_Size=-inf_to_2.5,Bare_Nuclei=-inf_to_1.5,Cell_Size_Uniformity=-inf_to_1.5} => {Class=malignant} sup: 0.41 conf: 0.00 len: 7, id: 4540, CAR {Normal_Nucleoli=-inf_to_2.5,Bare_Nuclei=-inf_to_1.5,Bland_Chromatin=-inf_to_2.5} => {Class=benign} sup: 0.41 conf: 0.00 len: 4, id: 4125, CAR {Normal_Nucleoli=-inf_to_2.5,Bare_Nuclei=-inf_to_1.5,Bland_Chromatin=-inf_to_2.5} => {Class=malignant} sup: 0.41 conf: 0.00 len: 4, id: 4126, CAR {Mitoses=-inf_to_1.5,Bare_Nuclei=-inf_to_1.5,Bland_Chromatin=-inf_to_2.5} => {Class=benign} sup: 0.41 conf: 0.00 len: 4, id: 4129, CAR {Mitoses=-inf_to_1.5,Bare_Nuclei=-inf_to_1.5,Bland_Chromatin=-inf_to_2.5} => {Class=malignant} sup: 0.41 conf: 0.00 len: 4, id: 4130, CAR {Single_Epi_Cell_Size=-inf_to_2.5,Clump_Thickness=-inf_to_4.5,Cell_Size_Uniformity=-inf_to_1.5} => {Class=benign} sup: 0.40 conf: 0.00 len: 4, id: 4453, CAR {Single_Epi_Cell_Size=-inf_to_2.5,Clump_Thickness=-inf_to_4.5,Cell_Size_Uniformity=-inf_to_1.5} => {Class=malignant} sup: 0.40 conf: 0.00 len: 4, id: 4454, CAR {Marginal_Adhesion=-inf_to_1.5,Single_Epi_Cell_Size=-inf_to_2.5,Clump_Thickness=-inf_to_4.5} => {Class=benign} sup: 0.40 conf: 0.00 len: 4, id: 4485, CAR {Marginal_Adhesion=-inf_to_1.5,Single_Epi_Cell_Size=-inf_to_2.5,Clump_Thickness=-inf_to_4.5} => {Class=malignant} sup: 0.40 conf: 0.00 len: 4, id: 4486, CAR {Normal_Nucleoli=-inf_to_2.5,Single_Epi_Cell_Size=-inf_to_2.5,Bare_Nuclei=-inf_to_1.5,Clump_Thickness=-inf_to_4.5} => {Class=benign} sup: 0.40 conf: 0.00 len: 5, id: 4503, CAR {Normal_Nucleoli=-inf_to_2.5,Single_Epi_Cell_Size=-inf_to_2.5,Bare_Nuclei=-inf_to_1.5,Clump_Thickness=-inf_to_4.5} => {Class=malignant} sup: 0.40 conf: 0.00 len: 5, id: 4504, CAR {Mitoses=-inf_to_1.5,Single_Epi_Cell_Size=-inf_to_2.5,Bare_Nuclei=-inf_to_1.5,Clump_Thickness=-inf_to_4.5} => {Class=benign} sup: 0.40 conf: 0.00 len: 5, id: 4507, CAR {Mitoses=-inf_to_1.5,Single_Epi_Cell_Size=-inf_to_2.5,Bare_Nuclei=-inf_to_1.5,Clump_Thickness=-inf_to_4.5} => {Class=malignant} sup: 0.40 conf: 0.00 len: 5, id: 4508, CAR {Cell_Shape_Uniformity=-inf_to_1.5,Clump_Thickness=-inf_to_4.5} => {Class=benign} sup: 0.40 conf: 0.00 len: 3, id: 4147, CAR {Cell_Shape_Uniformity=-inf_to_1.5,Clump_Thickness=-inf_to_4.5} => {Class=malignant} sup: 0.40 conf: 0.00 len: 3, id: 4148, CAR {Cell_Shape_Uniformity=-inf_to_1.5,Marginal_Adhesion=-inf_to_1.5,Cell_Size_Uniformity=-inf_to_1.5} => {Class=benign} sup: 0.40 conf: 0.00 len: 4, id: 4277, CAR {Cell_Shape_Uniformity=-inf_to_1.5,Marginal_Adhesion=-inf_to_1.5,Cell_Size_Uniformity=-inf_to_1.5} => {Class=malignant} sup: 0.40 conf: 0.00 len: 4, id: 4278, CAR {Cell_Shape_Uniformity=-inf_to_1.5,Marginal_Adhesion=-inf_to_1.5,Normal_Nucleoli=-inf_to_2.5,Single_Epi_Cell_Size=-inf_to_2.5} => {Class=benign} sup: 0.40 conf: 0.00 len: 5, id: 4359, CAR {Cell_Shape_Uniformity=-inf_to_1.5,Marginal_Adhesion=-inf_to_1.5,Normal_Nucleoli=-inf_to_2.5,Single_Epi_Cell_Size=-inf_to_2.5} => {Class=malignant} sup: 0.40 conf: 0.00 len: 5, id: 4360, CAR {Cell_Shape_Uniformity=-inf_to_1.5,Marginal_Adhesion=-inf_to_1.5,Mitoses=-inf_to_1.5,Single_Epi_Cell_Size=-inf_to_2.5} => {Class=benign} sup: 0.40 conf: 0.00 len: 5, id: 4363, CAR {Cell_Shape_Uniformity=-inf_to_1.5,Marginal_Adhesion=-inf_to_1.5,Mitoses=-inf_to_1.5,Single_Epi_Cell_Size=-inf_to_2.5} => {Class=malignant} sup: 0.40 conf: 0.00 len: 5, id: 4364, CAR {Cell_Shape_Uniformity=-inf_to_1.5,Single_Epi_Cell_Size=-inf_to_2.5,Bare_Nuclei=-inf_to_1.5,Cell_Size_Uniformity=-inf_to_1.5} => {Class=benign} sup: 0.40 conf: 0.00 len: 5, id: 4311, CAR {Cell_Shape_Uniformity=-inf_to_1.5,Single_Epi_Cell_Size=-inf_to_2.5,Bare_Nuclei=-inf_to_1.5,Cell_Size_Uniformity=-inf_to_1.5} => {Class=malignant} sup: 0.40 conf: 0.00 len: 5, id: 4312, CAR {Normal_Nucleoli=-inf_to_2.5,Single_Epi_Cell_Size=-inf_to_2.5,Clump_Thickness=-inf_to_4.5,Cell_Size_Uniformity=-inf_to_1.5} => {Class=benign} sup: 0.40 conf: 0.00 len: 5, id: 4455, CAR {Normal_Nucleoli=-inf_to_2.5,Single_Epi_Cell_Size=-inf_to_2.5,Clump_Thickness=-inf_to_4.5,Cell_Size_Uniformity=-inf_to_1.5} => {Class=malignant} sup: 0.40 conf: 0.00 len: 5, id: 4456, CAR {Cell_Shape_Uniformity=-inf_to_1.5,Normal_Nucleoli=-inf_to_2.5,Clump_Thickness=-inf_to_4.5} => {Class=benign} sup: 0.40 conf: 0.00 len: 4, id: 4269, CAR {Cell_Shape_Uniformity=-inf_to_1.5,Normal_Nucleoli=-inf_to_2.5,Clump_Thickness=-inf_to_4.5} => {Class=malignant} sup: 0.40 conf: 0.00 len: 4, id: 4270, CAR {Cell_Shape_Uniformity=-inf_to_1.5,Marginal_Adhesion=-inf_to_1.5,Bare_Nuclei=-inf_to_1.5} => {Class=benign} sup: 0.40 conf: 0.00 len: 4, id: 4341, CAR {Cell_Shape_Uniformity=-inf_to_1.5,Marginal_Adhesion=-inf_to_1.5,Bare_Nuclei=-inf_to_1.5} => {Class=malignant} sup: 0.40 conf: 0.00 len: 4, id: 4342, CAR {Mitoses=-inf_to_1.5,Normal_Nucleoli=-inf_to_2.5,Bare_Nuclei=-inf_to_1.5,Bland_Chromatin=-inf_to_2.5} => {Class=benign} sup: 0.40 conf: 0.00 len: 5, id: 4127, CAR {Mitoses=-inf_to_1.5,Normal_Nucleoli=-inf_to_2.5,Bare_Nuclei=-inf_to_1.5,Bland_Chromatin=-inf_to_2.5} => {Class=malignant} sup: 0.40 conf: 0.00 len: 5, id: 4128, CAR {Mitoses=-inf_to_1.5,Normal_Nucleoli=-inf_to_2.5,Single_Epi_Cell_Size=-inf_to_2.5,Bland_Chromatin=-inf_to_2.5} => {Class=benign} sup: 0.40 conf: 0.00 len: 5, id: 4135, CAR {Mitoses=-inf_to_1.5,Normal_Nucleoli=-inf_to_2.5,Single_Epi_Cell_Size=-inf_to_2.5,Bland_Chromatin=-inf_to_2.5} => {Class=malignant} sup: 0.40 conf: 0.00 len: 5, id: 4136, CAR {Cell_Shape_Uniformity=-inf_to_1.5,Marginal_Adhesion=-inf_to_1.5,Normal_Nucleoli=-inf_to_2.5,Cell_Size_Uniformity=-inf_to_1.5} => {Class=benign} sup: 0.40 conf: 0.00 len: 5, id: 4303, CAR {Cell_Shape_Uniformity=-inf_to_1.5,Marginal_Adhesion=-inf_to_1.5,Normal_Nucleoli=-inf_to_2.5,Cell_Size_Uniformity=-inf_to_1.5} => {Class=malignant} sup: 0.40 conf: 0.00 len: 5, id: 4304, CAR {Marginal_Adhesion=-inf_to_1.5,Normal_Nucleoli=-inf_to_2.5,Single_Epi_Cell_Size=-inf_to_2.5,Clump_Thickness=-inf_to_4.5} => {Class=benign} sup: 0.40 conf: 0.00 len: 5, id: 4487, CAR {Marginal_Adhesion=-inf_to_1.5,Normal_Nucleoli=-inf_to_2.5,Single_Epi_Cell_Size=-inf_to_2.5,Clump_Thickness=-inf_to_4.5} => {Class=malignant} sup: 0.40 conf: 0.00 len: 5, id: 4488, CAR {Cell_Shape_Uniformity=-inf_to_1.5,Normal_Nucleoli=-inf_to_2.5,Single_Epi_Cell_Size=-inf_to_2.5,Bare_Nuclei=-inf_to_1.5,Cell_Size_Uniformity=-inf_to_1.5} => {Class=benign} sup: 0.40 conf: 0.00 len: 6, id: 4313, CAR {Cell_Shape_Uniformity=-inf_to_1.5,Normal_Nucleoli=-inf_to_2.5,Single_Epi_Cell_Size=-inf_to_2.5,Bare_Nuclei=-inf_to_1.5,Cell_Size_Uniformity=-inf_to_1.5} => {Class=malignant} sup: 0.40 conf: 0.00 len: 6, id: 4314, CAR {Mitoses=-inf_to_1.5,Normal_Nucleoli=-inf_to_2.5,Clump_Thickness=-inf_to_4.5,Single_Epi_Cell_Size=-inf_to_2.5,Bare_Nuclei=-inf_to_1.5} => {Class=benign} sup: 0.40 conf: 0.00 len: 6, id: 4505, CAR {Mitoses=-inf_to_1.5,Normal_Nucleoli=-inf_to_2.5,Clump_Thickness=-inf_to_4.5,Single_Epi_Cell_Size=-inf_to_2.5,Bare_Nuclei=-inf_to_1.5} => {Class=malignant} sup: 0.40 conf: 0.00 len: 6, id: 4506, CAR {Cell_Shape_Uniformity=-inf_to_1.5,Marginal_Adhesion=-inf_to_1.5,Mitoses=-inf_to_1.5,Cell_Size_Uniformity=-inf_to_1.5} => {Class=benign} sup: 0.40 conf: 0.00 len: 5, id: 4307, CAR {Cell_Shape_Uniformity=-inf_to_1.5,Marginal_Adhesion=-inf_to_1.5,Mitoses=-inf_to_1.5,Cell_Size_Uniformity=-inf_to_1.5} => {Class=malignant} sup: 0.40 conf: 0.00 len: 5, id: 4308, CAR {Mitoses=-inf_to_1.5,Single_Epi_Cell_Size=-inf_to_2.5,Clump_Thickness=-inf_to_4.5,Cell_Size_Uniformity=-inf_to_1.5} => {Class=benign} sup: 0.40 conf: 0.00 len: 5, id: 4459, CAR {Mitoses=-inf_to_1.5,Single_Epi_Cell_Size=-inf_to_2.5,Clump_Thickness=-inf_to_4.5,Cell_Size_Uniformity=-inf_to_1.5} => {Class=malignant} sup: 0.40 conf: 0.00 len: 5, id: 4460, CAR {Mitoses=-inf_to_1.5,Marginal_Adhesion=-inf_to_1.5,Single_Epi_Cell_Size=-inf_to_2.5,Clump_Thickness=-inf_to_4.5} => {Class=benign} sup: 0.40 conf: 0.00 len: 5, id: 4491, CAR {Mitoses=-inf_to_1.5,Marginal_Adhesion=-inf_to_1.5,Single_Epi_Cell_Size=-inf_to_2.5,Clump_Thickness=-inf_to_4.5} => {Class=malignant} sup: 0.40 conf: 0.00 len: 5, id: 4492, CAR {Cell_Shape_Uniformity=-inf_to_1.5,Mitoses=-inf_to_1.5,Normal_Nucleoli=-inf_to_2.5,Marginal_Adhesion=-inf_to_1.5,Single_Epi_Cell_Size=-inf_to_2.5} => {Class=benign} sup: 0.40 conf: 0.00 len: 6, id: 4361, CAR {Cell_Shape_Uniformity=-inf_to_1.5,Mitoses=-inf_to_1.5,Normal_Nucleoli=-inf_to_2.5,Marginal_Adhesion=-inf_to_1.5,Single_Epi_Cell_Size=-inf_to_2.5} => {Class=malignant} sup: 0.40 conf: 0.00 len: 6, id: 4362, CAR {Cell_Shape_Uniformity=-inf_to_1.5,Mitoses=-inf_to_1.5,Clump_Thickness=-inf_to_4.5} => {Class=benign} sup: 0.39 conf: 0.00 len: 4, id: 4273, CAR {Cell_Shape_Uniformity=-inf_to_1.5,Mitoses=-inf_to_1.5,Clump_Thickness=-inf_to_4.5} => {Class=malignant} sup: 0.39 conf: 0.00 len: 4, id: 4274, CAR {Cell_Shape_Uniformity=-inf_to_1.5,Mitoses=-inf_to_1.5,Single_Epi_Cell_Size=-inf_to_2.5,Bare_Nuclei=-inf_to_1.5,Cell_Size_Uniformity=-inf_to_1.5} => {Class=benign} sup: 0.39 conf: 0.00 len: 6, id: 4317, CAR {Cell_Shape_Uniformity=-inf_to_1.5,Mitoses=-inf_to_1.5,Single_Epi_Cell_Size=-inf_to_2.5,Bare_Nuclei=-inf_to_1.5,Cell_Size_Uniformity=-inf_to_1.5} => {Class=malignant} sup: 0.39 conf: 0.00 len: 6, id: 4318, CAR {Bland_Chromatin=-inf_to_2.5,Cell_Size_Uniformity=-inf_to_1.5} => {Class=benign} sup: 0.39 conf: 0.00 len: 3, id: 4019, CAR {Bland_Chromatin=-inf_to_2.5,Cell_Size_Uniformity=-inf_to_1.5} => {Class=malignant} sup: 0.39 conf: 0.00 len: 3, id: 4020, CAR {Cell_Shape_Uniformity=-inf_to_1.5,Marginal_Adhesion=-inf_to_1.5,Normal_Nucleoli=-inf_to_2.5,Bare_Nuclei=-inf_to_1.5} => {Class=benign} sup: 0.39 conf: 0.00 len: 5, id: 4351, CAR {Cell_Shape_Uniformity=-inf_to_1.5,Marginal_Adhesion=-inf_to_1.5,Normal_Nucleoli=-inf_to_2.5,Bare_Nuclei=-inf_to_1.5} => {Class=malignant} sup: 0.39 conf: 0.00 len: 5, id: 4352, CAR {Mitoses=-inf_to_1.5,Normal_Nucleoli=-inf_to_2.5,Clump_Thickness=-inf_to_4.5,Single_Epi_Cell_Size=-inf_to_2.5,Cell_Size_Uniformity=-inf_to_1.5} => {Class=benign} sup: 0.39 conf: 0.00 len: 6, id: 4457, CAR {Mitoses=-inf_to_1.5,Normal_Nucleoli=-inf_to_2.5,Clump_Thickness=-inf_to_4.5,Single_Epi_Cell_Size=-inf_to_2.5,Cell_Size_Uniformity=-inf_to_1.5} => {Class=malignant} sup: 0.39 conf: 0.00 len: 6, id: 4458, CAR {Marginal_Adhesion=-inf_to_1.5,Bland_Chromatin=-inf_to_2.5} => {Class=benign} sup: 0.39 conf: 0.00 len: 3, id: 4083, CAR {Marginal_Adhesion=-inf_to_1.5,Bland_Chromatin=-inf_to_2.5} => {Class=malignant} sup: 0.39 conf: 0.00 len: 3, id: 4084, CAR {Marginal_Adhesion=-inf_to_1.5,Bare_Nuclei=-inf_to_1.5,Clump_Thickness=-inf_to_4.5} => {Class=benign} sup: 0.39 conf: 0.00 len: 4, id: 4469, CAR {Marginal_Adhesion=-inf_to_1.5,Bare_Nuclei=-inf_to_1.5,Clump_Thickness=-inf_to_4.5} => {Class=malignant} sup: 0.39 conf: 0.00 len: 4, id: 4470, CAR {Cell_Shape_Uniformity=-inf_to_1.5,Marginal_Adhesion=-inf_to_1.5,Bare_Nuclei=-inf_to_1.5,Mitoses=-inf_to_1.5} => {Class=benign} sup: 0.39 conf: 0.00 len: 5, id: 4355, CAR {Cell_Shape_Uniformity=-inf_to_1.5,Marginal_Adhesion=-inf_to_1.5,Bare_Nuclei=-inf_to_1.5,Mitoses=-inf_to_1.5} => {Class=malignant} sup: 0.39 conf: 0.00 len: 5, id: 4356, CAR {Cell_Shape_Uniformity=-inf_to_1.5,Mitoses=-inf_to_1.5,Normal_Nucleoli=-inf_to_2.5,Marginal_Adhesion=-inf_to_1.5,Cell_Size_Uniformity=-inf_to_1.5} => {Class=benign} sup: 0.39 conf: 0.00 len: 6, id: 4305, CAR {Cell_Shape_Uniformity=-inf_to_1.5,Mitoses=-inf_to_1.5,Normal_Nucleoli=-inf_to_2.5,Marginal_Adhesion=-inf_to_1.5,Cell_Size_Uniformity=-inf_to_1.5} => {Class=malignant} sup: 0.39 conf: 0.00 len: 6, id: 4306, CAR {Cell_Shape_Uniformity=-inf_to_1.5,Mitoses=-inf_to_1.5,Normal_Nucleoli=-inf_to_2.5,Single_Epi_Cell_Size=-inf_to_2.5,Bare_Nuclei=-inf_to_1.5,Cell_Size_Uniformity=-inf_to_1.5} => {Class=benign} sup: 0.39 conf: 0.00 len: 7, id: 4315, CAR {Cell_Shape_Uniformity=-inf_to_1.5,Mitoses=-inf_to_1.5,Normal_Nucleoli=-inf_to_2.5,Single_Epi_Cell_Size=-inf_to_2.5,Bare_Nuclei=-inf_to_1.5,Cell_Size_Uniformity=-inf_to_1.5} => {Class=malignant} sup: 0.39 conf: 0.00 len: 7, id: 4316, CAR {Bare_Nuclei=-inf_to_1.5,Clump_Thickness=-inf_to_4.5,Cell_Size_Uniformity=-inf_to_1.5} => {Class=benign} sup: 0.39 conf: 0.00 len: 4, id: 4437, CAR {Bare_Nuclei=-inf_to_1.5,Clump_Thickness=-inf_to_4.5,Cell_Size_Uniformity=-inf_to_1.5} => {Class=malignant} sup: 0.39 conf: 0.00 len: 4, id: 4438, CAR {Cell_Shape_Uniformity=-inf_to_1.5,Normal_Nucleoli=-inf_to_2.5,Mitoses=-inf_to_1.5,Clump_Thickness=-inf_to_4.5} => {Class=benign} sup: 0.39 conf: 0.00 len: 5, id: 4271, CAR {Cell_Shape_Uniformity=-inf_to_1.5,Normal_Nucleoli=-inf_to_2.5,Mitoses=-inf_to_1.5,Clump_Thickness=-inf_to_4.5} => {Class=malignant} sup: 0.39 conf: 0.00 len: 5, id: 4272, CAR {Mitoses=-inf_to_1.5,Normal_Nucleoli=-inf_to_2.5,Clump_Thickness=-inf_to_4.5,Marginal_Adhesion=-inf_to_1.5,Single_Epi_Cell_Size=-inf_to_2.5} => {Class=benign} sup: 0.39 conf: 0.00 len: 6, id: 4489, CAR {Mitoses=-inf_to_1.5,Normal_Nucleoli=-inf_to_2.5,Clump_Thickness=-inf_to_4.5,Marginal_Adhesion=-inf_to_1.5,Single_Epi_Cell_Size=-inf_to_2.5} => {Class=malignant} sup: 0.39 conf: 0.00 len: 6, id: 4490, CAR {Normal_Nucleoli=-inf_to_2.5,Bland_Chromatin=-inf_to_2.5,Cell_Size_Uniformity=-inf_to_1.5} => {Class=benign} sup: 0.39 conf: 0.00 len: 4, id: 4077, CAR {Normal_Nucleoli=-inf_to_2.5,Bland_Chromatin=-inf_to_2.5,Cell_Size_Uniformity=-inf_to_1.5} => {Class=malignant} sup: 0.39 conf: 0.00 len: 4, id: 4078, CAR {Cell_Shape_Uniformity=-inf_to_1.5,Marginal_Adhesion=-inf_to_1.5,Single_Epi_Cell_Size=-inf_to_2.5,Cell_Size_Uniformity=-inf_to_1.5} => {Class=benign} sup: 0.39 conf: 0.00 len: 5, id: 4295, CAR {Cell_Shape_Uniformity=-inf_to_1.5,Marginal_Adhesion=-inf_to_1.5,Single_Epi_Cell_Size=-inf_to_2.5,Cell_Size_Uniformity=-inf_to_1.5} => {Class=malignant} sup: 0.39 conf: 0.00 len: 5, id: 4296, CAR {Normal_Nucleoli=-inf_to_2.5,Bare_Nuclei=-inf_to_1.5,Clump_Thickness=-inf_to_4.5,Cell_Size_Uniformity=-inf_to_1.5} => {Class=benign} sup: 0.38 conf: 0.00 len: 5, id: 4447, CAR {Normal_Nucleoli=-inf_to_2.5,Bare_Nuclei=-inf_to_1.5,Clump_Thickness=-inf_to_4.5,Cell_Size_Uniformity=-inf_to_1.5} => {Class=malignant} sup: 0.38 conf: 0.00 len: 5, id: 4448, CAR {Cell_Shape_Uniformity=-inf_to_1.5,Mitoses=-inf_to_1.5,Normal_Nucleoli=-inf_to_2.5,Marginal_Adhesion=-inf_to_1.5,Bare_Nuclei=-inf_to_1.5} => {Class=benign} sup: 0.38 conf: 0.00 len: 6, id: 4353, CAR {Cell_Shape_Uniformity=-inf_to_1.5,Mitoses=-inf_to_1.5,Normal_Nucleoli=-inf_to_2.5,Marginal_Adhesion=-inf_to_1.5,Bare_Nuclei=-inf_to_1.5} => {Class=malignant} sup: 0.38 conf: 0.00 len: 6, id: 4354, CAR {Mitoses=-inf_to_1.5,Bland_Chromatin=-inf_to_2.5,Cell_Size_Uniformity=-inf_to_1.5} => {Class=benign} sup: 0.38 conf: 0.00 len: 4, id: 4081, CAR {Mitoses=-inf_to_1.5,Bland_Chromatin=-inf_to_2.5,Cell_Size_Uniformity=-inf_to_1.5} => {Class=malignant} sup: 0.38 conf: 0.00 len: 4, id: 4082, CAR {Bare_Nuclei=-inf_to_1.5,Bland_Chromatin=-inf_to_2.5,Single_Epi_Cell_Size=-inf_to_2.5} => {Class=benign} sup: 0.38 conf: 0.00 len: 4, id: 4117, CAR {Bare_Nuclei=-inf_to_1.5,Bland_Chromatin=-inf_to_2.5,Single_Epi_Cell_Size=-inf_to_2.5} => {Class=malignant} sup: 0.38 conf: 0.00 len: 4, id: 4118, CAR {Marginal_Adhesion=-inf_to_1.5,Normal_Nucleoli=-inf_to_2.5,Bare_Nuclei=-inf_to_1.5,Clump_Thickness=-inf_to_4.5} => {Class=benign} sup: 0.38 conf: 0.00 len: 5, id: 4479, CAR {Marginal_Adhesion=-inf_to_1.5,Normal_Nucleoli=-inf_to_2.5,Bare_Nuclei=-inf_to_1.5,Clump_Thickness=-inf_to_4.5} => {Class=malignant} sup: 0.38 conf: 0.00 len: 5, id: 4480, CAR {Mitoses=-inf_to_1.5,Marginal_Adhesion=-inf_to_1.5,Bare_Nuclei=-inf_to_1.5,Clump_Thickness=-inf_to_4.5} => {Class=benign} sup: 0.38 conf: 0.00 len: 5, id: 4483, CAR {Mitoses=-inf_to_1.5,Marginal_Adhesion=-inf_to_1.5,Bare_Nuclei=-inf_to_1.5,Clump_Thickness=-inf_to_4.5} => {Class=malignant} sup: 0.38 conf: 0.00 len: 5, id: 4484, CAR {Mitoses=-inf_to_1.5,Bare_Nuclei=-inf_to_1.5,Clump_Thickness=-inf_to_4.5,Cell_Size_Uniformity=-inf_to_1.5} => {Class=benign} sup: 0.38 conf: 0.00 len: 5, id: 4451, CAR {Mitoses=-inf_to_1.5,Bare_Nuclei=-inf_to_1.5,Clump_Thickness=-inf_to_4.5,Cell_Size_Uniformity=-inf_to_1.5} => {Class=malignant} sup: 0.38 conf: 0.00 len: 5, id: 4452, CAR {Cell_Shape_Uniformity=-inf_to_1.5,Normal_Nucleoli=-inf_to_2.5,Marginal_Adhesion=-inf_to_1.5,Single_Epi_Cell_Size=-inf_to_2.5,Cell_Size_Uniformity=-inf_to_1.5} => {Class=benign} sup: 0.38 conf: 0.00 len: 6, id: 4297, CAR {Cell_Shape_Uniformity=-inf_to_1.5,Normal_Nucleoli=-inf_to_2.5,Marginal_Adhesion=-inf_to_1.5,Single_Epi_Cell_Size=-inf_to_2.5,Cell_Size_Uniformity=-inf_to_1.5} => {Class=malignant} sup: 0.38 conf: 0.00 len: 6, id: 4298, CAR {Marginal_Adhesion=-inf_to_1.5,Normal_Nucleoli=-inf_to_2.5,Bland_Chromatin=-inf_to_2.5} => {Class=benign} sup: 0.38 conf: 0.00 len: 4, id: 4109, CAR {Marginal_Adhesion=-inf_to_1.5,Normal_Nucleoli=-inf_to_2.5,Bland_Chromatin=-inf_to_2.5} => {Class=malignant} sup: 0.38 conf: 0.00 len: 4, id: 4110, CAR {Cell_Shape_Uniformity=-inf_to_1.5,Clump_Thickness=-inf_to_4.5,Cell_Size_Uniformity=-inf_to_1.5} => {Class=benign} sup: 0.38 conf: 0.00 len: 4, id: 4149, CAR {Cell_Shape_Uniformity=-inf_to_1.5,Clump_Thickness=-inf_to_4.5,Cell_Size_Uniformity=-inf_to_1.5} => {Class=malignant} sup: 0.38 conf: 0.00 len: 4, id: 4150, CAR {Cell_Shape_Uniformity=-inf_to_1.5,Single_Epi_Cell_Size=-inf_to_2.5,Clump_Thickness=-inf_to_4.5} => {Class=benign} sup: 0.38 conf: 0.00 len: 4, id: 4261, CAR {Cell_Shape_Uniformity=-inf_to_1.5,Single_Epi_Cell_Size=-inf_to_2.5,Clump_Thickness=-inf_to_4.5} => {Class=malignant} sup: 0.38 conf: 0.00 len: 4, id: 4262, CAR {Marginal_Adhesion=-inf_to_1.5,Clump_Thickness=-inf_to_4.5,Cell_Size_Uniformity=-inf_to_1.5} => {Class=benign} sup: 0.38 conf: 0.00 len: 4, id: 4405, CAR {Marginal_Adhesion=-inf_to_1.5,Clump_Thickness=-inf_to_4.5,Cell_Size_Uniformity=-inf_to_1.5} => {Class=malignant} sup: 0.38 conf: 0.00 len: 4, id: 4406, CAR {Cell_Shape_Uniformity=-inf_to_1.5,Marginal_Adhesion=-inf_to_1.5,Bare_Nuclei=-inf_to_1.5,Single_Epi_Cell_Size=-inf_to_2.5} => {Class=benign} sup: 0.38 conf: 0.00 len: 5, id: 4343, CAR {Cell_Shape_Uniformity=-inf_to_1.5,Marginal_Adhesion=-inf_to_1.5,Bare_Nuclei=-inf_to_1.5,Single_Epi_Cell_Size=-inf_to_2.5} => {Class=malignant} sup: 0.38 conf: 0.00 len: 5, id: 4344, CAR {Cell_Shape_Uniformity=-inf_to_1.5,Mitoses=-inf_to_1.5,Marginal_Adhesion=-inf_to_1.5,Single_Epi_Cell_Size=-inf_to_2.5,Cell_Size_Uniformity=-inf_to_1.5} => {Class=benign} sup: 0.38 conf: 0.00 len: 6, id: 4301, CAR {Cell_Shape_Uniformity=-inf_to_1.5,Mitoses=-inf_to_1.5,Marginal_Adhesion=-inf_to_1.5,Single_Epi_Cell_Size=-inf_to_2.5,Cell_Size_Uniformity=-inf_to_1.5} => {Class=malignant} sup: 0.38 conf: 0.00 len: 6, id: 4302, CAR {Mitoses=-inf_to_1.5,Normal_Nucleoli=-inf_to_2.5,Bland_Chromatin=-inf_to_2.5,Cell_Size_Uniformity=-inf_to_1.5} => {Class=benign} sup: 0.38 conf: 0.00 len: 5, id: 4079, CAR {Mitoses=-inf_to_1.5,Normal_Nucleoli=-inf_to_2.5,Bland_Chromatin=-inf_to_2.5,Cell_Size_Uniformity=-inf_to_1.5} => {Class=malignant} sup: 0.38 conf: 0.00 len: 5, id: 4080, CAR {Mitoses=-inf_to_1.5,Normal_Nucleoli=-inf_to_2.5,Clump_Thickness=-inf_to_4.5,Bare_Nuclei=-inf_to_1.5,Cell_Size_Uniformity=-inf_to_1.5} => {Class=benign} sup: 0.38 conf: 0.00 len: 6, id: 4449, CAR {Mitoses=-inf_to_1.5,Normal_Nucleoli=-inf_to_2.5,Clump_Thickness=-inf_to_4.5,Bare_Nuclei=-inf_to_1.5,Cell_Size_Uniformity=-inf_to_1.5} => {Class=malignant} sup: 0.38 conf: 0.00 len: 6, id: 4450, CAR {Mitoses=-inf_to_1.5,Marginal_Adhesion=-inf_to_1.5,Bland_Chromatin=-inf_to_2.5} => {Class=benign} sup: 0.38 conf: 0.00 len: 4, id: 4113, CAR {Mitoses=-inf_to_1.5,Marginal_Adhesion=-inf_to_1.5,Bland_Chromatin=-inf_to_2.5} => {Class=malignant} sup: 0.38 conf: 0.00 len: 4, id: 4114, CAR {Normal_Nucleoli=-inf_to_2.5,Bare_Nuclei=-inf_to_1.5,Bland_Chromatin=-inf_to_2.5,Single_Epi_Cell_Size=-inf_to_2.5} => {Class=benign} sup: 0.38 conf: 0.00 len: 5, id: 4119, CAR {Normal_Nucleoli=-inf_to_2.5,Bare_Nuclei=-inf_to_1.5,Bland_Chromatin=-inf_to_2.5,Single_Epi_Cell_Size=-inf_to_2.5} => {Class=malignant} sup: 0.38 conf: 0.00 len: 5, id: 4120, CAR {Mitoses=-inf_to_1.5,Bare_Nuclei=-inf_to_1.5,Bland_Chromatin=-inf_to_2.5,Single_Epi_Cell_Size=-inf_to_2.5} => {Class=benign} sup: 0.38 conf: 0.00 len: 5, id: 4123, CAR {Mitoses=-inf_to_1.5,Bare_Nuclei=-inf_to_1.5,Bland_Chromatin=-inf_to_2.5,Single_Epi_Cell_Size=-inf_to_2.5} => {Class=malignant} sup: 0.38 conf: 0.00 len: 5, id: 4124, CAR {Cell_Shape_Uniformity=-inf_to_1.5,Normal_Nucleoli=-inf_to_2.5,Clump_Thickness=-inf_to_4.5,Cell_Size_Uniformity=-inf_to_1.5} => {Class=benign} sup: 0.38 conf: 0.00 len: 5, id: 4207, CAR {Cell_Shape_Uniformity=-inf_to_1.5,Normal_Nucleoli=-inf_to_2.5,Clump_Thickness=-inf_to_4.5,Cell_Size_Uniformity=-inf_to_1.5} => {Class=malignant} sup: 0.38 conf: 0.00 len: 5, id: 4208, CAR {Marginal_Adhesion=-inf_to_1.5,Normal_Nucleoli=-inf_to_2.5,Clump_Thickness=-inf_to_4.5,Cell_Size_Uniformity=-inf_to_1.5} => {Class=benign} sup: 0.38 conf: 0.00 len: 5, id: 4431, CAR {Marginal_Adhesion=-inf_to_1.5,Normal_Nucleoli=-inf_to_2.5,Clump_Thickness=-inf_to_4.5,Cell_Size_Uniformity=-inf_to_1.5} => {Class=malignant} sup: 0.38 conf: 0.00 len: 5, id: 4432, CAR {Mitoses=-inf_to_1.5,Normal_Nucleoli=-inf_to_2.5,Clump_Thickness=-inf_to_4.5,Marginal_Adhesion=-inf_to_1.5,Bare_Nuclei=-inf_to_1.5} => {Class=benign} sup: 0.38 conf: 0.00 len: 6, id: 4481, CAR {Mitoses=-inf_to_1.5,Normal_Nucleoli=-inf_to_2.5,Clump_Thickness=-inf_to_4.5,Marginal_Adhesion=-inf_to_1.5,Bare_Nuclei=-inf_to_1.5} => {Class=malignant} sup: 0.38 conf: 0.00 len: 6, id: 4482, CAR {Cell_Shape_Uniformity=-inf_to_1.5,Normal_Nucleoli=-inf_to_2.5,Single_Epi_Cell_Size=-inf_to_2.5,Clump_Thickness=-inf_to_4.5} => {Class=benign} sup: 0.37 conf: 0.00 len: 5, id: 4263, CAR {Cell_Shape_Uniformity=-inf_to_1.5,Normal_Nucleoli=-inf_to_2.5,Single_Epi_Cell_Size=-inf_to_2.5,Clump_Thickness=-inf_to_4.5} => {Class=malignant} sup: 0.37 conf: 0.00 len: 5, id: 4264, CAR {Cell_Shape_Uniformity=-inf_to_1.5,Normal_Nucleoli=-inf_to_2.5,Marginal_Adhesion=-inf_to_1.5,Single_Epi_Cell_Size=-inf_to_2.5,Bare_Nuclei=-inf_to_1.5} => {Class=benign} sup: 0.37 conf: 0.00 len: 6, id: 4345, CAR {Cell_Shape_Uniformity=-inf_to_1.5,Normal_Nucleoli=-inf_to_2.5,Marginal_Adhesion=-inf_to_1.5,Single_Epi_Cell_Size=-inf_to_2.5,Bare_Nuclei=-inf_to_1.5} => {Class=malignant} sup: 0.37 conf: 0.00 len: 6, id: 4346, CAR {Cell_Shape_Uniformity=-inf_to_1.5,Mitoses=-inf_to_1.5,Normal_Nucleoli=-inf_to_2.5,Marginal_Adhesion=-inf_to_1.5,Single_Epi_Cell_Size=-inf_to_2.5,Cell_Size_Uniformity=-inf_to_1.5} => {Class=benign} sup: 0.37 conf: 0.00 len: 7, id: 4299, CAR {Cell_Shape_Uniformity=-inf_to_1.5,Mitoses=-inf_to_1.5,Normal_Nucleoli=-inf_to_2.5,Marginal_Adhesion=-inf_to_1.5,Single_Epi_Cell_Size=-inf_to_2.5,Cell_Size_Uniformity=-inf_to_1.5} => {Class=malignant} sup: 0.37 conf: 0.00 len: 7, id: 4300, CAR {Cell_Shape_Uniformity=-inf_to_1.5,Marginal_Adhesion=-inf_to_1.5,Bare_Nuclei=-inf_to_1.5,Cell_Size_Uniformity=-inf_to_1.5} => {Class=benign} sup: 0.37 conf: 0.00 len: 5, id: 4279, CAR {Cell_Shape_Uniformity=-inf_to_1.5,Marginal_Adhesion=-inf_to_1.5,Bare_Nuclei=-inf_to_1.5,Cell_Size_Uniformity=-inf_to_1.5} => {Class=malignant} sup: 0.37 conf: 0.00 len: 5, id: 4280, CAR {Mitoses=-inf_to_1.5,Marginal_Adhesion=-inf_to_1.5,Clump_Thickness=-inf_to_4.5,Cell_Size_Uniformity=-inf_to_1.5} => {Class=benign} sup: 0.37 conf: 0.00 len: 5, id: 4435, CAR {Mitoses=-inf_to_1.5,Marginal_Adhesion=-inf_to_1.5,Clump_Thickness=-inf_to_4.5,Cell_Size_Uniformity=-inf_to_1.5} => {Class=malignant} sup: 0.37 conf: 0.00 len: 5, id: 4436, CAR {Single_Epi_Cell_Size=-inf_to_2.5,Bare_Nuclei=-inf_to_1.5,Clump_Thickness=-inf_to_4.5,Cell_Size_Uniformity=-inf_to_1.5} => {Class=benign} sup: 0.37 conf: 0.00 len: 5, id: 4439, CAR {Single_Epi_Cell_Size=-inf_to_2.5,Bare_Nuclei=-inf_to_1.5,Clump_Thickness=-inf_to_4.5,Cell_Size_Uniformity=-inf_to_1.5} => {Class=malignant} sup: 0.37 conf: 0.00 len: 5, id: 4440, CAR {Marginal_Adhesion=-inf_to_1.5,Single_Epi_Cell_Size=-inf_to_2.5,Bare_Nuclei=-inf_to_1.5,Clump_Thickness=-inf_to_4.5} => {Class=benign} sup: 0.37 conf: 0.00 len: 5, id: 4471, CAR {Marginal_Adhesion=-inf_to_1.5,Single_Epi_Cell_Size=-inf_to_2.5,Bare_Nuclei=-inf_to_1.5,Clump_Thickness=-inf_to_4.5} => {Class=malignant} sup: 0.37 conf: 0.00 len: 5, id: 4472, CAR {Cell_Shape_Uniformity=-inf_to_1.5,Mitoses=-inf_to_1.5,Marginal_Adhesion=-inf_to_1.5,Single_Epi_Cell_Size=-inf_to_2.5,Bare_Nuclei=-inf_to_1.5} => {Class=benign} sup: 0.37 conf: 0.00 len: 6, id: 4349, CAR {Cell_Shape_Uniformity=-inf_to_1.5,Mitoses=-inf_to_1.5,Marginal_Adhesion=-inf_to_1.5,Single_Epi_Cell_Size=-inf_to_2.5,Bare_Nuclei=-inf_to_1.5} => {Class=malignant} sup: 0.37 conf: 0.00 len: 6, id: 4350, CAR {Cell_Shape_Uniformity=-inf_to_1.5,Mitoses=-inf_to_1.5,Clump_Thickness=-inf_to_4.5,Cell_Size_Uniformity=-inf_to_1.5} => {Class=benign} sup: 0.37 conf: 0.00 len: 5, id: 4211, CAR {Cell_Shape_Uniformity=-inf_to_1.5,Mitoses=-inf_to_1.5,Clump_Thickness=-inf_to_4.5,Cell_Size_Uniformity=-inf_to_1.5} => {Class=malignant} sup: 0.37 conf: 0.00 len: 5, id: 4212, CAR {Cell_Shape_Uniformity=-inf_to_1.5,Single_Epi_Cell_Size=-inf_to_2.5,Mitoses=-inf_to_1.5,Clump_Thickness=-inf_to_4.5} => {Class=benign} sup: 0.37 conf: 0.00 len: 5, id: 4267, CAR {Cell_Shape_Uniformity=-inf_to_1.5,Single_Epi_Cell_Size=-inf_to_2.5,Mitoses=-inf_to_1.5,Clump_Thickness=-inf_to_4.5} => {Class=malignant} sup: 0.37 conf: 0.00 len: 5, id: 4268, CAR {Mitoses=-inf_to_1.5,Normal_Nucleoli=-inf_to_2.5,Single_Epi_Cell_Size=-inf_to_2.5,Bare_Nuclei=-inf_to_1.5,Bland_Chromatin=-inf_to_2.5} => {Class=benign} sup: 0.37 conf: 0.00 len: 6, id: 4121, CAR {Mitoses=-inf_to_1.5,Normal_Nucleoli=-inf_to_2.5,Single_Epi_Cell_Size=-inf_to_2.5,Bare_Nuclei=-inf_to_1.5,Bland_Chromatin=-inf_to_2.5} => {Class=malignant} sup: 0.37 conf: 0.00 len: 6, id: 4122, CAR {Cell_Shape_Uniformity=-inf_to_1.5,Normal_Nucleoli=-inf_to_2.5,Marginal_Adhesion=-inf_to_1.5,Bare_Nuclei=-inf_to_1.5,Cell_Size_Uniformity=-inf_to_1.5} => {Class=benign} sup: 0.37 conf: 0.00 len: 6, id: 4289, CAR {Cell_Shape_Uniformity=-inf_to_1.5,Normal_Nucleoli=-inf_to_2.5,Marginal_Adhesion=-inf_to_1.5,Bare_Nuclei=-inf_to_1.5,Cell_Size_Uniformity=-inf_to_1.5} => {Class=malignant} sup: 0.37 conf: 0.00 len: 6, id: 4290, CAR {Mitoses=-inf_to_1.5,Normal_Nucleoli=-inf_to_2.5,Clump_Thickness=-inf_to_4.5,Marginal_Adhesion=-inf_to_1.5,Cell_Size_Uniformity=-inf_to_1.5} => {Class=benign} sup: 0.37 conf: 0.00 len: 6, id: 4433, CAR {Mitoses=-inf_to_1.5,Normal_Nucleoli=-inf_to_2.5,Clump_Thickness=-inf_to_4.5,Marginal_Adhesion=-inf_to_1.5,Cell_Size_Uniformity=-inf_to_1.5} => {Class=malignant} sup: 0.37 conf: 0.00 len: 6, id: 4434, CAR {Normal_Nucleoli=-inf_to_2.5,Clump_Thickness=-inf_to_4.5,Single_Epi_Cell_Size=-inf_to_2.5,Bare_Nuclei=-inf_to_1.5,Cell_Size_Uniformity=-inf_to_1.5} => {Class=benign} sup: 0.37 conf: 0.00 len: 6, id: 4441, CAR {Normal_Nucleoli=-inf_to_2.5,Clump_Thickness=-inf_to_4.5,Single_Epi_Cell_Size=-inf_to_2.5,Bare_Nuclei=-inf_to_1.5,Cell_Size_Uniformity=-inf_to_1.5} => {Class=malignant} sup: 0.37 conf: 0.00 len: 6, id: 4442, CAR {Mitoses=-inf_to_1.5,Marginal_Adhesion=-inf_to_1.5,Normal_Nucleoli=-inf_to_2.5,Bland_Chromatin=-inf_to_2.5} => {Class=benign} sup: 0.37 conf: 0.00 len: 5, id: 4111, CAR {Mitoses=-inf_to_1.5,Marginal_Adhesion=-inf_to_1.5,Normal_Nucleoli=-inf_to_2.5,Bland_Chromatin=-inf_to_2.5} => {Class=malignant} sup: 0.37 conf: 0.00 len: 5, id: 4112, CAR {Cell_Shape_Uniformity=-inf_to_1.5,Mitoses=-inf_to_1.5,Normal_Nucleoli=-inf_to_2.5,Clump_Thickness=-inf_to_4.5,Cell_Size_Uniformity=-inf_to_1.5} => {Class=benign} sup: 0.37 conf: 0.00 len: 6, id: 4209, CAR {Cell_Shape_Uniformity=-inf_to_1.5,Mitoses=-inf_to_1.5,Normal_Nucleoli=-inf_to_2.5,Clump_Thickness=-inf_to_4.5,Cell_Size_Uniformity=-inf_to_1.5} => {Class=malignant} sup: 0.37 conf: 0.00 len: 6, id: 4210, CAR {Cell_Shape_Uniformity=-inf_to_1.5,Mitoses=-inf_to_1.5,Normal_Nucleoli=-inf_to_2.5,Marginal_Adhesion=-inf_to_1.5,Single_Epi_Cell_Size=-inf_to_2.5,Bare_Nuclei=-inf_to_1.5} => {Class=benign} sup: 0.37 conf: 0.00 len: 7, id: 4347, CAR {Cell_Shape_Uniformity=-inf_to_1.5,Mitoses=-inf_to_1.5,Normal_Nucleoli=-inf_to_2.5,Marginal_Adhesion=-inf_to_1.5,Single_Epi_Cell_Size=-inf_to_2.5,Bare_Nuclei=-inf_to_1.5} => {Class=malignant} sup: 0.37 conf: 0.00 len: 7, id: 4348, CAR {Single_Epi_Cell_Size=-inf_to_2.5,Bland_Chromatin=-inf_to_2.5,Cell_Size_Uniformity=-inf_to_1.5} => {Class=benign} sup: 0.36 conf: 0.00 len: 4, id: 4069, CAR {Single_Epi_Cell_Size=-inf_to_2.5,Bland_Chromatin=-inf_to_2.5,Cell_Size_Uniformity=-inf_to_1.5} => {Class=malignant} sup: 0.36 conf: 0.00 len: 4, id: 4070, CAR {Cell_Shape_Uniformity=-inf_to_1.5,Bare_Nuclei=-inf_to_1.5,Clump_Thickness=-inf_to_4.5} => {Class=benign} sup: 0.36 conf: 0.00 len: 4, id: 4245, CAR {Cell_Shape_Uniformity=-inf_to_1.5,Bare_Nuclei=-inf_to_1.5,Clump_Thickness=-inf_to_4.5} => {Class=malignant} sup: 0.36 conf: 0.00 len: 4, id: 4246, CAR {Marginal_Adhesion=-inf_to_1.5,Single_Epi_Cell_Size=-inf_to_2.5,Clump_Thickness=-inf_to_4.5,Cell_Size_Uniformity=-inf_to_1.5} => {Class=benign} sup: 0.36 conf: 0.00 len: 5, id: 4423, CAR {Marginal_Adhesion=-inf_to_1.5,Single_Epi_Cell_Size=-inf_to_2.5,Clump_Thickness=-inf_to_4.5,Cell_Size_Uniformity=-inf_to_1.5} => {Class=malignant} sup: 0.36 conf: 0.00 len: 5, id: 4424, CAR {Cell_Shape_Uniformity=-inf_to_1.5,Mitoses=-inf_to_1.5,Normal_Nucleoli=-inf_to_2.5,Clump_Thickness=-inf_to_4.5,Single_Epi_Cell_Size=-inf_to_2.5} => {Class=benign} sup: 0.36 conf: 0.00 len: 6, id: 4265, CAR {Cell_Shape_Uniformity=-inf_to_1.5,Mitoses=-inf_to_1.5,Normal_Nucleoli=-inf_to_2.5,Clump_Thickness=-inf_to_4.5,Single_Epi_Cell_Size=-inf_to_2.5} => {Class=malignant} sup: 0.36 conf: 0.00 len: 6, id: 4266, CAR {Cell_Shape_Uniformity=-inf_to_1.5,Mitoses=-inf_to_1.5,Marginal_Adhesion=-inf_to_1.5,Bare_Nuclei=-inf_to_1.5,Cell_Size_Uniformity=-inf_to_1.5} => {Class=benign} sup: 0.36 conf: 0.00 len: 6, id: 4293, CAR {Cell_Shape_Uniformity=-inf_to_1.5,Mitoses=-inf_to_1.5,Marginal_Adhesion=-inf_to_1.5,Bare_Nuclei=-inf_to_1.5,Cell_Size_Uniformity=-inf_to_1.5} => {Class=malignant} sup: 0.36 conf: 0.00 len: 6, id: 4294, CAR {Mitoses=-inf_to_1.5,Clump_Thickness=-inf_to_4.5,Single_Epi_Cell_Size=-inf_to_2.5,Bare_Nuclei=-inf_to_1.5,Cell_Size_Uniformity=-inf_to_1.5} => {Class=benign} sup: 0.36 conf: 0.00 len: 6, id: 4445, CAR {Mitoses=-inf_to_1.5,Clump_Thickness=-inf_to_4.5,Single_Epi_Cell_Size=-inf_to_2.5,Bare_Nuclei=-inf_to_1.5,Cell_Size_Uniformity=-inf_to_1.5} => {Class=malignant} sup: 0.36 conf: 0.00 len: 6, id: 4446, CAR {Normal_Nucleoli=-inf_to_2.5,Clump_Thickness=-inf_to_4.5,Marginal_Adhesion=-inf_to_1.5,Single_Epi_Cell_Size=-inf_to_2.5,Bare_Nuclei=-inf_to_1.5} => {Class=benign} sup: 0.36 conf: 0.00 len: 6, id: 4473, CAR {Normal_Nucleoli=-inf_to_2.5,Clump_Thickness=-inf_to_4.5,Marginal_Adhesion=-inf_to_1.5,Single_Epi_Cell_Size=-inf_to_2.5,Bare_Nuclei=-inf_to_1.5} => {Class=malignant} sup: 0.36 conf: 0.00 len: 6, id: 4474, CAR {Mitoses=-inf_to_1.5,Clump_Thickness=-inf_to_4.5,Marginal_Adhesion=-inf_to_1.5,Single_Epi_Cell_Size=-inf_to_2.5,Bare_Nuclei=-inf_to_1.5} => {Class=benign} sup: 0.36 conf: 0.00 len: 6, id: 4477, CAR {Mitoses=-inf_to_1.5,Clump_Thickness=-inf_to_4.5,Marginal_Adhesion=-inf_to_1.5,Single_Epi_Cell_Size=-inf_to_2.5,Bare_Nuclei=-inf_to_1.5} => {Class=malignant} sup: 0.36 conf: 0.00 len: 6, id: 4478, CAR {Cell_Shape_Uniformity=-inf_to_1.5,Marginal_Adhesion=-inf_to_1.5,Clump_Thickness=-inf_to_4.5} => {Class=benign} sup: 0.36 conf: 0.00 len: 4, id: 4213, CAR {Cell_Shape_Uniformity=-inf_to_1.5,Marginal_Adhesion=-inf_to_1.5,Clump_Thickness=-inf_to_4.5} => {Class=malignant} sup: 0.36 conf: 0.00 len: 4, id: 4214, CAR {Normal_Nucleoli=-inf_to_2.5,Clump_Thickness=-inf_to_4.5,Marginal_Adhesion=-inf_to_1.5,Single_Epi_Cell_Size=-inf_to_2.5,Cell_Size_Uniformity=-inf_to_1.5} => {Class=benign} sup: 0.36 conf: 0.00 len: 6, id: 4425, CAR {Normal_Nucleoli=-inf_to_2.5,Clump_Thickness=-inf_to_4.5,Marginal_Adhesion=-inf_to_1.5,Single_Epi_Cell_Size=-inf_to_2.5,Cell_Size_Uniformity=-inf_to_1.5} => {Class=malignant} sup: 0.36 conf: 0.00 len: 6, id: 4426, CAR {Cell_Shape_Uniformity=-inf_to_1.5,Mitoses=-inf_to_1.5,Normal_Nucleoli=-inf_to_2.5,Marginal_Adhesion=-inf_to_1.5,Bare_Nuclei=-inf_to_1.5,Cell_Size_Uniformity=-inf_to_1.5} => {Class=benign} sup: 0.36 conf: 0.00 len: 7, id: 4291, CAR {Cell_Shape_Uniformity=-inf_to_1.5,Mitoses=-inf_to_1.5,Normal_Nucleoli=-inf_to_2.5,Marginal_Adhesion=-inf_to_1.5,Bare_Nuclei=-inf_to_1.5,Cell_Size_Uniformity=-inf_to_1.5} => {Class=malignant} sup: 0.36 conf: 0.00 len: 7, id: 4292, CAR {Mitoses=-inf_to_1.5,Normal_Nucleoli=-inf_to_2.5,Clump_Thickness=-inf_to_4.5,Single_Epi_Cell_Size=-inf_to_2.5,Bare_Nuclei=-inf_to_1.5,Cell_Size_Uniformity=-inf_to_1.5} => {Class=benign} sup: 0.36 conf: 0.00 len: 7, id: 4443, CAR {Mitoses=-inf_to_1.5,Normal_Nucleoli=-inf_to_2.5,Clump_Thickness=-inf_to_4.5,Single_Epi_Cell_Size=-inf_to_2.5,Bare_Nuclei=-inf_to_1.5,Cell_Size_Uniformity=-inf_to_1.5} => {Class=malignant} sup: 0.36 conf: 0.00 len: 7, id: 4444, CAR {Cell_Shape_Uniformity=-inf_to_1.5,Bland_Chromatin=-inf_to_2.5} => {Class=benign} sup: 0.36 conf: 0.00 len: 3, id: 3635, CAR {Cell_Shape_Uniformity=-inf_to_1.5,Bland_Chromatin=-inf_to_2.5} => {Class=malignant} sup: 0.36 conf: 0.00 len: 3, id: 3636, CAR {Marginal_Adhesion=-inf_to_1.5,Bare_Nuclei=-inf_to_1.5,Bland_Chromatin=-inf_to_2.5} => {Class=benign} sup: 0.36 conf: 0.00 len: 4, id: 4085, CAR {Marginal_Adhesion=-inf_to_1.5,Bare_Nuclei=-inf_to_1.5,Bland_Chromatin=-inf_to_2.5} => {Class=malignant} sup: 0.36 conf: 0.00 len: 4, id: 4086, CAR {Marginal_Adhesion=-inf_to_1.5,Single_Epi_Cell_Size=-inf_to_2.5,Bland_Chromatin=-inf_to_2.5} => {Class=benign} sup: 0.36 conf: 0.00 len: 4, id: 4101, CAR {Marginal_Adhesion=-inf_to_1.5,Single_Epi_Cell_Size=-inf_to_2.5,Bland_Chromatin=-inf_to_2.5} => {Class=malignant} sup: 0.36 conf: 0.00 len: 4, id: 4102, CAR {Normal_Nucleoli=-inf_to_2.5,Single_Epi_Cell_Size=-inf_to_2.5,Bland_Chromatin=-inf_to_2.5,Cell_Size_Uniformity=-inf_to_1.5} => {Class=benign} sup: 0.36 conf: 0.00 len: 5, id: 4071, CAR {Normal_Nucleoli=-inf_to_2.5,Single_Epi_Cell_Size=-inf_to_2.5,Bland_Chromatin=-inf_to_2.5,Cell_Size_Uniformity=-inf_to_1.5} => {Class=malignant} sup: 0.36 conf: 0.00 len: 5, id: 4072, CAR {Cell_Shape_Uniformity=-inf_to_1.5,Single_Epi_Cell_Size=-inf_to_2.5,Clump_Thickness=-inf_to_4.5,Cell_Size_Uniformity=-inf_to_1.5} => {Class=benign} sup: 0.36 conf: 0.00 len: 5, id: 4199, CAR {Cell_Shape_Uniformity=-inf_to_1.5,Single_Epi_Cell_Size=-inf_to_2.5,Clump_Thickness=-inf_to_4.5,Cell_Size_Uniformity=-inf_to_1.5} => {Class=malignant} sup: 0.36 conf: 0.00 len: 5, id: 4200, CAR {Cell_Shape_Uniformity=-inf_to_1.5,Normal_Nucleoli=-inf_to_2.5,Bare_Nuclei=-inf_to_1.5,Clump_Thickness=-inf_to_4.5} => {Class=benign} sup: 0.36 conf: 0.00 len: 5, id: 4255, CAR {Cell_Shape_Uniformity=-inf_to_1.5,Normal_Nucleoli=-inf_to_2.5,Bare_Nuclei=-inf_to_1.5,Clump_Thickness=-inf_to_4.5} => {Class=malignant} sup: 0.36 conf: 0.00 len: 5, id: 4256, CAR {Cell_Shape_Uniformity=-inf_to_1.5,Marginal_Adhesion=-inf_to_1.5,Single_Epi_Cell_Size=-inf_to_2.5,Bare_Nuclei=-inf_to_1.5,Cell_Size_Uniformity=-inf_to_1.5} => {Class=benign} sup: 0.36 conf: 0.00 len: 6, id: 4281, CAR {Cell_Shape_Uniformity=-inf_to_1.5,Marginal_Adhesion=-inf_to_1.5,Single_Epi_Cell_Size=-inf_to_2.5,Bare_Nuclei=-inf_to_1.5,Cell_Size_Uniformity=-inf_to_1.5} => {Class=malignant} sup: 0.36 conf: 0.00 len: 6, id: 4282, CAR {Bland_Chromatin=-inf_to_2.5,Clump_Thickness=-inf_to_4.5} => {Class=benign} sup: 0.36 conf: 0.00 len: 3, id: 3891, CAR {Bland_Chromatin=-inf_to_2.5,Clump_Thickness=-inf_to_4.5} => {Class=malignant} sup: 0.36 conf: 0.00 len: 3, id: 3892, CAR {Bare_Nuclei=-inf_to_1.5,Bland_Chromatin=-inf_to_2.5,Cell_Size_Uniformity=-inf_to_1.5} => {Class=benign} sup: 0.36 conf: 0.00 len: 4, id: 4053, CAR {Bare_Nuclei=-inf_to_1.5,Bland_Chromatin=-inf_to_2.5,Cell_Size_Uniformity=-inf_to_1.5} => {Class=malignant} sup: 0.36 conf: 0.00 len: 4, id: 4054, CAR {Cell_Shape_Uniformity=-inf_to_1.5,Marginal_Adhesion=-inf_to_1.5,Normal_Nucleoli=-inf_to_2.5,Clump_Thickness=-inf_to_4.5} => {Class=benign} sup: 0.36 conf: 0.00 len: 5, id: 4239, CAR {Cell_Shape_Uniformity=-inf_to_1.5,Marginal_Adhesion=-inf_to_1.5,Normal_Nucleoli=-inf_to_2.5,Clump_Thickness=-inf_to_4.5} => {Class=malignant} sup: 0.36 conf: 0.00 len: 5, id: 4240, CAR {Cell_Shape_Uniformity=-inf_to_1.5,Mitoses=-inf_to_1.5,Bare_Nuclei=-inf_to_1.5,Clump_Thickness=-inf_to_4.5} => {Class=benign} sup: 0.36 conf: 0.00 len: 5, id: 4259, CAR {Cell_Shape_Uniformity=-inf_to_1.5,Mitoses=-inf_to_1.5,Bare_Nuclei=-inf_to_1.5,Clump_Thickness=-inf_to_4.5} => {Class=malignant} sup: 0.36 conf: 0.00 len: 5, id: 4260, CAR {Mitoses=-inf_to_1.5,Clump_Thickness=-inf_to_4.5,Marginal_Adhesion=-inf_to_1.5,Single_Epi_Cell_Size=-inf_to_2.5,Cell_Size_Uniformity=-inf_to_1.5} => {Class=benign} sup: 0.36 conf: 0.00 len: 6, id: 4429, CAR {Mitoses=-inf_to_1.5,Clump_Thickness=-inf_to_4.5,Marginal_Adhesion=-inf_to_1.5,Single_Epi_Cell_Size=-inf_to_2.5,Cell_Size_Uniformity=-inf_to_1.5} => {Class=malignant} sup: 0.36 conf: 0.00 len: 6, id: 4430, CAR {Mitoses=-inf_to_1.5,Normal_Nucleoli=-inf_to_2.5,Clump_Thickness=-inf_to_4.5,Marginal_Adhesion=-inf_to_1.5,Single_Epi_Cell_Size=-inf_to_2.5,Bare_Nuclei=-inf_to_1.5} => {Class=benign} sup: 0.36 conf: 0.00 len: 7, id: 4475, CAR {Mitoses=-inf_to_1.5,Normal_Nucleoli=-inf_to_2.5,Clump_Thickness=-inf_to_4.5,Marginal_Adhesion=-inf_to_1.5,Single_Epi_Cell_Size=-inf_to_2.5,Bare_Nuclei=-inf_to_1.5} => {Class=malignant} sup: 0.36 conf: 0.00 len: 7, id: 4476, CAR {Cell_Shape_Uniformity=-inf_to_1.5,Normal_Nucleoli=-inf_to_2.5,Bland_Chromatin=-inf_to_2.5} => {Class=benign} sup: 0.36 conf: 0.00 len: 4, id: 3885, CAR {Cell_Shape_Uniformity=-inf_to_1.5,Normal_Nucleoli=-inf_to_2.5,Bland_Chromatin=-inf_to_2.5} => {Class=malignant} sup: 0.36 conf: 0.00 len: 4, id: 3886, CAR {Mitoses=-inf_to_1.5,Single_Epi_Cell_Size=-inf_to_2.5,Bland_Chromatin=-inf_to_2.5,Cell_Size_Uniformity=-inf_to_1.5} => {Class=benign} sup: 0.36 conf: 0.00 len: 5, id: 4075, CAR {Mitoses=-inf_to_1.5,Single_Epi_Cell_Size=-inf_to_2.5,Bland_Chromatin=-inf_to_2.5,Cell_Size_Uniformity=-inf_to_1.5} => {Class=malignant} sup: 0.36 conf: 0.00 len: 5, id: 4076, CAR {Cell_Shape_Uniformity=-inf_to_1.5,Marginal_Adhesion=-inf_to_1.5,Mitoses=-inf_to_1.5,Clump_Thickness=-inf_to_4.5} => {Class=benign} sup: 0.36 conf: 0.00 len: 5, id: 4243, CAR {Cell_Shape_Uniformity=-inf_to_1.5,Marginal_Adhesion=-inf_to_1.5,Mitoses=-inf_to_1.5,Clump_Thickness=-inf_to_4.5} => {Class=malignant} sup: 0.36 conf: 0.00 len: 5, id: 4244, CAR {Cell_Shape_Uniformity=-inf_to_1.5,Normal_Nucleoli=-inf_to_2.5,Clump_Thickness=-inf_to_4.5,Single_Epi_Cell_Size=-inf_to_2.5,Cell_Size_Uniformity=-inf_to_1.5} => {Class=benign} sup: 0.36 conf: 0.00 len: 6, id: 4201, CAR {Cell_Shape_Uniformity=-inf_to_1.5,Normal_Nucleoli=-inf_to_2.5,Clump_Thickness=-inf_to_4.5,Single_Epi_Cell_Size=-inf_to_2.5,Cell_Size_Uniformity=-inf_to_1.5} => {Class=malignant} sup: 0.36 conf: 0.00 len: 6, id: 4202, CAR {Cell_Shape_Uniformity=-inf_to_1.5,Normal_Nucleoli=-inf_to_2.5,Marginal_Adhesion=-inf_to_1.5,Single_Epi_Cell_Size=-inf_to_2.5,Bare_Nuclei=-inf_to_1.5,Cell_Size_Uniformity=-inf_to_1.5} => {Class=benign} sup: 0.36 conf: 0.00 len: 7, id: 4283, CAR {Cell_Shape_Uniformity=-inf_to_1.5,Normal_Nucleoli=-inf_to_2.5,Marginal_Adhesion=-inf_to_1.5,Single_Epi_Cell_Size=-inf_to_2.5,Bare_Nuclei=-inf_to_1.5,Cell_Size_Uniformity=-inf_to_1.5} => {Class=malignant} sup: 0.36 conf: 0.00 len: 7, id: 4284, CAR {Normal_Nucleoli=-inf_to_2.5,Bare_Nuclei=-inf_to_1.5,Bland_Chromatin=-inf_to_2.5,Cell_Size_Uniformity=-inf_to_1.5} => {Class=benign} sup: 0.35 conf: 0.00 len: 5, id: 4063, CAR {Normal_Nucleoli=-inf_to_2.5,Bare_Nuclei=-inf_to_1.5,Bland_Chromatin=-inf_to_2.5,Cell_Size_Uniformity=-inf_to_1.5} => {Class=malignant} sup: 0.35 conf: 0.00 len: 5, id: 4064, CAR {Mitoses=-inf_to_1.5,Normal_Nucleoli=-inf_to_2.5,Clump_Thickness=-inf_to_4.5,Marginal_Adhesion=-inf_to_1.5,Single_Epi_Cell_Size=-inf_to_2.5,Cell_Size_Uniformity=-inf_to_1.5} => {Class=benign} sup: 0.35 conf: 0.00 len: 7, id: 4427, CAR {Mitoses=-inf_to_1.5,Normal_Nucleoli=-inf_to_2.5,Clump_Thickness=-inf_to_4.5,Marginal_Adhesion=-inf_to_1.5,Single_Epi_Cell_Size=-inf_to_2.5,Cell_Size_Uniformity=-inf_to_1.5} => {Class=malignant} sup: 0.35 conf: 0.00 len: 7, id: 4428, CAR {Normal_Nucleoli=-inf_to_2.5,Bland_Chromatin=-inf_to_2.5,Clump_Thickness=-inf_to_4.5} => {Class=benign} sup: 0.35 conf: 0.00 len: 4, id: 4013, CAR {Normal_Nucleoli=-inf_to_2.5,Bland_Chromatin=-inf_to_2.5,Clump_Thickness=-inf_to_4.5} => {Class=malignant} sup: 0.35 conf: 0.00 len: 4, id: 4014, CAR {Mitoses=-inf_to_1.5,Marginal_Adhesion=-inf_to_1.5,Bare_Nuclei=-inf_to_1.5,Bland_Chromatin=-inf_to_2.5} => {Class=benign} sup: 0.35 conf: 0.00 len: 5, id: 4099, CAR {Mitoses=-inf_to_1.5,Marginal_Adhesion=-inf_to_1.5,Bare_Nuclei=-inf_to_1.5,Bland_Chromatin=-inf_to_2.5} => {Class=malignant} sup: 0.35 conf: 0.00 len: 5, id: 4100, CAR {Marginal_Adhesion=-inf_to_1.5,Normal_Nucleoli=-inf_to_2.5,Single_Epi_Cell_Size=-inf_to_2.5,Bland_Chromatin=-inf_to_2.5} => {Class=benign} sup: 0.35 conf: 0.00 len: 5, id: 4103, CAR {Marginal_Adhesion=-inf_to_1.5,Normal_Nucleoli=-inf_to_2.5,Single_Epi_Cell_Size=-inf_to_2.5,Bland_Chromatin=-inf_to_2.5} => {Class=malignant} sup: 0.35 conf: 0.00 len: 5, id: 4104, CAR {Marginal_Adhesion=-inf_to_1.5,Bare_Nuclei=-inf_to_1.5,Clump_Thickness=-inf_to_4.5,Cell_Size_Uniformity=-inf_to_1.5} => {Class=benign} sup: 0.35 conf: 0.00 len: 5, id: 4407, CAR {Marginal_Adhesion=-inf_to_1.5,Bare_Nuclei=-inf_to_1.5,Clump_Thickness=-inf_to_4.5,Cell_Size_Uniformity=-inf_to_1.5} => {Class=malignant} sup: 0.35 conf: 0.00 len: 5, id: 4408, CAR {Cell_Shape_Uniformity=-inf_to_1.5,Mitoses=-inf_to_1.5,Normal_Nucleoli=-inf_to_2.5,Clump_Thickness=-inf_to_4.5,Bare_Nuclei=-inf_to_1.5} => {Class=benign} sup: 0.35 conf: 0.00 len: 6, id: 4257, CAR {Cell_Shape_Uniformity=-inf_to_1.5,Mitoses=-inf_to_1.5,Normal_Nucleoli=-inf_to_2.5,Clump_Thickness=-inf_to_4.5,Bare_Nuclei=-inf_to_1.5} => {Class=malignant} sup: 0.35 conf: 0.00 len: 6, id: 4258, CAR {Cell_Shape_Uniformity=-inf_to_1.5,Mitoses=-inf_to_1.5,Marginal_Adhesion=-inf_to_1.5,Single_Epi_Cell_Size=-inf_to_2.5,Bare_Nuclei=-inf_to_1.5,Cell_Size_Uniformity=-inf_to_1.5} => {Class=benign} sup: 0.35 conf: 0.00 len: 7, id: 4287, CAR {Cell_Shape_Uniformity=-inf_to_1.5,Mitoses=-inf_to_1.5,Marginal_Adhesion=-inf_to_1.5,Single_Epi_Cell_Size=-inf_to_2.5,Bare_Nuclei=-inf_to_1.5,Cell_Size_Uniformity=-inf_to_1.5} => {Class=malignant} sup: 0.35 conf: 0.00 len: 7, id: 4288, CAR {Cell_Shape_Uniformity=-inf_to_1.5,Mitoses=-inf_to_1.5,Bland_Chromatin=-inf_to_2.5} => {Class=benign} sup: 0.35 conf: 0.00 len: 4, id: 3889, CAR {Cell_Shape_Uniformity=-inf_to_1.5,Mitoses=-inf_to_1.5,Bland_Chromatin=-inf_to_2.5} => {Class=malignant} sup: 0.35 conf: 0.00 len: 4, id: 3890, CAR {Mitoses=-inf_to_1.5,Bare_Nuclei=-inf_to_1.5,Bland_Chromatin=-inf_to_2.5,Cell_Size_Uniformity=-inf_to_1.5} => {Class=benign} sup: 0.35 conf: 0.00 len: 5, id: 4067, CAR {Mitoses=-inf_to_1.5,Bare_Nuclei=-inf_to_1.5,Bland_Chromatin=-inf_to_2.5,Cell_Size_Uniformity=-inf_to_1.5} => {Class=malignant} sup: 0.35 conf: 0.00 len: 5, id: 4068, CAR {Marginal_Adhesion=-inf_to_1.5,Normal_Nucleoli=-inf_to_2.5,Bare_Nuclei=-inf_to_1.5,Bland_Chromatin=-inf_to_2.5} => {Class=benign} sup: 0.35 conf: 0.00 len: 5, id: 4095, CAR {Marginal_Adhesion=-inf_to_1.5,Normal_Nucleoli=-inf_to_2.5,Bare_Nuclei=-inf_to_1.5,Bland_Chromatin=-inf_to_2.5} => {Class=malignant} sup: 0.35 conf: 0.00 len: 5, id: 4096, CAR {Mitoses=-inf_to_1.5,Normal_Nucleoli=-inf_to_2.5,Single_Epi_Cell_Size=-inf_to_2.5,Cell_Size_Uniformity=-inf_to_1.5,Bland_Chromatin=-inf_to_2.5} => {Class=benign} sup: 0.35 conf: 0.00 len: 6, id: 4073, CAR {Mitoses=-inf_to_1.5,Normal_Nucleoli=-inf_to_2.5,Single_Epi_Cell_Size=-inf_to_2.5,Cell_Size_Uniformity=-inf_to_1.5,Bland_Chromatin=-inf_to_2.5} => {Class=malignant} sup: 0.35 conf: 0.00 len: 6, id: 4074, CAR {Cell_Shape_Uniformity=-inf_to_1.5,Mitoses=-inf_to_1.5,Clump_Thickness=-inf_to_4.5,Single_Epi_Cell_Size=-inf_to_2.5,Cell_Size_Uniformity=-inf_to_1.5} => {Class=benign} sup: 0.35 conf: 0.00 len: 6, id: 4205, CAR {Cell_Shape_Uniformity=-inf_to_1.5,Mitoses=-inf_to_1.5,Clump_Thickness=-inf_to_4.5,Single_Epi_Cell_Size=-inf_to_2.5,Cell_Size_Uniformity=-inf_to_1.5} => {Class=malignant} sup: 0.35 conf: 0.00 len: 6, id: 4206, CAR {Cell_Shape_Uniformity=-inf_to_1.5,Mitoses=-inf_to_1.5,Normal_Nucleoli=-inf_to_2.5,Clump_Thickness=-inf_to_4.5,Marginal_Adhesion=-inf_to_1.5} => {Class=benign} sup: 0.35 conf: 0.00 len: 6, id: 4241, CAR {Cell_Shape_Uniformity=-inf_to_1.5,Mitoses=-inf_to_1.5,Normal_Nucleoli=-inf_to_2.5,Clump_Thickness=-inf_to_4.5,Marginal_Adhesion=-inf_to_1.5} => {Class=malignant} sup: 0.35 conf: 0.00 len: 6, id: 4242, CAR {Normal_Nucleoli=-inf_to_2.5,Clump_Thickness=-inf_to_4.5,Marginal_Adhesion=-inf_to_1.5,Bare_Nuclei=-inf_to_1.5,Cell_Size_Uniformity=-inf_to_1.5} => {Class=benign} sup: 0.35 conf: 0.00 len: 6, id: 4417, CAR {Normal_Nucleoli=-inf_to_2.5,Clump_Thickness=-inf_to_4.5,Marginal_Adhesion=-inf_to_1.5,Bare_Nuclei=-inf_to_1.5,Cell_Size_Uniformity=-inf_to_1.5} => {Class=malignant} sup: 0.35 conf: 0.00 len: 6, id: 4418, CAR {Cell_Shape_Uniformity=-inf_to_1.5,Mitoses=-inf_to_1.5,Normal_Nucleoli=-inf_to_2.5,Marginal_Adhesion=-inf_to_1.5,Single_Epi_Cell_Size=-inf_to_2.5,Bare_Nuclei=-inf_to_1.5,Cell_Size_Uniformity=-inf_to_1.5} => {Class=benign} sup: 0.35 conf: 0.00 len: 8, id: 4285, CAR {Cell_Shape_Uniformity=-inf_to_1.5,Mitoses=-inf_to_1.5,Normal_Nucleoli=-inf_to_2.5,Marginal_Adhesion=-inf_to_1.5,Single_Epi_Cell_Size=-inf_to_2.5,Bare_Nuclei=-inf_to_1.5,Cell_Size_Uniformity=-inf_to_1.5} => {Class=malignant} sup: 0.35 conf: 0.00 len: 8, id: 4286, CAR {Cell_Shape_Uniformity=-inf_to_1.5,Normal_Nucleoli=-inf_to_2.5,Mitoses=-inf_to_1.5,Bland_Chromatin=-inf_to_2.5} => {Class=benign} sup: 0.35 conf: 0.00 len: 5, id: 3887, CAR {Cell_Shape_Uniformity=-inf_to_1.5,Normal_Nucleoli=-inf_to_2.5,Mitoses=-inf_to_1.5,Bland_Chromatin=-inf_to_2.5} => {Class=malignant} sup: 0.35 conf: 0.00 len: 5, id: 3888, CAR {Mitoses=-inf_to_1.5,Marginal_Adhesion=-inf_to_1.5,Single_Epi_Cell_Size=-inf_to_2.5,Bland_Chromatin=-inf_to_2.5} => {Class=benign} sup: 0.35 conf: 0.00 len: 5, id: 4107, CAR {Mitoses=-inf_to_1.5,Marginal_Adhesion=-inf_to_1.5,Single_Epi_Cell_Size=-inf_to_2.5,Bland_Chromatin=-inf_to_2.5} => {Class=malignant} sup: 0.35 conf: 0.00 len: 5, id: 4108, CAR {Mitoses=-inf_to_1.5,Normal_Nucleoli=-inf_to_2.5,Bare_Nuclei=-inf_to_1.5,Cell_Size_Uniformity=-inf_to_1.5,Bland_Chromatin=-inf_to_2.5} => {Class=benign} sup: 0.35 conf: 0.00 len: 6, id: 4065, CAR {Mitoses=-inf_to_1.5,Normal_Nucleoli=-inf_to_2.5,Bare_Nuclei=-inf_to_1.5,Cell_Size_Uniformity=-inf_to_1.5,Bland_Chromatin=-inf_to_2.5} => {Class=malignant} sup: 0.35 conf: 0.00 len: 6, id: 4066, CAR {Cell_Shape_Uniformity=-inf_to_1.5,Mitoses=-inf_to_1.5,Normal_Nucleoli=-inf_to_2.5,Clump_Thickness=-inf_to_4.5,Single_Epi_Cell_Size=-inf_to_2.5,Cell_Size_Uniformity=-inf_to_1.5} => {Class=benign} sup: 0.35 conf: 0.00 len: 7, id: 4203, CAR {Cell_Shape_Uniformity=-inf_to_1.5,Mitoses=-inf_to_1.5,Normal_Nucleoli=-inf_to_2.5,Clump_Thickness=-inf_to_4.5,Single_Epi_Cell_Size=-inf_to_2.5,Cell_Size_Uniformity=-inf_to_1.5} => {Class=malignant} sup: 0.35 conf: 0.00 len: 7, id: 4204, CAR {Mitoses=-inf_to_1.5,Bland_Chromatin=-inf_to_2.5,Clump_Thickness=-inf_to_4.5} => {Class=benign} sup: 0.35 conf: 0.00 len: 4, id: 4017, CAR {Mitoses=-inf_to_1.5,Bland_Chromatin=-inf_to_2.5,Clump_Thickness=-inf_to_4.5} => {Class=malignant} sup: 0.35 conf: 0.00 len: 4, id: 4018, CAR {Cell_Shape_Uniformity=-inf_to_1.5,Bare_Nuclei=-inf_to_1.5,Clump_Thickness=-inf_to_4.5,Cell_Size_Uniformity=-inf_to_1.5} => {Class=benign} sup: 0.35 conf: 0.00 len: 5, id: 4183, CAR {Cell_Shape_Uniformity=-inf_to_1.5,Bare_Nuclei=-inf_to_1.5,Clump_Thickness=-inf_to_4.5,Cell_Size_Uniformity=-inf_to_1.5} => {Class=malignant} sup: 0.35 conf: 0.00 len: 5, id: 4184, CAR {Cell_Shape_Uniformity=-inf_to_1.5,Marginal_Adhesion=-inf_to_1.5,Single_Epi_Cell_Size=-inf_to_2.5,Clump_Thickness=-inf_to_4.5} => {Class=benign} sup: 0.35 conf: 0.00 len: 5, id: 4231, CAR {Cell_Shape_Uniformity=-inf_to_1.5,Marginal_Adhesion=-inf_to_1.5,Single_Epi_Cell_Size=-inf_to_2.5,Clump_Thickness=-inf_to_4.5} => {Class=malignant} sup: 0.35 conf: 0.00 len: 5, id: 4232, CAR {Cell_Shape_Uniformity=-inf_to_1.5,Single_Epi_Cell_Size=-inf_to_2.5,Bare_Nuclei=-inf_to_1.5,Clump_Thickness=-inf_to_4.5} => {Class=benign} sup: 0.35 conf: 0.00 len: 5, id: 4247, CAR {Cell_Shape_Uniformity=-inf_to_1.5,Single_Epi_Cell_Size=-inf_to_2.5,Bare_Nuclei=-inf_to_1.5,Clump_Thickness=-inf_to_4.5} => {Class=malignant} sup: 0.35 conf: 0.00 len: 5, id: 4248, CAR {Mitoses=-inf_to_1.5,Clump_Thickness=-inf_to_4.5,Marginal_Adhesion=-inf_to_1.5,Bare_Nuclei=-inf_to_1.5,Cell_Size_Uniformity=-inf_to_1.5} => {Class=benign} sup: 0.35 conf: 0.00 len: 6, id: 4421, CAR {Mitoses=-inf_to_1.5,Clump_Thickness=-inf_to_4.5,Marginal_Adhesion=-inf_to_1.5,Bare_Nuclei=-inf_to_1.5,Cell_Size_Uniformity=-inf_to_1.5} => {Class=malignant} sup: 0.35 conf: 0.00 len: 6, id: 4422, CAR {Mitoses=-inf_to_1.5,Normal_Nucleoli=-inf_to_2.5,Marginal_Adhesion=-inf_to_1.5,Bare_Nuclei=-inf_to_1.5,Bland_Chromatin=-inf_to_2.5} => {Class=benign} sup: 0.34 conf: 0.00 len: 6, id: 4097, CAR {Mitoses=-inf_to_1.5,Normal_Nucleoli=-inf_to_2.5,Marginal_Adhesion=-inf_to_1.5,Bare_Nuclei=-inf_to_1.5,Bland_Chromatin=-inf_to_2.5} => {Class=malignant} sup: 0.34 conf: 0.00 len: 6, id: 4098, CAR {Cell_Shape_Uniformity=-inf_to_1.5,Marginal_Adhesion=-inf_to_1.5,Clump_Thickness=-inf_to_4.5,Cell_Size_Uniformity=-inf_to_1.5} => {Class=benign} sup: 0.34 conf: 0.00 len: 5, id: 4151, CAR {Cell_Shape_Uniformity=-inf_to_1.5,Marginal_Adhesion=-inf_to_1.5,Clump_Thickness=-inf_to_4.5,Cell_Size_Uniformity=-inf_to_1.5} => {Class=malignant} sup: 0.34 conf: 0.00 len: 5, id: 4152, CAR {Cell_Shape_Uniformity=-inf_to_1.5,Normal_Nucleoli=-inf_to_2.5,Clump_Thickness=-inf_to_4.5,Bare_Nuclei=-inf_to_1.5,Cell_Size_Uniformity=-inf_to_1.5} => {Class=benign} sup: 0.34 conf: 0.00 len: 6, id: 4193, CAR {Cell_Shape_Uniformity=-inf_to_1.5,Normal_Nucleoli=-inf_to_2.5,Clump_Thickness=-inf_to_4.5,Bare_Nuclei=-inf_to_1.5,Cell_Size_Uniformity=-inf_to_1.5} => {Class=malignant} sup: 0.34 conf: 0.00 len: 6, id: 4194, CAR {Mitoses=-inf_to_1.5,Normal_Nucleoli=-inf_to_2.5,Clump_Thickness=-inf_to_4.5,Marginal_Adhesion=-inf_to_1.5,Bare_Nuclei=-inf_to_1.5,Cell_Size_Uniformity=-inf_to_1.5} => {Class=benign} sup: 0.34 conf: 0.00 len: 7, id: 4419, CAR {Mitoses=-inf_to_1.5,Normal_Nucleoli=-inf_to_2.5,Clump_Thickness=-inf_to_4.5,Marginal_Adhesion=-inf_to_1.5,Bare_Nuclei=-inf_to_1.5,Cell_Size_Uniformity=-inf_to_1.5} => {Class=malignant} sup: 0.34 conf: 0.00 len: 7, id: 4420, CAR {Mitoses=-inf_to_1.5,Normal_Nucleoli=-inf_to_2.5,Bland_Chromatin=-inf_to_2.5,Clump_Thickness=-inf_to_4.5} => {Class=benign} sup: 0.34 conf: 0.00 len: 5, id: 4015, CAR {Mitoses=-inf_to_1.5,Normal_Nucleoli=-inf_to_2.5,Bland_Chromatin=-inf_to_2.5,Clump_Thickness=-inf_to_4.5} => {Class=malignant} sup: 0.34 conf: 0.00 len: 5, id: 4016, CAR {Mitoses=-inf_to_1.5,Normal_Nucleoli=-inf_to_2.5,Marginal_Adhesion=-inf_to_1.5,Single_Epi_Cell_Size=-inf_to_2.5,Bland_Chromatin=-inf_to_2.5} => {Class=benign} sup: 0.34 conf: 0.00 len: 6, id: 4105, CAR {Mitoses=-inf_to_1.5,Normal_Nucleoli=-inf_to_2.5,Marginal_Adhesion=-inf_to_1.5,Single_Epi_Cell_Size=-inf_to_2.5,Bland_Chromatin=-inf_to_2.5} => {Class=malignant} sup: 0.34 conf: 0.00 len: 6, id: 4106, CAR {Cell_Shape_Uniformity=-inf_to_1.5,Normal_Nucleoli=-inf_to_2.5,Clump_Thickness=-inf_to_4.5,Marginal_Adhesion=-inf_to_1.5,Single_Epi_Cell_Size=-inf_to_2.5} => {Class=benign} sup: 0.34 conf: 0.00 len: 6, id: 4233, CAR {Cell_Shape_Uniformity=-inf_to_1.5,Normal_Nucleoli=-inf_to_2.5,Clump_Thickness=-inf_to_4.5,Marginal_Adhesion=-inf_to_1.5,Single_Epi_Cell_Size=-inf_to_2.5} => {Class=malignant} sup: 0.34 conf: 0.00 len: 6, id: 4234, CAR {Cell_Shape_Uniformity=-inf_to_1.5,Normal_Nucleoli=-inf_to_2.5,Clump_Thickness=-inf_to_4.5,Single_Epi_Cell_Size=-inf_to_2.5,Bare_Nuclei=-inf_to_1.5} => {Class=benign} sup: 0.34 conf: 0.00 len: 6, id: 4249, CAR {Cell_Shape_Uniformity=-inf_to_1.5,Normal_Nucleoli=-inf_to_2.5,Clump_Thickness=-inf_to_4.5,Single_Epi_Cell_Size=-inf_to_2.5,Bare_Nuclei=-inf_to_1.5} => {Class=malignant} sup: 0.34 conf: 0.00 len: 6, id: 4250, CAR {Clump_Thickness=-inf_to_4.5,Marginal_Adhesion=-inf_to_1.5,Single_Epi_Cell_Size=-inf_to_2.5,Bare_Nuclei=-inf_to_1.5,Cell_Size_Uniformity=-inf_to_1.5} => {Class=benign} sup: 0.34 conf: 0.00 len: 6, id: 4409, CAR {Clump_Thickness=-inf_to_4.5,Marginal_Adhesion=-inf_to_1.5,Single_Epi_Cell_Size=-inf_to_2.5,Bare_Nuclei=-inf_to_1.5,Cell_Size_Uniformity=-inf_to_1.5} => {Class=malignant} sup: 0.34 conf: 0.00 len: 6, id: 4410, CAR {Cell_Shape_Uniformity=-inf_to_1.5,Bland_Chromatin=-inf_to_2.5,Cell_Size_Uniformity=-inf_to_1.5} => {Class=benign} sup: 0.34 conf: 0.00 len: 4, id: 3765, CAR {Cell_Shape_Uniformity=-inf_to_1.5,Bland_Chromatin=-inf_to_2.5,Cell_Size_Uniformity=-inf_to_1.5} => {Class=malignant} sup: 0.34 conf: 0.00 len: 4, id: 3766, CAR {Single_Epi_Cell_Size=-inf_to_2.5,Bare_Nuclei=-inf_to_1.5,Bland_Chromatin=-inf_to_2.5,Cell_Size_Uniformity=-inf_to_1.5} => {Class=benign} sup: 0.34 conf: 0.00 len: 5, id: 4055, CAR {Single_Epi_Cell_Size=-inf_to_2.5,Bare_Nuclei=-inf_to_1.5,Bland_Chromatin=-inf_to_2.5,Cell_Size_Uniformity=-inf_to_1.5} => {Class=malignant} sup: 0.34 conf: 0.00 len: 5, id: 4056, CAR {Cell_Shape_Uniformity=-inf_to_1.5,Normal_Nucleoli=-inf_to_2.5,Clump_Thickness=-inf_to_4.5,Marginal_Adhesion=-inf_to_1.5,Cell_Size_Uniformity=-inf_to_1.5} => {Class=benign} sup: 0.34 conf: 0.00 len: 6, id: 4177, CAR {Cell_Shape_Uniformity=-inf_to_1.5,Normal_Nucleoli=-inf_to_2.5,Clump_Thickness=-inf_to_4.5,Marginal_Adhesion=-inf_to_1.5,Cell_Size_Uniformity=-inf_to_1.5} => {Class=malignant} sup: 0.34 conf: 0.00 len: 6, id: 4178, CAR {Cell_Shape_Uniformity=-inf_to_1.5,Mitoses=-inf_to_1.5,Clump_Thickness=-inf_to_4.5,Bare_Nuclei=-inf_to_1.5,Cell_Size_Uniformity=-inf_to_1.5} => {Class=benign} sup: 0.34 conf: 0.00 len: 6, id: 4197, CAR {Cell_Shape_Uniformity=-inf_to_1.5,Mitoses=-inf_to_1.5,Clump_Thickness=-inf_to_4.5,Bare_Nuclei=-inf_to_1.5,Cell_Size_Uniformity=-inf_to_1.5} => {Class=malignant} sup: 0.34 conf: 0.00 len: 6, id: 4198, CAR {Cell_Shape_Uniformity=-inf_to_1.5,Mitoses=-inf_to_1.5,Clump_Thickness=-inf_to_4.5,Marginal_Adhesion=-inf_to_1.5,Single_Epi_Cell_Size=-inf_to_2.5} => {Class=benign} sup: 0.34 conf: 0.00 len: 6, id: 4237, CAR {Cell_Shape_Uniformity=-inf_to_1.5,Mitoses=-inf_to_1.5,Clump_Thickness=-inf_to_4.5,Marginal_Adhesion=-inf_to_1.5,Single_Epi_Cell_Size=-inf_to_2.5} => {Class=malignant} sup: 0.34 conf: 0.00 len: 6, id: 4238, CAR {Cell_Shape_Uniformity=-inf_to_1.5,Mitoses=-inf_to_1.5,Clump_Thickness=-inf_to_4.5,Single_Epi_Cell_Size=-inf_to_2.5,Bare_Nuclei=-inf_to_1.5} => {Class=benign} sup: 0.34 conf: 0.00 len: 6, id: 4253, CAR {Cell_Shape_Uniformity=-inf_to_1.5,Mitoses=-inf_to_1.5,Clump_Thickness=-inf_to_4.5,Single_Epi_Cell_Size=-inf_to_2.5,Bare_Nuclei=-inf_to_1.5} => {Class=malignant} sup: 0.34 conf: 0.00 len: 6, id: 4254, CAR {Marginal_Adhesion=-inf_to_1.5,Bare_Nuclei=-inf_to_1.5,Bland_Chromatin=-inf_to_2.5,Single_Epi_Cell_Size=-inf_to_2.5} => {Class=benign} sup: 0.34 conf: 0.00 len: 5, id: 4087, CAR {Marginal_Adhesion=-inf_to_1.5,Bare_Nuclei=-inf_to_1.5,Bland_Chromatin=-inf_to_2.5,Single_Epi_Cell_Size=-inf_to_2.5} => {Class=malignant} sup: 0.34 conf: 0.00 len: 5, id: 4088, CAR {Normal_Nucleoli=-inf_to_2.5,Clump_Thickness=-inf_to_4.5,Marginal_Adhesion=-inf_to_1.5,Single_Epi_Cell_Size=-inf_to_2.5,Bare_Nuclei=-inf_to_1.5,Cell_Size_Uniformity=-inf_to_1.5} => {Class=benign} sup: 0.34 conf: 0.00 len: 7, id: 4411, CAR {Normal_Nucleoli=-inf_to_2.5,Clump_Thickness=-inf_to_4.5,Marginal_Adhesion=-inf_to_1.5,Single_Epi_Cell_Size=-inf_to_2.5,Bare_Nuclei=-inf_to_1.5,Cell_Size_Uniformity=-inf_to_1.5} => {Class=malignant} sup: 0.34 conf: 0.00 len: 7, id: 4412, CAR {Cell_Shape_Uniformity=-inf_to_1.5,Normal_Nucleoli=-inf_to_2.5,Bland_Chromatin=-inf_to_2.5,Cell_Size_Uniformity=-inf_to_1.5} => {Class=benign} sup: 0.33 conf: 0.00 len: 5, id: 3823, CAR {Cell_Shape_Uniformity=-inf_to_1.5,Normal_Nucleoli=-inf_to_2.5,Bland_Chromatin=-inf_to_2.5,Cell_Size_Uniformity=-inf_to_1.5} => {Class=malignant} sup: 0.33 conf: 0.00 len: 5, id: 3824, CAR {Cell_Shape_Uniformity=-inf_to_1.5,Marginal_Adhesion=-inf_to_1.5,Bare_Nuclei=-inf_to_1.5,Clump_Thickness=-inf_to_4.5} => {Class=benign} sup: 0.33 conf: 0.00 len: 5, id: 4215, CAR {Cell_Shape_Uniformity=-inf_to_1.5,Marginal_Adhesion=-inf_to_1.5,Bare_Nuclei=-inf_to_1.5,Clump_Thickness=-inf_to_4.5} => {Class=malignant} sup: 0.33 conf: 0.00 len: 5, id: 4216, CAR {Normal_Nucleoli=-inf_to_2.5,Single_Epi_Cell_Size=-inf_to_2.5,Bare_Nuclei=-inf_to_1.5,Cell_Size_Uniformity=-inf_to_1.5,Bland_Chromatin=-inf_to_2.5} => {Class=benign} sup: 0.33 conf: 0.00 len: 6, id: 4057, CAR {Normal_Nucleoli=-inf_to_2.5,Single_Epi_Cell_Size=-inf_to_2.5,Bare_Nuclei=-inf_to_1.5,Cell_Size_Uniformity=-inf_to_1.5,Bland_Chromatin=-inf_to_2.5} => {Class=malignant} sup: 0.33 conf: 0.00 len: 6, id: 4058, CAR {Cell_Shape_Uniformity=-inf_to_1.5,Mitoses=-inf_to_1.5,Clump_Thickness=-inf_to_4.5,Marginal_Adhesion=-inf_to_1.5,Cell_Size_Uniformity=-inf_to_1.5} => {Class=benign} sup: 0.33 conf: 0.00 len: 6, id: 4181, CAR {Cell_Shape_Uniformity=-inf_to_1.5,Mitoses=-inf_to_1.5,Clump_Thickness=-inf_to_4.5,Marginal_Adhesion=-inf_to_1.5,Cell_Size_Uniformity=-inf_to_1.5} => {Class=malignant} sup: 0.33 conf: 0.00 len: 6, id: 4182, CAR {Cell_Shape_Uniformity=-inf_to_1.5,Mitoses=-inf_to_1.5,Normal_Nucleoli=-inf_to_2.5,Clump_Thickness=-inf_to_4.5,Bare_Nuclei=-inf_to_1.5,Cell_Size_Uniformity=-inf_to_1.5} => {Class=benign} sup: 0.33 conf: 0.00 len: 7, id: 4195, CAR {Cell_Shape_Uniformity=-inf_to_1.5,Mitoses=-inf_to_1.5,Normal_Nucleoli=-inf_to_2.5,Clump_Thickness=-inf_to_4.5,Bare_Nuclei=-inf_to_1.5,Cell_Size_Uniformity=-inf_to_1.5} => {Class=malignant} sup: 0.33 conf: 0.00 len: 7, id: 4196, CAR {Marginal_Adhesion=-inf_to_1.5,Bland_Chromatin=-inf_to_2.5,Cell_Size_Uniformity=-inf_to_1.5} => {Class=benign} sup: 0.33 conf: 0.00 len: 4, id: 4021, CAR {Marginal_Adhesion=-inf_to_1.5,Bland_Chromatin=-inf_to_2.5,Cell_Size_Uniformity=-inf_to_1.5} => {Class=malignant} sup: 0.33 conf: 0.00 len: 4, id: 4022, CAR {Cell_Shape_Uniformity=-inf_to_1.5,Mitoses=-inf_to_1.5,Normal_Nucleoli=-inf_to_2.5,Clump_Thickness=-inf_to_4.5,Marginal_Adhesion=-inf_to_1.5,Single_Epi_Cell_Size=-inf_to_2.5} => {Class=benign} sup: 0.33 conf: 0.00 len: 7, id: 4235, CAR {Cell_Shape_Uniformity=-inf_to_1.5,Mitoses=-inf_to_1.5,Normal_Nucleoli=-inf_to_2.5,Clump_Thickness=-inf_to_4.5,Marginal_Adhesion=-inf_to_1.5,Single_Epi_Cell_Size=-inf_to_2.5} => {Class=malignant} sup: 0.33 conf: 0.00 len: 7, id: 4236, CAR {Cell_Shape_Uniformity=-inf_to_1.5,Mitoses=-inf_to_1.5,Normal_Nucleoli=-inf_to_2.5,Clump_Thickness=-inf_to_4.5,Single_Epi_Cell_Size=-inf_to_2.5,Bare_Nuclei=-inf_to_1.5} => {Class=benign} sup: 0.33 conf: 0.00 len: 7, id: 4251, CAR {Cell_Shape_Uniformity=-inf_to_1.5,Mitoses=-inf_to_1.5,Normal_Nucleoli=-inf_to_2.5,Clump_Thickness=-inf_to_4.5,Single_Epi_Cell_Size=-inf_to_2.5,Bare_Nuclei=-inf_to_1.5} => {Class=malignant} sup: 0.33 conf: 0.00 len: 7, id: 4252, CAR {Mitoses=-inf_to_1.5,Clump_Thickness=-inf_to_4.5,Marginal_Adhesion=-inf_to_1.5,Single_Epi_Cell_Size=-inf_to_2.5,Bare_Nuclei=-inf_to_1.5,Cell_Size_Uniformity=-inf_to_1.5} => {Class=benign} sup: 0.33 conf: 0.00 len: 7, id: 4415, CAR {Mitoses=-inf_to_1.5,Clump_Thickness=-inf_to_4.5,Marginal_Adhesion=-inf_to_1.5,Single_Epi_Cell_Size=-inf_to_2.5,Bare_Nuclei=-inf_to_1.5,Cell_Size_Uniformity=-inf_to_1.5} => {Class=malignant} sup: 0.33 conf: 0.00 len: 7, id: 4416, CAR {Mitoses=-inf_to_1.5,Single_Epi_Cell_Size=-inf_to_2.5,Bare_Nuclei=-inf_to_1.5,Cell_Size_Uniformity=-inf_to_1.5,Bland_Chromatin=-inf_to_2.5} => {Class=benign} sup: 0.33 conf: 0.00 len: 6, id: 4061, CAR {Mitoses=-inf_to_1.5,Single_Epi_Cell_Size=-inf_to_2.5,Bare_Nuclei=-inf_to_1.5,Cell_Size_Uniformity=-inf_to_1.5,Bland_Chromatin=-inf_to_2.5} => {Class=malignant} sup: 0.33 conf: 0.00 len: 6, id: 4062, CAR {Cell_Shape_Uniformity=-inf_to_1.5,Mitoses=-inf_to_1.5,Normal_Nucleoli=-inf_to_2.5,Clump_Thickness=-inf_to_4.5,Marginal_Adhesion=-inf_to_1.5,Cell_Size_Uniformity=-inf_to_1.5} => {Class=benign} sup: 0.33 conf: 0.00 len: 7, id: 4179, CAR {Cell_Shape_Uniformity=-inf_to_1.5,Mitoses=-inf_to_1.5,Normal_Nucleoli=-inf_to_2.5,Clump_Thickness=-inf_to_4.5,Marginal_Adhesion=-inf_to_1.5,Cell_Size_Uniformity=-inf_to_1.5} => {Class=malignant} sup: 0.33 conf: 0.00 len: 7, id: 4180, CAR {Cell_Shape_Uniformity=-inf_to_1.5,Bare_Nuclei=-inf_to_1.5,Bland_Chromatin=-inf_to_2.5} => {Class=benign} sup: 0.33 conf: 0.00 len: 4, id: 3861, CAR {Cell_Shape_Uniformity=-inf_to_1.5,Bare_Nuclei=-inf_to_1.5,Bland_Chromatin=-inf_to_2.5} => {Class=malignant} sup: 0.33 conf: 0.00 len: 4, id: 3862, CAR {Cell_Shape_Uniformity=-inf_to_1.5,Single_Epi_Cell_Size=-inf_to_2.5,Bland_Chromatin=-inf_to_2.5} => {Class=benign} sup: 0.33 conf: 0.00 len: 4, id: 3877, CAR {Cell_Shape_Uniformity=-inf_to_1.5,Single_Epi_Cell_Size=-inf_to_2.5,Bland_Chromatin=-inf_to_2.5} => {Class=malignant} sup: 0.33 conf: 0.00 len: 4, id: 3878, CAR {Single_Epi_Cell_Size=-inf_to_2.5,Bland_Chromatin=-inf_to_2.5,Clump_Thickness=-inf_to_4.5} => {Class=benign} sup: 0.33 conf: 0.00 len: 4, id: 4005, CAR {Single_Epi_Cell_Size=-inf_to_2.5,Bland_Chromatin=-inf_to_2.5,Clump_Thickness=-inf_to_4.5} => {Class=malignant} sup: 0.33 conf: 0.00 len: 4, id: 4006, CAR {Cell_Shape_Uniformity=-inf_to_1.5,Mitoses=-inf_to_1.5,Bland_Chromatin=-inf_to_2.5,Cell_Size_Uniformity=-inf_to_1.5} => {Class=benign} sup: 0.33 conf: 0.00 len: 5, id: 3827, CAR {Cell_Shape_Uniformity=-inf_to_1.5,Mitoses=-inf_to_1.5,Bland_Chromatin=-inf_to_2.5,Cell_Size_Uniformity=-inf_to_1.5} => {Class=malignant} sup: 0.33 conf: 0.00 len: 5, id: 3828, CAR {Marginal_Adhesion=-inf_to_1.5,Normal_Nucleoli=-inf_to_2.5,Bland_Chromatin=-inf_to_2.5,Cell_Size_Uniformity=-inf_to_1.5} => {Class=benign} sup: 0.33 conf: 0.00 len: 5, id: 4047, CAR {Marginal_Adhesion=-inf_to_1.5,Normal_Nucleoli=-inf_to_2.5,Bland_Chromatin=-inf_to_2.5,Cell_Size_Uniformity=-inf_to_1.5} => {Class=malignant} sup: 0.33 conf: 0.00 len: 5, id: 4048, CAR {Normal_Nucleoli=-inf_to_2.5,Marginal_Adhesion=-inf_to_1.5,Single_Epi_Cell_Size=-inf_to_2.5,Bare_Nuclei=-inf_to_1.5,Bland_Chromatin=-inf_to_2.5} => {Class=benign} sup: 0.33 conf: 0.00 len: 6, id: 4089, CAR {Normal_Nucleoli=-inf_to_2.5,Marginal_Adhesion=-inf_to_1.5,Single_Epi_Cell_Size=-inf_to_2.5,Bare_Nuclei=-inf_to_1.5,Bland_Chromatin=-inf_to_2.5} => {Class=malignant} sup: 0.33 conf: 0.00 len: 6, id: 4090, CAR {Mitoses=-inf_to_1.5,Marginal_Adhesion=-inf_to_1.5,Single_Epi_Cell_Size=-inf_to_2.5,Bare_Nuclei=-inf_to_1.5,Bland_Chromatin=-inf_to_2.5} => {Class=benign} sup: 0.33 conf: 0.00 len: 6, id: 4093, CAR {Mitoses=-inf_to_1.5,Marginal_Adhesion=-inf_to_1.5,Single_Epi_Cell_Size=-inf_to_2.5,Bare_Nuclei=-inf_to_1.5,Bland_Chromatin=-inf_to_2.5} => {Class=malignant} sup: 0.33 conf: 0.00 len: 6, id: 4094, CAR {Cell_Shape_Uniformity=-inf_to_1.5,Clump_Thickness=-inf_to_4.5,Single_Epi_Cell_Size=-inf_to_2.5,Bare_Nuclei=-inf_to_1.5,Cell_Size_Uniformity=-inf_to_1.5} => {Class=benign} sup: 0.33 conf: 0.00 len: 6, id: 4185, CAR {Cell_Shape_Uniformity=-inf_to_1.5,Clump_Thickness=-inf_to_4.5,Single_Epi_Cell_Size=-inf_to_2.5,Bare_Nuclei=-inf_to_1.5,Cell_Size_Uniformity=-inf_to_1.5} => {Class=malignant} sup: 0.33 conf: 0.00 len: 6, id: 4186, CAR {Cell_Shape_Uniformity=-inf_to_1.5,Normal_Nucleoli=-inf_to_2.5,Clump_Thickness=-inf_to_4.5,Marginal_Adhesion=-inf_to_1.5,Bare_Nuclei=-inf_to_1.5} => {Class=benign} sup: 0.33 conf: 0.00 len: 6, id: 4225, CAR {Cell_Shape_Uniformity=-inf_to_1.5,Normal_Nucleoli=-inf_to_2.5,Clump_Thickness=-inf_to_4.5,Marginal_Adhesion=-inf_to_1.5,Bare_Nuclei=-inf_to_1.5} => {Class=malignant} sup: 0.33 conf: 0.00 len: 6, id: 4226, CAR {Mitoses=-inf_to_1.5,Normal_Nucleoli=-inf_to_2.5,Clump_Thickness=-inf_to_4.5,Marginal_Adhesion=-inf_to_1.5,Single_Epi_Cell_Size=-inf_to_2.5,Bare_Nuclei=-inf_to_1.5,Cell_Size_Uniformity=-inf_to_1.5} => {Class=benign} sup: 0.33 conf: 0.00 len: 8, id: 4413, CAR {Mitoses=-inf_to_1.5,Normal_Nucleoli=-inf_to_2.5,Clump_Thickness=-inf_to_4.5,Marginal_Adhesion=-inf_to_1.5,Single_Epi_Cell_Size=-inf_to_2.5,Bare_Nuclei=-inf_to_1.5,Cell_Size_Uniformity=-inf_to_1.5} => {Class=malignant} sup: 0.33 conf: 0.00 len: 8, id: 4414, CAR {Cell_Shape_Uniformity=-inf_to_1.5,Clump_Thickness=-inf_to_4.5,Marginal_Adhesion=-inf_to_1.5,Single_Epi_Cell_Size=-inf_to_2.5,Cell_Size_Uniformity=-inf_to_1.5} => {Class=benign} sup: 0.33 conf: 0.00 len: 6, id: 4169, CAR {Cell_Shape_Uniformity=-inf_to_1.5,Clump_Thickness=-inf_to_4.5,Marginal_Adhesion=-inf_to_1.5,Single_Epi_Cell_Size=-inf_to_2.5,Cell_Size_Uniformity=-inf_to_1.5} => {Class=malignant} sup: 0.33 conf: 0.00 len: 6, id: 4170, CAR {Cell_Shape_Uniformity=-inf_to_1.5,Mitoses=-inf_to_1.5,Clump_Thickness=-inf_to_4.5,Marginal_Adhesion=-inf_to_1.5,Bare_Nuclei=-inf_to_1.5} => {Class=benign} sup: 0.33 conf: 0.00 len: 6, id: 4229, CAR {Cell_Shape_Uniformity=-inf_to_1.5,Mitoses=-inf_to_1.5,Clump_Thickness=-inf_to_4.5,Marginal_Adhesion=-inf_to_1.5,Bare_Nuclei=-inf_to_1.5} => {Class=malignant} sup: 0.33 conf: 0.00 len: 6, id: 4230, CAR {Mitoses=-inf_to_1.5,Normal_Nucleoli=-inf_to_2.5,Single_Epi_Cell_Size=-inf_to_2.5,Bare_Nuclei=-inf_to_1.5,Cell_Size_Uniformity=-inf_to_1.5,Bland_Chromatin=-inf_to_2.5} => {Class=benign} sup: 0.33 conf: 0.00 len: 7, id: 4059, CAR {Mitoses=-inf_to_1.5,Normal_Nucleoli=-inf_to_2.5,Single_Epi_Cell_Size=-inf_to_2.5,Bare_Nuclei=-inf_to_1.5,Cell_Size_Uniformity=-inf_to_1.5,Bland_Chromatin=-inf_to_2.5} => {Class=malignant} sup: 0.33 conf: 0.00 len: 7, id: 4060, CAR {Cell_Shape_Uniformity=-inf_to_1.5,Normal_Nucleoli=-inf_to_2.5,Bare_Nuclei=-inf_to_1.5,Bland_Chromatin=-inf_to_2.5} => {Class=benign} sup: 0.33 conf: 0.00 len: 5, id: 3871, CAR {Cell_Shape_Uniformity=-inf_to_1.5,Normal_Nucleoli=-inf_to_2.5,Bare_Nuclei=-inf_to_1.5,Bland_Chromatin=-inf_to_2.5} => {Class=malignant} sup: 0.33 conf: 0.00 len: 5, id: 3872, CAR {Cell_Shape_Uniformity=-inf_to_1.5,Normal_Nucleoli=-inf_to_2.5,Single_Epi_Cell_Size=-inf_to_2.5,Bland_Chromatin=-inf_to_2.5} => {Class=benign} sup: 0.33 conf: 0.00 len: 5, id: 3879, CAR {Cell_Shape_Uniformity=-inf_to_1.5,Normal_Nucleoli=-inf_to_2.5,Single_Epi_Cell_Size=-inf_to_2.5,Bland_Chromatin=-inf_to_2.5} => {Class=malignant} sup: 0.33 conf: 0.00 len: 5, id: 3880, CAR {Mitoses=-inf_to_1.5,Marginal_Adhesion=-inf_to_1.5,Bland_Chromatin=-inf_to_2.5,Cell_Size_Uniformity=-inf_to_1.5} => {Class=benign} sup: 0.33 conf: 0.00 len: 5, id: 4051, CAR {Mitoses=-inf_to_1.5,Marginal_Adhesion=-inf_to_1.5,Bland_Chromatin=-inf_to_2.5,Cell_Size_Uniformity=-inf_to_1.5} => {Class=malignant} sup: 0.33 conf: 0.00 len: 5, id: 4052, CAR {Cell_Shape_Uniformity=-inf_to_1.5,Mitoses=-inf_to_1.5,Normal_Nucleoli=-inf_to_2.5,Cell_Size_Uniformity=-inf_to_1.5,Bland_Chromatin=-inf_to_2.5} => {Class=benign} sup: 0.33 conf: 0.00 len: 6, id: 3825, CAR {Cell_Shape_Uniformity=-inf_to_1.5,Mitoses=-inf_to_1.5,Normal_Nucleoli=-inf_to_2.5,Cell_Size_Uniformity=-inf_to_1.5,Bland_Chromatin=-inf_to_2.5} => {Class=malignant} sup: 0.33 conf: 0.00 len: 6, id: 3826, CAR {Cell_Shape_Uniformity=-inf_to_1.5,Normal_Nucleoli=-inf_to_2.5,Clump_Thickness=-inf_to_4.5,Single_Epi_Cell_Size=-inf_to_2.5,Bare_Nuclei=-inf_to_1.5,Cell_Size_Uniformity=-inf_to_1.5} => {Class=benign} sup: 0.33 conf: 0.00 len: 7, id: 4187, CAR {Cell_Shape_Uniformity=-inf_to_1.5,Normal_Nucleoli=-inf_to_2.5,Clump_Thickness=-inf_to_4.5,Single_Epi_Cell_Size=-inf_to_2.5,Bare_Nuclei=-inf_to_1.5,Cell_Size_Uniformity=-inf_to_1.5} => {Class=malignant} sup: 0.33 conf: 0.00 len: 7, id: 4188, CAR {Bare_Nuclei=-inf_to_1.5,Bland_Chromatin=-inf_to_2.5,Clump_Thickness=-inf_to_4.5} => {Class=benign} sup: 0.32 conf: 0.00 len: 4, id: 3989, CAR {Bare_Nuclei=-inf_to_1.5,Bland_Chromatin=-inf_to_2.5,Clump_Thickness=-inf_to_4.5} => {Class=malignant} sup: 0.32 conf: 0.00 len: 4, id: 3990, CAR {Normal_Nucleoli=-inf_to_2.5,Single_Epi_Cell_Size=-inf_to_2.5,Bland_Chromatin=-inf_to_2.5,Clump_Thickness=-inf_to_4.5} => {Class=benign} sup: 0.32 conf: 0.00 len: 5, id: 4007, CAR {Normal_Nucleoli=-inf_to_2.5,Single_Epi_Cell_Size=-inf_to_2.5,Bland_Chromatin=-inf_to_2.5,Clump_Thickness=-inf_to_4.5} => {Class=malignant} sup: 0.32 conf: 0.00 len: 5, id: 4008, CAR {Cell_Shape_Uniformity=-inf_to_1.5,Normal_Nucleoli=-inf_to_2.5,Clump_Thickness=-inf_to_4.5,Marginal_Adhesion=-inf_to_1.5,Single_Epi_Cell_Size=-inf_to_2.5,Cell_Size_Uniformity=-inf_to_1.5} => {Class=benign} sup: 0.32 conf: 0.00 len: 7, id: 4171, CAR {Cell_Shape_Uniformity=-inf_to_1.5,Normal_Nucleoli=-inf_to_2.5,Clump_Thickness=-inf_to_4.5,Marginal_Adhesion=-inf_to_1.5,Single_Epi_Cell_Size=-inf_to_2.5,Cell_Size_Uniformity=-inf_to_1.5} => {Class=malignant} sup: 0.32 conf: 0.00 len: 7, id: 4172, CAR {Cell_Shape_Uniformity=-inf_to_1.5,Bare_Nuclei=-inf_to_1.5,Bland_Chromatin=-inf_to_2.5,Mitoses=-inf_to_1.5} => {Class=benign} sup: 0.32 conf: 0.00 len: 5, id: 3875, CAR {Cell_Shape_Uniformity=-inf_to_1.5,Bare_Nuclei=-inf_to_1.5,Bland_Chromatin=-inf_to_2.5,Mitoses=-inf_to_1.5} => {Class=malignant} sup: 0.32 conf: 0.00 len: 5, id: 3876, CAR {Mitoses=-inf_to_1.5,Normal_Nucleoli=-inf_to_2.5,Marginal_Adhesion=-inf_to_1.5,Cell_Size_Uniformity=-inf_to_1.5,Bland_Chromatin=-inf_to_2.5} => {Class=benign} sup: 0.32 conf: 0.00 len: 6, id: 4049, CAR {Mitoses=-inf_to_1.5,Normal_Nucleoli=-inf_to_2.5,Marginal_Adhesion=-inf_to_1.5,Cell_Size_Uniformity=-inf_to_1.5,Bland_Chromatin=-inf_to_2.5} => {Class=malignant} sup: 0.32 conf: 0.00 len: 6, id: 4050, CAR {Mitoses=-inf_to_1.5,Normal_Nucleoli=-inf_to_2.5,Marginal_Adhesion=-inf_to_1.5,Single_Epi_Cell_Size=-inf_to_2.5,Bare_Nuclei=-inf_to_1.5,Bland_Chromatin=-inf_to_2.5} => {Class=benign} sup: 0.32 conf: 0.00 len: 7, id: 4091, CAR {Mitoses=-inf_to_1.5,Normal_Nucleoli=-inf_to_2.5,Marginal_Adhesion=-inf_to_1.5,Single_Epi_Cell_Size=-inf_to_2.5,Bare_Nuclei=-inf_to_1.5,Bland_Chromatin=-inf_to_2.5} => {Class=malignant} sup: 0.32 conf: 0.00 len: 7, id: 4092, CAR {Cell_Shape_Uniformity=-inf_to_1.5,Mitoses=-inf_to_1.5,Clump_Thickness=-inf_to_4.5,Single_Epi_Cell_Size=-inf_to_2.5,Bare_Nuclei=-inf_to_1.5,Cell_Size_Uniformity=-inf_to_1.5} => {Class=benign} sup: 0.32 conf: 0.00 len: 7, id: 4191, CAR {Cell_Shape_Uniformity=-inf_to_1.5,Mitoses=-inf_to_1.5,Clump_Thickness=-inf_to_4.5,Single_Epi_Cell_Size=-inf_to_2.5,Bare_Nuclei=-inf_to_1.5,Cell_Size_Uniformity=-inf_to_1.5} => {Class=malignant} sup: 0.32 conf: 0.00 len: 7, id: 4192, CAR {Cell_Shape_Uniformity=-inf_to_1.5,Mitoses=-inf_to_1.5,Normal_Nucleoli=-inf_to_2.5,Clump_Thickness=-inf_to_4.5,Marginal_Adhesion=-inf_to_1.5,Bare_Nuclei=-inf_to_1.5} => {Class=benign} sup: 0.32 conf: 0.00 len: 7, id: 4227, CAR {Cell_Shape_Uniformity=-inf_to_1.5,Mitoses=-inf_to_1.5,Normal_Nucleoli=-inf_to_2.5,Clump_Thickness=-inf_to_4.5,Marginal_Adhesion=-inf_to_1.5,Bare_Nuclei=-inf_to_1.5} => {Class=malignant} sup: 0.32 conf: 0.00 len: 7, id: 4228, CAR {Cell_Shape_Uniformity=-inf_to_1.5,Mitoses=-inf_to_1.5,Bland_Chromatin=-inf_to_2.5,Single_Epi_Cell_Size=-inf_to_2.5} => {Class=benign} sup: 0.32 conf: 0.00 len: 5, id: 3883, CAR {Cell_Shape_Uniformity=-inf_to_1.5,Mitoses=-inf_to_1.5,Bland_Chromatin=-inf_to_2.5,Single_Epi_Cell_Size=-inf_to_2.5} => {Class=malignant} sup: 0.32 conf: 0.00 len: 5, id: 3884, CAR {Cell_Shape_Uniformity=-inf_to_1.5,Mitoses=-inf_to_1.5,Clump_Thickness=-inf_to_4.5,Marginal_Adhesion=-inf_to_1.5,Single_Epi_Cell_Size=-inf_to_2.5,Cell_Size_Uniformity=-inf_to_1.5} => {Class=benign} sup: 0.32 conf: 0.00 len: 7, id: 4175, CAR {Cell_Shape_Uniformity=-inf_to_1.5,Mitoses=-inf_to_1.5,Clump_Thickness=-inf_to_4.5,Marginal_Adhesion=-inf_to_1.5,Single_Epi_Cell_Size=-inf_to_2.5,Cell_Size_Uniformity=-inf_to_1.5} => {Class=malignant} sup: 0.32 conf: 0.00 len: 7, id: 4176, CAR {Bland_Chromatin=3.5_to_inf} => {Class=benign} sup: 0.32 conf: 0.00 len: 2, id: 3631, CAR {Bland_Chromatin=3.5_to_inf} => {Class=malignant} sup: 0.32 conf: 0.00 len: 2, id: 3632, CAR {Normal_Nucleoli=-inf_to_2.5,Bare_Nuclei=-inf_to_1.5,Bland_Chromatin=-inf_to_2.5,Clump_Thickness=-inf_to_4.5} => {Class=benign} sup: 0.32 conf: 0.00 len: 5, id: 3999, CAR {Normal_Nucleoli=-inf_to_2.5,Bare_Nuclei=-inf_to_1.5,Bland_Chromatin=-inf_to_2.5,Clump_Thickness=-inf_to_4.5} => {Class=malignant} sup: 0.32 conf: 0.00 len: 5, id: 4000, CAR {Mitoses=-inf_to_1.5,Single_Epi_Cell_Size=-inf_to_2.5,Bland_Chromatin=-inf_to_2.5,Clump_Thickness=-inf_to_4.5} => {Class=benign} sup: 0.32 conf: 0.00 len: 5, id: 4011, CAR {Mitoses=-inf_to_1.5,Single_Epi_Cell_Size=-inf_to_2.5,Bland_Chromatin=-inf_to_2.5,Clump_Thickness=-inf_to_4.5} => {Class=malignant} sup: 0.32 conf: 0.00 len: 5, id: 4012, CAR {Cell_Shape_Uniformity=-inf_to_1.5,Mitoses=-inf_to_1.5,Normal_Nucleoli=-inf_to_2.5,Bare_Nuclei=-inf_to_1.5,Bland_Chromatin=-inf_to_2.5} => {Class=benign} sup: 0.32 conf: 0.00 len: 6, id: 3873, CAR {Cell_Shape_Uniformity=-inf_to_1.5,Mitoses=-inf_to_1.5,Normal_Nucleoli=-inf_to_2.5,Bare_Nuclei=-inf_to_1.5,Bland_Chromatin=-inf_to_2.5} => {Class=malignant} sup: 0.32 conf: 0.00 len: 6, id: 3874, CAR {Cell_Shape_Uniformity=-inf_to_1.5,Clump_Thickness=-inf_to_4.5,Marginal_Adhesion=-inf_to_1.5,Single_Epi_Cell_Size=-inf_to_2.5,Bare_Nuclei=-inf_to_1.5} => {Class=benign} sup: 0.32 conf: 0.00 len: 6, id: 4217, CAR {Cell_Shape_Uniformity=-inf_to_1.5,Clump_Thickness=-inf_to_4.5,Marginal_Adhesion=-inf_to_1.5,Single_Epi_Cell_Size=-inf_to_2.5,Bare_Nuclei=-inf_to_1.5} => {Class=malignant} sup: 0.32 conf: 0.00 len: 6, id: 4218, CAR {Cell_Shape_Uniformity=-inf_to_1.5,Mitoses=-inf_to_1.5,Normal_Nucleoli=-inf_to_2.5,Clump_Thickness=-inf_to_4.5,Single_Epi_Cell_Size=-inf_to_2.5,Bare_Nuclei=-inf_to_1.5,Cell_Size_Uniformity=-inf_to_1.5} => {Class=benign} sup: 0.32 conf: 0.00 len: 8, id: 4189, CAR {Cell_Shape_Uniformity=-inf_to_1.5,Mitoses=-inf_to_1.5,Normal_Nucleoli=-inf_to_2.5,Clump_Thickness=-inf_to_4.5,Single_Epi_Cell_Size=-inf_to_2.5,Bare_Nuclei=-inf_to_1.5,Cell_Size_Uniformity=-inf_to_1.5} => {Class=malignant} sup: 0.32 conf: 0.00 len: 8, id: 4190, CAR {Marginal_Adhesion=-inf_to_1.5,Single_Epi_Cell_Size=-inf_to_2.5,Bland_Chromatin=-inf_to_2.5,Cell_Size_Uniformity=-inf_to_1.5} => {Class=benign} sup: 0.32 conf: 0.00 len: 5, id: 4039, CAR {Marginal_Adhesion=-inf_to_1.5,Single_Epi_Cell_Size=-inf_to_2.5,Bland_Chromatin=-inf_to_2.5,Cell_Size_Uniformity=-inf_to_1.5} => {Class=malignant} sup: 0.32 conf: 0.00 len: 5, id: 4040, CAR {Cell_Shape_Uniformity=-inf_to_1.5,Mitoses=-inf_to_1.5,Normal_Nucleoli=-inf_to_2.5,Single_Epi_Cell_Size=-inf_to_2.5,Bland_Chromatin=-inf_to_2.5} => {Class=benign} sup: 0.32 conf: 0.00 len: 6, id: 3881, CAR {Cell_Shape_Uniformity=-inf_to_1.5,Mitoses=-inf_to_1.5,Normal_Nucleoli=-inf_to_2.5,Single_Epi_Cell_Size=-inf_to_2.5,Bland_Chromatin=-inf_to_2.5} => {Class=malignant} sup: 0.32 conf: 0.00 len: 6, id: 3882, CAR {Cell_Shape_Uniformity=-inf_to_1.5,Clump_Thickness=-inf_to_4.5,Marginal_Adhesion=-inf_to_1.5,Bare_Nuclei=-inf_to_1.5,Cell_Size_Uniformity=-inf_to_1.5} => {Class=benign} sup: 0.32 conf: 0.00 len: 6, id: 4153, CAR {Cell_Shape_Uniformity=-inf_to_1.5,Clump_Thickness=-inf_to_4.5,Marginal_Adhesion=-inf_to_1.5,Bare_Nuclei=-inf_to_1.5,Cell_Size_Uniformity=-inf_to_1.5} => {Class=malignant} sup: 0.32 conf: 0.00 len: 6, id: 4154, CAR {Cell_Shape_Uniformity=-inf_to_1.5,Mitoses=-inf_to_1.5,Normal_Nucleoli=-inf_to_2.5,Clump_Thickness=-inf_to_4.5,Marginal_Adhesion=-inf_to_1.5,Single_Epi_Cell_Size=-inf_to_2.5,Cell_Size_Uniformity=-inf_to_1.5} => {Class=benign} sup: 0.32 conf: 0.00 len: 8, id: 4173, CAR {Cell_Shape_Uniformity=-inf_to_1.5,Mitoses=-inf_to_1.5,Normal_Nucleoli=-inf_to_2.5,Clump_Thickness=-inf_to_4.5,Marginal_Adhesion=-inf_to_1.5,Single_Epi_Cell_Size=-inf_to_2.5,Cell_Size_Uniformity=-inf_to_1.5} => {Class=malignant} sup: 0.32 conf: 0.00 len: 8, id: 4174, CAR {Marginal_Adhesion=-inf_to_1.5,Bland_Chromatin=-inf_to_2.5,Clump_Thickness=-inf_to_4.5} => {Class=benign} sup: 0.31 conf: 0.00 len: 4, id: 3957, CAR {Marginal_Adhesion=-inf_to_1.5,Bland_Chromatin=-inf_to_2.5,Clump_Thickness=-inf_to_4.5} => {Class=malignant} sup: 0.31 conf: 0.00 len: 4, id: 3958, CAR {Mitoses=-inf_to_1.5,Bare_Nuclei=-inf_to_1.5,Bland_Chromatin=-inf_to_2.5,Clump_Thickness=-inf_to_4.5} => {Class=benign} sup: 0.31 conf: 0.00 len: 5, id: 4003, CAR {Mitoses=-inf_to_1.5,Bare_Nuclei=-inf_to_1.5,Bland_Chromatin=-inf_to_2.5,Clump_Thickness=-inf_to_4.5} => {Class=malignant} sup: 0.31 conf: 0.00 len: 5, id: 4004, CAR {Clump_Thickness=-inf_to_4.5,Bland_Chromatin=-inf_to_2.5,Cell_Size_Uniformity=-inf_to_1.5} => {Class=benign} sup: 0.31 conf: 0.00 len: 4, id: 3893, CAR {Clump_Thickness=-inf_to_4.5,Bland_Chromatin=-inf_to_2.5,Cell_Size_Uniformity=-inf_to_1.5} => {Class=malignant} sup: 0.31 conf: 0.00 len: 4, id: 3894, CAR {Cell_Shape_Uniformity=-inf_to_1.5,Single_Epi_Cell_Size=-inf_to_2.5,Bland_Chromatin=-inf_to_2.5,Cell_Size_Uniformity=-inf_to_1.5} => {Class=benign} sup: 0.31 conf: 0.00 len: 5, id: 3815, CAR {Cell_Shape_Uniformity=-inf_to_1.5,Single_Epi_Cell_Size=-inf_to_2.5,Bland_Chromatin=-inf_to_2.5,Cell_Size_Uniformity=-inf_to_1.5} => {Class=malignant} sup: 0.31 conf: 0.00 len: 5, id: 3816, CAR {Mitoses=-inf_to_1.5,Normal_Nucleoli=-inf_to_2.5,Clump_Thickness=-inf_to_4.5,Single_Epi_Cell_Size=-inf_to_2.5,Bland_Chromatin=-inf_to_2.5} => {Class=benign} sup: 0.31 conf: 0.00 len: 6, id: 4009, CAR {Mitoses=-inf_to_1.5,Normal_Nucleoli=-inf_to_2.5,Clump_Thickness=-inf_to_4.5,Single_Epi_Cell_Size=-inf_to_2.5,Bland_Chromatin=-inf_to_2.5} => {Class=malignant} sup: 0.31 conf: 0.00 len: 6, id: 4010, CAR {Normal_Nucleoli=-inf_to_2.5,Marginal_Adhesion=-inf_to_1.5,Single_Epi_Cell_Size=-inf_to_2.5,Cell_Size_Uniformity=-inf_to_1.5,Bland_Chromatin=-inf_to_2.5} => {Class=benign} sup: 0.31 conf: 0.00 len: 6, id: 4041, CAR {Normal_Nucleoli=-inf_to_2.5,Marginal_Adhesion=-inf_to_1.5,Single_Epi_Cell_Size=-inf_to_2.5,Cell_Size_Uniformity=-inf_to_1.5,Bland_Chromatin=-inf_to_2.5} => {Class=malignant} sup: 0.31 conf: 0.00 len: 6, id: 4042, CAR {Cell_Shape_Uniformity=-inf_to_1.5,Normal_Nucleoli=-inf_to_2.5,Clump_Thickness=-inf_to_4.5,Marginal_Adhesion=-inf_to_1.5,Bare_Nuclei=-inf_to_1.5,Cell_Size_Uniformity=-inf_to_1.5} => {Class=benign} sup: 0.31 conf: 0.00 len: 7, id: 4163, CAR {Cell_Shape_Uniformity=-inf_to_1.5,Normal_Nucleoli=-inf_to_2.5,Clump_Thickness=-inf_to_4.5,Marginal_Adhesion=-inf_to_1.5,Bare_Nuclei=-inf_to_1.5,Cell_Size_Uniformity=-inf_to_1.5} => {Class=malignant} sup: 0.31 conf: 0.00 len: 7, id: 4164, CAR {Cell_Shape_Uniformity=-inf_to_1.5,Normal_Nucleoli=-inf_to_2.5,Clump_Thickness=-inf_to_4.5,Marginal_Adhesion=-inf_to_1.5,Single_Epi_Cell_Size=-inf_to_2.5,Bare_Nuclei=-inf_to_1.5} => {Class=benign} sup: 0.31 conf: 0.00 len: 7, id: 4219, CAR {Cell_Shape_Uniformity=-inf_to_1.5,Normal_Nucleoli=-inf_to_2.5,Clump_Thickness=-inf_to_4.5,Marginal_Adhesion=-inf_to_1.5,Single_Epi_Cell_Size=-inf_to_2.5,Bare_Nuclei=-inf_to_1.5} => {Class=malignant} sup: 0.31 conf: 0.00 len: 7, id: 4220, CAR {Cell_Shape_Uniformity=-inf_to_1.5,Marginal_Adhesion=-inf_to_1.5,Bland_Chromatin=-inf_to_2.5} => {Class=benign} sup: 0.31 conf: 0.00 len: 4, id: 3829, CAR {Cell_Shape_Uniformity=-inf_to_1.5,Marginal_Adhesion=-inf_to_1.5,Bland_Chromatin=-inf_to_2.5} => {Class=malignant} sup: 0.31 conf: 0.00 len: 4, id: 3830, CAR {Marginal_Adhesion=-inf_to_1.5,Bare_Nuclei=-inf_to_1.5,Bland_Chromatin=-inf_to_2.5,Cell_Size_Uniformity=-inf_to_1.5} => {Class=benign} sup: 0.31 conf: 0.00 len: 5, id: 4023, CAR {Marginal_Adhesion=-inf_to_1.5,Bare_Nuclei=-inf_to_1.5,Bland_Chromatin=-inf_to_2.5,Cell_Size_Uniformity=-inf_to_1.5} => {Class=malignant} sup: 0.31 conf: 0.00 len: 5, id: 4024, CAR {Cell_Shape_Uniformity=-inf_to_1.5,Mitoses=-inf_to_1.5,Clump_Thickness=-inf_to_4.5,Marginal_Adhesion=-inf_to_1.5,Single_Epi_Cell_Size=-inf_to_2.5,Bare_Nuclei=-inf_to_1.5} => {Class=benign} sup: 0.31 conf: 0.00 len: 7, id: 4223, CAR {Cell_Shape_Uniformity=-inf_to_1.5,Mitoses=-inf_to_1.5,Clump_Thickness=-inf_to_4.5,Marginal_Adhesion=-inf_to_1.5,Single_Epi_Cell_Size=-inf_to_2.5,Bare_Nuclei=-inf_to_1.5} => {Class=malignant} sup: 0.31 conf: 0.00 len: 7, id: 4224, CAR {Normal_Nucleoli=-inf_to_2.5,Clump_Thickness=-inf_to_4.5,Bland_Chromatin=-inf_to_2.5,Cell_Size_Uniformity=-inf_to_1.5} => {Class=benign} sup: 0.31 conf: 0.00 len: 5, id: 3951, CAR {Normal_Nucleoli=-inf_to_2.5,Clump_Thickness=-inf_to_4.5,Bland_Chromatin=-inf_to_2.5,Cell_Size_Uniformity=-inf_to_1.5} => {Class=malignant} sup: 0.31 conf: 0.00 len: 5, id: 3952, CAR {Marginal_Adhesion=-inf_to_1.5,Normal_Nucleoli=-inf_to_2.5,Bland_Chromatin=-inf_to_2.5,Clump_Thickness=-inf_to_4.5} => {Class=benign} sup: 0.31 conf: 0.00 len: 5, id: 3983, CAR {Marginal_Adhesion=-inf_to_1.5,Normal_Nucleoli=-inf_to_2.5,Bland_Chromatin=-inf_to_2.5,Clump_Thickness=-inf_to_4.5} => {Class=malignant} sup: 0.31 conf: 0.00 len: 5, id: 3984, CAR {Cell_Shape_Uniformity=-inf_to_1.5,Normal_Nucleoli=-inf_to_2.5,Single_Epi_Cell_Size=-inf_to_2.5,Cell_Size_Uniformity=-inf_to_1.5,Bland_Chromatin=-inf_to_2.5} => {Class=benign} sup: 0.31 conf: 0.00 len: 6, id: 3817, CAR {Cell_Shape_Uniformity=-inf_to_1.5,Normal_Nucleoli=-inf_to_2.5,Single_Epi_Cell_Size=-inf_to_2.5,Cell_Size_Uniformity=-inf_to_1.5,Bland_Chromatin=-inf_to_2.5} => {Class=malignant} sup: 0.31 conf: 0.00 len: 6, id: 3818, CAR {Mitoses=-inf_to_1.5,Normal_Nucleoli=-inf_to_2.5,Clump_Thickness=-inf_to_4.5,Bare_Nuclei=-inf_to_1.5,Bland_Chromatin=-inf_to_2.5} => {Class=benign} sup: 0.31 conf: 0.00 len: 6, id: 4001, CAR {Mitoses=-inf_to_1.5,Normal_Nucleoli=-inf_to_2.5,Clump_Thickness=-inf_to_4.5,Bare_Nuclei=-inf_to_1.5,Bland_Chromatin=-inf_to_2.5} => {Class=malignant} sup: 0.31 conf: 0.00 len: 6, id: 4002, CAR {Mitoses=-inf_to_1.5,Marginal_Adhesion=-inf_to_1.5,Single_Epi_Cell_Size=-inf_to_2.5,Cell_Size_Uniformity=-inf_to_1.5,Bland_Chromatin=-inf_to_2.5} => {Class=benign} sup: 0.31 conf: 0.00 len: 6, id: 4045, CAR {Mitoses=-inf_to_1.5,Marginal_Adhesion=-inf_to_1.5,Single_Epi_Cell_Size=-inf_to_2.5,Cell_Size_Uniformity=-inf_to_1.5,Bland_Chromatin=-inf_to_2.5} => {Class=malignant} sup: 0.31 conf: 0.00 len: 6, id: 4046, CAR {Cell_Shape_Uniformity=-inf_to_1.5,Mitoses=-inf_to_1.5,Clump_Thickness=-inf_to_4.5,Marginal_Adhesion=-inf_to_1.5,Bare_Nuclei=-inf_to_1.5,Cell_Size_Uniformity=-inf_to_1.5} => {Class=benign} sup: 0.31 conf: 0.00 len: 7, id: 4167, CAR {Cell_Shape_Uniformity=-inf_to_1.5,Mitoses=-inf_to_1.5,Clump_Thickness=-inf_to_4.5,Marginal_Adhesion=-inf_to_1.5,Bare_Nuclei=-inf_to_1.5,Cell_Size_Uniformity=-inf_to_1.5} => {Class=malignant} sup: 0.31 conf: 0.00 len: 7, id: 4168, CAR {Cell_Shape_Uniformity=-inf_to_1.5,Bare_Nuclei=-inf_to_1.5,Bland_Chromatin=-inf_to_2.5,Cell_Size_Uniformity=-inf_to_1.5} => {Class=benign} sup: 0.31 conf: 0.00 len: 5, id: 3799, CAR {Cell_Shape_Uniformity=-inf_to_1.5,Bare_Nuclei=-inf_to_1.5,Bland_Chromatin=-inf_to_2.5,Cell_Size_Uniformity=-inf_to_1.5} => {Class=malignant} sup: 0.31 conf: 0.00 len: 5, id: 3800, CAR {Cell_Shape_Uniformity=-inf_to_1.5,Marginal_Adhesion=-inf_to_1.5,Normal_Nucleoli=-inf_to_2.5,Bland_Chromatin=-inf_to_2.5} => {Class=benign} sup: 0.31 conf: 0.00 len: 5, id: 3855, CAR {Cell_Shape_Uniformity=-inf_to_1.5,Marginal_Adhesion=-inf_to_1.5,Normal_Nucleoli=-inf_to_2.5,Bland_Chromatin=-inf_to_2.5} => {Class=malignant} sup: 0.31 conf: 0.00 len: 5, id: 3856, CAR {Normal_Nucleoli=-inf_to_2.5,Marginal_Adhesion=-inf_to_1.5,Bare_Nuclei=-inf_to_1.5,Cell_Size_Uniformity=-inf_to_1.5,Bland_Chromatin=-inf_to_2.5} => {Class=benign} sup: 0.31 conf: 0.00 len: 6, id: 4033, CAR {Normal_Nucleoli=-inf_to_2.5,Marginal_Adhesion=-inf_to_1.5,Bare_Nuclei=-inf_to_1.5,Cell_Size_Uniformity=-inf_to_1.5,Bland_Chromatin=-inf_to_2.5} => {Class=malignant} sup: 0.31 conf: 0.00 len: 6, id: 4034, CAR {Mitoses=-inf_to_1.5,Marginal_Adhesion=-inf_to_1.5,Bland_Chromatin=-inf_to_2.5,Clump_Thickness=-inf_to_4.5} => {Class=benign} sup: 0.31 conf: 0.00 len: 5, id: 3987, CAR {Mitoses=-inf_to_1.5,Marginal_Adhesion=-inf_to_1.5,Bland_Chromatin=-inf_to_2.5,Clump_Thickness=-inf_to_4.5} => {Class=malignant} sup: 0.31 conf: 0.00 len: 5, id: 3988, CAR {Mitoses=-inf_to_1.5,Normal_Nucleoli=-inf_to_2.5,Marginal_Adhesion=-inf_to_1.5,Single_Epi_Cell_Size=-inf_to_2.5,Cell_Size_Uniformity=-inf_to_1.5,Bland_Chromatin=-inf_to_2.5} => {Class=benign} sup: 0.31 conf: 0.00 len: 7, id: 4043, CAR {Mitoses=-inf_to_1.5,Normal_Nucleoli=-inf_to_2.5,Marginal_Adhesion=-inf_to_1.5,Single_Epi_Cell_Size=-inf_to_2.5,Cell_Size_Uniformity=-inf_to_1.5,Bland_Chromatin=-inf_to_2.5} => {Class=malignant} sup: 0.31 conf: 0.00 len: 7, id: 4044, CAR {Cell_Shape_Uniformity=-inf_to_1.5,Mitoses=-inf_to_1.5,Normal_Nucleoli=-inf_to_2.5,Clump_Thickness=-inf_to_4.5,Marginal_Adhesion=-inf_to_1.5,Bare_Nuclei=-inf_to_1.5,Cell_Size_Uniformity=-inf_to_1.5} => {Class=benign} sup: 0.31 conf: 0.00 len: 8, id: 4165, CAR {Cell_Shape_Uniformity=-inf_to_1.5,Mitoses=-inf_to_1.5,Normal_Nucleoli=-inf_to_2.5,Clump_Thickness=-inf_to_4.5,Marginal_Adhesion=-inf_to_1.5,Bare_Nuclei=-inf_to_1.5,Cell_Size_Uniformity=-inf_to_1.5} => {Class=malignant} sup: 0.31 conf: 0.00 len: 8, id: 4166, CAR {Cell_Shape_Uniformity=-inf_to_1.5,Mitoses=-inf_to_1.5,Normal_Nucleoli=-inf_to_2.5,Clump_Thickness=-inf_to_4.5,Marginal_Adhesion=-inf_to_1.5,Single_Epi_Cell_Size=-inf_to_2.5,Bare_Nuclei=-inf_to_1.5} => {Class=benign} sup: 0.31 conf: 0.00 len: 8, id: 4221, CAR {Cell_Shape_Uniformity=-inf_to_1.5,Mitoses=-inf_to_1.5,Normal_Nucleoli=-inf_to_2.5,Clump_Thickness=-inf_to_4.5,Marginal_Adhesion=-inf_to_1.5,Single_Epi_Cell_Size=-inf_to_2.5,Bare_Nuclei=-inf_to_1.5} => {Class=malignant} sup: 0.31 conf: 0.00 len: 8, id: 4222, CAR {Cell_Shape_Uniformity=-inf_to_1.5,Marginal_Adhesion=-inf_to_1.5,Mitoses=-inf_to_1.5,Bland_Chromatin=-inf_to_2.5} => {Class=benign} sup: 0.30 conf: 0.00 len: 5, id: 3859, CAR {Cell_Shape_Uniformity=-inf_to_1.5,Marginal_Adhesion=-inf_to_1.5,Mitoses=-inf_to_1.5,Bland_Chromatin=-inf_to_2.5} => {Class=malignant} sup: 0.30 conf: 0.00 len: 5, id: 3860, CAR {Cell_Shape_Uniformity=-inf_to_1.5,Bare_Nuclei=-inf_to_1.5,Bland_Chromatin=-inf_to_2.5,Single_Epi_Cell_Size=-inf_to_2.5} => {Class=benign} sup: 0.30 conf: 0.00 len: 5, id: 3863, CAR {Cell_Shape_Uniformity=-inf_to_1.5,Bare_Nuclei=-inf_to_1.5,Bland_Chromatin=-inf_to_2.5,Single_Epi_Cell_Size=-inf_to_2.5} => {Class=malignant} sup: 0.30 conf: 0.00 len: 5, id: 3864, CAR {Mitoses=-inf_to_1.5,Clump_Thickness=-inf_to_4.5,Bland_Chromatin=-inf_to_2.5,Cell_Size_Uniformity=-inf_to_1.5} => {Class=benign} sup: 0.30 conf: 0.00 len: 5, id: 3955, CAR {Mitoses=-inf_to_1.5,Clump_Thickness=-inf_to_4.5,Bland_Chromatin=-inf_to_2.5,Cell_Size_Uniformity=-inf_to_1.5} => {Class=malignant} sup: 0.30 conf: 0.00 len: 5, id: 3956, CAR {Cell_Shape_Uniformity=-inf_to_1.5,Normal_Nucleoli=-inf_to_2.5,Bare_Nuclei=-inf_to_1.5,Cell_Size_Uniformity=-inf_to_1.5,Bland_Chromatin=-inf_to_2.5} => {Class=benign} sup: 0.30 conf: 0.00 len: 6, id: 3809, CAR {Cell_Shape_Uniformity=-inf_to_1.5,Normal_Nucleoli=-inf_to_2.5,Bare_Nuclei=-inf_to_1.5,Cell_Size_Uniformity=-inf_to_1.5,Bland_Chromatin=-inf_to_2.5} => {Class=malignant} sup: 0.30 conf: 0.00 len: 6, id: 3810, CAR {Cell_Shape_Uniformity=-inf_to_1.5,Mitoses=-inf_to_1.5,Single_Epi_Cell_Size=-inf_to_2.5,Cell_Size_Uniformity=-inf_to_1.5,Bland_Chromatin=-inf_to_2.5} => {Class=benign} sup: 0.30 conf: 0.00 len: 6, id: 3821, CAR {Cell_Shape_Uniformity=-inf_to_1.5,Mitoses=-inf_to_1.5,Single_Epi_Cell_Size=-inf_to_2.5,Cell_Size_Uniformity=-inf_to_1.5,Bland_Chromatin=-inf_to_2.5} => {Class=malignant} sup: 0.30 conf: 0.00 len: 6, id: 3822, CAR {Mitoses=-inf_to_1.5,Marginal_Adhesion=-inf_to_1.5,Bare_Nuclei=-inf_to_1.5,Cell_Size_Uniformity=-inf_to_1.5,Bland_Chromatin=-inf_to_2.5} => {Class=benign} sup: 0.30 conf: 0.00 len: 6, id: 4037, CAR {Mitoses=-inf_to_1.5,Marginal_Adhesion=-inf_to_1.5,Bare_Nuclei=-inf_to_1.5,Cell_Size_Uniformity=-inf_to_1.5,Bland_Chromatin=-inf_to_2.5} => {Class=malignant} sup: 0.30 conf: 0.00 len: 6, id: 4038, CAR {Cell_Shape_Uniformity=-inf_to_1.5,Clump_Thickness=-inf_to_4.5,Marginal_Adhesion=-inf_to_1.5,Single_Epi_Cell_Size=-inf_to_2.5,Bare_Nuclei=-inf_to_1.5,Cell_Size_Uniformity=-inf_to_1.5} => {Class=benign} sup: 0.30 conf: 0.00 len: 7, id: 4155, CAR {Cell_Shape_Uniformity=-inf_to_1.5,Clump_Thickness=-inf_to_4.5,Marginal_Adhesion=-inf_to_1.5,Single_Epi_Cell_Size=-inf_to_2.5,Bare_Nuclei=-inf_to_1.5,Cell_Size_Uniformity=-inf_to_1.5} => {Class=malignant} sup: 0.30 conf: 0.00 len: 7, id: 4156, CAR {Single_Epi_Cell_Size=-inf_to_2.5,Bare_Nuclei=-inf_to_1.5,Bland_Chromatin=-inf_to_2.5,Clump_Thickness=-inf_to_4.5} => {Class=benign} sup: 0.30 conf: 0.00 len: 5, id: 3991, CAR {Single_Epi_Cell_Size=-inf_to_2.5,Bare_Nuclei=-inf_to_1.5,Bland_Chromatin=-inf_to_2.5,Clump_Thickness=-inf_to_4.5} => {Class=malignant} sup: 0.30 conf: 0.00 len: 5, id: 3992, CAR {Cell_Shape_Uniformity=-inf_to_1.5,Mitoses=-inf_to_1.5,Bare_Nuclei=-inf_to_1.5,Cell_Size_Uniformity=-inf_to_1.5,Bland_Chromatin=-inf_to_2.5} => {Class=benign} sup: 0.30 conf: 0.00 len: 6, id: 3813, CAR {Cell_Shape_Uniformity=-inf_to_1.5,Mitoses=-inf_to_1.5,Bare_Nuclei=-inf_to_1.5,Cell_Size_Uniformity=-inf_to_1.5,Bland_Chromatin=-inf_to_2.5} => {Class=malignant} sup: 0.30 conf: 0.00 len: 6, id: 3814, CAR {Cell_Shape_Uniformity=-inf_to_1.5,Mitoses=-inf_to_1.5,Normal_Nucleoli=-inf_to_2.5,Marginal_Adhesion=-inf_to_1.5,Bland_Chromatin=-inf_to_2.5} => {Class=benign} sup: 0.30 conf: 0.00 len: 6, id: 3857, CAR {Cell_Shape_Uniformity=-inf_to_1.5,Mitoses=-inf_to_1.5,Normal_Nucleoli=-inf_to_2.5,Marginal_Adhesion=-inf_to_1.5,Bland_Chromatin=-inf_to_2.5} => {Class=malignant} sup: 0.30 conf: 0.00 len: 6, id: 3858, CAR {Cell_Shape_Uniformity=-inf_to_1.5,Normal_Nucleoli=-inf_to_2.5,Single_Epi_Cell_Size=-inf_to_2.5,Bare_Nuclei=-inf_to_1.5,Bland_Chromatin=-inf_to_2.5} => {Class=benign} sup: 0.30 conf: 0.00 len: 6, id: 3865, CAR {Cell_Shape_Uniformity=-inf_to_1.5,Normal_Nucleoli=-inf_to_2.5,Single_Epi_Cell_Size=-inf_to_2.5,Bare_Nuclei=-inf_to_1.5,Bland_Chromatin=-inf_to_2.5} => {Class=malignant} sup: 0.30 conf: 0.00 len: 6, id: 3866, CAR {Mitoses=-inf_to_1.5,Normal_Nucleoli=-inf_to_2.5,Clump_Thickness=-inf_to_4.5,Cell_Size_Uniformity=-inf_to_1.5,Bland_Chromatin=-inf_to_2.5} => {Class=benign} sup: 0.30 conf: 0.00 len: 6, id: 3953, CAR {Mitoses=-inf_to_1.5,Normal_Nucleoli=-inf_to_2.5,Clump_Thickness=-inf_to_4.5,Cell_Size_Uniformity=-inf_to_1.5,Bland_Chromatin=-inf_to_2.5} => {Class=malignant} sup: 0.30 conf: 0.00 len: 6, id: 3954, CAR {Mitoses=-inf_to_1.5,Normal_Nucleoli=-inf_to_2.5,Clump_Thickness=-inf_to_4.5,Marginal_Adhesion=-inf_to_1.5,Bland_Chromatin=-inf_to_2.5} => {Class=benign} sup: 0.30 conf: 0.00 len: 6, id: 3985, CAR {Mitoses=-inf_to_1.5,Normal_Nucleoli=-inf_to_2.5,Clump_Thickness=-inf_to_4.5,Marginal_Adhesion=-inf_to_1.5,Bland_Chromatin=-inf_to_2.5} => {Class=malignant} sup: 0.30 conf: 0.00 len: 6, id: 3986, CAR {Cell_Shape_Uniformity=-inf_to_1.5,Mitoses=-inf_to_1.5,Normal_Nucleoli=-inf_to_2.5,Single_Epi_Cell_Size=-inf_to_2.5,Cell_Size_Uniformity=-inf_to_1.5,Bland_Chromatin=-inf_to_2.5} => {Class=benign} sup: 0.30 conf: 0.00 len: 7, id: 3819, CAR {Cell_Shape_Uniformity=-inf_to_1.5,Mitoses=-inf_to_1.5,Normal_Nucleoli=-inf_to_2.5,Single_Epi_Cell_Size=-inf_to_2.5,Cell_Size_Uniformity=-inf_to_1.5,Bland_Chromatin=-inf_to_2.5} => {Class=malignant} sup: 0.30 conf: 0.00 len: 7, id: 3820, CAR {Mitoses=-inf_to_1.5,Normal_Nucleoli=-inf_to_2.5,Marginal_Adhesion=-inf_to_1.5,Bare_Nuclei=-inf_to_1.5,Cell_Size_Uniformity=-inf_to_1.5,Bland_Chromatin=-inf_to_2.5} => {Class=benign} sup: 0.30 conf: 0.00 len: 7, id: 4035, CAR {Mitoses=-inf_to_1.5,Normal_Nucleoli=-inf_to_2.5,Marginal_Adhesion=-inf_to_1.5,Bare_Nuclei=-inf_to_1.5,Cell_Size_Uniformity=-inf_to_1.5,Bland_Chromatin=-inf_to_2.5} => {Class=malignant} sup: 0.30 conf: 0.00 len: 7, id: 4036, CAR {Cell_Shape_Uniformity=-inf_to_1.5,Normal_Nucleoli=-inf_to_2.5,Clump_Thickness=-inf_to_4.5,Marginal_Adhesion=-inf_to_1.5,Single_Epi_Cell_Size=-inf_to_2.5,Bare_Nuclei=-inf_to_1.5,Cell_Size_Uniformity=-inf_to_1.5} => {Class=benign} sup: 0.30 conf: 0.00 len: 8, id: 4157, CAR {Cell_Shape_Uniformity=-inf_to_1.5,Normal_Nucleoli=-inf_to_2.5,Clump_Thickness=-inf_to_4.5,Marginal_Adhesion=-inf_to_1.5,Single_Epi_Cell_Size=-inf_to_2.5,Bare_Nuclei=-inf_to_1.5,Cell_Size_Uniformity=-inf_to_1.5} => {Class=malignant} sup: 0.30 conf: 0.00 len: 8, id: 4158, CAR {Marginal_Adhesion=-inf_to_1.5,Single_Epi_Cell_Size=-inf_to_2.5,Bare_Nuclei=-inf_to_1.5,Cell_Size_Uniformity=-inf_to_1.5,Bland_Chromatin=-inf_to_2.5} => {Class=benign} sup: 0.30 conf: 0.00 len: 6, id: 4025, CAR {Marginal_Adhesion=-inf_to_1.5,Single_Epi_Cell_Size=-inf_to_2.5,Bare_Nuclei=-inf_to_1.5,Cell_Size_Uniformity=-inf_to_1.5,Bland_Chromatin=-inf_to_2.5} => {Class=malignant} sup: 0.30 conf: 0.00 len: 6, id: 4026, CAR {Cell_Shape_Uniformity=-inf_to_1.5,Bland_Chromatin=-inf_to_2.5,Clump_Thickness=-inf_to_4.5} => {Class=benign} sup: 0.30 conf: 0.00 len: 4, id: 3637, CAR {Cell_Shape_Uniformity=-inf_to_1.5,Bland_Chromatin=-inf_to_2.5,Clump_Thickness=-inf_to_4.5} => {Class=malignant} sup: 0.30 conf: 0.00 len: 4, id: 3638, CAR {Cell_Shape_Uniformity=-inf_to_1.5,Mitoses=-inf_to_1.5,Single_Epi_Cell_Size=-inf_to_2.5,Bare_Nuclei=-inf_to_1.5,Bland_Chromatin=-inf_to_2.5} => {Class=benign} sup: 0.30 conf: 0.00 len: 6, id: 3869, CAR {Cell_Shape_Uniformity=-inf_to_1.5,Mitoses=-inf_to_1.5,Single_Epi_Cell_Size=-inf_to_2.5,Bare_Nuclei=-inf_to_1.5,Bland_Chromatin=-inf_to_2.5} => {Class=malignant} sup: 0.30 conf: 0.00 len: 6, id: 3870, CAR {Cell_Shape_Uniformity=-inf_to_1.5,Mitoses=-inf_to_1.5,Normal_Nucleoli=-inf_to_2.5,Bare_Nuclei=-inf_to_1.5,Cell_Size_Uniformity=-inf_to_1.5,Bland_Chromatin=-inf_to_2.5} => {Class=benign} sup: 0.30 conf: 0.00 len: 7, id: 3811, CAR {Cell_Shape_Uniformity=-inf_to_1.5,Mitoses=-inf_to_1.5,Normal_Nucleoli=-inf_to_2.5,Bare_Nuclei=-inf_to_1.5,Cell_Size_Uniformity=-inf_to_1.5,Bland_Chromatin=-inf_to_2.5} => {Class=malignant} sup: 0.30 conf: 0.00 len: 7, id: 3812, CAR {Cell_Shape_Uniformity=-inf_to_1.5,Mitoses=-inf_to_1.5,Clump_Thickness=-inf_to_4.5,Marginal_Adhesion=-inf_to_1.5,Single_Epi_Cell_Size=-inf_to_2.5,Bare_Nuclei=-inf_to_1.5,Cell_Size_Uniformity=-inf_to_1.5} => {Class=benign} sup: 0.30 conf: 0.00 len: 8, id: 4161, CAR {Cell_Shape_Uniformity=-inf_to_1.5,Mitoses=-inf_to_1.5,Clump_Thickness=-inf_to_4.5,Marginal_Adhesion=-inf_to_1.5,Single_Epi_Cell_Size=-inf_to_2.5,Bare_Nuclei=-inf_to_1.5,Cell_Size_Uniformity=-inf_to_1.5} => {Class=malignant} sup: 0.30 conf: 0.00 len: 8, id: 4162, CAR {Normal_Nucleoli=-inf_to_2.5,Clump_Thickness=-inf_to_4.5,Single_Epi_Cell_Size=-inf_to_2.5,Bare_Nuclei=-inf_to_1.5,Bland_Chromatin=-inf_to_2.5} => {Class=benign} sup: 0.30 conf: 0.00 len: 6, id: 3993, CAR {Normal_Nucleoli=-inf_to_2.5,Clump_Thickness=-inf_to_4.5,Single_Epi_Cell_Size=-inf_to_2.5,Bare_Nuclei=-inf_to_1.5,Bland_Chromatin=-inf_to_2.5} => {Class=malignant} sup: 0.30 conf: 0.00 len: 6, id: 3994, CAR {Normal_Nucleoli=-inf_to_2.5,Marginal_Adhesion=-inf_to_1.5,Single_Epi_Cell_Size=-inf_to_2.5,Bare_Nuclei=-inf_to_1.5,Cell_Size_Uniformity=-inf_to_1.5,Bland_Chromatin=-inf_to_2.5} => {Class=benign} sup: 0.30 conf: 0.00 len: 7, id: 4027, CAR {Normal_Nucleoli=-inf_to_2.5,Marginal_Adhesion=-inf_to_1.5,Single_Epi_Cell_Size=-inf_to_2.5,Bare_Nuclei=-inf_to_1.5,Cell_Size_Uniformity=-inf_to_1.5,Bland_Chromatin=-inf_to_2.5} => {Class=malignant} sup: 0.30 conf: 0.00 len: 7, id: 4028, CAR {Cell_Shape_Uniformity=-inf_to_1.5,Normal_Nucleoli=-inf_to_2.5,Bland_Chromatin=-inf_to_2.5,Clump_Thickness=-inf_to_4.5} => {Class=benign} sup: 0.29 conf: 0.00 len: 5, id: 3759, CAR {Cell_Shape_Uniformity=-inf_to_1.5,Normal_Nucleoli=-inf_to_2.5,Bland_Chromatin=-inf_to_2.5,Clump_Thickness=-inf_to_4.5} => {Class=malignant} sup: 0.29 conf: 0.00 len: 5, id: 3760, CAR {Single_Epi_Cell_Size=-inf_to_2.5,Clump_Thickness=-inf_to_4.5,Bland_Chromatin=-inf_to_2.5,Cell_Size_Uniformity=-inf_to_1.5} => {Class=benign} sup: 0.29 conf: 0.00 len: 5, id: 3943, CAR {Single_Epi_Cell_Size=-inf_to_2.5,Clump_Thickness=-inf_to_4.5,Bland_Chromatin=-inf_to_2.5,Cell_Size_Uniformity=-inf_to_1.5} => {Class=malignant} sup: 0.29 conf: 0.00 len: 5, id: 3944, CAR {Marginal_Adhesion=-inf_to_1.5,Bare_Nuclei=-inf_to_1.5,Bland_Chromatin=-inf_to_2.5,Clump_Thickness=-inf_to_4.5} => {Class=benign} sup: 0.29 conf: 0.00 len: 5, id: 3959, CAR {Marginal_Adhesion=-inf_to_1.5,Bare_Nuclei=-inf_to_1.5,Bland_Chromatin=-inf_to_2.5,Clump_Thickness=-inf_to_4.5} => {Class=malignant} sup: 0.29 conf: 0.00 len: 5, id: 3960, CAR {Marginal_Adhesion=-inf_to_1.5,Single_Epi_Cell_Size=-inf_to_2.5,Bland_Chromatin=-inf_to_2.5,Clump_Thickness=-inf_to_4.5} => {Class=benign} sup: 0.29 conf: 0.00 len: 5, id: 3975, CAR {Marginal_Adhesion=-inf_to_1.5,Single_Epi_Cell_Size=-inf_to_2.5,Bland_Chromatin=-inf_to_2.5,Clump_Thickness=-inf_to_4.5} => {Class=malignant} sup: 0.29 conf: 0.00 len: 5, id: 3976, CAR {Mitoses=-inf_to_1.5,Clump_Thickness=-inf_to_4.5,Single_Epi_Cell_Size=-inf_to_2.5,Bare_Nuclei=-inf_to_1.5,Bland_Chromatin=-inf_to_2.5} => {Class=benign} sup: 0.29 conf: 0.00 len: 6, id: 3997, CAR {Mitoses=-inf_to_1.5,Clump_Thickness=-inf_to_4.5,Single_Epi_Cell_Size=-inf_to_2.5,Bare_Nuclei=-inf_to_1.5,Bland_Chromatin=-inf_to_2.5} => {Class=malignant} sup: 0.29 conf: 0.00 len: 6, id: 3998, CAR {Cell_Shape_Uniformity=-inf_to_1.5,Mitoses=-inf_to_1.5,Normal_Nucleoli=-inf_to_2.5,Single_Epi_Cell_Size=-inf_to_2.5,Bare_Nuclei=-inf_to_1.5,Bland_Chromatin=-inf_to_2.5} => {Class=benign} sup: 0.29 conf: 0.00 len: 7, id: 3867, CAR {Cell_Shape_Uniformity=-inf_to_1.5,Mitoses=-inf_to_1.5,Normal_Nucleoli=-inf_to_2.5,Single_Epi_Cell_Size=-inf_to_2.5,Bare_Nuclei=-inf_to_1.5,Bland_Chromatin=-inf_to_2.5} => {Class=malignant} sup: 0.29 conf: 0.00 len: 7, id: 3868, CAR {Cell_Shape_Uniformity=-inf_to_1.5,Mitoses=-inf_to_1.5,Normal_Nucleoli=-inf_to_2.5,Clump_Thickness=-inf_to_4.5,Marginal_Adhesion=-inf_to_1.5,Single_Epi_Cell_Size=-inf_to_2.5,Bare_Nuclei=-inf_to_1.5,Cell_Size_Uniformity=-inf_to_1.5} => {Class=benign} sup: 0.29 conf: 0.00 len: 9, id: 4159, CAR {Cell_Shape_Uniformity=-inf_to_1.5,Mitoses=-inf_to_1.5,Normal_Nucleoli=-inf_to_2.5,Clump_Thickness=-inf_to_4.5,Marginal_Adhesion=-inf_to_1.5,Single_Epi_Cell_Size=-inf_to_2.5,Bare_Nuclei=-inf_to_1.5,Cell_Size_Uniformity=-inf_to_1.5} => {Class=malignant} sup: 0.29 conf: 0.00 len: 9, id: 4160, CAR {Cell_Shape_Uniformity=-inf_to_1.5,Marginal_Adhesion=-inf_to_1.5,Bland_Chromatin=-inf_to_2.5,Cell_Size_Uniformity=-inf_to_1.5} => {Class=benign} sup: 0.29 conf: 0.00 len: 5, id: 3767, CAR {Cell_Shape_Uniformity=-inf_to_1.5,Marginal_Adhesion=-inf_to_1.5,Bland_Chromatin=-inf_to_2.5,Cell_Size_Uniformity=-inf_to_1.5} => {Class=malignant} sup: 0.29 conf: 0.00 len: 5, id: 3768, CAR {Mitoses=-inf_to_1.5,Marginal_Adhesion=-inf_to_1.5,Single_Epi_Cell_Size=-inf_to_2.5,Bare_Nuclei=-inf_to_1.5,Cell_Size_Uniformity=-inf_to_1.5,Bland_Chromatin=-inf_to_2.5} => {Class=benign} sup: 0.29 conf: 0.00 len: 7, id: 4031, CAR {Mitoses=-inf_to_1.5,Marginal_Adhesion=-inf_to_1.5,Single_Epi_Cell_Size=-inf_to_2.5,Bare_Nuclei=-inf_to_1.5,Cell_Size_Uniformity=-inf_to_1.5,Bland_Chromatin=-inf_to_2.5} => {Class=malignant} sup: 0.29 conf: 0.00 len: 7, id: 4032, CAR {Cell_Shape_Uniformity=-inf_to_1.5,Marginal_Adhesion=-inf_to_1.5,Bare_Nuclei=-inf_to_1.5,Bland_Chromatin=-inf_to_2.5} => {Class=benign} sup: 0.29 conf: 0.00 len: 5, id: 3831, CAR {Cell_Shape_Uniformity=-inf_to_1.5,Marginal_Adhesion=-inf_to_1.5,Bare_Nuclei=-inf_to_1.5,Bland_Chromatin=-inf_to_2.5} => {Class=malignant} sup: 0.29 conf: 0.00 len: 5, id: 3832, CAR {Cell_Shape_Uniformity=-inf_to_1.5,Marginal_Adhesion=-inf_to_1.5,Single_Epi_Cell_Size=-inf_to_2.5,Bland_Chromatin=-inf_to_2.5} => {Class=benign} sup: 0.29 conf: 0.00 len: 5, id: 3847, CAR {Cell_Shape_Uniformity=-inf_to_1.5,Marginal_Adhesion=-inf_to_1.5,Single_Epi_Cell_Size=-inf_to_2.5,Bland_Chromatin=-inf_to_2.5} => {Class=malignant} sup: 0.29 conf: 0.00 len: 5, id: 3848, CAR {Normal_Nucleoli=-inf_to_2.5,Clump_Thickness=-inf_to_4.5,Single_Epi_Cell_Size=-inf_to_2.5,Cell_Size_Uniformity=-inf_to_1.5,Bland_Chromatin=-inf_to_2.5} => {Class=benign} sup: 0.29 conf: 0.00 len: 6, id: 3945, CAR {Normal_Nucleoli=-inf_to_2.5,Clump_Thickness=-inf_to_4.5,Single_Epi_Cell_Size=-inf_to_2.5,Cell_Size_Uniformity=-inf_to_1.5,Bland_Chromatin=-inf_to_2.5} => {Class=malignant} sup: 0.29 conf: 0.00 len: 6, id: 3946, CAR {Cell_Shape_Uniformity=-inf_to_1.5,Mitoses=-inf_to_1.5,Bland_Chromatin=-inf_to_2.5,Clump_Thickness=-inf_to_4.5} => {Class=benign} sup: 0.29 conf: 0.00 len: 5, id: 3763, CAR {Cell_Shape_Uniformity=-inf_to_1.5,Mitoses=-inf_to_1.5,Bland_Chromatin=-inf_to_2.5,Clump_Thickness=-inf_to_4.5} => {Class=malignant} sup: 0.29 conf: 0.00 len: 5, id: 3764, CAR {Cell_Shape_Uniformity=-inf_to_1.5,Normal_Nucleoli=-inf_to_2.5,Marginal_Adhesion=-inf_to_1.5,Cell_Size_Uniformity=-inf_to_1.5,Bland_Chromatin=-inf_to_2.5} => {Class=benign} sup: 0.29 conf: 0.00 len: 6, id: 3793, CAR {Cell_Shape_Uniformity=-inf_to_1.5,Normal_Nucleoli=-inf_to_2.5,Marginal_Adhesion=-inf_to_1.5,Cell_Size_Uniformity=-inf_to_1.5,Bland_Chromatin=-inf_to_2.5} => {Class=malignant} sup: 0.29 conf: 0.00 len: 6, id: 3794, CAR {Cell_Shape_Uniformity=-inf_to_1.5,Single_Epi_Cell_Size=-inf_to_2.5,Bare_Nuclei=-inf_to_1.5,Cell_Size_Uniformity=-inf_to_1.5,Bland_Chromatin=-inf_to_2.5} => {Class=benign} sup: 0.29 conf: 0.00 len: 6, id: 3801, CAR {Cell_Shape_Uniformity=-inf_to_1.5,Single_Epi_Cell_Size=-inf_to_2.5,Bare_Nuclei=-inf_to_1.5,Cell_Size_Uniformity=-inf_to_1.5,Bland_Chromatin=-inf_to_2.5} => {Class=malignant} sup: 0.29 conf: 0.00 len: 6, id: 3802, CAR {Normal_Nucleoli=-inf_to_2.5,Clump_Thickness=-inf_to_4.5,Marginal_Adhesion=-inf_to_1.5,Bare_Nuclei=-inf_to_1.5,Bland_Chromatin=-inf_to_2.5} => {Class=benign} sup: 0.29 conf: 0.00 len: 6, id: 3969, CAR {Normal_Nucleoli=-inf_to_2.5,Clump_Thickness=-inf_to_4.5,Marginal_Adhesion=-inf_to_1.5,Bare_Nuclei=-inf_to_1.5,Bland_Chromatin=-inf_to_2.5} => {Class=malignant} sup: 0.29 conf: 0.00 len: 6, id: 3970, CAR {Normal_Nucleoli=-inf_to_2.5,Clump_Thickness=-inf_to_4.5,Marginal_Adhesion=-inf_to_1.5,Single_Epi_Cell_Size=-inf_to_2.5,Bland_Chromatin=-inf_to_2.5} => {Class=benign} sup: 0.29 conf: 0.00 len: 6, id: 3977, CAR {Normal_Nucleoli=-inf_to_2.5,Clump_Thickness=-inf_to_4.5,Marginal_Adhesion=-inf_to_1.5,Single_Epi_Cell_Size=-inf_to_2.5,Bland_Chromatin=-inf_to_2.5} => {Class=malignant} sup: 0.29 conf: 0.00 len: 6, id: 3978, CAR {Mitoses=-inf_to_1.5,Normal_Nucleoli=-inf_to_2.5,Clump_Thickness=-inf_to_4.5,Single_Epi_Cell_Size=-inf_to_2.5,Bare_Nuclei=-inf_to_1.5,Bland_Chromatin=-inf_to_2.5} => {Class=benign} sup: 0.29 conf: 0.00 len: 7, id: 3995, CAR {Mitoses=-inf_to_1.5,Normal_Nucleoli=-inf_to_2.5,Clump_Thickness=-inf_to_4.5,Single_Epi_Cell_Size=-inf_to_2.5,Bare_Nuclei=-inf_to_1.5,Bland_Chromatin=-inf_to_2.5} => {Class=malignant} sup: 0.29 conf: 0.00 len: 7, id: 3996, CAR {Mitoses=-inf_to_1.5,Normal_Nucleoli=-inf_to_2.5,Marginal_Adhesion=-inf_to_1.5,Single_Epi_Cell_Size=-inf_to_2.5,Bare_Nuclei=-inf_to_1.5,Cell_Size_Uniformity=-inf_to_1.5,Bland_Chromatin=-inf_to_2.5} => {Class=benign} sup: 0.29 conf: 0.00 len: 8, id: 4029, CAR {Mitoses=-inf_to_1.5,Normal_Nucleoli=-inf_to_2.5,Marginal_Adhesion=-inf_to_1.5,Single_Epi_Cell_Size=-inf_to_2.5,Bare_Nuclei=-inf_to_1.5,Cell_Size_Uniformity=-inf_to_1.5,Bland_Chromatin=-inf_to_2.5} => {Class=malignant} sup: 0.29 conf: 0.00 len: 8, id: 4030, CAR {Bare_Nuclei=-inf_to_1.5,Clump_Thickness=-inf_to_4.5,Bland_Chromatin=-inf_to_2.5,Cell_Size_Uniformity=-inf_to_1.5} => {Class=benign} sup: 0.29 conf: 0.00 len: 5, id: 3927, CAR {Bare_Nuclei=-inf_to_1.5,Clump_Thickness=-inf_to_4.5,Bland_Chromatin=-inf_to_2.5,Cell_Size_Uniformity=-inf_to_1.5} => {Class=malignant} sup: 0.29 conf: 0.00 len: 5, id: 3928, CAR {Cell_Shape_Uniformity=-inf_to_1.5,Normal_Nucleoli=-inf_to_2.5,Marginal_Adhesion=-inf_to_1.5,Bare_Nuclei=-inf_to_1.5,Bland_Chromatin=-inf_to_2.5} => {Class=benign} sup: 0.29 conf: 0.00 len: 6, id: 3841, CAR {Cell_Shape_Uniformity=-inf_to_1.5,Normal_Nucleoli=-inf_to_2.5,Marginal_Adhesion=-inf_to_1.5,Bare_Nuclei=-inf_to_1.5,Bland_Chromatin=-inf_to_2.5} => {Class=malignant} sup: 0.29 conf: 0.00 len: 6, id: 3842, CAR {Cell_Shape_Uniformity=-inf_to_1.5,Normal_Nucleoli=-inf_to_2.5,Marginal_Adhesion=-inf_to_1.5,Single_Epi_Cell_Size=-inf_to_2.5,Bland_Chromatin=-inf_to_2.5} => {Class=benign} sup: 0.29 conf: 0.00 len: 6, id: 3849, CAR {Cell_Shape_Uniformity=-inf_to_1.5,Normal_Nucleoli=-inf_to_2.5,Marginal_Adhesion=-inf_to_1.5,Single_Epi_Cell_Size=-inf_to_2.5,Bland_Chromatin=-inf_to_2.5} => {Class=malignant} sup: 0.29 conf: 0.00 len: 6, id: 3850, CAR {Mitoses=-inf_to_1.5,Clump_Thickness=-inf_to_4.5,Marginal_Adhesion=-inf_to_1.5,Bare_Nuclei=-inf_to_1.5,Bland_Chromatin=-inf_to_2.5} => {Class=benign} sup: 0.29 conf: 0.00 len: 6, id: 3973, CAR {Mitoses=-inf_to_1.5,Clump_Thickness=-inf_to_4.5,Marginal_Adhesion=-inf_to_1.5,Bare_Nuclei=-inf_to_1.5,Bland_Chromatin=-inf_to_2.5} => {Class=malignant} sup: 0.29 conf: 0.00 len: 6, id: 3974, CAR {Single_Epi_Cell_Size=3.5_to_inf} => {Class=benign} sup: 0.28 conf: 0.00 len: 2, id: 3627, CAR {Single_Epi_Cell_Size=3.5_to_inf} => {Class=malignant} sup: 0.28 conf: 0.00 len: 2, id: 3628, CAR {Cell_Shape_Uniformity=-inf_to_1.5,Mitoses=-inf_to_1.5,Normal_Nucleoli=-inf_to_2.5,Clump_Thickness=-inf_to_4.5,Bland_Chromatin=-inf_to_2.5} => {Class=benign} sup: 0.28 conf: 0.00 len: 6, id: 3761, CAR {Cell_Shape_Uniformity=-inf_to_1.5,Mitoses=-inf_to_1.5,Normal_Nucleoli=-inf_to_2.5,Clump_Thickness=-inf_to_4.5,Bland_Chromatin=-inf_to_2.5} => {Class=malignant} sup: 0.28 conf: 0.00 len: 6, id: 3762, CAR {Cell_Shape_Uniformity=-inf_to_1.5,Mitoses=-inf_to_1.5,Marginal_Adhesion=-inf_to_1.5,Cell_Size_Uniformity=-inf_to_1.5,Bland_Chromatin=-inf_to_2.5} => {Class=benign} sup: 0.28 conf: 0.00 len: 6, id: 3797, CAR {Cell_Shape_Uniformity=-inf_to_1.5,Mitoses=-inf_to_1.5,Marginal_Adhesion=-inf_to_1.5,Cell_Size_Uniformity=-inf_to_1.5,Bland_Chromatin=-inf_to_2.5} => {Class=malignant} sup: 0.28 conf: 0.00 len: 6, id: 3798, CAR {Mitoses=-inf_to_1.5,Clump_Thickness=-inf_to_4.5,Single_Epi_Cell_Size=-inf_to_2.5,Cell_Size_Uniformity=-inf_to_1.5,Bland_Chromatin=-inf_to_2.5} => {Class=benign} sup: 0.28 conf: 0.00 len: 6, id: 3949, CAR {Mitoses=-inf_to_1.5,Clump_Thickness=-inf_to_4.5,Single_Epi_Cell_Size=-inf_to_2.5,Cell_Size_Uniformity=-inf_to_1.5,Bland_Chromatin=-inf_to_2.5} => {Class=malignant} sup: 0.28 conf: 0.00 len: 6, id: 3950, CAR {Mitoses=-inf_to_1.5,Clump_Thickness=-inf_to_4.5,Marginal_Adhesion=-inf_to_1.5,Single_Epi_Cell_Size=-inf_to_2.5,Bland_Chromatin=-inf_to_2.5} => {Class=benign} sup: 0.28 conf: 0.00 len: 6, id: 3981, CAR {Mitoses=-inf_to_1.5,Clump_Thickness=-inf_to_4.5,Marginal_Adhesion=-inf_to_1.5,Single_Epi_Cell_Size=-inf_to_2.5,Bland_Chromatin=-inf_to_2.5} => {Class=malignant} sup: 0.28 conf: 0.00 len: 6, id: 3982, CAR {Cell_Shape_Uniformity=-inf_to_1.5,Normal_Nucleoli=-inf_to_2.5,Single_Epi_Cell_Size=-inf_to_2.5,Bare_Nuclei=-inf_to_1.5,Cell_Size_Uniformity=-inf_to_1.5,Bland_Chromatin=-inf_to_2.5} => {Class=benign} sup: 0.28 conf: 0.00 len: 7, id: 3803, CAR {Cell_Shape_Uniformity=-inf_to_1.5,Normal_Nucleoli=-inf_to_2.5,Single_Epi_Cell_Size=-inf_to_2.5,Bare_Nuclei=-inf_to_1.5,Cell_Size_Uniformity=-inf_to_1.5,Bland_Chromatin=-inf_to_2.5} => {Class=malignant} sup: 0.28 conf: 0.00 len: 7, id: 3804, CAR {Cell_Shape_Uniformity=-inf_to_1.5,Mitoses=-inf_to_1.5,Marginal_Adhesion=-inf_to_1.5,Bare_Nuclei=-inf_to_1.5,Bland_Chromatin=-inf_to_2.5} => {Class=benign} sup: 0.28 conf: 0.00 len: 6, id: 3845, CAR {Cell_Shape_Uniformity=-inf_to_1.5,Mitoses=-inf_to_1.5,Marginal_Adhesion=-inf_to_1.5,Bare_Nuclei=-inf_to_1.5,Bland_Chromatin=-inf_to_2.5} => {Class=malignant} sup: 0.28 conf: 0.00 len: 6, id: 3846, CAR {Cell_Shape_Uniformity=-inf_to_1.5,Mitoses=-inf_to_1.5,Marginal_Adhesion=-inf_to_1.5,Single_Epi_Cell_Size=-inf_to_2.5,Bland_Chromatin=-inf_to_2.5} => {Class=benign} sup: 0.28 conf: 0.00 len: 6, id: 3853, CAR {Cell_Shape_Uniformity=-inf_to_1.5,Mitoses=-inf_to_1.5,Marginal_Adhesion=-inf_to_1.5,Single_Epi_Cell_Size=-inf_to_2.5,Bland_Chromatin=-inf_to_2.5} => {Class=malignant} sup: 0.28 conf: 0.00 len: 6, id: 3854, CAR {Normal_Nucleoli=-inf_to_2.5,Clump_Thickness=-inf_to_4.5,Bare_Nuclei=-inf_to_1.5,Cell_Size_Uniformity=-inf_to_1.5,Bland_Chromatin=-inf_to_2.5} => {Class=benign} sup: 0.28 conf: 0.00 len: 6, id: 3937, CAR {Normal_Nucleoli=-inf_to_2.5,Clump_Thickness=-inf_to_4.5,Bare_Nuclei=-inf_to_1.5,Cell_Size_Uniformity=-inf_to_1.5,Bland_Chromatin=-inf_to_2.5} => {Class=malignant} sup: 0.28 conf: 0.00 len: 6, id: 3938, CAR {Cell_Shape_Uniformity=-inf_to_1.5,Mitoses=-inf_to_1.5,Normal_Nucleoli=-inf_to_2.5,Marginal_Adhesion=-inf_to_1.5,Cell_Size_Uniformity=-inf_to_1.5,Bland_Chromatin=-inf_to_2.5} => {Class=benign} sup: 0.28 conf: 0.00 len: 7, id: 3795, CAR {Cell_Shape_Uniformity=-inf_to_1.5,Mitoses=-inf_to_1.5,Normal_Nucleoli=-inf_to_2.5,Marginal_Adhesion=-inf_to_1.5,Cell_Size_Uniformity=-inf_to_1.5,Bland_Chromatin=-inf_to_2.5} => {Class=malignant} sup: 0.28 conf: 0.00 len: 7, id: 3796, CAR {Cell_Shape_Uniformity=-inf_to_1.5,Mitoses=-inf_to_1.5,Single_Epi_Cell_Size=-inf_to_2.5,Bare_Nuclei=-inf_to_1.5,Cell_Size_Uniformity=-inf_to_1.5,Bland_Chromatin=-inf_to_2.5} => {Class=benign} sup: 0.28 conf: 0.00 len: 7, id: 3807, CAR {Cell_Shape_Uniformity=-inf_to_1.5,Mitoses=-inf_to_1.5,Single_Epi_Cell_Size=-inf_to_2.5,Bare_Nuclei=-inf_to_1.5,Cell_Size_Uniformity=-inf_to_1.5,Bland_Chromatin=-inf_to_2.5} => {Class=malignant} sup: 0.28 conf: 0.00 len: 7, id: 3808, CAR {Mitoses=-inf_to_1.5,Normal_Nucleoli=-inf_to_2.5,Clump_Thickness=-inf_to_4.5,Single_Epi_Cell_Size=-inf_to_2.5,Cell_Size_Uniformity=-inf_to_1.5,Bland_Chromatin=-inf_to_2.5} => {Class=benign} sup: 0.28 conf: 0.00 len: 7, id: 3947, CAR {Mitoses=-inf_to_1.5,Normal_Nucleoli=-inf_to_2.5,Clump_Thickness=-inf_to_4.5,Single_Epi_Cell_Size=-inf_to_2.5,Cell_Size_Uniformity=-inf_to_1.5,Bland_Chromatin=-inf_to_2.5} => {Class=malignant} sup: 0.28 conf: 0.00 len: 7, id: 3948, CAR {Mitoses=-inf_to_1.5,Normal_Nucleoli=-inf_to_2.5,Clump_Thickness=-inf_to_4.5,Marginal_Adhesion=-inf_to_1.5,Bare_Nuclei=-inf_to_1.5,Bland_Chromatin=-inf_to_2.5} => {Class=benign} sup: 0.28 conf: 0.00 len: 7, id: 3971, CAR {Mitoses=-inf_to_1.5,Normal_Nucleoli=-inf_to_2.5,Clump_Thickness=-inf_to_4.5,Marginal_Adhesion=-inf_to_1.5,Bare_Nuclei=-inf_to_1.5,Bland_Chromatin=-inf_to_2.5} => {Class=malignant} sup: 0.28 conf: 0.00 len: 7, id: 3972, CAR {Cell_Shape_Uniformity=4.5_to_inf} => {Class=benign} sup: 0.28 conf: 0.00 len: 2, id: 3621, CAR {Cell_Shape_Uniformity=4.5_to_inf} => {Class=malignant} sup: 0.28 conf: 0.00 len: 2, id: 3622, CAR {Cell_Shape_Uniformity=-inf_to_1.5,Clump_Thickness=-inf_to_4.5,Bland_Chromatin=-inf_to_2.5,Cell_Size_Uniformity=-inf_to_1.5} => {Class=benign} sup: 0.28 conf: 0.00 len: 5, id: 3639, CAR {Cell_Shape_Uniformity=-inf_to_1.5,Clump_Thickness=-inf_to_4.5,Bland_Chromatin=-inf_to_2.5,Cell_Size_Uniformity=-inf_to_1.5} => {Class=malignant} sup: 0.28 conf: 0.00 len: 5, id: 3640, CAR {Marginal_Adhesion=-inf_to_1.5,Clump_Thickness=-inf_to_4.5,Bland_Chromatin=-inf_to_2.5,Cell_Size_Uniformity=-inf_to_1.5} => {Class=benign} sup: 0.28 conf: 0.00 len: 5, id: 3895, CAR {Marginal_Adhesion=-inf_to_1.5,Clump_Thickness=-inf_to_4.5,Bland_Chromatin=-inf_to_2.5,Cell_Size_Uniformity=-inf_to_1.5} => {Class=malignant} sup: 0.28 conf: 0.00 len: 5, id: 3896, CAR {Mitoses=-inf_to_1.5,Clump_Thickness=-inf_to_4.5,Bare_Nuclei=-inf_to_1.5,Cell_Size_Uniformity=-inf_to_1.5,Bland_Chromatin=-inf_to_2.5} => {Class=benign} sup: 0.28 conf: 0.00 len: 6, id: 3941, CAR {Mitoses=-inf_to_1.5,Clump_Thickness=-inf_to_4.5,Bare_Nuclei=-inf_to_1.5,Cell_Size_Uniformity=-inf_to_1.5,Bland_Chromatin=-inf_to_2.5} => {Class=malignant} sup: 0.28 conf: 0.00 len: 6, id: 3942, CAR {Cell_Shape_Uniformity=-inf_to_1.5,Mitoses=-inf_to_1.5,Normal_Nucleoli=-inf_to_2.5,Marginal_Adhesion=-inf_to_1.5,Bare_Nuclei=-inf_to_1.5,Bland_Chromatin=-inf_to_2.5} => {Class=benign} sup: 0.28 conf: 0.00 len: 7, id: 3843, CAR {Cell_Shape_Uniformity=-inf_to_1.5,Mitoses=-inf_to_1.5,Normal_Nucleoli=-inf_to_2.5,Marginal_Adhesion=-inf_to_1.5,Bare_Nuclei=-inf_to_1.5,Bland_Chromatin=-inf_to_2.5} => {Class=malignant} sup: 0.28 conf: 0.00 len: 7, id: 3844, CAR {Cell_Shape_Uniformity=-inf_to_1.5,Mitoses=-inf_to_1.5,Normal_Nucleoli=-inf_to_2.5,Marginal_Adhesion=-inf_to_1.5,Single_Epi_Cell_Size=-inf_to_2.5,Bland_Chromatin=-inf_to_2.5} => {Class=benign} sup: 0.28 conf: 0.00 len: 7, id: 3851, CAR {Cell_Shape_Uniformity=-inf_to_1.5,Mitoses=-inf_to_1.5,Normal_Nucleoli=-inf_to_2.5,Marginal_Adhesion=-inf_to_1.5,Single_Epi_Cell_Size=-inf_to_2.5,Bland_Chromatin=-inf_to_2.5} => {Class=malignant} sup: 0.28 conf: 0.00 len: 7, id: 3852, CAR {Mitoses=-inf_to_1.5,Normal_Nucleoli=-inf_to_2.5,Clump_Thickness=-inf_to_4.5,Marginal_Adhesion=-inf_to_1.5,Single_Epi_Cell_Size=-inf_to_2.5,Bland_Chromatin=-inf_to_2.5} => {Class=benign} sup: 0.28 conf: 0.00 len: 7, id: 3979, CAR {Mitoses=-inf_to_1.5,Normal_Nucleoli=-inf_to_2.5,Clump_Thickness=-inf_to_4.5,Marginal_Adhesion=-inf_to_1.5,Single_Epi_Cell_Size=-inf_to_2.5,Bland_Chromatin=-inf_to_2.5} => {Class=malignant} sup: 0.28 conf: 0.00 len: 7, id: 3980, CAR {Cell_Shape_Uniformity=-inf_to_1.5,Mitoses=-inf_to_1.5,Normal_Nucleoli=-inf_to_2.5,Single_Epi_Cell_Size=-inf_to_2.5,Bare_Nuclei=-inf_to_1.5,Cell_Size_Uniformity=-inf_to_1.5,Bland_Chromatin=-inf_to_2.5} => {Class=benign} sup: 0.28 conf: 0.00 len: 8, id: 3805, CAR {Cell_Shape_Uniformity=-inf_to_1.5,Mitoses=-inf_to_1.5,Normal_Nucleoli=-inf_to_2.5,Single_Epi_Cell_Size=-inf_to_2.5,Bare_Nuclei=-inf_to_1.5,Cell_Size_Uniformity=-inf_to_1.5,Bland_Chromatin=-inf_to_2.5} => {Class=malignant} sup: 0.28 conf: 0.00 len: 8, id: 3806, CAR {Cell_Shape_Uniformity=-inf_to_1.5,Normal_Nucleoli=-inf_to_2.5,Clump_Thickness=-inf_to_4.5,Cell_Size_Uniformity=-inf_to_1.5,Bland_Chromatin=-inf_to_2.5} => {Class=benign} sup: 0.28 conf: 0.00 len: 6, id: 3697, CAR {Cell_Shape_Uniformity=-inf_to_1.5,Normal_Nucleoli=-inf_to_2.5,Clump_Thickness=-inf_to_4.5,Cell_Size_Uniformity=-inf_to_1.5,Bland_Chromatin=-inf_to_2.5} => {Class=malignant} sup: 0.28 conf: 0.00 len: 6, id: 3698, CAR {Cell_Shape_Uniformity=-inf_to_1.5,Marginal_Adhesion=-inf_to_1.5,Single_Epi_Cell_Size=-inf_to_2.5,Cell_Size_Uniformity=-inf_to_1.5,Bland_Chromatin=-inf_to_2.5} => {Class=benign} sup: 0.28 conf: 0.00 len: 6, id: 3785, CAR {Cell_Shape_Uniformity=-inf_to_1.5,Marginal_Adhesion=-inf_to_1.5,Single_Epi_Cell_Size=-inf_to_2.5,Cell_Size_Uniformity=-inf_to_1.5,Bland_Chromatin=-inf_to_2.5} => {Class=malignant} sup: 0.28 conf: 0.00 len: 6, id: 3786, CAR {Normal_Nucleoli=-inf_to_2.5,Clump_Thickness=-inf_to_4.5,Marginal_Adhesion=-inf_to_1.5,Cell_Size_Uniformity=-inf_to_1.5,Bland_Chromatin=-inf_to_2.5} => {Class=benign} sup: 0.28 conf: 0.00 len: 6, id: 3921, CAR {Normal_Nucleoli=-inf_to_2.5,Clump_Thickness=-inf_to_4.5,Marginal_Adhesion=-inf_to_1.5,Cell_Size_Uniformity=-inf_to_1.5,Bland_Chromatin=-inf_to_2.5} => {Class=malignant} sup: 0.28 conf: 0.00 len: 6, id: 3922, CAR {Clump_Thickness=-inf_to_4.5,Marginal_Adhesion=-inf_to_1.5,Single_Epi_Cell_Size=-inf_to_2.5,Bare_Nuclei=-inf_to_1.5,Bland_Chromatin=-inf_to_2.5} => {Class=benign} sup: 0.28 conf: 0.00 len: 6, id: 3961, CAR {Clump_Thickness=-inf_to_4.5,Marginal_Adhesion=-inf_to_1.5,Single_Epi_Cell_Size=-inf_to_2.5,Bare_Nuclei=-inf_to_1.5,Bland_Chromatin=-inf_to_2.5} => {Class=malignant} sup: 0.28 conf: 0.00 len: 6, id: 3962, CAR {Mitoses=-inf_to_1.5,Normal_Nucleoli=-inf_to_2.5,Clump_Thickness=-inf_to_4.5,Bare_Nuclei=-inf_to_1.5,Cell_Size_Uniformity=-inf_to_1.5,Bland_Chromatin=-inf_to_2.5} => {Class=benign} sup: 0.28 conf: 0.00 len: 7, id: 3939, CAR {Mitoses=-inf_to_1.5,Normal_Nucleoli=-inf_to_2.5,Clump_Thickness=-inf_to_4.5,Bare_Nuclei=-inf_to_1.5,Cell_Size_Uniformity=-inf_to_1.5,Bland_Chromatin=-inf_to_2.5} => {Class=malignant} sup: 0.28 conf: 0.00 len: 7, id: 3940, CAR {Cell_Shape_Uniformity=-inf_to_1.5,Single_Epi_Cell_Size=-inf_to_2.5,Bland_Chromatin=-inf_to_2.5,Clump_Thickness=-inf_to_4.5} => {Class=benign} sup: 0.27 conf: 0.00 len: 5, id: 3751, CAR {Cell_Shape_Uniformity=-inf_to_1.5,Single_Epi_Cell_Size=-inf_to_2.5,Bland_Chromatin=-inf_to_2.5,Clump_Thickness=-inf_to_4.5} => {Class=malignant} sup: 0.27 conf: 0.00 len: 5, id: 3752, CAR {Cell_Shape_Uniformity=-inf_to_1.5,Marginal_Adhesion=-inf_to_1.5,Single_Epi_Cell_Size=-inf_to_2.5,Bare_Nuclei=-inf_to_1.5,Bland_Chromatin=-inf_to_2.5} => {Class=benign} sup: 0.27 conf: 0.00 len: 6, id: 3833, CAR {Cell_Shape_Uniformity=-inf_to_1.5,Marginal_Adhesion=-inf_to_1.5,Single_Epi_Cell_Size=-inf_to_2.5,Bare_Nuclei=-inf_to_1.5,Bland_Chromatin=-inf_to_2.5} => {Class=malignant} sup: 0.27 conf: 0.00 len: 6, id: 3834, CAR {Mitoses=-inf_to_1.5,Clump_Thickness=-inf_to_4.5,Marginal_Adhesion=-inf_to_1.5,Cell_Size_Uniformity=-inf_to_1.5,Bland_Chromatin=-inf_to_2.5} => {Class=benign} sup: 0.27 conf: 0.00 len: 6, id: 3925, CAR {Mitoses=-inf_to_1.5,Clump_Thickness=-inf_to_4.5,Marginal_Adhesion=-inf_to_1.5,Cell_Size_Uniformity=-inf_to_1.5,Bland_Chromatin=-inf_to_2.5} => {Class=malignant} sup: 0.27 conf: 0.00 len: 6, id: 3926, CAR {Cell_Shape_Uniformity=-inf_to_1.5,Normal_Nucleoli=-inf_to_2.5,Marginal_Adhesion=-inf_to_1.5,Single_Epi_Cell_Size=-inf_to_2.5,Cell_Size_Uniformity=-inf_to_1.5,Bland_Chromatin=-inf_to_2.5} => {Class=benign} sup: 0.27 conf: 0.00 len: 7, id: 3787, CAR {Cell_Shape_Uniformity=-inf_to_1.5,Normal_Nucleoli=-inf_to_2.5,Marginal_Adhesion=-inf_to_1.5,Single_Epi_Cell_Size=-inf_to_2.5,Cell_Size_Uniformity=-inf_to_1.5,Bland_Chromatin=-inf_to_2.5} => {Class=malignant} sup: 0.27 conf: 0.00 len: 7, id: 3788, CAR {Cell_Shape_Uniformity=-inf_to_1.5,Bare_Nuclei=-inf_to_1.5,Bland_Chromatin=-inf_to_2.5,Clump_Thickness=-inf_to_4.5} => {Class=benign} sup: 0.27 conf: 0.00 len: 5, id: 3735, CAR {Cell_Shape_Uniformity=-inf_to_1.5,Bare_Nuclei=-inf_to_1.5,Bland_Chromatin=-inf_to_2.5,Clump_Thickness=-inf_to_4.5} => {Class=malignant} sup: 0.27 conf: 0.00 len: 5, id: 3736, CAR {Cell_Shape_Uniformity=-inf_to_1.5,Mitoses=-inf_to_1.5,Clump_Thickness=-inf_to_4.5,Cell_Size_Uniformity=-inf_to_1.5,Bland_Chromatin=-inf_to_2.5} => {Class=benign} sup: 0.27 conf: 0.00 len: 6, id: 3701, CAR {Cell_Shape_Uniformity=-inf_to_1.5,Mitoses=-inf_to_1.5,Clump_Thickness=-inf_to_4.5,Cell_Size_Uniformity=-inf_to_1.5,Bland_Chromatin=-inf_to_2.5} => {Class=malignant} sup: 0.27 conf: 0.00 len: 6, id: 3702, CAR {Cell_Shape_Uniformity=-inf_to_1.5,Normal_Nucleoli=-inf_to_2.5,Clump_Thickness=-inf_to_4.5,Single_Epi_Cell_Size=-inf_to_2.5,Bland_Chromatin=-inf_to_2.5} => {Class=benign} sup: 0.27 conf: 0.00 len: 6, id: 3753, CAR {Cell_Shape_Uniformity=-inf_to_1.5,Normal_Nucleoli=-inf_to_2.5,Clump_Thickness=-inf_to_4.5,Single_Epi_Cell_Size=-inf_to_2.5,Bland_Chromatin=-inf_to_2.5} => {Class=malignant} sup: 0.27 conf: 0.00 len: 6, id: 3754, CAR {Cell_Shape_Uniformity=-inf_to_1.5,Marginal_Adhesion=-inf_to_1.5,Bare_Nuclei=-inf_to_1.5,Cell_Size_Uniformity=-inf_to_1.5,Bland_Chromatin=-inf_to_2.5} => {Class=benign} sup: 0.27 conf: 0.00 len: 6, id: 3769, CAR {Cell_Shape_Uniformity=-inf_to_1.5,Marginal_Adhesion=-inf_to_1.5,Bare_Nuclei=-inf_to_1.5,Cell_Size_Uniformity=-inf_to_1.5,Bland_Chromatin=-inf_to_2.5} => {Class=malignant} sup: 0.27 conf: 0.00 len: 6, id: 3770, CAR {Clump_Thickness=-inf_to_4.5,Single_Epi_Cell_Size=-inf_to_2.5,Bare_Nuclei=-inf_to_1.5,Cell_Size_Uniformity=-inf_to_1.5,Bland_Chromatin=-inf_to_2.5} => {Class=benign} sup: 0.27 conf: 0.00 len: 6, id: 3929, CAR {Clump_Thickness=-inf_to_4.5,Single_Epi_Cell_Size=-inf_to_2.5,Bare_Nuclei=-inf_to_1.5,Cell_Size_Uniformity=-inf_to_1.5,Bland_Chromatin=-inf_to_2.5} => {Class=malignant} sup: 0.27 conf: 0.00 len: 6, id: 3930, CAR {Normal_Nucleoli=-inf_to_2.5,Clump_Thickness=-inf_to_4.5,Marginal_Adhesion=-inf_to_1.5,Single_Epi_Cell_Size=-inf_to_2.5,Bare_Nuclei=-inf_to_1.5,Bland_Chromatin=-inf_to_2.5} => {Class=benign} sup: 0.27 conf: 0.00 len: 7, id: 3963, CAR {Normal_Nucleoli=-inf_to_2.5,Clump_Thickness=-inf_to_4.5,Marginal_Adhesion=-inf_to_1.5,Single_Epi_Cell_Size=-inf_to_2.5,Bare_Nuclei=-inf_to_1.5,Bland_Chromatin=-inf_to_2.5} => {Class=malignant} sup: 0.27 conf: 0.00 len: 7, id: 3964, CAR {Cell_Shape_Uniformity=-inf_to_1.5,Mitoses=-inf_to_1.5,Marginal_Adhesion=-inf_to_1.5,Single_Epi_Cell_Size=-inf_to_2.5,Cell_Size_Uniformity=-inf_to_1.5,Bland_Chromatin=-inf_to_2.5} => {Class=benign} sup: 0.27 conf: 0.00 len: 7, id: 3791, CAR {Cell_Shape_Uniformity=-inf_to_1.5,Mitoses=-inf_to_1.5,Marginal_Adhesion=-inf_to_1.5,Single_Epi_Cell_Size=-inf_to_2.5,Cell_Size_Uniformity=-inf_to_1.5,Bland_Chromatin=-inf_to_2.5} => {Class=malignant} sup: 0.27 conf: 0.00 len: 7, id: 3792, CAR {Cell_Shape_Uniformity=-inf_to_1.5,Normal_Nucleoli=-inf_to_2.5,Marginal_Adhesion=-inf_to_1.5,Single_Epi_Cell_Size=-inf_to_2.5,Bare_Nuclei=-inf_to_1.5,Bland_Chromatin=-inf_to_2.5} => {Class=benign} sup: 0.27 conf: 0.00 len: 7, id: 3835, CAR {Cell_Shape_Uniformity=-inf_to_1.5,Normal_Nucleoli=-inf_to_2.5,Marginal_Adhesion=-inf_to_1.5,Single_Epi_Cell_Size=-inf_to_2.5,Bare_Nuclei=-inf_to_1.5,Bland_Chromatin=-inf_to_2.5} => {Class=malignant} sup: 0.27 conf: 0.00 len: 7, id: 3836, CAR {Mitoses=-inf_to_1.5,Normal_Nucleoli=-inf_to_2.5,Clump_Thickness=-inf_to_4.5,Marginal_Adhesion=-inf_to_1.5,Cell_Size_Uniformity=-inf_to_1.5,Bland_Chromatin=-inf_to_2.5} => {Class=benign} sup: 0.27 conf: 0.00 len: 7, id: 3923, CAR {Mitoses=-inf_to_1.5,Normal_Nucleoli=-inf_to_2.5,Clump_Thickness=-inf_to_4.5,Marginal_Adhesion=-inf_to_1.5,Cell_Size_Uniformity=-inf_to_1.5,Bland_Chromatin=-inf_to_2.5} => {Class=malignant} sup: 0.27 conf: 0.00 len: 7, id: 3924, CAR {Mitoses=-inf_to_1.5,Clump_Thickness=-inf_to_4.5,Marginal_Adhesion=-inf_to_1.5,Single_Epi_Cell_Size=-inf_to_2.5,Bare_Nuclei=-inf_to_1.5,Bland_Chromatin=-inf_to_2.5} => {Class=benign} sup: 0.27 conf: 0.00 len: 7, id: 3967, CAR {Mitoses=-inf_to_1.5,Clump_Thickness=-inf_to_4.5,Marginal_Adhesion=-inf_to_1.5,Single_Epi_Cell_Size=-inf_to_2.5,Bare_Nuclei=-inf_to_1.5,Bland_Chromatin=-inf_to_2.5} => {Class=malignant} sup: 0.27 conf: 0.00 len: 7, id: 3968, CAR {Cell_Shape_Uniformity=-inf_to_1.5,Marginal_Adhesion=-inf_to_1.5,Bland_Chromatin=-inf_to_2.5,Clump_Thickness=-inf_to_4.5} => {Class=benign} sup: 0.27 conf: 0.00 len: 5, id: 3703, CAR {Cell_Shape_Uniformity=-inf_to_1.5,Marginal_Adhesion=-inf_to_1.5,Bland_Chromatin=-inf_to_2.5,Clump_Thickness=-inf_to_4.5} => {Class=malignant} sup: 0.27 conf: 0.00 len: 5, id: 3704, CAR {Cell_Shape_Uniformity=-inf_to_1.5,Normal_Nucleoli=-inf_to_2.5,Clump_Thickness=-inf_to_4.5,Bare_Nuclei=-inf_to_1.5,Bland_Chromatin=-inf_to_2.5} => {Class=benign} sup: 0.27 conf: 0.00 len: 6, id: 3745, CAR {Cell_Shape_Uniformity=-inf_to_1.5,Normal_Nucleoli=-inf_to_2.5,Clump_Thickness=-inf_to_4.5,Bare_Nuclei=-inf_to_1.5,Bland_Chromatin=-inf_to_2.5} => {Class=malignant} sup: 0.27 conf: 0.00 len: 6, id: 3746, CAR {Cell_Shape_Uniformity=-inf_to_1.5,Mitoses=-inf_to_1.5,Normal_Nucleoli=-inf_to_2.5,Clump_Thickness=-inf_to_4.5,Cell_Size_Uniformity=-inf_to_1.5,Bland_Chromatin=-inf_to_2.5} => {Class=benign} sup: 0.27 conf: 0.00 len: 7, id: 3699, CAR {Cell_Shape_Uniformity=-inf_to_1.5,Mitoses=-inf_to_1.5,Normal_Nucleoli=-inf_to_2.5,Clump_Thickness=-inf_to_4.5,Cell_Size_Uniformity=-inf_to_1.5,Bland_Chromatin=-inf_to_2.5} => {Class=malignant} sup: 0.27 conf: 0.00 len: 7, id: 3700, CAR {Cell_Shape_Uniformity=-inf_to_1.5,Normal_Nucleoli=-inf_to_2.5,Marginal_Adhesion=-inf_to_1.5,Bare_Nuclei=-inf_to_1.5,Cell_Size_Uniformity=-inf_to_1.5,Bland_Chromatin=-inf_to_2.5} => {Class=benign} sup: 0.27 conf: 0.00 len: 7, id: 3779, CAR {Cell_Shape_Uniformity=-inf_to_1.5,Normal_Nucleoli=-inf_to_2.5,Marginal_Adhesion=-inf_to_1.5,Bare_Nuclei=-inf_to_1.5,Cell_Size_Uniformity=-inf_to_1.5,Bland_Chromatin=-inf_to_2.5} => {Class=malignant} sup: 0.27 conf: 0.00 len: 7, id: 3780, CAR {Normal_Nucleoli=-inf_to_2.5,Clump_Thickness=-inf_to_4.5,Single_Epi_Cell_Size=-inf_to_2.5,Bare_Nuclei=-inf_to_1.5,Cell_Size_Uniformity=-inf_to_1.5,Bland_Chromatin=-inf_to_2.5} => {Class=benign} sup: 0.27 conf: 0.00 len: 7, id: 3931, CAR {Normal_Nucleoli=-inf_to_2.5,Clump_Thickness=-inf_to_4.5,Single_Epi_Cell_Size=-inf_to_2.5,Bare_Nuclei=-inf_to_1.5,Cell_Size_Uniformity=-inf_to_1.5,Bland_Chromatin=-inf_to_2.5} => {Class=malignant} sup: 0.27 conf: 0.00 len: 7, id: 3932, CAR {Cell_Shape_Uniformity=-inf_to_1.5,Mitoses=-inf_to_1.5,Clump_Thickness=-inf_to_4.5,Single_Epi_Cell_Size=-inf_to_2.5,Bland_Chromatin=-inf_to_2.5} => {Class=benign} sup: 0.26 conf: 0.00 len: 6, id: 3757, CAR {Cell_Shape_Uniformity=-inf_to_1.5,Mitoses=-inf_to_1.5,Clump_Thickness=-inf_to_4.5,Single_Epi_Cell_Size=-inf_to_2.5,Bland_Chromatin=-inf_to_2.5} => {Class=malignant} sup: 0.26 conf: 0.00 len: 6, id: 3758, CAR {Clump_Thickness=-inf_to_4.5,Marginal_Adhesion=-inf_to_1.5,Single_Epi_Cell_Size=-inf_to_2.5,Cell_Size_Uniformity=-inf_to_1.5,Bland_Chromatin=-inf_to_2.5} => {Class=benign} sup: 0.26 conf: 0.00 len: 6, id: 3913, CAR {Clump_Thickness=-inf_to_4.5,Marginal_Adhesion=-inf_to_1.5,Single_Epi_Cell_Size=-inf_to_2.5,Cell_Size_Uniformity=-inf_to_1.5,Bland_Chromatin=-inf_to_2.5} => {Class=malignant} sup: 0.26 conf: 0.00 len: 6, id: 3914, CAR {Cell_Shape_Uniformity=-inf_to_1.5,Mitoses=-inf_to_1.5,Marginal_Adhesion=-inf_to_1.5,Single_Epi_Cell_Size=-inf_to_2.5,Bare_Nuclei=-inf_to_1.5,Bland_Chromatin=-inf_to_2.5} => {Class=benign} sup: 0.26 conf: 0.00 len: 7, id: 3839, CAR {Cell_Shape_Uniformity=-inf_to_1.5,Mitoses=-inf_to_1.5,Marginal_Adhesion=-inf_to_1.5,Single_Epi_Cell_Size=-inf_to_2.5,Bare_Nuclei=-inf_to_1.5,Bland_Chromatin=-inf_to_2.5} => {Class=malignant} sup: 0.26 conf: 0.00 len: 7, id: 3840, CAR {Cell_Shape_Uniformity=-inf_to_1.5,Mitoses=-inf_to_1.5,Normal_Nucleoli=-inf_to_2.5,Marginal_Adhesion=-inf_to_1.5,Single_Epi_Cell_Size=-inf_to_2.5,Cell_Size_Uniformity=-inf_to_1.5,Bland_Chromatin=-inf_to_2.5} => {Class=benign} sup: 0.26 conf: 0.00 len: 8, id: 3789, CAR {Cell_Shape_Uniformity=-inf_to_1.5,Mitoses=-inf_to_1.5,Normal_Nucleoli=-inf_to_2.5,Marginal_Adhesion=-inf_to_1.5,Single_Epi_Cell_Size=-inf_to_2.5,Cell_Size_Uniformity=-inf_to_1.5,Bland_Chromatin=-inf_to_2.5} => {Class=malignant} sup: 0.26 conf: 0.00 len: 8, id: 3790, CAR {Cell_Shape_Uniformity=-inf_to_1.5,Normal_Nucleoli=-inf_to_2.5,Clump_Thickness=-inf_to_4.5,Marginal_Adhesion=-inf_to_1.5,Bland_Chromatin=-inf_to_2.5} => {Class=benign} sup: 0.26 conf: 0.00 len: 6, id: 3729, CAR {Cell_Shape_Uniformity=-inf_to_1.5,Normal_Nucleoli=-inf_to_2.5,Clump_Thickness=-inf_to_4.5,Marginal_Adhesion=-inf_to_1.5,Bland_Chromatin=-inf_to_2.5} => {Class=malignant} sup: 0.26 conf: 0.00 len: 6, id: 3730, CAR {Cell_Shape_Uniformity=-inf_to_1.5,Mitoses=-inf_to_1.5,Clump_Thickness=-inf_to_4.5,Bare_Nuclei=-inf_to_1.5,Bland_Chromatin=-inf_to_2.5} => {Class=benign} sup: 0.26 conf: 0.00 len: 6, id: 3749, CAR {Cell_Shape_Uniformity=-inf_to_1.5,Mitoses=-inf_to_1.5,Clump_Thickness=-inf_to_4.5,Bare_Nuclei=-inf_to_1.5,Bland_Chromatin=-inf_to_2.5} => {Class=malignant} sup: 0.26 conf: 0.00 len: 6, id: 3750, CAR {Cell_Shape_Uniformity=-inf_to_1.5,Mitoses=-inf_to_1.5,Marginal_Adhesion=-inf_to_1.5,Bare_Nuclei=-inf_to_1.5,Cell_Size_Uniformity=-inf_to_1.5,Bland_Chromatin=-inf_to_2.5} => {Class=benign} sup: 0.26 conf: 0.00 len: 7, id: 3783, CAR {Cell_Shape_Uniformity=-inf_to_1.5,Mitoses=-inf_to_1.5,Marginal_Adhesion=-inf_to_1.5,Bare_Nuclei=-inf_to_1.5,Cell_Size_Uniformity=-inf_to_1.5,Bland_Chromatin=-inf_to_2.5} => {Class=malignant} sup: 0.26 conf: 0.00 len: 7, id: 3784, CAR {Mitoses=-inf_to_1.5,Clump_Thickness=-inf_to_4.5,Single_Epi_Cell_Size=-inf_to_2.5,Bare_Nuclei=-inf_to_1.5,Cell_Size_Uniformity=-inf_to_1.5,Bland_Chromatin=-inf_to_2.5} => {Class=benign} sup: 0.26 conf: 0.00 len: 7, id: 3935, CAR {Mitoses=-inf_to_1.5,Clump_Thickness=-inf_to_4.5,Single_Epi_Cell_Size=-inf_to_2.5,Bare_Nuclei=-inf_to_1.5,Cell_Size_Uniformity=-inf_to_1.5,Bland_Chromatin=-inf_to_2.5} => {Class=malignant} sup: 0.26 conf: 0.00 len: 7, id: 3936, CAR {Mitoses=-inf_to_1.5,Normal_Nucleoli=-inf_to_2.5,Clump_Thickness=-inf_to_4.5,Marginal_Adhesion=-inf_to_1.5,Single_Epi_Cell_Size=-inf_to_2.5,Bare_Nuclei=-inf_to_1.5,Bland_Chromatin=-inf_to_2.5} => {Class=benign} sup: 0.26 conf: 0.00 len: 8, id: 3965, CAR {Mitoses=-inf_to_1.5,Normal_Nucleoli=-inf_to_2.5,Clump_Thickness=-inf_to_4.5,Marginal_Adhesion=-inf_to_1.5,Single_Epi_Cell_Size=-inf_to_2.5,Bare_Nuclei=-inf_to_1.5,Bland_Chromatin=-inf_to_2.5} => {Class=malignant} sup: 0.26 conf: 0.00 len: 8, id: 3966, CAR {Cell_Size_Uniformity=4.5_to_inf} => {Class=benign} sup: 0.26 conf: 0.00 len: 2, id: 3611, CAR {Cell_Size_Uniformity=4.5_to_inf} => {Class=malignant} sup: 0.26 conf: 0.00 len: 2, id: 3612, CAR {Clump_Thickness=-inf_to_4.5,Marginal_Adhesion=-inf_to_1.5,Bare_Nuclei=-inf_to_1.5,Cell_Size_Uniformity=-inf_to_1.5,Bland_Chromatin=-inf_to_2.5} => {Class=benign} sup: 0.26 conf: 0.00 len: 6, id: 3897, CAR {Clump_Thickness=-inf_to_4.5,Marginal_Adhesion=-inf_to_1.5,Bare_Nuclei=-inf_to_1.5,Cell_Size_Uniformity=-inf_to_1.5,Bland_Chromatin=-inf_to_2.5} => {Class=malignant} sup: 0.26 conf: 0.00 len: 6, id: 3898, CAR {Cell_Shape_Uniformity=-inf_to_1.5,Mitoses=-inf_to_1.5,Normal_Nucleoli=-inf_to_2.5,Clump_Thickness=-inf_to_4.5,Single_Epi_Cell_Size=-inf_to_2.5,Bland_Chromatin=-inf_to_2.5} => {Class=benign} sup: 0.26 conf: 0.00 len: 7, id: 3755, CAR {Cell_Shape_Uniformity=-inf_to_1.5,Mitoses=-inf_to_1.5,Normal_Nucleoli=-inf_to_2.5,Clump_Thickness=-inf_to_4.5,Single_Epi_Cell_Size=-inf_to_2.5,Bland_Chromatin=-inf_to_2.5} => {Class=malignant} sup: 0.26 conf: 0.00 len: 7, id: 3756, CAR {Normal_Nucleoli=-inf_to_2.5,Clump_Thickness=-inf_to_4.5,Marginal_Adhesion=-inf_to_1.5,Single_Epi_Cell_Size=-inf_to_2.5,Cell_Size_Uniformity=-inf_to_1.5,Bland_Chromatin=-inf_to_2.5} => {Class=benign} sup: 0.26 conf: 0.00 len: 7, id: 3915, CAR {Normal_Nucleoli=-inf_to_2.5,Clump_Thickness=-inf_to_4.5,Marginal_Adhesion=-inf_to_1.5,Single_Epi_Cell_Size=-inf_to_2.5,Cell_Size_Uniformity=-inf_to_1.5,Bland_Chromatin=-inf_to_2.5} => {Class=malignant} sup: 0.26 conf: 0.00 len: 7, id: 3916, CAR {Cell_Shape_Uniformity=-inf_to_1.5,Mitoses=-inf_to_1.5,Normal_Nucleoli=-inf_to_2.5,Marginal_Adhesion=-inf_to_1.5,Single_Epi_Cell_Size=-inf_to_2.5,Bare_Nuclei=-inf_to_1.5,Bland_Chromatin=-inf_to_2.5} => {Class=benign} sup: 0.26 conf: 0.00 len: 8, id: 3837, CAR {Cell_Shape_Uniformity=-inf_to_1.5,Mitoses=-inf_to_1.5,Normal_Nucleoli=-inf_to_2.5,Marginal_Adhesion=-inf_to_1.5,Single_Epi_Cell_Size=-inf_to_2.5,Bare_Nuclei=-inf_to_1.5,Bland_Chromatin=-inf_to_2.5} => {Class=malignant} sup: 0.26 conf: 0.00 len: 8, id: 3838, CAR {Bare_Nuclei=5.5_to_inf} => {Class=benign} sup: 0.26 conf: 0.00 len: 2, id: 3607, CAR {Bare_Nuclei=5.5_to_inf} => {Class=malignant} sup: 0.26 conf: 0.00 len: 2, id: 3608, CAR {Cell_Shape_Uniformity=-inf_to_1.5,Clump_Thickness=-inf_to_4.5,Single_Epi_Cell_Size=-inf_to_2.5,Cell_Size_Uniformity=-inf_to_1.5,Bland_Chromatin=-inf_to_2.5} => {Class=benign} sup: 0.26 conf: 0.00 len: 6, id: 3689, CAR {Cell_Shape_Uniformity=-inf_to_1.5,Clump_Thickness=-inf_to_4.5,Single_Epi_Cell_Size=-inf_to_2.5,Cell_Size_Uniformity=-inf_to_1.5,Bland_Chromatin=-inf_to_2.5} => {Class=malignant} sup: 0.26 conf: 0.00 len: 6, id: 3690, CAR {Cell_Shape_Uniformity=-inf_to_1.5,Mitoses=-inf_to_1.5,Clump_Thickness=-inf_to_4.5,Marginal_Adhesion=-inf_to_1.5,Bland_Chromatin=-inf_to_2.5} => {Class=benign} sup: 0.26 conf: 0.00 len: 6, id: 3733, CAR {Cell_Shape_Uniformity=-inf_to_1.5,Mitoses=-inf_to_1.5,Clump_Thickness=-inf_to_4.5,Marginal_Adhesion=-inf_to_1.5,Bland_Chromatin=-inf_to_2.5} => {Class=malignant} sup: 0.26 conf: 0.00 len: 6, id: 3734, CAR {Cell_Shape_Uniformity=-inf_to_1.5,Mitoses=-inf_to_1.5,Normal_Nucleoli=-inf_to_2.5,Clump_Thickness=-inf_to_4.5,Bare_Nuclei=-inf_to_1.5,Bland_Chromatin=-inf_to_2.5} => {Class=benign} sup: 0.26 conf: 0.00 len: 7, id: 3747, CAR {Cell_Shape_Uniformity=-inf_to_1.5,Mitoses=-inf_to_1.5,Normal_Nucleoli=-inf_to_2.5,Clump_Thickness=-inf_to_4.5,Bare_Nuclei=-inf_to_1.5,Bland_Chromatin=-inf_to_2.5} => {Class=malignant} sup: 0.26 conf: 0.00 len: 7, id: 3748, CAR {Cell_Shape_Uniformity=-inf_to_1.5,Mitoses=-inf_to_1.5,Normal_Nucleoli=-inf_to_2.5,Marginal_Adhesion=-inf_to_1.5,Bare_Nuclei=-inf_to_1.5,Cell_Size_Uniformity=-inf_to_1.5,Bland_Chromatin=-inf_to_2.5} => {Class=benign} sup: 0.26 conf: 0.00 len: 8, id: 3781, CAR {Cell_Shape_Uniformity=-inf_to_1.5,Mitoses=-inf_to_1.5,Normal_Nucleoli=-inf_to_2.5,Marginal_Adhesion=-inf_to_1.5,Bare_Nuclei=-inf_to_1.5,Cell_Size_Uniformity=-inf_to_1.5,Bland_Chromatin=-inf_to_2.5} => {Class=malignant} sup: 0.26 conf: 0.00 len: 8, id: 3782, CAR {Mitoses=-inf_to_1.5,Normal_Nucleoli=-inf_to_2.5,Clump_Thickness=-inf_to_4.5,Single_Epi_Cell_Size=-inf_to_2.5,Bare_Nuclei=-inf_to_1.5,Cell_Size_Uniformity=-inf_to_1.5,Bland_Chromatin=-inf_to_2.5} => {Class=benign} sup: 0.26 conf: 0.00 len: 8, id: 3933, CAR {Mitoses=-inf_to_1.5,Normal_Nucleoli=-inf_to_2.5,Clump_Thickness=-inf_to_4.5,Single_Epi_Cell_Size=-inf_to_2.5,Bare_Nuclei=-inf_to_1.5,Cell_Size_Uniformity=-inf_to_1.5,Bland_Chromatin=-inf_to_2.5} => {Class=malignant} sup: 0.26 conf: 0.00 len: 8, id: 3934, CAR {Cell_Shape_Uniformity=-inf_to_1.5,Marginal_Adhesion=-inf_to_1.5,Single_Epi_Cell_Size=-inf_to_2.5,Bare_Nuclei=-inf_to_1.5,Cell_Size_Uniformity=-inf_to_1.5,Bland_Chromatin=-inf_to_2.5} => {Class=benign} sup: 0.26 conf: 0.00 len: 7, id: 3771, CAR {Cell_Shape_Uniformity=-inf_to_1.5,Marginal_Adhesion=-inf_to_1.5,Single_Epi_Cell_Size=-inf_to_2.5,Bare_Nuclei=-inf_to_1.5,Cell_Size_Uniformity=-inf_to_1.5,Bland_Chromatin=-inf_to_2.5} => {Class=malignant} sup: 0.26 conf: 0.00 len: 7, id: 3772, CAR {Normal_Nucleoli=-inf_to_2.5,Clump_Thickness=-inf_to_4.5,Marginal_Adhesion=-inf_to_1.5,Bare_Nuclei=-inf_to_1.5,Cell_Size_Uniformity=-inf_to_1.5,Bland_Chromatin=-inf_to_2.5} => {Class=benign} sup: 0.26 conf: 0.00 len: 7, id: 3907, CAR {Normal_Nucleoli=-inf_to_2.5,Clump_Thickness=-inf_to_4.5,Marginal_Adhesion=-inf_to_1.5,Bare_Nuclei=-inf_to_1.5,Cell_Size_Uniformity=-inf_to_1.5,Bland_Chromatin=-inf_to_2.5} => {Class=malignant} sup: 0.26 conf: 0.00 len: 7, id: 3908, CAR {Mitoses=-inf_to_1.5,Clump_Thickness=-inf_to_4.5,Marginal_Adhesion=-inf_to_1.5,Single_Epi_Cell_Size=-inf_to_2.5,Cell_Size_Uniformity=-inf_to_1.5,Bland_Chromatin=-inf_to_2.5} => {Class=benign} sup: 0.26 conf: 0.00 len: 7, id: 3919, CAR {Mitoses=-inf_to_1.5,Clump_Thickness=-inf_to_4.5,Marginal_Adhesion=-inf_to_1.5,Single_Epi_Cell_Size=-inf_to_2.5,Cell_Size_Uniformity=-inf_to_1.5,Bland_Chromatin=-inf_to_2.5} => {Class=malignant} sup: 0.26 conf: 0.00 len: 7, id: 3920, CAR {Marginal_Adhesion=3.5_to_inf} => {Class=benign} sup: 0.26 conf: 0.00 len: 2, id: 3603, CAR {Marginal_Adhesion=3.5_to_inf} => {Class=malignant} sup: 0.26 conf: 0.00 len: 2, id: 3604, CAR {Cell_Shape_Uniformity=-inf_to_1.5,Normal_Nucleoli=-inf_to_2.5,Clump_Thickness=-inf_to_4.5,Single_Epi_Cell_Size=-inf_to_2.5,Cell_Size_Uniformity=-inf_to_1.5,Bland_Chromatin=-inf_to_2.5} => {Class=benign} sup: 0.26 conf: 0.00 len: 7, id: 3691, CAR {Cell_Shape_Uniformity=-inf_to_1.5,Normal_Nucleoli=-inf_to_2.5,Clump_Thickness=-inf_to_4.5,Single_Epi_Cell_Size=-inf_to_2.5,Cell_Size_Uniformity=-inf_to_1.5,Bland_Chromatin=-inf_to_2.5} => {Class=malignant} sup: 0.26 conf: 0.00 len: 7, id: 3692, CAR {Cell_Shape_Uniformity=-inf_to_1.5,Mitoses=-inf_to_1.5,Normal_Nucleoli=-inf_to_2.5,Clump_Thickness=-inf_to_4.5,Marginal_Adhesion=-inf_to_1.5,Bland_Chromatin=-inf_to_2.5} => {Class=benign} sup: 0.26 conf: 0.00 len: 7, id: 3731, CAR {Cell_Shape_Uniformity=-inf_to_1.5,Mitoses=-inf_to_1.5,Normal_Nucleoli=-inf_to_2.5,Clump_Thickness=-inf_to_4.5,Marginal_Adhesion=-inf_to_1.5,Bland_Chromatin=-inf_to_2.5} => {Class=malignant} sup: 0.26 conf: 0.00 len: 7, id: 3732, CAR {Mitoses=-inf_to_1.5,Clump_Thickness=-inf_to_4.5,Marginal_Adhesion=-inf_to_1.5,Bare_Nuclei=-inf_to_1.5,Cell_Size_Uniformity=-inf_to_1.5,Bland_Chromatin=-inf_to_2.5} => {Class=benign} sup: 0.25 conf: 0.00 len: 7, id: 3911, CAR {Mitoses=-inf_to_1.5,Clump_Thickness=-inf_to_4.5,Marginal_Adhesion=-inf_to_1.5,Bare_Nuclei=-inf_to_1.5,Cell_Size_Uniformity=-inf_to_1.5,Bland_Chromatin=-inf_to_2.5} => {Class=malignant} sup: 0.25 conf: 0.00 len: 7, id: 3912, CAR {Cell_Shape_Uniformity=-inf_to_1.5,Normal_Nucleoli=-inf_to_2.5,Marginal_Adhesion=-inf_to_1.5,Single_Epi_Cell_Size=-inf_to_2.5,Bare_Nuclei=-inf_to_1.5,Cell_Size_Uniformity=-inf_to_1.5,Bland_Chromatin=-inf_to_2.5} => {Class=benign} sup: 0.25 conf: 0.00 len: 8, id: 3773, CAR {Cell_Shape_Uniformity=-inf_to_1.5,Normal_Nucleoli=-inf_to_2.5,Marginal_Adhesion=-inf_to_1.5,Single_Epi_Cell_Size=-inf_to_2.5,Bare_Nuclei=-inf_to_1.5,Cell_Size_Uniformity=-inf_to_1.5,Bland_Chromatin=-inf_to_2.5} => {Class=malignant} sup: 0.25 conf: 0.00 len: 8, id: 3774, CAR {Mitoses=-inf_to_1.5,Normal_Nucleoli=-inf_to_2.5,Clump_Thickness=-inf_to_4.5,Marginal_Adhesion=-inf_to_1.5,Single_Epi_Cell_Size=-inf_to_2.5,Cell_Size_Uniformity=-inf_to_1.5,Bland_Chromatin=-inf_to_2.5} => {Class=benign} sup: 0.25 conf: 0.00 len: 8, id: 3917, CAR {Mitoses=-inf_to_1.5,Normal_Nucleoli=-inf_to_2.5,Clump_Thickness=-inf_to_4.5,Marginal_Adhesion=-inf_to_1.5,Single_Epi_Cell_Size=-inf_to_2.5,Cell_Size_Uniformity=-inf_to_1.5,Bland_Chromatin=-inf_to_2.5} => {Class=malignant} sup: 0.25 conf: 0.00 len: 8, id: 3918, CAR {Cell_Shape_Uniformity=-inf_to_1.5,Clump_Thickness=-inf_to_4.5,Bare_Nuclei=-inf_to_1.5,Cell_Size_Uniformity=-inf_to_1.5,Bland_Chromatin=-inf_to_2.5} => {Class=benign} sup: 0.25 conf: 0.00 len: 6, id: 3673, CAR {Cell_Shape_Uniformity=-inf_to_1.5,Clump_Thickness=-inf_to_4.5,Bare_Nuclei=-inf_to_1.5,Cell_Size_Uniformity=-inf_to_1.5,Bland_Chromatin=-inf_to_2.5} => {Class=malignant} sup: 0.25 conf: 0.00 len: 6, id: 3674, CAR {Cell_Shape_Uniformity=-inf_to_1.5,Clump_Thickness=-inf_to_4.5,Marginal_Adhesion=-inf_to_1.5,Cell_Size_Uniformity=-inf_to_1.5,Bland_Chromatin=-inf_to_2.5} => {Class=benign} sup: 0.25 conf: 0.00 len: 6, id: 3641, CAR {Cell_Shape_Uniformity=-inf_to_1.5,Clump_Thickness=-inf_to_4.5,Marginal_Adhesion=-inf_to_1.5,Cell_Size_Uniformity=-inf_to_1.5,Bland_Chromatin=-inf_to_2.5} => {Class=malignant} sup: 0.25 conf: 0.00 len: 6, id: 3642, CAR {Cell_Shape_Uniformity=-inf_to_1.5,Clump_Thickness=-inf_to_4.5,Single_Epi_Cell_Size=-inf_to_2.5,Bare_Nuclei=-inf_to_1.5,Bland_Chromatin=-inf_to_2.5} => {Class=benign} sup: 0.25 conf: 0.00 len: 6, id: 3737, CAR {Cell_Shape_Uniformity=-inf_to_1.5,Clump_Thickness=-inf_to_4.5,Single_Epi_Cell_Size=-inf_to_2.5,Bare_Nuclei=-inf_to_1.5,Bland_Chromatin=-inf_to_2.5} => {Class=malignant} sup: 0.25 conf: 0.00 len: 6, id: 3738, CAR {Cell_Shape_Uniformity=-inf_to_1.5,Mitoses=-inf_to_1.5,Clump_Thickness=-inf_to_4.5,Single_Epi_Cell_Size=-inf_to_2.5,Cell_Size_Uniformity=-inf_to_1.5,Bland_Chromatin=-inf_to_2.5} => {Class=benign} sup: 0.25 conf: 0.00 len: 7, id: 3695, CAR {Cell_Shape_Uniformity=-inf_to_1.5,Mitoses=-inf_to_1.5,Clump_Thickness=-inf_to_4.5,Single_Epi_Cell_Size=-inf_to_2.5,Cell_Size_Uniformity=-inf_to_1.5,Bland_Chromatin=-inf_to_2.5} => {Class=malignant} sup: 0.25 conf: 0.00 len: 7, id: 3696, CAR {Cell_Shape_Uniformity=-inf_to_1.5,Mitoses=-inf_to_1.5,Marginal_Adhesion=-inf_to_1.5,Single_Epi_Cell_Size=-inf_to_2.5,Bare_Nuclei=-inf_to_1.5,Cell_Size_Uniformity=-inf_to_1.5,Bland_Chromatin=-inf_to_2.5} => {Class=benign} sup: 0.25 conf: 0.00 len: 8, id: 3777, CAR {Cell_Shape_Uniformity=-inf_to_1.5,Mitoses=-inf_to_1.5,Marginal_Adhesion=-inf_to_1.5,Single_Epi_Cell_Size=-inf_to_2.5,Bare_Nuclei=-inf_to_1.5,Cell_Size_Uniformity=-inf_to_1.5,Bland_Chromatin=-inf_to_2.5} => {Class=malignant} sup: 0.25 conf: 0.00 len: 8, id: 3778, CAR {Mitoses=-inf_to_1.5,Normal_Nucleoli=-inf_to_2.5,Clump_Thickness=-inf_to_4.5,Marginal_Adhesion=-inf_to_1.5,Bare_Nuclei=-inf_to_1.5,Cell_Size_Uniformity=-inf_to_1.5,Bland_Chromatin=-inf_to_2.5} => {Class=benign} sup: 0.25 conf: 0.00 len: 8, id: 3909, CAR {Mitoses=-inf_to_1.5,Normal_Nucleoli=-inf_to_2.5,Clump_Thickness=-inf_to_4.5,Marginal_Adhesion=-inf_to_1.5,Bare_Nuclei=-inf_to_1.5,Cell_Size_Uniformity=-inf_to_1.5,Bland_Chromatin=-inf_to_2.5} => {Class=malignant} sup: 0.25 conf: 0.00 len: 8, id: 3910, CAR {Cell_Shape_Uniformity=-inf_to_1.5,Clump_Thickness=-inf_to_4.5,Marginal_Adhesion=-inf_to_1.5,Bare_Nuclei=-inf_to_1.5,Bland_Chromatin=-inf_to_2.5} => {Class=benign} sup: 0.25 conf: 0.00 len: 6, id: 3705, CAR {Cell_Shape_Uniformity=-inf_to_1.5,Clump_Thickness=-inf_to_4.5,Marginal_Adhesion=-inf_to_1.5,Bare_Nuclei=-inf_to_1.5,Bland_Chromatin=-inf_to_2.5} => {Class=malignant} sup: 0.25 conf: 0.00 len: 6, id: 3706, CAR {Cell_Shape_Uniformity=-inf_to_1.5,Clump_Thickness=-inf_to_4.5,Marginal_Adhesion=-inf_to_1.5,Single_Epi_Cell_Size=-inf_to_2.5,Bland_Chromatin=-inf_to_2.5} => {Class=benign} sup: 0.25 conf: 0.00 len: 6, id: 3721, CAR {Cell_Shape_Uniformity=-inf_to_1.5,Clump_Thickness=-inf_to_4.5,Marginal_Adhesion=-inf_to_1.5,Single_Epi_Cell_Size=-inf_to_2.5,Bland_Chromatin=-inf_to_2.5} => {Class=malignant} sup: 0.25 conf: 0.00 len: 6, id: 3722, CAR {Cell_Shape_Uniformity=-inf_to_1.5,Normal_Nucleoli=-inf_to_2.5,Clump_Thickness=-inf_to_4.5,Bare_Nuclei=-inf_to_1.5,Cell_Size_Uniformity=-inf_to_1.5,Bland_Chromatin=-inf_to_2.5} => {Class=benign} sup: 0.25 conf: 0.00 len: 7, id: 3683, CAR {Cell_Shape_Uniformity=-inf_to_1.5,Normal_Nucleoli=-inf_to_2.5,Clump_Thickness=-inf_to_4.5,Bare_Nuclei=-inf_to_1.5,Cell_Size_Uniformity=-inf_to_1.5,Bland_Chromatin=-inf_to_2.5} => {Class=malignant} sup: 0.25 conf: 0.00 len: 7, id: 3684, CAR {Clump_Thickness=-inf_to_4.5,Marginal_Adhesion=-inf_to_1.5,Single_Epi_Cell_Size=-inf_to_2.5,Bare_Nuclei=-inf_to_1.5,Cell_Size_Uniformity=-inf_to_1.5,Bland_Chromatin=-inf_to_2.5} => {Class=benign} sup: 0.25 conf: 0.00 len: 7, id: 3899, CAR {Clump_Thickness=-inf_to_4.5,Marginal_Adhesion=-inf_to_1.5,Single_Epi_Cell_Size=-inf_to_2.5,Bare_Nuclei=-inf_to_1.5,Cell_Size_Uniformity=-inf_to_1.5,Bland_Chromatin=-inf_to_2.5} => {Class=malignant} sup: 0.25 conf: 0.00 len: 7, id: 3900, CAR {Cell_Shape_Uniformity=-inf_to_1.5,Normal_Nucleoli=-inf_to_2.5,Clump_Thickness=-inf_to_4.5,Marginal_Adhesion=-inf_to_1.5,Cell_Size_Uniformity=-inf_to_1.5,Bland_Chromatin=-inf_to_2.5} => {Class=benign} sup: 0.25 conf: 0.00 len: 7, id: 3667, CAR {Cell_Shape_Uniformity=-inf_to_1.5,Normal_Nucleoli=-inf_to_2.5,Clump_Thickness=-inf_to_4.5,Marginal_Adhesion=-inf_to_1.5,Cell_Size_Uniformity=-inf_to_1.5,Bland_Chromatin=-inf_to_2.5} => {Class=malignant} sup: 0.25 conf: 0.00 len: 7, id: 3668, CAR {Cell_Shape_Uniformity=-inf_to_1.5,Normal_Nucleoli=-inf_to_2.5,Clump_Thickness=-inf_to_4.5,Single_Epi_Cell_Size=-inf_to_2.5,Bare_Nuclei=-inf_to_1.5,Bland_Chromatin=-inf_to_2.5} => {Class=benign} sup: 0.25 conf: 0.00 len: 7, id: 3739, CAR {Cell_Shape_Uniformity=-inf_to_1.5,Normal_Nucleoli=-inf_to_2.5,Clump_Thickness=-inf_to_4.5,Single_Epi_Cell_Size=-inf_to_2.5,Bare_Nuclei=-inf_to_1.5,Bland_Chromatin=-inf_to_2.5} => {Class=malignant} sup: 0.25 conf: 0.00 len: 7, id: 3740, CAR {Cell_Shape_Uniformity=-inf_to_1.5,Mitoses=-inf_to_1.5,Normal_Nucleoli=-inf_to_2.5,Clump_Thickness=-inf_to_4.5,Single_Epi_Cell_Size=-inf_to_2.5,Cell_Size_Uniformity=-inf_to_1.5,Bland_Chromatin=-inf_to_2.5} => {Class=benign} sup: 0.25 conf: 0.00 len: 8, id: 3693, CAR {Cell_Shape_Uniformity=-inf_to_1.5,Mitoses=-inf_to_1.5,Normal_Nucleoli=-inf_to_2.5,Clump_Thickness=-inf_to_4.5,Single_Epi_Cell_Size=-inf_to_2.5,Cell_Size_Uniformity=-inf_to_1.5,Bland_Chromatin=-inf_to_2.5} => {Class=malignant} sup: 0.25 conf: 0.00 len: 8, id: 3694, CAR {Cell_Shape_Uniformity=-inf_to_1.5,Mitoses=-inf_to_1.5,Normal_Nucleoli=-inf_to_2.5,Marginal_Adhesion=-inf_to_1.5,Single_Epi_Cell_Size=-inf_to_2.5,Bare_Nuclei=-inf_to_1.5,Cell_Size_Uniformity=-inf_to_1.5,Bland_Chromatin=-inf_to_2.5} => {Class=benign} sup: 0.25 conf: 0.00 len: 9, id: 3775, CAR {Cell_Shape_Uniformity=-inf_to_1.5,Mitoses=-inf_to_1.5,Normal_Nucleoli=-inf_to_2.5,Marginal_Adhesion=-inf_to_1.5,Single_Epi_Cell_Size=-inf_to_2.5,Bare_Nuclei=-inf_to_1.5,Cell_Size_Uniformity=-inf_to_1.5,Bland_Chromatin=-inf_to_2.5} => {Class=malignant} sup: 0.25 conf: 0.00 len: 9, id: 3776, CAR {Cell_Shape_Uniformity=-inf_to_1.5,Mitoses=-inf_to_1.5,Clump_Thickness=-inf_to_4.5,Bare_Nuclei=-inf_to_1.5,Cell_Size_Uniformity=-inf_to_1.5,Bland_Chromatin=-inf_to_2.5} => {Class=benign} sup: 0.25 conf: 0.00 len: 7, id: 3687, CAR {Cell_Shape_Uniformity=-inf_to_1.5,Mitoses=-inf_to_1.5,Clump_Thickness=-inf_to_4.5,Bare_Nuclei=-inf_to_1.5,Cell_Size_Uniformity=-inf_to_1.5,Bland_Chromatin=-inf_to_2.5} => {Class=malignant} sup: 0.25 conf: 0.00 len: 7, id: 3688, CAR {Cell_Shape_Uniformity=-inf_to_1.5,Normal_Nucleoli=-inf_to_2.5,Clump_Thickness=-inf_to_4.5,Marginal_Adhesion=-inf_to_1.5,Bare_Nuclei=-inf_to_1.5,Bland_Chromatin=-inf_to_2.5} => {Class=benign} sup: 0.25 conf: 0.00 len: 7, id: 3715, CAR {Cell_Shape_Uniformity=-inf_to_1.5,Normal_Nucleoli=-inf_to_2.5,Clump_Thickness=-inf_to_4.5,Marginal_Adhesion=-inf_to_1.5,Bare_Nuclei=-inf_to_1.5,Bland_Chromatin=-inf_to_2.5} => {Class=malignant} sup: 0.25 conf: 0.00 len: 7, id: 3716, CAR {Cell_Shape_Uniformity=-inf_to_1.5,Normal_Nucleoli=-inf_to_2.5,Clump_Thickness=-inf_to_4.5,Marginal_Adhesion=-inf_to_1.5,Single_Epi_Cell_Size=-inf_to_2.5,Bland_Chromatin=-inf_to_2.5} => {Class=benign} sup: 0.25 conf: 0.00 len: 7, id: 3723, CAR {Cell_Shape_Uniformity=-inf_to_1.5,Normal_Nucleoli=-inf_to_2.5,Clump_Thickness=-inf_to_4.5,Marginal_Adhesion=-inf_to_1.5,Single_Epi_Cell_Size=-inf_to_2.5,Bland_Chromatin=-inf_to_2.5} => {Class=malignant} sup: 0.25 conf: 0.00 len: 7, id: 3724, CAR {Normal_Nucleoli=-inf_to_2.5,Clump_Thickness=-inf_to_4.5,Marginal_Adhesion=-inf_to_1.5,Single_Epi_Cell_Size=-inf_to_2.5,Bare_Nuclei=-inf_to_1.5,Cell_Size_Uniformity=-inf_to_1.5,Bland_Chromatin=-inf_to_2.5} => {Class=benign} sup: 0.25 conf: 0.00 len: 8, id: 3901, CAR {Normal_Nucleoli=-inf_to_2.5,Clump_Thickness=-inf_to_4.5,Marginal_Adhesion=-inf_to_1.5,Single_Epi_Cell_Size=-inf_to_2.5,Bare_Nuclei=-inf_to_1.5,Cell_Size_Uniformity=-inf_to_1.5,Bland_Chromatin=-inf_to_2.5} => {Class=malignant} sup: 0.25 conf: 0.00 len: 8, id: 3902, CAR {Bland_Chromatin=3.5_to_inf,Cell_Shape_Uniformity=4.5_to_inf} => {Class=benign} sup: 0.24 conf: 0.00 len: 3, id: 3625, CAR {Bland_Chromatin=3.5_to_inf,Cell_Shape_Uniformity=4.5_to_inf} => {Class=malignant} sup: 0.24 conf: 0.00 len: 3, id: 3626, CAR {Cell_Shape_Uniformity=-inf_to_1.5,Mitoses=-inf_to_1.5,Clump_Thickness=-inf_to_4.5,Marginal_Adhesion=-inf_to_1.5,Cell_Size_Uniformity=-inf_to_1.5,Bland_Chromatin=-inf_to_2.5} => {Class=benign} sup: 0.24 conf: 0.00 len: 7, id: 3671, CAR {Cell_Shape_Uniformity=-inf_to_1.5,Mitoses=-inf_to_1.5,Clump_Thickness=-inf_to_4.5,Marginal_Adhesion=-inf_to_1.5,Cell_Size_Uniformity=-inf_to_1.5,Bland_Chromatin=-inf_to_2.5} => {Class=malignant} sup: 0.24 conf: 0.00 len: 7, id: 3672, CAR {Cell_Shape_Uniformity=-inf_to_1.5,Mitoses=-inf_to_1.5,Clump_Thickness=-inf_to_4.5,Single_Epi_Cell_Size=-inf_to_2.5,Bare_Nuclei=-inf_to_1.5,Bland_Chromatin=-inf_to_2.5} => {Class=benign} sup: 0.24 conf: 0.00 len: 7, id: 3743, CAR {Cell_Shape_Uniformity=-inf_to_1.5,Mitoses=-inf_to_1.5,Clump_Thickness=-inf_to_4.5,Single_Epi_Cell_Size=-inf_to_2.5,Bare_Nuclei=-inf_to_1.5,Bland_Chromatin=-inf_to_2.5} => {Class=malignant} sup: 0.24 conf: 0.00 len: 7, id: 3744, CAR {Cell_Shape_Uniformity=-inf_to_1.5,Mitoses=-inf_to_1.5,Clump_Thickness=-inf_to_4.5,Marginal_Adhesion=-inf_to_1.5,Bare_Nuclei=-inf_to_1.5,Bland_Chromatin=-inf_to_2.5} => {Class=benign} sup: 0.24 conf: 0.00 len: 7, id: 3719, CAR {Cell_Shape_Uniformity=-inf_to_1.5,Mitoses=-inf_to_1.5,Clump_Thickness=-inf_to_4.5,Marginal_Adhesion=-inf_to_1.5,Bare_Nuclei=-inf_to_1.5,Bland_Chromatin=-inf_to_2.5} => {Class=malignant} sup: 0.24 conf: 0.00 len: 7, id: 3720, CAR {Cell_Shape_Uniformity=-inf_to_1.5,Mitoses=-inf_to_1.5,Clump_Thickness=-inf_to_4.5,Marginal_Adhesion=-inf_to_1.5,Single_Epi_Cell_Size=-inf_to_2.5,Bland_Chromatin=-inf_to_2.5} => {Class=benign} sup: 0.24 conf: 0.00 len: 7, id: 3727, CAR {Cell_Shape_Uniformity=-inf_to_1.5,Mitoses=-inf_to_1.5,Clump_Thickness=-inf_to_4.5,Marginal_Adhesion=-inf_to_1.5,Single_Epi_Cell_Size=-inf_to_2.5,Bland_Chromatin=-inf_to_2.5} => {Class=malignant} sup: 0.24 conf: 0.00 len: 7, id: 3728, CAR {Cell_Shape_Uniformity=-inf_to_1.5,Mitoses=-inf_to_1.5,Normal_Nucleoli=-inf_to_2.5,Clump_Thickness=-inf_to_4.5,Bare_Nuclei=-inf_to_1.5,Cell_Size_Uniformity=-inf_to_1.5,Bland_Chromatin=-inf_to_2.5} => {Class=benign} sup: 0.24 conf: 0.00 len: 8, id: 3685, CAR {Cell_Shape_Uniformity=-inf_to_1.5,Mitoses=-inf_to_1.5,Normal_Nucleoli=-inf_to_2.5,Clump_Thickness=-inf_to_4.5,Bare_Nuclei=-inf_to_1.5,Cell_Size_Uniformity=-inf_to_1.5,Bland_Chromatin=-inf_to_2.5} => {Class=malignant} sup: 0.24 conf: 0.00 len: 8, id: 3686, CAR {Mitoses=-inf_to_1.5,Clump_Thickness=-inf_to_4.5,Marginal_Adhesion=-inf_to_1.5,Single_Epi_Cell_Size=-inf_to_2.5,Bare_Nuclei=-inf_to_1.5,Cell_Size_Uniformity=-inf_to_1.5,Bland_Chromatin=-inf_to_2.5} => {Class=benign} sup: 0.24 conf: 0.00 len: 8, id: 3905, CAR {Mitoses=-inf_to_1.5,Clump_Thickness=-inf_to_4.5,Marginal_Adhesion=-inf_to_1.5,Single_Epi_Cell_Size=-inf_to_2.5,Bare_Nuclei=-inf_to_1.5,Cell_Size_Uniformity=-inf_to_1.5,Bland_Chromatin=-inf_to_2.5} => {Class=malignant} sup: 0.24 conf: 0.00 len: 8, id: 3906, CAR {Cell_Shape_Uniformity=-inf_to_1.5,Mitoses=-inf_to_1.5,Normal_Nucleoli=-inf_to_2.5,Clump_Thickness=-inf_to_4.5,Marginal_Adhesion=-inf_to_1.5,Cell_Size_Uniformity=-inf_to_1.5,Bland_Chromatin=-inf_to_2.5} => {Class=benign} sup: 0.24 conf: 0.00 len: 8, id: 3669, CAR {Cell_Shape_Uniformity=-inf_to_1.5,Mitoses=-inf_to_1.5,Normal_Nucleoli=-inf_to_2.5,Clump_Thickness=-inf_to_4.5,Marginal_Adhesion=-inf_to_1.5,Cell_Size_Uniformity=-inf_to_1.5,Bland_Chromatin=-inf_to_2.5} => {Class=malignant} sup: 0.24 conf: 0.00 len: 8, id: 3670, CAR {Cell_Shape_Uniformity=-inf_to_1.5,Mitoses=-inf_to_1.5,Normal_Nucleoli=-inf_to_2.5,Clump_Thickness=-inf_to_4.5,Single_Epi_Cell_Size=-inf_to_2.5,Bare_Nuclei=-inf_to_1.5,Bland_Chromatin=-inf_to_2.5} => {Class=benign} sup: 0.24 conf: 0.00 len: 8, id: 3741, CAR {Cell_Shape_Uniformity=-inf_to_1.5,Mitoses=-inf_to_1.5,Normal_Nucleoli=-inf_to_2.5,Clump_Thickness=-inf_to_4.5,Single_Epi_Cell_Size=-inf_to_2.5,Bare_Nuclei=-inf_to_1.5,Bland_Chromatin=-inf_to_2.5} => {Class=malignant} sup: 0.24 conf: 0.00 len: 8, id: 3742, CAR {Single_Epi_Cell_Size=3.5_to_inf,Bland_Chromatin=3.5_to_inf} => {Class=benign} sup: 0.24 conf: 0.00 len: 3, id: 3629, CAR {Single_Epi_Cell_Size=3.5_to_inf,Bland_Chromatin=3.5_to_inf} => {Class=malignant} sup: 0.24 conf: 0.00 len: 3, id: 3630, CAR {Cell_Shape_Uniformity=-inf_to_1.5,Mitoses=-inf_to_1.5,Normal_Nucleoli=-inf_to_2.5,Clump_Thickness=-inf_to_4.5,Marginal_Adhesion=-inf_to_1.5,Bare_Nuclei=-inf_to_1.5,Bland_Chromatin=-inf_to_2.5} => {Class=benign} sup: 0.24 conf: 0.00 len: 8, id: 3717, CAR {Cell_Shape_Uniformity=-inf_to_1.5,Mitoses=-inf_to_1.5,Normal_Nucleoli=-inf_to_2.5,Clump_Thickness=-inf_to_4.5,Marginal_Adhesion=-inf_to_1.5,Bare_Nuclei=-inf_to_1.5,Bland_Chromatin=-inf_to_2.5} => {Class=malignant} sup: 0.24 conf: 0.00 len: 8, id: 3718, CAR {Cell_Shape_Uniformity=-inf_to_1.5,Mitoses=-inf_to_1.5,Normal_Nucleoli=-inf_to_2.5,Clump_Thickness=-inf_to_4.5,Marginal_Adhesion=-inf_to_1.5,Single_Epi_Cell_Size=-inf_to_2.5,Bland_Chromatin=-inf_to_2.5} => {Class=benign} sup: 0.24 conf: 0.00 len: 8, id: 3725, CAR {Cell_Shape_Uniformity=-inf_to_1.5,Mitoses=-inf_to_1.5,Normal_Nucleoli=-inf_to_2.5,Clump_Thickness=-inf_to_4.5,Marginal_Adhesion=-inf_to_1.5,Single_Epi_Cell_Size=-inf_to_2.5,Bland_Chromatin=-inf_to_2.5} => {Class=malignant} sup: 0.24 conf: 0.00 len: 8, id: 3726, CAR {Mitoses=-inf_to_1.5,Normal_Nucleoli=-inf_to_2.5,Clump_Thickness=-inf_to_4.5,Marginal_Adhesion=-inf_to_1.5,Single_Epi_Cell_Size=-inf_to_2.5,Bare_Nuclei=-inf_to_1.5,Cell_Size_Uniformity=-inf_to_1.5,Bland_Chromatin=-inf_to_2.5} => {Class=benign} sup: 0.24 conf: 0.00 len: 9, id: 3903, CAR {Mitoses=-inf_to_1.5,Normal_Nucleoli=-inf_to_2.5,Clump_Thickness=-inf_to_4.5,Marginal_Adhesion=-inf_to_1.5,Single_Epi_Cell_Size=-inf_to_2.5,Bare_Nuclei=-inf_to_1.5,Cell_Size_Uniformity=-inf_to_1.5,Bland_Chromatin=-inf_to_2.5} => {Class=malignant} sup: 0.24 conf: 0.00 len: 9, id: 3904, CAR {Clump_Thickness=4.5_to_6.5} => {Class=benign} sup: 0.24 conf: 0.00 len: 2, id: 3599, CAR {Clump_Thickness=4.5_to_6.5} => {Class=malignant} sup: 0.24 conf: 0.00 len: 2, id: 3600, CAR {Cell_Size_Uniformity=4.5_to_inf,Cell_Shape_Uniformity=4.5_to_inf} => {Class=benign} sup: 0.24 conf: 0.00 len: 3, id: 3613, CAR {Cell_Size_Uniformity=4.5_to_inf,Cell_Shape_Uniformity=4.5_to_inf} => {Class=malignant} sup: 0.24 conf: 0.00 len: 3, id: 3614, CAR {Cell_Shape_Uniformity=-inf_to_1.5,Clump_Thickness=-inf_to_4.5,Marginal_Adhesion=-inf_to_1.5,Single_Epi_Cell_Size=-inf_to_2.5,Cell_Size_Uniformity=-inf_to_1.5,Bland_Chromatin=-inf_to_2.5} => {Class=benign} sup: 0.24 conf: 0.00 len: 7, id: 3659, CAR {Cell_Shape_Uniformity=-inf_to_1.5,Clump_Thickness=-inf_to_4.5,Marginal_Adhesion=-inf_to_1.5,Single_Epi_Cell_Size=-inf_to_2.5,Cell_Size_Uniformity=-inf_to_1.5,Bland_Chromatin=-inf_to_2.5} => {Class=malignant} sup: 0.24 conf: 0.00 len: 7, id: 3660, CAR {Cell_Shape_Uniformity=-inf_to_1.5,Clump_Thickness=-inf_to_4.5,Single_Epi_Cell_Size=-inf_to_2.5,Bare_Nuclei=-inf_to_1.5,Cell_Size_Uniformity=-inf_to_1.5,Bland_Chromatin=-inf_to_2.5} => {Class=benign} sup: 0.24 conf: 0.00 len: 7, id: 3675, CAR {Cell_Shape_Uniformity=-inf_to_1.5,Clump_Thickness=-inf_to_4.5,Single_Epi_Cell_Size=-inf_to_2.5,Bare_Nuclei=-inf_to_1.5,Cell_Size_Uniformity=-inf_to_1.5,Bland_Chromatin=-inf_to_2.5} => {Class=malignant} sup: 0.24 conf: 0.00 len: 7, id: 3676, CAR {Cell_Shape_Uniformity=-inf_to_1.5,Clump_Thickness=-inf_to_4.5,Marginal_Adhesion=-inf_to_1.5,Bare_Nuclei=-inf_to_1.5,Cell_Size_Uniformity=-inf_to_1.5,Bland_Chromatin=-inf_to_2.5} => {Class=benign} sup: 0.23 conf: 0.00 len: 7, id: 3643, CAR {Cell_Shape_Uniformity=-inf_to_1.5,Clump_Thickness=-inf_to_4.5,Marginal_Adhesion=-inf_to_1.5,Bare_Nuclei=-inf_to_1.5,Cell_Size_Uniformity=-inf_to_1.5,Bland_Chromatin=-inf_to_2.5} => {Class=malignant} sup: 0.23 conf: 0.00 len: 7, id: 3644, CAR {Cell_Shape_Uniformity=-inf_to_1.5,Clump_Thickness=-inf_to_4.5,Marginal_Adhesion=-inf_to_1.5,Single_Epi_Cell_Size=-inf_to_2.5,Bare_Nuclei=-inf_to_1.5,Bland_Chromatin=-inf_to_2.5} => {Class=benign} sup: 0.23 conf: 0.00 len: 7, id: 3707, CAR {Cell_Shape_Uniformity=-inf_to_1.5,Clump_Thickness=-inf_to_4.5,Marginal_Adhesion=-inf_to_1.5,Single_Epi_Cell_Size=-inf_to_2.5,Bare_Nuclei=-inf_to_1.5,Bland_Chromatin=-inf_to_2.5} => {Class=malignant} sup: 0.23 conf: 0.00 len: 7, id: 3708, CAR {Cell_Shape_Uniformity=-inf_to_1.5,Normal_Nucleoli=-inf_to_2.5,Clump_Thickness=-inf_to_4.5,Marginal_Adhesion=-inf_to_1.5,Single_Epi_Cell_Size=-inf_to_2.5,Cell_Size_Uniformity=-inf_to_1.5,Bland_Chromatin=-inf_to_2.5} => {Class=benign} sup: 0.23 conf: 0.00 len: 8, id: 3661, CAR {Cell_Shape_Uniformity=-inf_to_1.5,Normal_Nucleoli=-inf_to_2.5,Clump_Thickness=-inf_to_4.5,Marginal_Adhesion=-inf_to_1.5,Single_Epi_Cell_Size=-inf_to_2.5,Cell_Size_Uniformity=-inf_to_1.5,Bland_Chromatin=-inf_to_2.5} => {Class=malignant} sup: 0.23 conf: 0.00 len: 8, id: 3662, CAR {Cell_Shape_Uniformity=-inf_to_1.5,Normal_Nucleoli=-inf_to_2.5,Clump_Thickness=-inf_to_4.5,Single_Epi_Cell_Size=-inf_to_2.5,Bare_Nuclei=-inf_to_1.5,Cell_Size_Uniformity=-inf_to_1.5,Bland_Chromatin=-inf_to_2.5} => {Class=benign} sup: 0.23 conf: 0.00 len: 8, id: 3677, CAR {Cell_Shape_Uniformity=-inf_to_1.5,Normal_Nucleoli=-inf_to_2.5,Clump_Thickness=-inf_to_4.5,Single_Epi_Cell_Size=-inf_to_2.5,Bare_Nuclei=-inf_to_1.5,Cell_Size_Uniformity=-inf_to_1.5,Bland_Chromatin=-inf_to_2.5} => {Class=malignant} sup: 0.23 conf: 0.00 len: 8, id: 3678, CAR {Clump_Thickness=6.5_to_inf} => {Class=benign} sup: 0.23 conf: 0.00 len: 2, id: 3597, CAR {Clump_Thickness=6.5_to_inf} => {Class=malignant} sup: 0.23 conf: 0.00 len: 2, id: 3598, CAR {Cell_Shape_Uniformity=1.5_to_4.5} => {Class=benign} sup: 0.23 conf: 0.00 len: 2, id: 3595, CAR {Cell_Shape_Uniformity=1.5_to_4.5} => {Class=malignant} sup: 0.23 conf: 0.00 len: 2, id: 3596, CAR {Cell_Shape_Uniformity=-inf_to_1.5,Normal_Nucleoli=-inf_to_2.5,Clump_Thickness=-inf_to_4.5,Marginal_Adhesion=-inf_to_1.5,Bare_Nuclei=-inf_to_1.5,Cell_Size_Uniformity=-inf_to_1.5,Bland_Chromatin=-inf_to_2.5} => {Class=benign} sup: 0.23 conf: 0.00 len: 8, id: 3653, CAR {Cell_Shape_Uniformity=-inf_to_1.5,Normal_Nucleoli=-inf_to_2.5,Clump_Thickness=-inf_to_4.5,Marginal_Adhesion=-inf_to_1.5,Bare_Nuclei=-inf_to_1.5,Cell_Size_Uniformity=-inf_to_1.5,Bland_Chromatin=-inf_to_2.5} => {Class=malignant} sup: 0.23 conf: 0.00 len: 8, id: 3654, CAR {Cell_Shape_Uniformity=-inf_to_1.5,Mitoses=-inf_to_1.5,Clump_Thickness=-inf_to_4.5,Marginal_Adhesion=-inf_to_1.5,Single_Epi_Cell_Size=-inf_to_2.5,Cell_Size_Uniformity=-inf_to_1.5,Bland_Chromatin=-inf_to_2.5} => {Class=benign} sup: 0.23 conf: 0.00 len: 8, id: 3665, CAR {Cell_Shape_Uniformity=-inf_to_1.5,Mitoses=-inf_to_1.5,Clump_Thickness=-inf_to_4.5,Marginal_Adhesion=-inf_to_1.5,Single_Epi_Cell_Size=-inf_to_2.5,Cell_Size_Uniformity=-inf_to_1.5,Bland_Chromatin=-inf_to_2.5} => {Class=malignant} sup: 0.23 conf: 0.00 len: 8, id: 3666, CAR {Cell_Shape_Uniformity=-inf_to_1.5,Mitoses=-inf_to_1.5,Clump_Thickness=-inf_to_4.5,Single_Epi_Cell_Size=-inf_to_2.5,Bare_Nuclei=-inf_to_1.5,Cell_Size_Uniformity=-inf_to_1.5,Bland_Chromatin=-inf_to_2.5} => {Class=benign} sup: 0.23 conf: 0.00 len: 8, id: 3681, CAR {Cell_Shape_Uniformity=-inf_to_1.5,Mitoses=-inf_to_1.5,Clump_Thickness=-inf_to_4.5,Single_Epi_Cell_Size=-inf_to_2.5,Bare_Nuclei=-inf_to_1.5,Cell_Size_Uniformity=-inf_to_1.5,Bland_Chromatin=-inf_to_2.5} => {Class=malignant} sup: 0.23 conf: 0.00 len: 8, id: 3682, CAR {Cell_Shape_Uniformity=-inf_to_1.5,Normal_Nucleoli=-inf_to_2.5,Clump_Thickness=-inf_to_4.5,Marginal_Adhesion=-inf_to_1.5,Single_Epi_Cell_Size=-inf_to_2.5,Bare_Nuclei=-inf_to_1.5,Bland_Chromatin=-inf_to_2.5} => {Class=benign} sup: 0.23 conf: 0.00 len: 8, id: 3709, CAR {Cell_Shape_Uniformity=-inf_to_1.5,Normal_Nucleoli=-inf_to_2.5,Clump_Thickness=-inf_to_4.5,Marginal_Adhesion=-inf_to_1.5,Single_Epi_Cell_Size=-inf_to_2.5,Bare_Nuclei=-inf_to_1.5,Bland_Chromatin=-inf_to_2.5} => {Class=malignant} sup: 0.23 conf: 0.00 len: 8, id: 3710, CAR {Cell_Size_Uniformity=4.5_to_inf,Bland_Chromatin=3.5_to_inf} => {Class=benign} sup: 0.23 conf: 0.00 len: 3, id: 3619, CAR {Cell_Size_Uniformity=4.5_to_inf,Bland_Chromatin=3.5_to_inf} => {Class=malignant} sup: 0.23 conf: 0.00 len: 3, id: 3620, CAR {Cell_Shape_Uniformity=-inf_to_1.5,Mitoses=-inf_to_1.5,Clump_Thickness=-inf_to_4.5,Marginal_Adhesion=-inf_to_1.5,Bare_Nuclei=-inf_to_1.5,Cell_Size_Uniformity=-inf_to_1.5,Bland_Chromatin=-inf_to_2.5} => {Class=benign} sup: 0.23 conf: 0.00 len: 8, id: 3657, CAR {Cell_Shape_Uniformity=-inf_to_1.5,Mitoses=-inf_to_1.5,Clump_Thickness=-inf_to_4.5,Marginal_Adhesion=-inf_to_1.5,Bare_Nuclei=-inf_to_1.5,Cell_Size_Uniformity=-inf_to_1.5,Bland_Chromatin=-inf_to_2.5} => {Class=malignant} sup: 0.23 conf: 0.00 len: 8, id: 3658, CAR {Cell_Shape_Uniformity=-inf_to_1.5,Mitoses=-inf_to_1.5,Clump_Thickness=-inf_to_4.5,Marginal_Adhesion=-inf_to_1.5,Single_Epi_Cell_Size=-inf_to_2.5,Bare_Nuclei=-inf_to_1.5,Bland_Chromatin=-inf_to_2.5} => {Class=benign} sup: 0.23 conf: 0.00 len: 8, id: 3713, CAR {Cell_Shape_Uniformity=-inf_to_1.5,Mitoses=-inf_to_1.5,Clump_Thickness=-inf_to_4.5,Marginal_Adhesion=-inf_to_1.5,Single_Epi_Cell_Size=-inf_to_2.5,Bare_Nuclei=-inf_to_1.5,Bland_Chromatin=-inf_to_2.5} => {Class=malignant} sup: 0.23 conf: 0.00 len: 8, id: 3714, CAR {Cell_Shape_Uniformity=-inf_to_1.5,Mitoses=-inf_to_1.5,Normal_Nucleoli=-inf_to_2.5,Clump_Thickness=-inf_to_4.5,Marginal_Adhesion=-inf_to_1.5,Single_Epi_Cell_Size=-inf_to_2.5,Cell_Size_Uniformity=-inf_to_1.5,Bland_Chromatin=-inf_to_2.5} => {Class=benign} sup: 0.23 conf: 0.00 len: 9, id: 3663, CAR {Cell_Shape_Uniformity=-inf_to_1.5,Mitoses=-inf_to_1.5,Normal_Nucleoli=-inf_to_2.5,Clump_Thickness=-inf_to_4.5,Marginal_Adhesion=-inf_to_1.5,Single_Epi_Cell_Size=-inf_to_2.5,Cell_Size_Uniformity=-inf_to_1.5,Bland_Chromatin=-inf_to_2.5} => {Class=malignant} sup: 0.23 conf: 0.00 len: 9, id: 3664, CAR {Cell_Shape_Uniformity=-inf_to_1.5,Mitoses=-inf_to_1.5,Normal_Nucleoli=-inf_to_2.5,Clump_Thickness=-inf_to_4.5,Single_Epi_Cell_Size=-inf_to_2.5,Bare_Nuclei=-inf_to_1.5,Cell_Size_Uniformity=-inf_to_1.5,Bland_Chromatin=-inf_to_2.5} => {Class=benign} sup: 0.23 conf: 0.00 len: 9, id: 3679, CAR {Cell_Shape_Uniformity=-inf_to_1.5,Mitoses=-inf_to_1.5,Normal_Nucleoli=-inf_to_2.5,Clump_Thickness=-inf_to_4.5,Single_Epi_Cell_Size=-inf_to_2.5,Bare_Nuclei=-inf_to_1.5,Cell_Size_Uniformity=-inf_to_1.5,Bland_Chromatin=-inf_to_2.5} => {Class=malignant} sup: 0.23 conf: 0.00 len: 9, id: 3680, CAR {Normal_Nucleoli=2.5_to_9.5} => {Class=benign} sup: 0.22 conf: 0.00 len: 2, id: 3593, CAR {Normal_Nucleoli=2.5_to_9.5} => {Class=malignant} sup: 0.22 conf: 0.00 len: 2, id: 3594, CAR {Cell_Shape_Uniformity=-inf_to_1.5,Mitoses=-inf_to_1.5,Normal_Nucleoli=-inf_to_2.5,Clump_Thickness=-inf_to_4.5,Marginal_Adhesion=-inf_to_1.5,Bare_Nuclei=-inf_to_1.5,Cell_Size_Uniformity=-inf_to_1.5,Bland_Chromatin=-inf_to_2.5} => {Class=benign} sup: 0.22 conf: 0.00 len: 9, id: 3655, CAR {Cell_Shape_Uniformity=-inf_to_1.5,Mitoses=-inf_to_1.5,Normal_Nucleoli=-inf_to_2.5,Clump_Thickness=-inf_to_4.5,Marginal_Adhesion=-inf_to_1.5,Bare_Nuclei=-inf_to_1.5,Cell_Size_Uniformity=-inf_to_1.5,Bland_Chromatin=-inf_to_2.5} => {Class=malignant} sup: 0.22 conf: 0.00 len: 9, id: 3656, CAR {Cell_Shape_Uniformity=-inf_to_1.5,Mitoses=-inf_to_1.5,Normal_Nucleoli=-inf_to_2.5,Clump_Thickness=-inf_to_4.5,Marginal_Adhesion=-inf_to_1.5,Single_Epi_Cell_Size=-inf_to_2.5,Bare_Nuclei=-inf_to_1.5,Bland_Chromatin=-inf_to_2.5} => {Class=benign} sup: 0.22 conf: 0.00 len: 9, id: 3711, CAR {Cell_Shape_Uniformity=-inf_to_1.5,Mitoses=-inf_to_1.5,Normal_Nucleoli=-inf_to_2.5,Clump_Thickness=-inf_to_4.5,Marginal_Adhesion=-inf_to_1.5,Single_Epi_Cell_Size=-inf_to_2.5,Bare_Nuclei=-inf_to_1.5,Bland_Chromatin=-inf_to_2.5} => {Class=malignant} sup: 0.22 conf: 0.00 len: 9, id: 3712, CAR {Bland_Chromatin=3.5_to_inf,Bare_Nuclei=5.5_to_inf} => {Class=benign} sup: 0.22 conf: 0.00 len: 3, id: 3609, CAR {Bland_Chromatin=3.5_to_inf,Bare_Nuclei=5.5_to_inf} => {Class=malignant} sup: 0.22 conf: 0.00 len: 3, id: 3610, CAR {Single_Epi_Cell_Size=3.5_to_inf,Cell_Size_Uniformity=4.5_to_inf} => {Class=benign} sup: 0.22 conf: 0.00 len: 3, id: 3617, CAR {Single_Epi_Cell_Size=3.5_to_inf,Cell_Size_Uniformity=4.5_to_inf} => {Class=malignant} sup: 0.22 conf: 0.00 len: 3, id: 3618, CAR {Single_Epi_Cell_Size=3.5_to_inf,Cell_Shape_Uniformity=4.5_to_inf} => {Class=benign} sup: 0.22 conf: 0.00 len: 3, id: 3623, CAR {Single_Epi_Cell_Size=3.5_to_inf,Cell_Shape_Uniformity=4.5_to_inf} => {Class=malignant} sup: 0.22 conf: 0.00 len: 3, id: 3624, CAR {Cell_Shape_Uniformity=-inf_to_1.5,Clump_Thickness=-inf_to_4.5,Marginal_Adhesion=-inf_to_1.5,Single_Epi_Cell_Size=-inf_to_2.5,Bare_Nuclei=-inf_to_1.5,Cell_Size_Uniformity=-inf_to_1.5,Bland_Chromatin=-inf_to_2.5} => {Class=benign} sup: 0.22 conf: 0.00 len: 8, id: 3645, CAR {Cell_Shape_Uniformity=-inf_to_1.5,Clump_Thickness=-inf_to_4.5,Marginal_Adhesion=-inf_to_1.5,Single_Epi_Cell_Size=-inf_to_2.5,Bare_Nuclei=-inf_to_1.5,Cell_Size_Uniformity=-inf_to_1.5,Bland_Chromatin=-inf_to_2.5} => {Class=malignant} sup: 0.22 conf: 0.00 len: 8, id: 3646, CAR {Cell_Shape_Uniformity=-inf_to_1.5,Normal_Nucleoli=-inf_to_2.5,Clump_Thickness=-inf_to_4.5,Marginal_Adhesion=-inf_to_1.5,Single_Epi_Cell_Size=-inf_to_2.5,Bare_Nuclei=-inf_to_1.5,Cell_Size_Uniformity=-inf_to_1.5,Bland_Chromatin=-inf_to_2.5} => {Class=benign} sup: 0.22 conf: 0.00 len: 9, id: 3647, CAR {Cell_Shape_Uniformity=-inf_to_1.5,Normal_Nucleoli=-inf_to_2.5,Clump_Thickness=-inf_to_4.5,Marginal_Adhesion=-inf_to_1.5,Single_Epi_Cell_Size=-inf_to_2.5,Bare_Nuclei=-inf_to_1.5,Cell_Size_Uniformity=-inf_to_1.5,Bland_Chromatin=-inf_to_2.5} => {Class=malignant} sup: 0.22 conf: 0.00 len: 9, id: 3648, CAR {Bland_Chromatin=2.5_to_3.5} => {Class=benign} sup: 0.21 conf: 0.00 len: 2, id: 3591, CAR {Bland_Chromatin=2.5_to_3.5} => {Class=malignant} sup: 0.21 conf: 0.00 len: 2, id: 3592, CAR {Cell_Shape_Uniformity=-inf_to_1.5,Mitoses=-inf_to_1.5,Clump_Thickness=-inf_to_4.5,Marginal_Adhesion=-inf_to_1.5,Single_Epi_Cell_Size=-inf_to_2.5,Bare_Nuclei=-inf_to_1.5,Cell_Size_Uniformity=-inf_to_1.5,Bland_Chromatin=-inf_to_2.5} => {Class=benign} sup: 0.21 conf: 0.00 len: 9, id: 3651, CAR {Cell_Shape_Uniformity=-inf_to_1.5,Mitoses=-inf_to_1.5,Clump_Thickness=-inf_to_4.5,Marginal_Adhesion=-inf_to_1.5,Single_Epi_Cell_Size=-inf_to_2.5,Bare_Nuclei=-inf_to_1.5,Cell_Size_Uniformity=-inf_to_1.5,Bland_Chromatin=-inf_to_2.5} => {Class=malignant} sup: 0.21 conf: 0.00 len: 9, id: 3652, CAR {Bland_Chromatin=3.5_to_inf,Marginal_Adhesion=3.5_to_inf} => {Class=benign} sup: 0.21 conf: 0.00 len: 3, id: 3605, CAR {Bland_Chromatin=3.5_to_inf,Marginal_Adhesion=3.5_to_inf} => {Class=malignant} sup: 0.21 conf: 0.00 len: 3, id: 3606, CAR {Cell_Size_Uniformity=4.5_to_inf,Bland_Chromatin=3.5_to_inf,Cell_Shape_Uniformity=4.5_to_inf} => {Class=benign} sup: 0.21 conf: 0.00 len: 4, id: 3615, CAR {Cell_Size_Uniformity=4.5_to_inf,Bland_Chromatin=3.5_to_inf,Cell_Shape_Uniformity=4.5_to_inf} => {Class=malignant} sup: 0.21 conf: 0.00 len: 4, id: 3616, CAR {Cell_Shape_Uniformity=-inf_to_1.5,Mitoses=-inf_to_1.5,Normal_Nucleoli=-inf_to_2.5,Clump_Thickness=-inf_to_4.5,Marginal_Adhesion=-inf_to_1.5,Single_Epi_Cell_Size=-inf_to_2.5,Bare_Nuclei=-inf_to_1.5,Cell_Size_Uniformity=-inf_to_1.5,Bland_Chromatin=-inf_to_2.5} => {Class=benign} sup: 0.21 conf: 0.00 len: 10, id: 3649, CAR {Cell_Shape_Uniformity=-inf_to_1.5,Mitoses=-inf_to_1.5,Normal_Nucleoli=-inf_to_2.5,Clump_Thickness=-inf_to_4.5,Marginal_Adhesion=-inf_to_1.5,Single_Epi_Cell_Size=-inf_to_2.5,Bare_Nuclei=-inf_to_1.5,Cell_Size_Uniformity=-inf_to_1.5,Bland_Chromatin=-inf_to_2.5} => {Class=malignant} sup: 0.21 conf: 0.00 len: 10, id: 3650, CAR {Mitoses=-inf_to_1.5,Clump_Thickness=4.5_to_6.5} => {Class=benign} sup: 0.20 conf: 0.00 len: 3, id: 3601, CAR {Mitoses=-inf_to_1.5,Clump_Thickness=4.5_to_6.5} => {Class=malignant} sup: 0.20 conf: 0.00 len: 3, id: 3602, CAR {Cell_Size_Uniformity=1.5_to_4.5} => {Class=benign} sup: 0.20 conf: 0.00 len: 2, id: 3589, CAR {Cell_Size_Uniformity=1.5_to_4.5} => {Class=malignant} sup: 0.20 conf: 0.00 len: 2, id: 3590]\n"
          ]
        }
      ]
    },
    {
      "cell_type": "code",
      "source": [
        "ids = IDS()\n",
        "ids.fit(class_association_rules=cars, quant_dataframe=quant_dataframe_train, random_seed=5)"
      ],
      "metadata": {
        "colab": {
          "base_uri": "https://localhost:8080/"
        },
        "id": "qoux9X1bqZXW",
        "outputId": "c71d3744-2405-4e28-b9d9-36839e664cba"
      },
      "execution_count": 12,
      "outputs": [
        {
          "output_type": "stream",
          "name": "stderr",
          "text": [
            "/content/pyIDS/pyids/algorithms/ids_classifier.py:58: FutureWarning: iteritems is deprecated and will be removed in a future version. Use .items instead.\n",
            "  for name, value in row.iteritems():\n"
          ]
        },
        {
          "output_type": "execute_result",
          "data": {
            "text/plain": [
              "<pyids.algorithms.ids.IDS at 0x7c222c37c730>"
            ]
          },
          "metadata": {},
          "execution_count": 12
        }
      ]
    },
    {
      "cell_type": "code",
      "source": [
        "ids.score_interpretability_metrics(quant_dataframe_test)"
      ],
      "metadata": {
        "colab": {
          "base_uri": "https://localhost:8080/"
        },
        "id": "HaxA75ttuhZY",
        "outputId": "144acef3-6b71-437e-95ab-90bd75d9467b"
      },
      "execution_count": 13,
      "outputs": [
        {
          "output_type": "execute_result",
          "data": {
            "text/plain": [
              "{'fraction_overlap': 0.1375,\n",
              " 'fraction_classes': 1.0,\n",
              " 'fraction_uncovered': 0.23571428571428577,\n",
              " 'average_rule_width': 2.875,\n",
              " 'ruleset_length': 16}"
            ]
          },
          "metadata": {},
          "execution_count": 13
        }
      ]
    },
    {
      "cell_type": "code",
      "source": [
        "ids.score_auc(quant_dataframe_test)"
      ],
      "metadata": {
        "colab": {
          "base_uri": "https://localhost:8080/"
        },
        "id": "cLiuhTSp1vxv",
        "outputId": "3f1b9642-66b5-4e05-8176-e0a6c156fb19"
      },
      "execution_count": 14,
      "outputs": [
        {
          "output_type": "stream",
          "name": "stderr",
          "text": [
            "/content/pyIDS/pyids/algorithms/ids_classifier.py:58: FutureWarning: iteritems is deprecated and will be removed in a future version. Use .items instead.\n",
            "  for name, value in row.iteritems():\n",
            "/content/pyIDS/pyids/algorithms/ids_classifier.py:91: FutureWarning: iteritems is deprecated and will be removed in a future version. Use .items instead.\n",
            "  for name, value in row.iteritems():\n"
          ]
        },
        {
          "output_type": "execute_result",
          "data": {
            "text/plain": [
              "0.9836257309941521"
            ]
          },
          "metadata": {},
          "execution_count": 14
        }
      ]
    },
    {
      "cell_type": "markdown",
      "metadata": {
        "id": "VFi01fuSKUSY"
      },
      "source": [
        "## Parameter tuning"
      ]
    },
    {
      "cell_type": "code",
      "source": [
        "from pyids.model_selection import CoordinateAscent\n",
        "from pyids.algorithms.ids import IDS\n",
        "from pyids.algorithms import mine_CARs, mine_IDS_ruleset\n",
        "\n",
        "from pyarc.qcba.data_structures import QuantitativeDataFrame\n",
        "\n",
        "import pandas as pd\n",
        "import numpy as np\n",
        "\n",
        "df_iris = pd.read_csv(\"/content/transformed_cell_samples1.csv\")\n",
        "quant_df = QuantitativeDataFrame(df_iris)\n",
        "cars = mine_CARs(df_iris, 20)\n",
        "\n",
        "\n",
        "interpretability_bounds = dict(\n",
        "    fraction_overlap=0.1,\n",
        "    fraction_classes=1,\n",
        "    fraction_uncovered=0.15,\n",
        "    average_rule_width=8,\n",
        "    ruleset_length=10\n",
        ")\n",
        "\n",
        "def is_solution_interpretable(metrics):\n",
        "    print(metrics)\n",
        "    return (\n",
        "        metrics[\"fraction_overlap\"] <= interpretability_bounds[\"fraction_overlap\"] and\n",
        "        metrics[\"fraction_classes\"] >= interpretability_bounds[\"fraction_classes\"] and\n",
        "        metrics[\"fraction_uncovered\"] <= interpretability_bounds[\"fraction_uncovered\"] and\n",
        "        metrics[\"average_rule_width\"] <= interpretability_bounds[\"average_rule_width\"] and\n",
        "        metrics[\"ruleset_length\"] <= interpretability_bounds[\"ruleset_length\"]\n",
        "    )\n",
        "\n",
        "def solution_interpretability_distance(metrics):\n",
        "    distance_vector = np.array([\n",
        "        max(metrics[\"fraction_overlap\"] - interpretability_bounds[\"fraction_overlap\"], 0),\n",
        "        max(interpretability_bounds[\"fraction_classes\"] - metrics[\"fraction_classes\"], 0),\n",
        "        max(metrics[\"fraction_uncovered\"] - interpretability_bounds[\"fraction_uncovered\"], 0),\n",
        "        max(metrics[\"average_rule_width\"] - interpretability_bounds[\"average_rule_width\"], 0),\n",
        "        max(metrics[\"ruleset_length\"] - interpretability_bounds[\"ruleset_length\"], 0)\n",
        "    ])\n",
        "    return np.sum(distance_vector)\n",
        "    #return np.linalg.norm(distance_vector)\n",
        "\n",
        "def fmax(lambda_dict):\n",
        "    print(lambda_dict)\n",
        "    ids = IDS(algorithm=\"SLS\")\n",
        "    ids.fit(class_association_rules=cars, quant_dataframe=quant_df, lambda_array=list(lambda_dict.values()))\n",
        "\n",
        "    metrics = ids.score_interpretability_metrics(quant_df)\n",
        "\n",
        "    \"\"\"\n",
        "    if not is_solution_interpretable(metrics):\n",
        "        distance = -solution_interpretability_distance(metrics)\n",
        "        print(distance)\n",
        "        return -distance\n",
        "    \"\"\"\n",
        "\n",
        "    if not is_solution_interpretable(metrics):\n",
        "        return 0\n",
        "\n",
        "    auc = ids.score_auc(quant_df)\n",
        "\n",
        "    print(auc)\n",
        "\n",
        "    return auc\n",
        "\n",
        "\n",
        "\n",
        "coord_asc = CoordinateAscent(\n",
        "    func=fmax,\n",
        "    func_args_ranges=dict(\n",
        "        l1=(1, 400),\n",
        "        l2=(1, 400),\n",
        "        l3=(1, 400),\n",
        "        l4=(1, 400),\n",
        "        l5=(1, 400),\n",
        "        l6=(1, 400),\n",
        "        l7=(1, 400)\n",
        "    ),\n",
        "    ternary_search_precision=50,\n",
        "    max_iterations=2\n",
        ")\n",
        "\n",
        "best_pars = coord_asc.fit()\n",
        "\n",
        "df = pd.DataFrame(coord_asc.procedure_data)"
      ],
      "metadata": {
        "colab": {
          "base_uri": "https://localhost:8080/"
        },
        "id": "AlXlLWK7iNK0",
        "outputId": "4c7ac88c-c51f-460e-a5d0-8473894ade71"
      },
      "execution_count": 16,
      "outputs": [
        {
          "output_type": "stream",
          "name": "stdout",
          "text": [
            "{'l1': 34, 'l2': 155, 'l3': 321, 'l4': 194, 'l5': 266, 'l6': 48, 'l7': 309}\n"
          ]
        },
        {
          "output_type": "stream",
          "name": "stderr",
          "text": [
            "/content/pyIDS/pyids/algorithms/ids_classifier.py:58: FutureWarning: iteritems is deprecated and will be removed in a future version. Use .items instead.\n",
            "  for name, value in row.iteritems():\n"
          ]
        },
        {
          "output_type": "stream",
          "name": "stdout",
          "text": [
            "{'fraction_overlap': 0.37635397506642143, 'fraction_classes': 1.0, 'fraction_uncovered': 0.41487839771101576, 'average_rule_width': 2.875, 'ruleset_length': 8}\n",
            "using precision 50\n",
            "{'l1': 134.0, 'l2': 155, 'l3': 321, 'l4': 194, 'l5': 266, 'l6': 48, 'l7': 309}\n"
          ]
        },
        {
          "output_type": "stream",
          "name": "stderr",
          "text": [
            "/content/pyIDS/pyids/algorithms/ids_classifier.py:58: FutureWarning: iteritems is deprecated and will be removed in a future version. Use .items instead.\n",
            "  for name, value in row.iteritems():\n"
          ]
        },
        {
          "output_type": "stream",
          "name": "stdout",
          "text": [
            "{'fraction_overlap': 0.39856938483547927, 'fraction_classes': 1.0, 'fraction_uncovered': 0.4306151645207439, 'average_rule_width': 3.0, 'ruleset_length': 5}\n",
            "{'l1': 267.0, 'l2': 155, 'l3': 321, 'l4': 194, 'l5': 266, 'l6': 48, 'l7': 309}\n"
          ]
        },
        {
          "output_type": "stream",
          "name": "stderr",
          "text": [
            "/content/pyIDS/pyids/algorithms/ids_classifier.py:58: FutureWarning: iteritems is deprecated and will be removed in a future version. Use .items instead.\n",
            "  for name, value in row.iteritems():\n"
          ]
        },
        {
          "output_type": "stream",
          "name": "stdout",
          "text": [
            "{'fraction_overlap': 0.3818720621295728, 'fraction_classes': 1.0, 'fraction_uncovered': 0.41487839771101576, 'average_rule_width': 2.875, 'ruleset_length': 8}\n",
            "{'l1': 89.66666666666667, 'l2': 155, 'l3': 321, 'l4': 194, 'l5': 266, 'l6': 48, 'l7': 309}\n"
          ]
        },
        {
          "output_type": "stream",
          "name": "stderr",
          "text": [
            "/content/pyIDS/pyids/algorithms/ids_classifier.py:58: FutureWarning: iteritems is deprecated and will be removed in a future version. Use .items instead.\n",
            "  for name, value in row.iteritems():\n"
          ]
        },
        {
          "output_type": "stream",
          "name": "stdout",
          "text": [
            "{'fraction_overlap': 0.39985693848354786, 'fraction_classes': 1.0, 'fraction_uncovered': 0.40772532188841204, 'average_rule_width': 2.875, 'ruleset_length': 8}\n",
            "{'l1': 178.33333333333331, 'l2': 155, 'l3': 321, 'l4': 194, 'l5': 266, 'l6': 48, 'l7': 309}\n"
          ]
        },
        {
          "output_type": "stream",
          "name": "stderr",
          "text": [
            "/content/pyIDS/pyids/algorithms/ids_classifier.py:58: FutureWarning: iteritems is deprecated and will be removed in a future version. Use .items instead.\n",
            "  for name, value in row.iteritems():\n"
          ]
        },
        {
          "output_type": "stream",
          "name": "stdout",
          "text": [
            "{'fraction_overlap': 0.3733394645411812, 'fraction_classes': 1.0, 'fraction_uncovered': 0.41487839771101576, 'average_rule_width': 2.75, 'ruleset_length': 8}\n",
            "{'l1': 60.11111111111111, 'l2': 155, 'l3': 321, 'l4': 194, 'l5': 266, 'l6': 48, 'l7': 309}\n"
          ]
        },
        {
          "output_type": "stream",
          "name": "stderr",
          "text": [
            "/content/pyIDS/pyids/algorithms/ids_classifier.py:58: FutureWarning: iteritems is deprecated and will be removed in a future version. Use .items instead.\n",
            "  for name, value in row.iteritems():\n"
          ]
        },
        {
          "output_type": "stream",
          "name": "stdout",
          "text": [
            "{'fraction_overlap': 0.3997547516860822, 'fraction_classes': 1.0, 'fraction_uncovered': 0.41917024320457796, 'average_rule_width': 2.75, 'ruleset_length': 8}\n",
            "{'l1': 119.2222222222222, 'l2': 155, 'l3': 321, 'l4': 194, 'l5': 266, 'l6': 48, 'l7': 309}\n"
          ]
        },
        {
          "output_type": "stream",
          "name": "stderr",
          "text": [
            "/content/pyIDS/pyids/algorithms/ids_classifier.py:58: FutureWarning: iteritems is deprecated and will be removed in a future version. Use .items instead.\n",
            "  for name, value in row.iteritems():\n"
          ]
        },
        {
          "output_type": "stream",
          "name": "stdout",
          "text": [
            "{'fraction_overlap': 0.37495742216772254, 'fraction_classes': 1.0, 'fraction_uncovered': 0.41630901287553645, 'average_rule_width': 2.7142857142857144, 'ruleset_length': 7}\n",
            "{'l1': 40.4074074074074, 'l2': 155, 'l3': 321, 'l4': 194, 'l5': 266, 'l6': 48, 'l7': 309}\n"
          ]
        },
        {
          "output_type": "stream",
          "name": "stderr",
          "text": [
            "/content/pyIDS/pyids/algorithms/ids_classifier.py:58: FutureWarning: iteritems is deprecated and will be removed in a future version. Use .items instead.\n",
            "  for name, value in row.iteritems():\n"
          ]
        },
        {
          "output_type": "stream",
          "name": "stdout",
          "text": [
            "{'fraction_overlap': 0.388412017167382, 'fraction_classes': 1.0, 'fraction_uncovered': 0.41773962804005726, 'average_rule_width': 2.8, 'ruleset_length': 5}\n",
            "{'l1': 79.81481481481481, 'l2': 155, 'l3': 321, 'l4': 194, 'l5': 266, 'l6': 48, 'l7': 309}\n"
          ]
        },
        {
          "output_type": "stream",
          "name": "stderr",
          "text": [
            "/content/pyIDS/pyids/algorithms/ids_classifier.py:58: FutureWarning: iteritems is deprecated and will be removed in a future version. Use .items instead.\n",
            "  for name, value in row.iteritems():\n"
          ]
        },
        {
          "output_type": "stream",
          "name": "stdout",
          "text": [
            "{'fraction_overlap': 0.38712446351931334, 'fraction_classes': 1.0, 'fraction_uncovered': 0.40629470672389123, 'average_rule_width': 2.8333333333333335, 'ruleset_length': 6}\n",
            "{'l1': 27.271604938271604, 'l2': 155, 'l3': 321, 'l4': 194, 'l5': 266, 'l6': 48, 'l7': 309}\n"
          ]
        },
        {
          "output_type": "stream",
          "name": "stderr",
          "text": [
            "/content/pyIDS/pyids/algorithms/ids_classifier.py:58: FutureWarning: iteritems is deprecated and will be removed in a future version. Use .items instead.\n",
            "  for name, value in row.iteritems():\n"
          ]
        },
        {
          "output_type": "stream",
          "name": "stdout",
          "text": [
            "{'fraction_overlap': 0.37195994277539335, 'fraction_classes': 1.0, 'fraction_uncovered': 0.41630901287553645, 'average_rule_width': 3.0, 'ruleset_length': 4}\n",
            "{'l1': 53.5432098765432, 'l2': 155, 'l3': 321, 'l4': 194, 'l5': 266, 'l6': 48, 'l7': 309}\n"
          ]
        },
        {
          "output_type": "stream",
          "name": "stderr",
          "text": [
            "/content/pyIDS/pyids/algorithms/ids_classifier.py:58: FutureWarning: iteritems is deprecated and will be removed in a future version. Use .items instead.\n",
            "  for name, value in row.iteritems():\n"
          ]
        },
        {
          "output_type": "stream",
          "name": "stdout",
          "text": [
            "{'fraction_overlap': 0.3796580148511479, 'fraction_classes': 1.0, 'fraction_uncovered': 0.40915593705293274, 'average_rule_width': 2.857142857142857, 'ruleset_length': 7}\n",
            "{'l1': 18.51440329218107, 'l2': 155, 'l3': 321, 'l4': 194, 'l5': 266, 'l6': 48, 'l7': 309}\n"
          ]
        },
        {
          "output_type": "stream",
          "name": "stderr",
          "text": [
            "/content/pyIDS/pyids/algorithms/ids_classifier.py:58: FutureWarning: iteritems is deprecated and will be removed in a future version. Use .items instead.\n",
            "  for name, value in row.iteritems():\n"
          ]
        },
        {
          "output_type": "stream",
          "name": "stdout",
          "text": [
            "{'fraction_overlap': 0.3757749165474487, 'fraction_classes': 1.0, 'fraction_uncovered': 0.5007153075822603, 'average_rule_width': 3.0, 'ruleset_length': 3}\n",
            "{'l1': 36.02880658436213, 'l2': 155, 'l3': 321, 'l4': 194, 'l5': 266, 'l6': 48, 'l7': 309}\n"
          ]
        },
        {
          "output_type": "stream",
          "name": "stderr",
          "text": [
            "/content/pyIDS/pyids/algorithms/ids_classifier.py:58: FutureWarning: iteritems is deprecated and will be removed in a future version. Use .items instead.\n",
            "  for name, value in row.iteritems():\n"
          ]
        },
        {
          "output_type": "stream",
          "name": "stdout",
          "text": [
            "{'fraction_overlap': 0.3853123509775871, 'fraction_classes': 1.0, 'fraction_uncovered': 0.41917024320457796, 'average_rule_width': 2.75, 'ruleset_length': 4}\n",
            "{'l1': 18.514403292181065, 'l2': 155, 'l3': 321, 'l4': 194, 'l5': 266, 'l6': 48, 'l7': 309}\n"
          ]
        },
        {
          "output_type": "stream",
          "name": "stderr",
          "text": [
            "/content/pyIDS/pyids/algorithms/ids_classifier.py:58: FutureWarning: iteritems is deprecated and will be removed in a future version. Use .items instead.\n",
            "  for name, value in row.iteritems():\n"
          ]
        },
        {
          "output_type": "stream",
          "name": "stdout",
          "text": [
            "{'fraction_overlap': 0.3807820696232713, 'fraction_classes': 1.0, 'fraction_uncovered': 0.41630901287553645, 'average_rule_width': 2.75, 'ruleset_length': 4}\n",
            "using precision 50\n",
            "{'l1': 18.514403292181065, 'l2': 134.0, 'l3': 321, 'l4': 194, 'l5': 266, 'l6': 48, 'l7': 309}\n"
          ]
        },
        {
          "output_type": "stream",
          "name": "stderr",
          "text": [
            "/content/pyIDS/pyids/algorithms/ids_classifier.py:58: FutureWarning: iteritems is deprecated and will be removed in a future version. Use .items instead.\n",
            "  for name, value in row.iteritems():\n"
          ]
        },
        {
          "output_type": "stream",
          "name": "stdout",
          "text": [
            "{'fraction_overlap': 0.3792492676612849, 'fraction_classes': 1.0, 'fraction_uncovered': 0.41487839771101576, 'average_rule_width': 2.857142857142857, 'ruleset_length': 7}\n",
            "{'l1': 18.514403292181065, 'l2': 267.0, 'l3': 321, 'l4': 194, 'l5': 266, 'l6': 48, 'l7': 309}\n"
          ]
        },
        {
          "output_type": "stream",
          "name": "stderr",
          "text": [
            "/content/pyIDS/pyids/algorithms/ids_classifier.py:58: FutureWarning: iteritems is deprecated and will be removed in a future version. Use .items instead.\n",
            "  for name, value in row.iteritems():\n"
          ]
        },
        {
          "output_type": "stream",
          "name": "stdout",
          "text": [
            "{'fraction_overlap': 0.38422235847128555, 'fraction_classes': 1.0, 'fraction_uncovered': 0.4277539341917025, 'average_rule_width': 3.0, 'ruleset_length': 7}\n",
            "{'l1': 18.514403292181065, 'l2': 89.66666666666667, 'l3': 321, 'l4': 194, 'l5': 266, 'l6': 48, 'l7': 309}\n"
          ]
        },
        {
          "output_type": "stream",
          "name": "stderr",
          "text": [
            "/content/pyIDS/pyids/algorithms/ids_classifier.py:58: FutureWarning: iteritems is deprecated and will be removed in a future version. Use .items instead.\n",
            "  for name, value in row.iteritems():\n"
          ]
        },
        {
          "output_type": "stream",
          "name": "stdout",
          "text": [
            "{'fraction_overlap': 0.38074800735744946, 'fraction_classes': 1.0, 'fraction_uncovered': 0.40343347639484983, 'average_rule_width': 2.875, 'ruleset_length': 8}\n",
            "{'l1': 18.514403292181065, 'l2': 178.33333333333331, 'l3': 321, 'l4': 194, 'l5': 266, 'l6': 48, 'l7': 309}\n"
          ]
        },
        {
          "output_type": "stream",
          "name": "stderr",
          "text": [
            "/content/pyIDS/pyids/algorithms/ids_classifier.py:58: FutureWarning: iteritems is deprecated and will be removed in a future version. Use .items instead.\n",
            "  for name, value in row.iteritems():\n"
          ]
        },
        {
          "output_type": "stream",
          "name": "stdout",
          "text": [
            "{'fraction_overlap': 0.3900129436610123, 'fraction_classes': 1.0, 'fraction_uncovered': 0.41058655221745355, 'average_rule_width': 2.857142857142857, 'ruleset_length': 7}\n",
            "{'l1': 18.514403292181065, 'l2': 60.11111111111111, 'l3': 321, 'l4': 194, 'l5': 266, 'l6': 48, 'l7': 309}\n"
          ]
        },
        {
          "output_type": "stream",
          "name": "stderr",
          "text": [
            "/content/pyIDS/pyids/algorithms/ids_classifier.py:58: FutureWarning: iteritems is deprecated and will be removed in a future version. Use .items instead.\n",
            "  for name, value in row.iteritems():\n"
          ]
        },
        {
          "output_type": "stream",
          "name": "stdout",
          "text": [
            "{'fraction_overlap': 0.38884120171673814, 'fraction_classes': 1.0, 'fraction_uncovered': 0.41058655221745355, 'average_rule_width': 2.6666666666666665, 'ruleset_length': 6}\n",
            "{'l1': 18.514403292181065, 'l2': 119.2222222222222, 'l3': 321, 'l4': 194, 'l5': 266, 'l6': 48, 'l7': 309}\n"
          ]
        },
        {
          "output_type": "stream",
          "name": "stderr",
          "text": [
            "/content/pyIDS/pyids/algorithms/ids_classifier.py:58: FutureWarning: iteritems is deprecated and will be removed in a future version. Use .items instead.\n",
            "  for name, value in row.iteritems():\n"
          ]
        },
        {
          "output_type": "stream",
          "name": "stdout",
          "text": [
            "{'fraction_overlap': 0.38638531235097756, 'fraction_classes': 1.0, 'fraction_uncovered': 0.41201716738197425, 'average_rule_width': 2.7777777777777777, 'ruleset_length': 9}\n",
            "{'l1': 18.514403292181065, 'l2': 40.4074074074074, 'l3': 321, 'l4': 194, 'l5': 266, 'l6': 48, 'l7': 309}\n"
          ]
        },
        {
          "output_type": "stream",
          "name": "stderr",
          "text": [
            "/content/pyIDS/pyids/algorithms/ids_classifier.py:58: FutureWarning: iteritems is deprecated and will be removed in a future version. Use .items instead.\n",
            "  for name, value in row.iteritems():\n"
          ]
        },
        {
          "output_type": "stream",
          "name": "stdout",
          "text": [
            "{'fraction_overlap': 0.3620410109680496, 'fraction_classes': 1.0, 'fraction_uncovered': 0.41487839771101576, 'average_rule_width': 2.8333333333333335, 'ruleset_length': 6}\n",
            "{'l1': 18.514403292181065, 'l2': 79.81481481481481, 'l3': 321, 'l4': 194, 'l5': 266, 'l6': 48, 'l7': 309}\n"
          ]
        },
        {
          "output_type": "stream",
          "name": "stderr",
          "text": [
            "/content/pyIDS/pyids/algorithms/ids_classifier.py:58: FutureWarning: iteritems is deprecated and will be removed in a future version. Use .items instead.\n",
            "  for name, value in row.iteritems():\n"
          ]
        },
        {
          "output_type": "stream",
          "name": "stdout",
          "text": [
            "{'fraction_overlap': 0.38493766605354574, 'fraction_classes': 1.0, 'fraction_uncovered': 0.4005722460658083, 'average_rule_width': 2.875, 'ruleset_length': 8}\n",
            "{'l1': 18.514403292181065, 'l2': 27.271604938271604, 'l3': 321, 'l4': 194, 'l5': 266, 'l6': 48, 'l7': 309}\n"
          ]
        },
        {
          "output_type": "stream",
          "name": "stderr",
          "text": [
            "/content/pyIDS/pyids/algorithms/ids_classifier.py:58: FutureWarning: iteritems is deprecated and will be removed in a future version. Use .items instead.\n",
            "  for name, value in row.iteritems():\n"
          ]
        },
        {
          "output_type": "stream",
          "name": "stdout",
          "text": [
            "{'fraction_overlap': 0.3572722937529805, 'fraction_classes': 1.0, 'fraction_uncovered': 0.4363376251788269, 'average_rule_width': 2.8333333333333335, 'ruleset_length': 6}\n",
            "{'l1': 18.514403292181065, 'l2': 53.5432098765432, 'l3': 321, 'l4': 194, 'l5': 266, 'l6': 48, 'l7': 309}\n"
          ]
        },
        {
          "output_type": "stream",
          "name": "stderr",
          "text": [
            "/content/pyIDS/pyids/algorithms/ids_classifier.py:58: FutureWarning: iteritems is deprecated and will be removed in a future version. Use .items instead.\n",
            "  for name, value in row.iteritems():\n"
          ]
        },
        {
          "output_type": "stream",
          "name": "stdout",
          "text": [
            "{'fraction_overlap': 0.3862660944206008, 'fraction_classes': 1.0, 'fraction_uncovered': 0.402002861230329, 'average_rule_width': 2.857142857142857, 'ruleset_length': 7}\n",
            "{'l1': 18.514403292181065, 'l2': 18.51440329218107, 'l3': 321, 'l4': 194, 'l5': 266, 'l6': 48, 'l7': 309}\n"
          ]
        },
        {
          "output_type": "stream",
          "name": "stderr",
          "text": [
            "/content/pyIDS/pyids/algorithms/ids_classifier.py:58: FutureWarning: iteritems is deprecated and will be removed in a future version. Use .items instead.\n",
            "  for name, value in row.iteritems():\n"
          ]
        },
        {
          "output_type": "stream",
          "name": "stdout",
          "text": [
            "{'fraction_overlap': 0.36814496900333815, 'fraction_classes': 1.0, 'fraction_uncovered': 0.3977110157367668, 'average_rule_width': 2.8333333333333335, 'ruleset_length': 6}\n",
            "{'l1': 18.514403292181065, 'l2': 36.02880658436213, 'l3': 321, 'l4': 194, 'l5': 266, 'l6': 48, 'l7': 309}\n"
          ]
        },
        {
          "output_type": "stream",
          "name": "stderr",
          "text": [
            "/content/pyIDS/pyids/algorithms/ids_classifier.py:58: FutureWarning: iteritems is deprecated and will be removed in a future version. Use .items instead.\n",
            "  for name, value in row.iteritems():\n"
          ]
        },
        {
          "output_type": "stream",
          "name": "stdout",
          "text": [
            "{'fraction_overlap': 0.3783977110157368, 'fraction_classes': 1.0, 'fraction_uncovered': 0.40915593705293274, 'average_rule_width': 2.8, 'ruleset_length': 5}\n",
            "{'l1': 18.514403292181065, 'l2': 18.514403292181065, 'l3': 321, 'l4': 194, 'l5': 266, 'l6': 48, 'l7': 309}\n"
          ]
        },
        {
          "output_type": "stream",
          "name": "stderr",
          "text": [
            "/content/pyIDS/pyids/algorithms/ids_classifier.py:58: FutureWarning: iteritems is deprecated and will be removed in a future version. Use .items instead.\n",
            "  for name, value in row.iteritems():\n"
          ]
        },
        {
          "output_type": "stream",
          "name": "stdout",
          "text": [
            "{'fraction_overlap': 0.38998569384835485, 'fraction_classes': 1.0, 'fraction_uncovered': 0.4391988555078684, 'average_rule_width': 3.0, 'ruleset_length': 5}\n",
            "using precision 50\n",
            "{'l1': 18.514403292181065, 'l2': 18.514403292181065, 'l3': 134.0, 'l4': 194, 'l5': 266, 'l6': 48, 'l7': 309}\n"
          ]
        },
        {
          "output_type": "stream",
          "name": "stderr",
          "text": [
            "/content/pyIDS/pyids/algorithms/ids_classifier.py:58: FutureWarning: iteritems is deprecated and will be removed in a future version. Use .items instead.\n",
            "  for name, value in row.iteritems():\n"
          ]
        },
        {
          "output_type": "stream",
          "name": "stdout",
          "text": [
            "{'fraction_overlap': 0.4074391988555078, 'fraction_classes': 1.0, 'fraction_uncovered': 0.41487839771101576, 'average_rule_width': 3.0, 'ruleset_length': 6}\n",
            "{'l1': 18.514403292181065, 'l2': 18.514403292181065, 'l3': 267.0, 'l4': 194, 'l5': 266, 'l6': 48, 'l7': 309}\n"
          ]
        },
        {
          "output_type": "stream",
          "name": "stderr",
          "text": [
            "/content/pyIDS/pyids/algorithms/ids_classifier.py:58: FutureWarning: iteritems is deprecated and will be removed in a future version. Use .items instead.\n",
            "  for name, value in row.iteritems():\n"
          ]
        },
        {
          "output_type": "stream",
          "name": "stdout",
          "text": [
            "{'fraction_overlap': 0.36824034334763955, 'fraction_classes': 1.0, 'fraction_uncovered': 0.424892703862661, 'average_rule_width': 2.8333333333333335, 'ruleset_length': 6}\n",
            "{'l1': 18.514403292181065, 'l2': 18.514403292181065, 'l3': 89.66666666666667, 'l4': 194, 'l5': 266, 'l6': 48, 'l7': 309}\n"
          ]
        },
        {
          "output_type": "stream",
          "name": "stderr",
          "text": [
            "/content/pyIDS/pyids/algorithms/ids_classifier.py:58: FutureWarning: iteritems is deprecated and will be removed in a future version. Use .items instead.\n",
            "  for name, value in row.iteritems():\n"
          ]
        },
        {
          "output_type": "stream",
          "name": "stdout",
          "text": [
            "{'fraction_overlap': 0.3933510457115607, 'fraction_classes': 1.0, 'fraction_uncovered': 0.4005722460658083, 'average_rule_width': 2.7142857142857144, 'ruleset_length': 7}\n",
            "{'l1': 18.514403292181065, 'l2': 18.514403292181065, 'l3': 178.33333333333331, 'l4': 194, 'l5': 266, 'l6': 48, 'l7': 309}\n"
          ]
        },
        {
          "output_type": "stream",
          "name": "stderr",
          "text": [
            "/content/pyIDS/pyids/algorithms/ids_classifier.py:58: FutureWarning: iteritems is deprecated and will be removed in a future version. Use .items instead.\n",
            "  for name, value in row.iteritems():\n"
          ]
        },
        {
          "output_type": "stream",
          "name": "stdout",
          "text": [
            "{'fraction_overlap': 0.3757351772373232, 'fraction_classes': 1.0, 'fraction_uncovered': 0.41487839771101576, 'average_rule_width': 2.888888888888889, 'ruleset_length': 9}\n",
            "{'l1': 18.514403292181065, 'l2': 18.514403292181065, 'l3': 60.11111111111111, 'l4': 194, 'l5': 266, 'l6': 48, 'l7': 309}\n"
          ]
        },
        {
          "output_type": "stream",
          "name": "stderr",
          "text": [
            "/content/pyIDS/pyids/algorithms/ids_classifier.py:58: FutureWarning: iteritems is deprecated and will be removed in a future version. Use .items instead.\n",
            "  for name, value in row.iteritems():\n"
          ]
        },
        {
          "output_type": "stream",
          "name": "stdout",
          "text": [
            "{'fraction_overlap': 0.42708631378159273, 'fraction_classes': 1.0, 'fraction_uncovered': 0.41773962804005726, 'average_rule_width': 2.8333333333333335, 'ruleset_length': 6}\n",
            "{'l1': 18.514403292181065, 'l2': 18.514403292181065, 'l3': 119.2222222222222, 'l4': 194, 'l5': 266, 'l6': 48, 'l7': 309}\n"
          ]
        },
        {
          "output_type": "stream",
          "name": "stderr",
          "text": [
            "/content/pyIDS/pyids/algorithms/ids_classifier.py:58: FutureWarning: iteritems is deprecated and will be removed in a future version. Use .items instead.\n",
            "  for name, value in row.iteritems():\n"
          ]
        },
        {
          "output_type": "stream",
          "name": "stdout",
          "text": [
            "{'fraction_overlap': 0.39628040057224595, 'fraction_classes': 1.0, 'fraction_uncovered': 0.3948497854077253, 'average_rule_width': 2.7777777777777777, 'ruleset_length': 9}\n",
            "{'l1': 18.514403292181065, 'l2': 18.514403292181065, 'l3': 40.4074074074074, 'l4': 194, 'l5': 266, 'l6': 48, 'l7': 309}\n"
          ]
        },
        {
          "output_type": "stream",
          "name": "stderr",
          "text": [
            "/content/pyIDS/pyids/algorithms/ids_classifier.py:58: FutureWarning: iteritems is deprecated and will be removed in a future version. Use .items instead.\n",
            "  for name, value in row.iteritems():\n"
          ]
        },
        {
          "output_type": "stream",
          "name": "stdout",
          "text": [
            "{'fraction_overlap': 0.3670958512160229, 'fraction_classes': 1.0, 'fraction_uncovered': 0.41487839771101576, 'average_rule_width': 2.8, 'ruleset_length': 5}\n",
            "{'l1': 18.514403292181065, 'l2': 18.514403292181065, 'l3': 79.81481481481481, 'l4': 194, 'l5': 266, 'l6': 48, 'l7': 309}\n"
          ]
        },
        {
          "output_type": "stream",
          "name": "stderr",
          "text": [
            "/content/pyIDS/pyids/algorithms/ids_classifier.py:58: FutureWarning: iteritems is deprecated and will be removed in a future version. Use .items instead.\n",
            "  for name, value in row.iteritems():\n"
          ]
        },
        {
          "output_type": "stream",
          "name": "stdout",
          "text": [
            "{'fraction_overlap': 0.38461293911937694, 'fraction_classes': 1.0, 'fraction_uncovered': 0.3991416309012875, 'average_rule_width': 2.9, 'ruleset_length': 10}\n",
            "{'l1': 18.514403292181065, 'l2': 18.514403292181065, 'l3': 27.271604938271604, 'l4': 194, 'l5': 266, 'l6': 48, 'l7': 309}\n"
          ]
        },
        {
          "output_type": "stream",
          "name": "stderr",
          "text": [
            "/content/pyIDS/pyids/algorithms/ids_classifier.py:58: FutureWarning: iteritems is deprecated and will be removed in a future version. Use .items instead.\n",
            "  for name, value in row.iteritems():\n"
          ]
        },
        {
          "output_type": "stream",
          "name": "stdout",
          "text": [
            "{'fraction_overlap': 0.3619456366237482, 'fraction_classes': 1.0, 'fraction_uncovered': 0.41201716738197425, 'average_rule_width': 2.857142857142857, 'ruleset_length': 7}\n",
            "{'l1': 18.514403292181065, 'l2': 18.514403292181065, 'l3': 53.5432098765432, 'l4': 194, 'l5': 266, 'l6': 48, 'l7': 309}\n"
          ]
        },
        {
          "output_type": "stream",
          "name": "stderr",
          "text": [
            "/content/pyIDS/pyids/algorithms/ids_classifier.py:58: FutureWarning: iteritems is deprecated and will be removed in a future version. Use .items instead.\n",
            "  for name, value in row.iteritems():\n"
          ]
        },
        {
          "output_type": "stream",
          "name": "stdout",
          "text": [
            "{'fraction_overlap': 0.3595612780162136, 'fraction_classes': 1.0, 'fraction_uncovered': 0.4263233190271817, 'average_rule_width': 3.0, 'ruleset_length': 4}\n",
            "{'l1': 18.514403292181065, 'l2': 18.514403292181065, 'l3': 18.51440329218107, 'l4': 194, 'l5': 266, 'l6': 48, 'l7': 309}\n"
          ]
        },
        {
          "output_type": "stream",
          "name": "stderr",
          "text": [
            "/content/pyIDS/pyids/algorithms/ids_classifier.py:58: FutureWarning: iteritems is deprecated and will be removed in a future version. Use .items instead.\n",
            "  for name, value in row.iteritems():\n"
          ]
        },
        {
          "output_type": "stream",
          "name": "stdout",
          "text": [
            "{'fraction_overlap': 0.37412176124622476, 'fraction_classes': 1.0, 'fraction_uncovered': 0.3991416309012875, 'average_rule_width': 2.9, 'ruleset_length': 10}\n",
            "{'l1': 18.514403292181065, 'l2': 18.514403292181065, 'l3': 36.02880658436213, 'l4': 194, 'l5': 266, 'l6': 48, 'l7': 309}\n"
          ]
        },
        {
          "output_type": "stream",
          "name": "stderr",
          "text": [
            "/content/pyIDS/pyids/algorithms/ids_classifier.py:58: FutureWarning: iteritems is deprecated and will be removed in a future version. Use .items instead.\n",
            "  for name, value in row.iteritems():\n"
          ]
        },
        {
          "output_type": "stream",
          "name": "stdout",
          "text": [
            "{'fraction_overlap': 0.3836389647548446, 'fraction_classes': 1.0, 'fraction_uncovered': 0.40486409155937053, 'average_rule_width': 2.8181818181818183, 'ruleset_length': 11}\n",
            "{'l1': 18.514403292181065, 'l2': 18.514403292181065, 'l3': 18.514403292181065, 'l4': 194, 'l5': 266, 'l6': 48, 'l7': 309}\n"
          ]
        },
        {
          "output_type": "stream",
          "name": "stderr",
          "text": [
            "/content/pyIDS/pyids/algorithms/ids_classifier.py:58: FutureWarning: iteritems is deprecated and will be removed in a future version. Use .items instead.\n",
            "  for name, value in row.iteritems():\n"
          ]
        },
        {
          "output_type": "stream",
          "name": "stdout",
          "text": [
            "{'fraction_overlap': 0.3905579399141631, 'fraction_classes': 1.0, 'fraction_uncovered': 0.3977110157367668, 'average_rule_width': 2.75, 'ruleset_length': 8}\n",
            "using precision 50\n",
            "{'l1': 18.514403292181065, 'l2': 18.514403292181065, 'l3': 18.514403292181065, 'l4': 134.0, 'l5': 266, 'l6': 48, 'l7': 309}\n"
          ]
        },
        {
          "output_type": "stream",
          "name": "stderr",
          "text": [
            "/content/pyIDS/pyids/algorithms/ids_classifier.py:58: FutureWarning: iteritems is deprecated and will be removed in a future version. Use .items instead.\n",
            "  for name, value in row.iteritems():\n"
          ]
        },
        {
          "output_type": "stream",
          "name": "stdout",
          "text": [
            "{'fraction_overlap': 0.3970433953266572, 'fraction_classes': 1.0, 'fraction_uncovered': 0.40915593705293274, 'average_rule_width': 2.8, 'ruleset_length': 10}\n",
            "{'l1': 18.514403292181065, 'l2': 18.514403292181065, 'l3': 18.514403292181065, 'l4': 267.0, 'l5': 266, 'l6': 48, 'l7': 309}\n"
          ]
        },
        {
          "output_type": "stream",
          "name": "stderr",
          "text": [
            "/content/pyIDS/pyids/algorithms/ids_classifier.py:58: FutureWarning: iteritems is deprecated and will be removed in a future version. Use .items instead.\n",
            "  for name, value in row.iteritems():\n"
          ]
        },
        {
          "output_type": "stream",
          "name": "stdout",
          "text": [
            "{'fraction_overlap': 0.39027181688125884, 'fraction_classes': 1.0, 'fraction_uncovered': 0.42060085836909866, 'average_rule_width': 2.8333333333333335, 'ruleset_length': 6}\n",
            "{'l1': 18.514403292181065, 'l2': 18.514403292181065, 'l3': 18.514403292181065, 'l4': 89.66666666666667, 'l5': 266, 'l6': 48, 'l7': 309}\n"
          ]
        },
        {
          "output_type": "stream",
          "name": "stderr",
          "text": [
            "/content/pyIDS/pyids/algorithms/ids_classifier.py:58: FutureWarning: iteritems is deprecated and will be removed in a future version. Use .items instead.\n",
            "  for name, value in row.iteritems():\n"
          ]
        },
        {
          "output_type": "stream",
          "name": "stdout",
          "text": [
            "{'fraction_overlap': 0.4074868860276586, 'fraction_classes': 1.0, 'fraction_uncovered': 0.4406294706723891, 'average_rule_width': 3.0, 'ruleset_length': 4}\n",
            "{'l1': 18.514403292181065, 'l2': 18.514403292181065, 'l3': 18.514403292181065, 'l4': 178.33333333333331, 'l5': 266, 'l6': 48, 'l7': 309}\n"
          ]
        },
        {
          "output_type": "stream",
          "name": "stderr",
          "text": [
            "/content/pyIDS/pyids/algorithms/ids_classifier.py:58: FutureWarning: iteritems is deprecated and will be removed in a future version. Use .items instead.\n",
            "  for name, value in row.iteritems():\n"
          ]
        },
        {
          "output_type": "stream",
          "name": "stdout",
          "text": [
            "{'fraction_overlap': 0.3663328564616118, 'fraction_classes': 1.0, 'fraction_uncovered': 0.41058655221745355, 'average_rule_width': 3.0, 'ruleset_length': 6}\n",
            "{'l1': 18.514403292181065, 'l2': 18.514403292181065, 'l3': 18.514403292181065, 'l4': 60.11111111111111, 'l5': 266, 'l6': 48, 'l7': 309}\n"
          ]
        },
        {
          "output_type": "stream",
          "name": "stderr",
          "text": [
            "/content/pyIDS/pyids/algorithms/ids_classifier.py:58: FutureWarning: iteritems is deprecated and will be removed in a future version. Use .items instead.\n",
            "  for name, value in row.iteritems():\n"
          ]
        },
        {
          "output_type": "stream",
          "name": "stdout",
          "text": [
            "{'fraction_overlap': 0.41258941344778255, 'fraction_classes': 1.0, 'fraction_uncovered': 0.40629470672389123, 'average_rule_width': 2.8, 'ruleset_length': 5}\n",
            "{'l1': 18.514403292181065, 'l2': 18.514403292181065, 'l3': 18.514403292181065, 'l4': 119.2222222222222, 'l5': 266, 'l6': 48, 'l7': 309}\n"
          ]
        },
        {
          "output_type": "stream",
          "name": "stderr",
          "text": [
            "/content/pyIDS/pyids/algorithms/ids_classifier.py:58: FutureWarning: iteritems is deprecated and will be removed in a future version. Use .items instead.\n",
            "  for name, value in row.iteritems():\n"
          ]
        },
        {
          "output_type": "stream",
          "name": "stdout",
          "text": [
            "{'fraction_overlap': 0.3802575107296137, 'fraction_classes': 1.0, 'fraction_uncovered': 0.41487839771101576, 'average_rule_width': 2.6666666666666665, 'ruleset_length': 6}\n",
            "{'l1': 18.514403292181065, 'l2': 18.514403292181065, 'l3': 18.514403292181065, 'l4': 40.4074074074074, 'l5': 266, 'l6': 48, 'l7': 309}\n"
          ]
        },
        {
          "output_type": "stream",
          "name": "stderr",
          "text": [
            "/content/pyIDS/pyids/algorithms/ids_classifier.py:58: FutureWarning: iteritems is deprecated and will be removed in a future version. Use .items instead.\n",
            "  for name, value in row.iteritems():\n"
          ]
        },
        {
          "output_type": "stream",
          "name": "stdout",
          "text": [
            "{'fraction_overlap': 0.3586075345731998, 'fraction_classes': 1.0, 'fraction_uncovered': 0.41487839771101576, 'average_rule_width': 3.0, 'ruleset_length': 6}\n",
            "{'l1': 18.514403292181065, 'l2': 18.514403292181065, 'l3': 18.514403292181065, 'l4': 79.81481481481481, 'l5': 266, 'l6': 48, 'l7': 309}\n"
          ]
        },
        {
          "output_type": "stream",
          "name": "stderr",
          "text": [
            "/content/pyIDS/pyids/algorithms/ids_classifier.py:58: FutureWarning: iteritems is deprecated and will be removed in a future version. Use .items instead.\n",
            "  for name, value in row.iteritems():\n"
          ]
        },
        {
          "output_type": "stream",
          "name": "stdout",
          "text": [
            "{'fraction_overlap': 0.3984263233190272, 'fraction_classes': 1.0, 'fraction_uncovered': 0.41344778254649495, 'average_rule_width': 2.8, 'ruleset_length': 5}\n",
            "{'l1': 18.514403292181065, 'l2': 18.514403292181065, 'l3': 18.514403292181065, 'l4': 27.271604938271604, 'l5': 266, 'l6': 48, 'l7': 309}\n"
          ]
        },
        {
          "output_type": "stream",
          "name": "stderr",
          "text": [
            "/content/pyIDS/pyids/algorithms/ids_classifier.py:58: FutureWarning: iteritems is deprecated and will be removed in a future version. Use .items instead.\n",
            "  for name, value in row.iteritems():\n"
          ]
        },
        {
          "output_type": "stream",
          "name": "stdout",
          "text": [
            "{'fraction_overlap': 0.3823319027181687, 'fraction_classes': 1.0, 'fraction_uncovered': 0.41344778254649495, 'average_rule_width': 3.0, 'ruleset_length': 9}\n",
            "{'l1': 18.514403292181065, 'l2': 18.514403292181065, 'l3': 18.514403292181065, 'l4': 53.5432098765432, 'l5': 266, 'l6': 48, 'l7': 309}\n"
          ]
        },
        {
          "output_type": "stream",
          "name": "stderr",
          "text": [
            "/content/pyIDS/pyids/algorithms/ids_classifier.py:58: FutureWarning: iteritems is deprecated and will be removed in a future version. Use .items instead.\n",
            "  for name, value in row.iteritems():\n"
          ]
        },
        {
          "output_type": "stream",
          "name": "stdout",
          "text": [
            "{'fraction_overlap': 0.3973703930785476, 'fraction_classes': 1.0, 'fraction_uncovered': 0.40915593705293274, 'average_rule_width': 2.5714285714285716, 'ruleset_length': 7}\n",
            "{'l1': 18.514403292181065, 'l2': 18.514403292181065, 'l3': 18.514403292181065, 'l4': 18.51440329218107, 'l5': 266, 'l6': 48, 'l7': 309}\n"
          ]
        },
        {
          "output_type": "stream",
          "name": "stderr",
          "text": [
            "/content/pyIDS/pyids/algorithms/ids_classifier.py:58: FutureWarning: iteritems is deprecated and will be removed in a future version. Use .items instead.\n",
            "  for name, value in row.iteritems():\n"
          ]
        },
        {
          "output_type": "stream",
          "name": "stdout",
          "text": [
            "{'fraction_overlap': 0.4005722460658083, 'fraction_classes': 1.0, 'fraction_uncovered': 0.4778254649499285, 'average_rule_width': 3.0, 'ruleset_length': 2}\n",
            "{'l1': 18.514403292181065, 'l2': 18.514403292181065, 'l3': 18.514403292181065, 'l4': 36.02880658436213, 'l5': 266, 'l6': 48, 'l7': 309}\n"
          ]
        },
        {
          "output_type": "stream",
          "name": "stderr",
          "text": [
            "/content/pyIDS/pyids/algorithms/ids_classifier.py:58: FutureWarning: iteritems is deprecated and will be removed in a future version. Use .items instead.\n",
            "  for name, value in row.iteritems():\n"
          ]
        },
        {
          "output_type": "stream",
          "name": "stdout",
          "text": [
            "{'fraction_overlap': 0.36432999523128273, 'fraction_classes': 1.0, 'fraction_uncovered': 0.4220314735336195, 'average_rule_width': 2.75, 'ruleset_length': 4}\n",
            "{'l1': 18.514403292181065, 'l2': 18.514403292181065, 'l3': 18.514403292181065, 'l4': 18.514403292181065, 'l5': 266, 'l6': 48, 'l7': 309}\n"
          ]
        },
        {
          "output_type": "stream",
          "name": "stderr",
          "text": [
            "/content/pyIDS/pyids/algorithms/ids_classifier.py:58: FutureWarning: iteritems is deprecated and will be removed in a future version. Use .items instead.\n",
            "  for name, value in row.iteritems():\n"
          ]
        },
        {
          "output_type": "stream",
          "name": "stdout",
          "text": [
            "{'fraction_overlap': 0.3697799577627903, 'fraction_classes': 1.0, 'fraction_uncovered': 0.41487839771101576, 'average_rule_width': 2.7142857142857144, 'ruleset_length': 7}\n",
            "using precision 50\n",
            "{'l1': 18.514403292181065, 'l2': 18.514403292181065, 'l3': 18.514403292181065, 'l4': 18.514403292181065, 'l5': 134.0, 'l6': 48, 'l7': 309}\n"
          ]
        },
        {
          "output_type": "stream",
          "name": "stderr",
          "text": [
            "/content/pyIDS/pyids/algorithms/ids_classifier.py:58: FutureWarning: iteritems is deprecated and will be removed in a future version. Use .items instead.\n",
            "  for name, value in row.iteritems():\n"
          ]
        },
        {
          "output_type": "stream",
          "name": "stdout",
          "text": [
            "{'fraction_overlap': 0, 'fraction_classes': 1.0, 'fraction_uncovered': 0.5035765379113019, 'average_rule_width': 2.0, 'ruleset_length': 1}\n",
            "{'l1': 18.514403292181065, 'l2': 18.514403292181065, 'l3': 18.514403292181065, 'l4': 18.514403292181065, 'l5': 267.0, 'l6': 48, 'l7': 309}\n"
          ]
        },
        {
          "output_type": "stream",
          "name": "stderr",
          "text": [
            "/content/pyIDS/pyids/algorithms/ids_classifier.py:58: FutureWarning: iteritems is deprecated and will be removed in a future version. Use .items instead.\n",
            "  for name, value in row.iteritems():\n"
          ]
        },
        {
          "output_type": "stream",
          "name": "stdout",
          "text": [
            "{'fraction_overlap': 0.3983241365215614, 'fraction_classes': 1.0, 'fraction_uncovered': 0.3977110157367668, 'average_rule_width': 2.7142857142857144, 'ruleset_length': 7}\n",
            "{'l1': 18.514403292181065, 'l2': 18.514403292181065, 'l3': 18.514403292181065, 'l4': 18.514403292181065, 'l5': 89.66666666666667, 'l6': 48, 'l7': 309}\n"
          ]
        },
        {
          "output_type": "stream",
          "name": "stderr",
          "text": [
            "/content/pyIDS/pyids/algorithms/ids_classifier.py:58: FutureWarning: iteritems is deprecated and will be removed in a future version. Use .items instead.\n",
            "  for name, value in row.iteritems():\n"
          ]
        },
        {
          "output_type": "stream",
          "name": "stdout",
          "text": [
            "{'fraction_overlap': 0.38544860004087467, 'fraction_classes': 1.0, 'fraction_uncovered': 0.4005722460658083, 'average_rule_width': 2.7142857142857144, 'ruleset_length': 7}\n",
            "{'l1': 18.514403292181065, 'l2': 18.514403292181065, 'l3': 18.514403292181065, 'l4': 18.514403292181065, 'l5': 178.33333333333331, 'l6': 48, 'l7': 309}\n"
          ]
        },
        {
          "output_type": "stream",
          "name": "stderr",
          "text": [
            "/content/pyIDS/pyids/algorithms/ids_classifier.py:58: FutureWarning: iteritems is deprecated and will be removed in a future version. Use .items instead.\n",
            "  for name, value in row.iteritems():\n"
          ]
        },
        {
          "output_type": "stream",
          "name": "stdout",
          "text": [
            "{'fraction_overlap': 0.36660163870464296, 'fraction_classes': 1.0, 'fraction_uncovered': 0.3977110157367668, 'average_rule_width': 3.0, 'ruleset_length': 11}\n",
            "{'l1': 18.514403292181065, 'l2': 18.514403292181065, 'l3': 18.514403292181065, 'l4': 18.514403292181065, 'l5': 60.11111111111111, 'l6': 48, 'l7': 309}\n"
          ]
        },
        {
          "output_type": "stream",
          "name": "stderr",
          "text": [
            "/content/pyIDS/pyids/algorithms/ids_classifier.py:58: FutureWarning: iteritems is deprecated and will be removed in a future version. Use .items instead.\n",
            "  for name, value in row.iteritems():\n"
          ]
        },
        {
          "output_type": "stream",
          "name": "stdout",
          "text": [
            "{'fraction_overlap': 0.4444444444444445, 'fraction_classes': 1.0, 'fraction_uncovered': 0.4763948497854077, 'average_rule_width': 2.6666666666666665, 'ruleset_length': 3}\n",
            "{'l1': 18.514403292181065, 'l2': 18.514403292181065, 'l3': 18.514403292181065, 'l4': 18.514403292181065, 'l5': 119.2222222222222, 'l6': 48, 'l7': 309}\n"
          ]
        },
        {
          "output_type": "stream",
          "name": "stderr",
          "text": [
            "/content/pyIDS/pyids/algorithms/ids_classifier.py:58: FutureWarning: iteritems is deprecated and will be removed in a future version. Use .items instead.\n",
            "  for name, value in row.iteritems():\n"
          ]
        },
        {
          "output_type": "stream",
          "name": "stdout",
          "text": [
            "{'fraction_overlap': 0.3811794627245271, 'fraction_classes': 1.0, 'fraction_uncovered': 0.41487839771101576, 'average_rule_width': 2.7777777777777777, 'ruleset_length': 9}\n",
            "{'l1': 18.514403292181065, 'l2': 18.514403292181065, 'l3': 18.514403292181065, 'l4': 18.514403292181065, 'l5': 40.4074074074074, 'l6': 48, 'l7': 309}\n"
          ]
        },
        {
          "output_type": "stream",
          "name": "stderr",
          "text": [
            "/content/pyIDS/pyids/algorithms/ids_classifier.py:58: FutureWarning: iteritems is deprecated and will be removed in a future version. Use .items instead.\n",
            "  for name, value in row.iteritems():\n"
          ]
        },
        {
          "output_type": "stream",
          "name": "stdout",
          "text": [
            "{'fraction_overlap': 0.3832004904966279, 'fraction_classes': 1.0, 'fraction_uncovered': 0.41917024320457796, 'average_rule_width': 3.0, 'ruleset_length': 8}\n",
            "{'l1': 18.514403292181065, 'l2': 18.514403292181065, 'l3': 18.514403292181065, 'l4': 18.514403292181065, 'l5': 79.81481481481481, 'l6': 48, 'l7': 309}\n"
          ]
        },
        {
          "output_type": "stream",
          "name": "stderr",
          "text": [
            "/content/pyIDS/pyids/algorithms/ids_classifier.py:58: FutureWarning: iteritems is deprecated and will be removed in a future version. Use .items instead.\n",
            "  for name, value in row.iteritems():\n"
          ]
        },
        {
          "output_type": "stream",
          "name": "stdout",
          "text": [
            "{'fraction_overlap': 0.3824511206485456, 'fraction_classes': 1.0, 'fraction_uncovered': 0.3991416309012875, 'average_rule_width': 2.8333333333333335, 'ruleset_length': 6}\n",
            "{'l1': 18.514403292181065, 'l2': 18.514403292181065, 'l3': 18.514403292181065, 'l4': 18.514403292181065, 'l5': 27.271604938271604, 'l6': 48, 'l7': 309}\n"
          ]
        },
        {
          "output_type": "stream",
          "name": "stderr",
          "text": [
            "/content/pyIDS/pyids/algorithms/ids_classifier.py:58: FutureWarning: iteritems is deprecated and will be removed in a future version. Use .items instead.\n",
            "  for name, value in row.iteritems():\n"
          ]
        },
        {
          "output_type": "stream",
          "name": "stdout",
          "text": [
            "{'fraction_overlap': 0.38130662851692887, 'fraction_classes': 1.0, 'fraction_uncovered': 0.40915593705293274, 'average_rule_width': 2.8333333333333335, 'ruleset_length': 6}\n",
            "{'l1': 18.514403292181065, 'l2': 18.514403292181065, 'l3': 18.514403292181065, 'l4': 18.514403292181065, 'l5': 53.5432098765432, 'l6': 48, 'l7': 309}\n"
          ]
        },
        {
          "output_type": "stream",
          "name": "stderr",
          "text": [
            "/content/pyIDS/pyids/algorithms/ids_classifier.py:58: FutureWarning: iteritems is deprecated and will be removed in a future version. Use .items instead.\n",
            "  for name, value in row.iteritems():\n"
          ]
        },
        {
          "output_type": "stream",
          "name": "stdout",
          "text": [
            "{'fraction_overlap': 0.37844880441446965, 'fraction_classes': 1.0, 'fraction_uncovered': 0.3977110157367668, 'average_rule_width': 3.0, 'ruleset_length': 8}\n",
            "{'l1': 18.514403292181065, 'l2': 18.514403292181065, 'l3': 18.514403292181065, 'l4': 18.514403292181065, 'l5': 18.51440329218107, 'l6': 48, 'l7': 309}\n"
          ]
        },
        {
          "output_type": "stream",
          "name": "stderr",
          "text": [
            "/content/pyIDS/pyids/algorithms/ids_classifier.py:58: FutureWarning: iteritems is deprecated and will be removed in a future version. Use .items instead.\n",
            "  for name, value in row.iteritems():\n"
          ]
        },
        {
          "output_type": "stream",
          "name": "stdout",
          "text": [
            "{'fraction_overlap': 0.38314939709789486, 'fraction_classes': 1.0, 'fraction_uncovered': 0.40629470672389123, 'average_rule_width': 2.875, 'ruleset_length': 8}\n",
            "{'l1': 18.514403292181065, 'l2': 18.514403292181065, 'l3': 18.514403292181065, 'l4': 18.514403292181065, 'l5': 36.02880658436213, 'l6': 48, 'l7': 309}\n"
          ]
        },
        {
          "output_type": "stream",
          "name": "stderr",
          "text": [
            "/content/pyIDS/pyids/algorithms/ids_classifier.py:58: FutureWarning: iteritems is deprecated and will be removed in a future version. Use .items instead.\n",
            "  for name, value in row.iteritems():\n"
          ]
        },
        {
          "output_type": "stream",
          "name": "stdout",
          "text": [
            "{'fraction_overlap': 0.3702908917501192, 'fraction_classes': 1.0, 'fraction_uncovered': 0.42060085836909866, 'average_rule_width': 3.0, 'ruleset_length': 4}\n",
            "{'l1': 18.514403292181065, 'l2': 18.514403292181065, 'l3': 18.514403292181065, 'l4': 18.514403292181065, 'l5': 18.514403292181065, 'l6': 48, 'l7': 309}\n"
          ]
        },
        {
          "output_type": "stream",
          "name": "stderr",
          "text": [
            "/content/pyIDS/pyids/algorithms/ids_classifier.py:58: FutureWarning: iteritems is deprecated and will be removed in a future version. Use .items instead.\n",
            "  for name, value in row.iteritems():\n"
          ]
        },
        {
          "output_type": "stream",
          "name": "stdout",
          "text": [
            "{'fraction_overlap': 0.380829756795422, 'fraction_classes': 1.0, 'fraction_uncovered': 0.40629470672389123, 'average_rule_width': 3.0, 'ruleset_length': 5}\n",
            "using precision 50\n",
            "{'l1': 18.514403292181065, 'l2': 18.514403292181065, 'l3': 18.514403292181065, 'l4': 18.514403292181065, 'l5': 18.514403292181065, 'l6': 134.0, 'l7': 309}\n"
          ]
        },
        {
          "output_type": "stream",
          "name": "stderr",
          "text": [
            "/content/pyIDS/pyids/algorithms/ids_classifier.py:58: FutureWarning: iteritems is deprecated and will be removed in a future version. Use .items instead.\n",
            "  for name, value in row.iteritems():\n"
          ]
        },
        {
          "output_type": "stream",
          "name": "stdout",
          "text": [
            "{'fraction_overlap': 0.40591320934668573, 'fraction_classes': 1.0, 'fraction_uncovered': 0.4763948497854077, 'average_rule_width': 2.8333333333333335, 'ruleset_length': 6}\n",
            "{'l1': 18.514403292181065, 'l2': 18.514403292181065, 'l3': 18.514403292181065, 'l4': 18.514403292181065, 'l5': 18.514403292181065, 'l6': 267.0, 'l7': 309}\n"
          ]
        },
        {
          "output_type": "stream",
          "name": "stderr",
          "text": [
            "/content/pyIDS/pyids/algorithms/ids_classifier.py:58: FutureWarning: iteritems is deprecated and will be removed in a future version. Use .items instead.\n",
            "  for name, value in row.iteritems():\n"
          ]
        },
        {
          "output_type": "stream",
          "name": "stdout",
          "text": [
            "{'fraction_overlap': 0.38702908917501183, 'fraction_classes': 1.0, 'fraction_uncovered': 0.42060085836909866, 'average_rule_width': 2.8333333333333335, 'ruleset_length': 6}\n",
            "{'l1': 18.514403292181065, 'l2': 18.514403292181065, 'l3': 18.514403292181065, 'l4': 18.514403292181065, 'l5': 18.514403292181065, 'l6': 89.66666666666667, 'l7': 309}\n"
          ]
        },
        {
          "output_type": "stream",
          "name": "stderr",
          "text": [
            "/content/pyIDS/pyids/algorithms/ids_classifier.py:58: FutureWarning: iteritems is deprecated and will be removed in a future version. Use .items instead.\n",
            "  for name, value in row.iteritems():\n"
          ]
        },
        {
          "output_type": "stream",
          "name": "stdout",
          "text": [
            "{'fraction_overlap': 0.3836092376864909, 'fraction_classes': 1.0, 'fraction_uncovered': 0.40915593705293274, 'average_rule_width': 2.75, 'ruleset_length': 8}\n",
            "{'l1': 18.514403292181065, 'l2': 18.514403292181065, 'l3': 18.514403292181065, 'l4': 18.514403292181065, 'l5': 18.514403292181065, 'l6': 178.33333333333331, 'l7': 309}\n"
          ]
        },
        {
          "output_type": "stream",
          "name": "stderr",
          "text": [
            "/content/pyIDS/pyids/algorithms/ids_classifier.py:58: FutureWarning: iteritems is deprecated and will be removed in a future version. Use .items instead.\n",
            "  for name, value in row.iteritems():\n"
          ]
        },
        {
          "output_type": "stream",
          "name": "stdout",
          "text": [
            "{'fraction_overlap': 0.3819742489270386, 'fraction_classes': 1.0, 'fraction_uncovered': 0.41487839771101576, 'average_rule_width': 2.75, 'ruleset_length': 8}\n",
            "{'l1': 18.514403292181065, 'l2': 18.514403292181065, 'l3': 18.514403292181065, 'l4': 18.514403292181065, 'l5': 18.514403292181065, 'l6': 60.11111111111111, 'l7': 309}\n"
          ]
        },
        {
          "output_type": "stream",
          "name": "stderr",
          "text": [
            "/content/pyIDS/pyids/algorithms/ids_classifier.py:58: FutureWarning: iteritems is deprecated and will be removed in a future version. Use .items instead.\n",
            "  for name, value in row.iteritems():\n"
          ]
        },
        {
          "output_type": "stream",
          "name": "stdout",
          "text": [
            "{'fraction_overlap': 0.3812589413447782, 'fraction_classes': 1.0, 'fraction_uncovered': 0.40486409155937053, 'average_rule_width': 2.888888888888889, 'ruleset_length': 9}\n",
            "{'l1': 18.514403292181065, 'l2': 18.514403292181065, 'l3': 18.514403292181065, 'l4': 18.514403292181065, 'l5': 18.514403292181065, 'l6': 119.2222222222222, 'l7': 309}\n"
          ]
        },
        {
          "output_type": "stream",
          "name": "stderr",
          "text": [
            "/content/pyIDS/pyids/algorithms/ids_classifier.py:58: FutureWarning: iteritems is deprecated and will be removed in a future version. Use .items instead.\n",
            "  for name, value in row.iteritems():\n"
          ]
        },
        {
          "output_type": "stream",
          "name": "stdout",
          "text": [
            "{'fraction_overlap': 0.38439834684469876, 'fraction_classes': 1.0, 'fraction_uncovered': 0.3962804005722461, 'average_rule_width': 2.888888888888889, 'ruleset_length': 9}\n",
            "{'l1': 18.514403292181065, 'l2': 18.514403292181065, 'l3': 18.514403292181065, 'l4': 18.514403292181065, 'l5': 18.514403292181065, 'l6': 40.4074074074074, 'l7': 309}\n"
          ]
        },
        {
          "output_type": "stream",
          "name": "stderr",
          "text": [
            "/content/pyIDS/pyids/algorithms/ids_classifier.py:58: FutureWarning: iteritems is deprecated and will be removed in a future version. Use .items instead.\n",
            "  for name, value in row.iteritems():\n"
          ]
        },
        {
          "output_type": "stream",
          "name": "stdout",
          "text": [
            "{'fraction_overlap': 0.3695755841678588, 'fraction_classes': 1.0, 'fraction_uncovered': 0.4391988555078684, 'average_rule_width': 2.6666666666666665, 'ruleset_length': 3}\n",
            "{'l1': 18.514403292181065, 'l2': 18.514403292181065, 'l3': 18.514403292181065, 'l4': 18.514403292181065, 'l5': 18.514403292181065, 'l6': 79.81481481481481, 'l7': 309}\n"
          ]
        },
        {
          "output_type": "stream",
          "name": "stderr",
          "text": [
            "/content/pyIDS/pyids/algorithms/ids_classifier.py:58: FutureWarning: iteritems is deprecated and will be removed in a future version. Use .items instead.\n",
            "  for name, value in row.iteritems():\n"
          ]
        },
        {
          "output_type": "stream",
          "name": "stdout",
          "text": [
            "{'fraction_overlap': 0.36738197424892705, 'fraction_classes': 1.0, 'fraction_uncovered': 0.4277539341917025, 'average_rule_width': 2.8, 'ruleset_length': 5}\n",
            "{'l1': 18.514403292181065, 'l2': 18.514403292181065, 'l3': 18.514403292181065, 'l4': 18.514403292181065, 'l5': 18.514403292181065, 'l6': 27.271604938271604, 'l7': 309}\n"
          ]
        },
        {
          "output_type": "stream",
          "name": "stderr",
          "text": [
            "/content/pyIDS/pyids/algorithms/ids_classifier.py:58: FutureWarning: iteritems is deprecated and will be removed in a future version. Use .items instead.\n",
            "  for name, value in row.iteritems():\n"
          ]
        },
        {
          "output_type": "stream",
          "name": "stdout",
          "text": [
            "{'fraction_overlap': 0.38217862252197016, 'fraction_classes': 1.0, 'fraction_uncovered': 0.41201716738197425, 'average_rule_width': 2.857142857142857, 'ruleset_length': 7}\n",
            "{'l1': 18.514403292181065, 'l2': 18.514403292181065, 'l3': 18.514403292181065, 'l4': 18.514403292181065, 'l5': 18.514403292181065, 'l6': 53.5432098765432, 'l7': 309}\n"
          ]
        },
        {
          "output_type": "stream",
          "name": "stderr",
          "text": [
            "/content/pyIDS/pyids/algorithms/ids_classifier.py:58: FutureWarning: iteritems is deprecated and will be removed in a future version. Use .items instead.\n",
            "  for name, value in row.iteritems():\n"
          ]
        },
        {
          "output_type": "stream",
          "name": "stdout",
          "text": [
            "{'fraction_overlap': 0.4122556032427277, 'fraction_classes': 1.0, 'fraction_uncovered': 0.4363376251788269, 'average_rule_width': 2.75, 'ruleset_length': 4}\n",
            "{'l1': 18.514403292181065, 'l2': 18.514403292181065, 'l3': 18.514403292181065, 'l4': 18.514403292181065, 'l5': 18.514403292181065, 'l6': 18.51440329218107, 'l7': 309}\n"
          ]
        },
        {
          "output_type": "stream",
          "name": "stderr",
          "text": [
            "/content/pyIDS/pyids/algorithms/ids_classifier.py:58: FutureWarning: iteritems is deprecated and will be removed in a future version. Use .items instead.\n",
            "  for name, value in row.iteritems():\n"
          ]
        },
        {
          "output_type": "stream",
          "name": "stdout",
          "text": [
            "{'fraction_overlap': 0.38884120171673825, 'fraction_classes': 1.0, 'fraction_uncovered': 0.41058655221745355, 'average_rule_width': 3.0, 'ruleset_length': 5}\n",
            "{'l1': 18.514403292181065, 'l2': 18.514403292181065, 'l3': 18.514403292181065, 'l4': 18.514403292181065, 'l5': 18.514403292181065, 'l6': 36.02880658436213, 'l7': 309}\n"
          ]
        },
        {
          "output_type": "stream",
          "name": "stderr",
          "text": [
            "/content/pyIDS/pyids/algorithms/ids_classifier.py:58: FutureWarning: iteritems is deprecated and will be removed in a future version. Use .items instead.\n",
            "  for name, value in row.iteritems():\n"
          ]
        },
        {
          "output_type": "stream",
          "name": "stdout",
          "text": [
            "{'fraction_overlap': 0.3657776415287145, 'fraction_classes': 1.0, 'fraction_uncovered': 0.40915593705293274, 'average_rule_width': 3.0, 'ruleset_length': 8}\n",
            "{'l1': 18.514403292181065, 'l2': 18.514403292181065, 'l3': 18.514403292181065, 'l4': 18.514403292181065, 'l5': 18.514403292181065, 'l6': 18.514403292181065, 'l7': 309}\n"
          ]
        },
        {
          "output_type": "stream",
          "name": "stderr",
          "text": [
            "/content/pyIDS/pyids/algorithms/ids_classifier.py:58: FutureWarning: iteritems is deprecated and will be removed in a future version. Use .items instead.\n",
            "  for name, value in row.iteritems():\n"
          ]
        },
        {
          "output_type": "stream",
          "name": "stdout",
          "text": [
            "{'fraction_overlap': 0.40438721983786363, 'fraction_classes': 1.0, 'fraction_uncovered': 0.40629470672389123, 'average_rule_width': 3.0, 'ruleset_length': 6}\n",
            "using precision 50\n",
            "{'l1': 18.514403292181065, 'l2': 18.514403292181065, 'l3': 18.514403292181065, 'l4': 18.514403292181065, 'l5': 18.514403292181065, 'l6': 18.514403292181065, 'l7': 134.0}\n"
          ]
        },
        {
          "output_type": "stream",
          "name": "stderr",
          "text": [
            "/content/pyIDS/pyids/algorithms/ids_classifier.py:58: FutureWarning: iteritems is deprecated and will be removed in a future version. Use .items instead.\n",
            "  for name, value in row.iteritems():\n"
          ]
        },
        {
          "output_type": "stream",
          "name": "stdout",
          "text": [
            "{'fraction_overlap': 0.3723005654336127, 'fraction_classes': 1.0, 'fraction_uncovered': 0.40915593705293274, 'average_rule_width': 2.5714285714285716, 'ruleset_length': 7}\n",
            "{'l1': 18.514403292181065, 'l2': 18.514403292181065, 'l3': 18.514403292181065, 'l4': 18.514403292181065, 'l5': 18.514403292181065, 'l6': 18.514403292181065, 'l7': 267.0}\n"
          ]
        },
        {
          "output_type": "stream",
          "name": "stderr",
          "text": [
            "/content/pyIDS/pyids/algorithms/ids_classifier.py:58: FutureWarning: iteritems is deprecated and will be removed in a future version. Use .items instead.\n",
            "  for name, value in row.iteritems():\n"
          ]
        },
        {
          "output_type": "stream",
          "name": "stdout",
          "text": [
            "{'fraction_overlap': 0.36952789699570826, 'fraction_classes': 1.0, 'fraction_uncovered': 0.42060085836909866, 'average_rule_width': 3.0, 'ruleset_length': 5}\n",
            "{'l1': 18.514403292181065, 'l2': 18.514403292181065, 'l3': 18.514403292181065, 'l4': 18.514403292181065, 'l5': 18.514403292181065, 'l6': 18.514403292181065, 'l7': 89.66666666666667}\n"
          ]
        },
        {
          "output_type": "stream",
          "name": "stderr",
          "text": [
            "/content/pyIDS/pyids/algorithms/ids_classifier.py:58: FutureWarning: iteritems is deprecated and will be removed in a future version. Use .items instead.\n",
            "  for name, value in row.iteritems():\n"
          ]
        },
        {
          "output_type": "stream",
          "name": "stdout",
          "text": [
            "{'fraction_overlap': 0.3919885550786839, 'fraction_classes': 1.0, 'fraction_uncovered': 0.42060085836909866, 'average_rule_width': 3.0, 'ruleset_length': 3}\n",
            "{'l1': 18.514403292181065, 'l2': 18.514403292181065, 'l3': 18.514403292181065, 'l4': 18.514403292181065, 'l5': 18.514403292181065, 'l6': 18.514403292181065, 'l7': 178.33333333333331}\n"
          ]
        },
        {
          "output_type": "stream",
          "name": "stderr",
          "text": [
            "/content/pyIDS/pyids/algorithms/ids_classifier.py:58: FutureWarning: iteritems is deprecated and will be removed in a future version. Use .items instead.\n",
            "  for name, value in row.iteritems():\n"
          ]
        },
        {
          "output_type": "stream",
          "name": "stdout",
          "text": [
            "{'fraction_overlap': 0.3852646638054364, 'fraction_classes': 1.0, 'fraction_uncovered': 0.40343347639484983, 'average_rule_width': 3.0, 'ruleset_length': 5}\n",
            "{'l1': 18.514403292181065, 'l2': 18.514403292181065, 'l3': 18.514403292181065, 'l4': 18.514403292181065, 'l5': 18.514403292181065, 'l6': 18.514403292181065, 'l7': 60.11111111111111}\n"
          ]
        },
        {
          "output_type": "stream",
          "name": "stderr",
          "text": [
            "/content/pyIDS/pyids/algorithms/ids_classifier.py:58: FutureWarning: iteritems is deprecated and will be removed in a future version. Use .items instead.\n",
            "  for name, value in row.iteritems():\n"
          ]
        },
        {
          "output_type": "stream",
          "name": "stdout",
          "text": [
            "{'fraction_overlap': 0.37262756318550316, 'fraction_classes': 1.0, 'fraction_uncovered': 0.41630901287553645, 'average_rule_width': 2.8333333333333335, 'ruleset_length': 6}\n",
            "{'l1': 18.514403292181065, 'l2': 18.514403292181065, 'l3': 18.514403292181065, 'l4': 18.514403292181065, 'l5': 18.514403292181065, 'l6': 18.514403292181065, 'l7': 119.2222222222222}\n"
          ]
        },
        {
          "output_type": "stream",
          "name": "stderr",
          "text": [
            "/content/pyIDS/pyids/algorithms/ids_classifier.py:58: FutureWarning: iteritems is deprecated and will be removed in a future version. Use .items instead.\n",
            "  for name, value in row.iteritems():\n"
          ]
        },
        {
          "output_type": "stream",
          "name": "stdout",
          "text": [
            "{'fraction_overlap': 0.37604741467402414, 'fraction_classes': 1.0, 'fraction_uncovered': 0.40343347639484983, 'average_rule_width': 2.7142857142857144, 'ruleset_length': 7}\n",
            "{'l1': 18.514403292181065, 'l2': 18.514403292181065, 'l3': 18.514403292181065, 'l4': 18.514403292181065, 'l5': 18.514403292181065, 'l6': 18.514403292181065, 'l7': 40.4074074074074}\n"
          ]
        },
        {
          "output_type": "stream",
          "name": "stderr",
          "text": [
            "/content/pyIDS/pyids/algorithms/ids_classifier.py:58: FutureWarning: iteritems is deprecated and will be removed in a future version. Use .items instead.\n",
            "  for name, value in row.iteritems():\n"
          ]
        },
        {
          "output_type": "stream",
          "name": "stdout",
          "text": [
            "{'fraction_overlap': 0.40731657469854887, 'fraction_classes': 1.0, 'fraction_uncovered': 0.40915593705293274, 'average_rule_width': 2.625, 'ruleset_length': 8}\n",
            "{'l1': 18.514403292181065, 'l2': 18.514403292181065, 'l3': 18.514403292181065, 'l4': 18.514403292181065, 'l5': 18.514403292181065, 'l6': 18.514403292181065, 'l7': 79.81481481481481}\n"
          ]
        },
        {
          "output_type": "stream",
          "name": "stderr",
          "text": [
            "/content/pyIDS/pyids/algorithms/ids_classifier.py:58: FutureWarning: iteritems is deprecated and will be removed in a future version. Use .items instead.\n",
            "  for name, value in row.iteritems():\n"
          ]
        },
        {
          "output_type": "stream",
          "name": "stdout",
          "text": [
            "{'fraction_overlap': 0.40324272770624703, 'fraction_classes': 1.0, 'fraction_uncovered': 0.40629470672389123, 'average_rule_width': 3.0, 'ruleset_length': 6}\n",
            "{'l1': 18.514403292181065, 'l2': 18.514403292181065, 'l3': 18.514403292181065, 'l4': 18.514403292181065, 'l5': 18.514403292181065, 'l6': 18.514403292181065, 'l7': 27.271604938271604}\n"
          ]
        },
        {
          "output_type": "stream",
          "name": "stderr",
          "text": [
            "/content/pyIDS/pyids/algorithms/ids_classifier.py:58: FutureWarning: iteritems is deprecated and will be removed in a future version. Use .items instead.\n",
            "  for name, value in row.iteritems():\n"
          ]
        },
        {
          "output_type": "stream",
          "name": "stdout",
          "text": [
            "{'fraction_overlap': 0.3665236051502146, 'fraction_classes': 1.0, 'fraction_uncovered': 0.44778254649499283, 'average_rule_width': 2.8, 'ruleset_length': 5}\n",
            "{'l1': 18.514403292181065, 'l2': 18.514403292181065, 'l3': 18.514403292181065, 'l4': 18.514403292181065, 'l5': 18.514403292181065, 'l6': 18.514403292181065, 'l7': 53.5432098765432}\n"
          ]
        },
        {
          "output_type": "stream",
          "name": "stderr",
          "text": [
            "/content/pyIDS/pyids/algorithms/ids_classifier.py:58: FutureWarning: iteritems is deprecated and will be removed in a future version. Use .items instead.\n",
            "  for name, value in row.iteritems():\n"
          ]
        },
        {
          "output_type": "stream",
          "name": "stdout",
          "text": [
            "{'fraction_overlap': 0.4243204577968526, 'fraction_classes': 1.0, 'fraction_uncovered': 0.45350500715307585, 'average_rule_width': 2.8333333333333335, 'ruleset_length': 6}\n",
            "{'l1': 18.514403292181065, 'l2': 18.514403292181065, 'l3': 18.514403292181065, 'l4': 18.514403292181065, 'l5': 18.514403292181065, 'l6': 18.514403292181065, 'l7': 18.51440329218107}\n"
          ]
        },
        {
          "output_type": "stream",
          "name": "stderr",
          "text": [
            "/content/pyIDS/pyids/algorithms/ids_classifier.py:58: FutureWarning: iteritems is deprecated and will be removed in a future version. Use .items instead.\n",
            "  for name, value in row.iteritems():\n"
          ]
        },
        {
          "output_type": "stream",
          "name": "stdout",
          "text": [
            "{'fraction_overlap': 0.38044825941821653, 'fraction_classes': 1.0, 'fraction_uncovered': 0.41487839771101576, 'average_rule_width': 3.0, 'ruleset_length': 6}\n",
            "{'l1': 18.514403292181065, 'l2': 18.514403292181065, 'l3': 18.514403292181065, 'l4': 18.514403292181065, 'l5': 18.514403292181065, 'l6': 18.514403292181065, 'l7': 36.02880658436213}\n"
          ]
        },
        {
          "output_type": "stream",
          "name": "stderr",
          "text": [
            "/content/pyIDS/pyids/algorithms/ids_classifier.py:58: FutureWarning: iteritems is deprecated and will be removed in a future version. Use .items instead.\n",
            "  for name, value in row.iteritems():\n"
          ]
        },
        {
          "output_type": "stream",
          "name": "stdout",
          "text": [
            "{'fraction_overlap': 0.3844380861548243, 'fraction_classes': 1.0, 'fraction_uncovered': 0.402002861230329, 'average_rule_width': 3.0, 'ruleset_length': 9}\n",
            "{'l1': 18.514403292181065, 'l2': 18.514403292181065, 'l3': 18.514403292181065, 'l4': 18.514403292181065, 'l5': 18.514403292181065, 'l6': 18.514403292181065, 'l7': 18.514403292181065}\n"
          ]
        },
        {
          "output_type": "stream",
          "name": "stderr",
          "text": [
            "/content/pyIDS/pyids/algorithms/ids_classifier.py:58: FutureWarning: iteritems is deprecated and will be removed in a future version. Use .items instead.\n",
            "  for name, value in row.iteritems():\n"
          ]
        },
        {
          "output_type": "stream",
          "name": "stdout",
          "text": [
            "{'fraction_overlap': 0.378413606739787, 'fraction_classes': 1.0, 'fraction_uncovered': 0.3991416309012875, 'average_rule_width': 2.9, 'ruleset_length': 10}\n",
            "using precision 25.0\n",
            "{'l1': 134.0, 'l2': 18.514403292181065, 'l3': 18.514403292181065, 'l4': 18.514403292181065, 'l5': 18.514403292181065, 'l6': 18.514403292181065, 'l7': 18.514403292181065}\n"
          ]
        },
        {
          "output_type": "stream",
          "name": "stderr",
          "text": [
            "/content/pyIDS/pyids/algorithms/ids_classifier.py:58: FutureWarning: iteritems is deprecated and will be removed in a future version. Use .items instead.\n",
            "  for name, value in row.iteritems():\n"
          ]
        },
        {
          "output_type": "stream",
          "name": "stdout",
          "text": [
            "{'fraction_overlap': 0.3594931534845697, 'fraction_classes': 1.0, 'fraction_uncovered': 0.41487839771101576, 'average_rule_width': 2.857142857142857, 'ruleset_length': 7}\n",
            "{'l1': 267.0, 'l2': 18.514403292181065, 'l3': 18.514403292181065, 'l4': 18.514403292181065, 'l5': 18.514403292181065, 'l6': 18.514403292181065, 'l7': 18.514403292181065}\n"
          ]
        },
        {
          "output_type": "stream",
          "name": "stderr",
          "text": [
            "/content/pyIDS/pyids/algorithms/ids_classifier.py:58: FutureWarning: iteritems is deprecated and will be removed in a future version. Use .items instead.\n",
            "  for name, value in row.iteritems():\n"
          ]
        },
        {
          "output_type": "stream",
          "name": "stdout",
          "text": [
            "{'fraction_overlap': 0.41959942775393416, 'fraction_classes': 1.0, 'fraction_uncovered': 0.4763948497854077, 'average_rule_width': 3.0, 'ruleset_length': 5}\n",
            "{'l1': 89.66666666666667, 'l2': 18.514403292181065, 'l3': 18.514403292181065, 'l4': 18.514403292181065, 'l5': 18.514403292181065, 'l6': 18.514403292181065, 'l7': 18.514403292181065}\n"
          ]
        },
        {
          "output_type": "stream",
          "name": "stderr",
          "text": [
            "/content/pyIDS/pyids/algorithms/ids_classifier.py:58: FutureWarning: iteritems is deprecated and will be removed in a future version. Use .items instead.\n",
            "  for name, value in row.iteritems():\n"
          ]
        },
        {
          "output_type": "stream",
          "name": "stdout",
          "text": [
            "{'fraction_overlap': 0.3788745827372436, 'fraction_classes': 1.0, 'fraction_uncovered': 0.41630901287553645, 'average_rule_width': 3.0, 'ruleset_length': 4}\n",
            "{'l1': 178.33333333333331, 'l2': 18.514403292181065, 'l3': 18.514403292181065, 'l4': 18.514403292181065, 'l5': 18.514403292181065, 'l6': 18.514403292181065, 'l7': 18.514403292181065}\n"
          ]
        },
        {
          "output_type": "stream",
          "name": "stderr",
          "text": [
            "/content/pyIDS/pyids/algorithms/ids_classifier.py:58: FutureWarning: iteritems is deprecated and will be removed in a future version. Use .items instead.\n",
            "  for name, value in row.iteritems():\n"
          ]
        },
        {
          "output_type": "stream",
          "name": "stdout",
          "text": [
            "{'fraction_overlap': 0.35493562231759657, 'fraction_classes': 1.0, 'fraction_uncovered': 0.41773962804005726, 'average_rule_width': 3.0, 'ruleset_length': 5}\n",
            "{'l1': 60.11111111111111, 'l2': 18.514403292181065, 'l3': 18.514403292181065, 'l4': 18.514403292181065, 'l5': 18.514403292181065, 'l6': 18.514403292181065, 'l7': 18.514403292181065}\n"
          ]
        },
        {
          "output_type": "stream",
          "name": "stderr",
          "text": [
            "/content/pyIDS/pyids/algorithms/ids_classifier.py:58: FutureWarning: iteritems is deprecated and will be removed in a future version. Use .items instead.\n",
            "  for name, value in row.iteritems():\n"
          ]
        },
        {
          "output_type": "stream",
          "name": "stdout",
          "text": [
            "{'fraction_overlap': 0.3874185344142425, 'fraction_classes': 1.0, 'fraction_uncovered': 0.3991416309012875, 'average_rule_width': 3.0, 'ruleset_length': 9}\n",
            "{'l1': 119.2222222222222, 'l2': 18.514403292181065, 'l3': 18.514403292181065, 'l4': 18.514403292181065, 'l5': 18.514403292181065, 'l6': 18.514403292181065, 'l7': 18.514403292181065}\n"
          ]
        },
        {
          "output_type": "stream",
          "name": "stderr",
          "text": [
            "/content/pyIDS/pyids/algorithms/ids_classifier.py:58: FutureWarning: iteritems is deprecated and will be removed in a future version. Use .items instead.\n",
            "  for name, value in row.iteritems():\n"
          ]
        },
        {
          "output_type": "stream",
          "name": "stdout",
          "text": [
            "{'fraction_overlap': 0.3884597043395327, 'fraction_classes': 1.0, 'fraction_uncovered': 0.3991416309012875, 'average_rule_width': 3.0, 'ruleset_length': 6}\n",
            "{'l1': 40.4074074074074, 'l2': 18.514403292181065, 'l3': 18.514403292181065, 'l4': 18.514403292181065, 'l5': 18.514403292181065, 'l6': 18.514403292181065, 'l7': 18.514403292181065}\n"
          ]
        },
        {
          "output_type": "stream",
          "name": "stderr",
          "text": [
            "/content/pyIDS/pyids/algorithms/ids_classifier.py:58: FutureWarning: iteritems is deprecated and will be removed in a future version. Use .items instead.\n",
            "  for name, value in row.iteritems():\n"
          ]
        },
        {
          "output_type": "stream",
          "name": "stdout",
          "text": [
            "{'fraction_overlap': 0.3705804210096056, 'fraction_classes': 1.0, 'fraction_uncovered': 0.41058655221745355, 'average_rule_width': 3.0, 'ruleset_length': 8}\n",
            "{'l1': 79.81481481481481, 'l2': 18.514403292181065, 'l3': 18.514403292181065, 'l4': 18.514403292181065, 'l5': 18.514403292181065, 'l6': 18.514403292181065, 'l7': 18.514403292181065}\n"
          ]
        },
        {
          "output_type": "stream",
          "name": "stderr",
          "text": [
            "/content/pyIDS/pyids/algorithms/ids_classifier.py:58: FutureWarning: iteritems is deprecated and will be removed in a future version. Use .items instead.\n",
            "  for name, value in row.iteritems():\n"
          ]
        },
        {
          "output_type": "stream",
          "name": "stdout",
          "text": [
            "{'fraction_overlap': 0.3798283261802575, 'fraction_classes': 1.0, 'fraction_uncovered': 0.41773962804005726, 'average_rule_width': 3.0, 'ruleset_length': 5}\n",
            "{'l1': 27.271604938271604, 'l2': 18.514403292181065, 'l3': 18.514403292181065, 'l4': 18.514403292181065, 'l5': 18.514403292181065, 'l6': 18.514403292181065, 'l7': 18.514403292181065}\n"
          ]
        },
        {
          "output_type": "stream",
          "name": "stderr",
          "text": [
            "/content/pyIDS/pyids/algorithms/ids_classifier.py:58: FutureWarning: iteritems is deprecated and will be removed in a future version. Use .items instead.\n",
            "  for name, value in row.iteritems():\n"
          ]
        },
        {
          "output_type": "stream",
          "name": "stdout",
          "text": [
            "{'fraction_overlap': 0.38360923768649086, 'fraction_classes': 1.0, 'fraction_uncovered': 0.402002861230329, 'average_rule_width': 2.857142857142857, 'ruleset_length': 7}\n",
            "{'l1': 53.5432098765432, 'l2': 18.514403292181065, 'l3': 18.514403292181065, 'l4': 18.514403292181065, 'l5': 18.514403292181065, 'l6': 18.514403292181065, 'l7': 18.514403292181065}\n"
          ]
        },
        {
          "output_type": "stream",
          "name": "stderr",
          "text": [
            "/content/pyIDS/pyids/algorithms/ids_classifier.py:58: FutureWarning: iteritems is deprecated and will be removed in a future version. Use .items instead.\n",
            "  for name, value in row.iteritems():\n"
          ]
        },
        {
          "output_type": "stream",
          "name": "stdout",
          "text": [
            "{'fraction_overlap': 0.3985693848354793, 'fraction_classes': 1.0, 'fraction_uncovered': 0.45350500715307585, 'average_rule_width': 3.0, 'ruleset_length': 6}\n",
            "{'l1': 18.51440329218107, 'l2': 18.514403292181065, 'l3': 18.514403292181065, 'l4': 18.514403292181065, 'l5': 18.514403292181065, 'l6': 18.514403292181065, 'l7': 18.514403292181065}\n"
          ]
        },
        {
          "output_type": "stream",
          "name": "stderr",
          "text": [
            "/content/pyIDS/pyids/algorithms/ids_classifier.py:58: FutureWarning: iteritems is deprecated and will be removed in a future version. Use .items instead.\n",
            "  for name, value in row.iteritems():\n"
          ]
        },
        {
          "output_type": "stream",
          "name": "stdout",
          "text": [
            "{'fraction_overlap': 0.38388173581306634, 'fraction_classes': 1.0, 'fraction_uncovered': 0.41201716738197425, 'average_rule_width': 2.8333333333333335, 'ruleset_length': 6}\n",
            "{'l1': 36.02880658436213, 'l2': 18.514403292181065, 'l3': 18.514403292181065, 'l4': 18.514403292181065, 'l5': 18.514403292181065, 'l6': 18.514403292181065, 'l7': 18.514403292181065}\n"
          ]
        },
        {
          "output_type": "stream",
          "name": "stderr",
          "text": [
            "/content/pyIDS/pyids/algorithms/ids_classifier.py:58: FutureWarning: iteritems is deprecated and will be removed in a future version. Use .items instead.\n",
            "  for name, value in row.iteritems():\n"
          ]
        },
        {
          "output_type": "stream",
          "name": "stdout",
          "text": [
            "{'fraction_overlap': 0.37310443490701, 'fraction_classes': 1.0, 'fraction_uncovered': 0.41344778254649495, 'average_rule_width': 3.0, 'ruleset_length': 6}\n",
            "{'l1': 12.676268861454043, 'l2': 18.514403292181065, 'l3': 18.514403292181065, 'l4': 18.514403292181065, 'l5': 18.514403292181065, 'l6': 18.514403292181065, 'l7': 18.514403292181065}\n"
          ]
        },
        {
          "output_type": "stream",
          "name": "stderr",
          "text": [
            "/content/pyIDS/pyids/algorithms/ids_classifier.py:58: FutureWarning: iteritems is deprecated and will be removed in a future version. Use .items instead.\n",
            "  for name, value in row.iteritems():\n"
          ]
        },
        {
          "output_type": "stream",
          "name": "stdout",
          "text": [
            "{'fraction_overlap': 0.3792950968916633, 'fraction_classes': 1.0, 'fraction_uncovered': 0.3977110157367668, 'average_rule_width': 2.909090909090909, 'ruleset_length': 11}\n",
            "{'l1': 24.35253772290809, 'l2': 18.514403292181065, 'l3': 18.514403292181065, 'l4': 18.514403292181065, 'l5': 18.514403292181065, 'l6': 18.514403292181065, 'l7': 18.514403292181065}\n"
          ]
        },
        {
          "output_type": "stream",
          "name": "stderr",
          "text": [
            "/content/pyIDS/pyids/algorithms/ids_classifier.py:58: FutureWarning: iteritems is deprecated and will be removed in a future version. Use .items instead.\n",
            "  for name, value in row.iteritems():\n"
          ]
        },
        {
          "output_type": "stream",
          "name": "stdout",
          "text": [
            "{'fraction_overlap': 0.3868792152053954, 'fraction_classes': 1.0, 'fraction_uncovered': 0.40486409155937053, 'average_rule_width': 2.857142857142857, 'ruleset_length': 7}\n",
            "{'l1': 12.676268861454044, 'l2': 18.514403292181065, 'l3': 18.514403292181065, 'l4': 18.514403292181065, 'l5': 18.514403292181065, 'l6': 18.514403292181065, 'l7': 18.514403292181065}\n"
          ]
        },
        {
          "output_type": "stream",
          "name": "stderr",
          "text": [
            "/content/pyIDS/pyids/algorithms/ids_classifier.py:58: FutureWarning: iteritems is deprecated and will be removed in a future version. Use .items instead.\n",
            "  for name, value in row.iteritems():\n"
          ]
        },
        {
          "output_type": "stream",
          "name": "stdout",
          "text": [
            "{'fraction_overlap': 0.36289938006676203, 'fraction_classes': 1.0, 'fraction_uncovered': 0.40915593705293274, 'average_rule_width': 3.0, 'ruleset_length': 7}\n",
            "using precision 25.0\n",
            "{'l1': 12.676268861454044, 'l2': 134.0, 'l3': 18.514403292181065, 'l4': 18.514403292181065, 'l5': 18.514403292181065, 'l6': 18.514403292181065, 'l7': 18.514403292181065}\n"
          ]
        },
        {
          "output_type": "stream",
          "name": "stderr",
          "text": [
            "/content/pyIDS/pyids/algorithms/ids_classifier.py:58: FutureWarning: iteritems is deprecated and will be removed in a future version. Use .items instead.\n",
            "  for name, value in row.iteritems():\n"
          ]
        },
        {
          "output_type": "stream",
          "name": "stdout",
          "text": [
            "{'fraction_overlap': 0.39055793991416304, 'fraction_classes': 1.0, 'fraction_uncovered': 0.4334763948497854, 'average_rule_width': 3.0, 'ruleset_length': 4}\n",
            "{'l1': 12.676268861454044, 'l2': 267.0, 'l3': 18.514403292181065, 'l4': 18.514403292181065, 'l5': 18.514403292181065, 'l6': 18.514403292181065, 'l7': 18.514403292181065}\n"
          ]
        },
        {
          "output_type": "stream",
          "name": "stderr",
          "text": [
            "/content/pyIDS/pyids/algorithms/ids_classifier.py:58: FutureWarning: iteritems is deprecated and will be removed in a future version. Use .items instead.\n",
            "  for name, value in row.iteritems():\n"
          ]
        },
        {
          "output_type": "stream",
          "name": "stdout",
          "text": [
            "{'fraction_overlap': 0.3775393419170243, 'fraction_classes': 1.0, 'fraction_uncovered': 0.3991416309012875, 'average_rule_width': 2.8, 'ruleset_length': 5}\n",
            "{'l1': 12.676268861454044, 'l2': 89.66666666666667, 'l3': 18.514403292181065, 'l4': 18.514403292181065, 'l5': 18.514403292181065, 'l6': 18.514403292181065, 'l7': 18.514403292181065}\n"
          ]
        },
        {
          "output_type": "stream",
          "name": "stderr",
          "text": [
            "/content/pyIDS/pyids/algorithms/ids_classifier.py:58: FutureWarning: iteritems is deprecated and will be removed in a future version. Use .items instead.\n",
            "  for name, value in row.iteritems():\n"
          ]
        },
        {
          "output_type": "stream",
          "name": "stdout",
          "text": [
            "{'fraction_overlap': 0.40429184549356223, 'fraction_classes': 1.0, 'fraction_uncovered': 0.4763948497854077, 'average_rule_width': 2.8333333333333335, 'ruleset_length': 6}\n",
            "{'l1': 12.676268861454044, 'l2': 178.33333333333331, 'l3': 18.514403292181065, 'l4': 18.514403292181065, 'l5': 18.514403292181065, 'l6': 18.514403292181065, 'l7': 18.514403292181065}\n"
          ]
        },
        {
          "output_type": "stream",
          "name": "stderr",
          "text": [
            "/content/pyIDS/pyids/algorithms/ids_classifier.py:58: FutureWarning: iteritems is deprecated and will be removed in a future version. Use .items instead.\n",
            "  for name, value in row.iteritems():\n"
          ]
        },
        {
          "output_type": "stream",
          "name": "stdout",
          "text": [
            "{'fraction_overlap': 0.38939982287621777, 'fraction_classes': 1.0, 'fraction_uncovered': 0.41487839771101576, 'average_rule_width': 2.857142857142857, 'ruleset_length': 7}\n",
            "{'l1': 12.676268861454044, 'l2': 60.11111111111111, 'l3': 18.514403292181065, 'l4': 18.514403292181065, 'l5': 18.514403292181065, 'l6': 18.514403292181065, 'l7': 18.514403292181065}\n"
          ]
        },
        {
          "output_type": "stream",
          "name": "stderr",
          "text": [
            "/content/pyIDS/pyids/algorithms/ids_classifier.py:58: FutureWarning: iteritems is deprecated and will be removed in a future version. Use .items instead.\n",
            "  for name, value in row.iteritems():\n"
          ]
        },
        {
          "output_type": "stream",
          "name": "stdout",
          "text": [
            "{'fraction_overlap': 0.37119694802098235, 'fraction_classes': 1.0, 'fraction_uncovered': 0.4220314735336195, 'average_rule_width': 3.0, 'ruleset_length': 6}\n",
            "{'l1': 12.676268861454044, 'l2': 119.2222222222222, 'l3': 18.514403292181065, 'l4': 18.514403292181065, 'l5': 18.514403292181065, 'l6': 18.514403292181065, 'l7': 18.514403292181065}\n"
          ]
        },
        {
          "output_type": "stream",
          "name": "stderr",
          "text": [
            "/content/pyIDS/pyids/algorithms/ids_classifier.py:58: FutureWarning: iteritems is deprecated and will be removed in a future version. Use .items instead.\n",
            "  for name, value in row.iteritems():\n"
          ]
        },
        {
          "output_type": "stream",
          "name": "stdout",
          "text": [
            "{'fraction_overlap': 0.4266094420600859, 'fraction_classes': 1.0, 'fraction_uncovered': 0.45064377682403434, 'average_rule_width': 3.0, 'ruleset_length': 5}\n",
            "{'l1': 12.676268861454044, 'l2': 40.4074074074074, 'l3': 18.514403292181065, 'l4': 18.514403292181065, 'l5': 18.514403292181065, 'l6': 18.514403292181065, 'l7': 18.514403292181065}\n"
          ]
        },
        {
          "output_type": "stream",
          "name": "stderr",
          "text": [
            "/content/pyIDS/pyids/algorithms/ids_classifier.py:58: FutureWarning: iteritems is deprecated and will be removed in a future version. Use .items instead.\n",
            "  for name, value in row.iteritems():\n"
          ]
        },
        {
          "output_type": "stream",
          "name": "stdout",
          "text": [
            "{'fraction_overlap': 0.39536639643935784, 'fraction_classes': 1.0, 'fraction_uncovered': 0.3977110157367668, 'average_rule_width': 2.7777777777777777, 'ruleset_length': 9}\n",
            "{'l1': 12.676268861454044, 'l2': 79.81481481481481, 'l3': 18.514403292181065, 'l4': 18.514403292181065, 'l5': 18.514403292181065, 'l6': 18.514403292181065, 'l7': 18.514403292181065}\n"
          ]
        },
        {
          "output_type": "stream",
          "name": "stderr",
          "text": [
            "/content/pyIDS/pyids/algorithms/ids_classifier.py:58: FutureWarning: iteritems is deprecated and will be removed in a future version. Use .items instead.\n",
            "  for name, value in row.iteritems():\n"
          ]
        },
        {
          "output_type": "stream",
          "name": "stdout",
          "text": [
            "{'fraction_overlap': 0.4021618184708314, 'fraction_classes': 1.0, 'fraction_uncovered': 0.41487839771101576, 'average_rule_width': 2.6666666666666665, 'ruleset_length': 9}\n",
            "{'l1': 12.676268861454044, 'l2': 27.271604938271604, 'l3': 18.514403292181065, 'l4': 18.514403292181065, 'l5': 18.514403292181065, 'l6': 18.514403292181065, 'l7': 18.514403292181065}\n"
          ]
        },
        {
          "output_type": "stream",
          "name": "stderr",
          "text": [
            "/content/pyIDS/pyids/algorithms/ids_classifier.py:58: FutureWarning: iteritems is deprecated and will be removed in a future version. Use .items instead.\n",
            "  for name, value in row.iteritems():\n"
          ]
        },
        {
          "output_type": "stream",
          "name": "stdout",
          "text": [
            "{'fraction_overlap': 0.3840861094079979, 'fraction_classes': 1.0, 'fraction_uncovered': 0.40486409155937053, 'average_rule_width': 3.0, 'ruleset_length': 7}\n",
            "{'l1': 12.676268861454044, 'l2': 53.5432098765432, 'l3': 18.514403292181065, 'l4': 18.514403292181065, 'l5': 18.514403292181065, 'l6': 18.514403292181065, 'l7': 18.514403292181065}\n"
          ]
        },
        {
          "output_type": "stream",
          "name": "stderr",
          "text": [
            "/content/pyIDS/pyids/algorithms/ids_classifier.py:58: FutureWarning: iteritems is deprecated and will be removed in a future version. Use .items instead.\n",
            "  for name, value in row.iteritems():\n"
          ]
        },
        {
          "output_type": "stream",
          "name": "stdout",
          "text": [
            "{'fraction_overlap': 0.37281831187410586, 'fraction_classes': 1.0, 'fraction_uncovered': 0.41058655221745355, 'average_rule_width': 3.0, 'ruleset_length': 6}\n",
            "{'l1': 12.676268861454044, 'l2': 18.51440329218107, 'l3': 18.514403292181065, 'l4': 18.514403292181065, 'l5': 18.514403292181065, 'l6': 18.514403292181065, 'l7': 18.514403292181065}\n"
          ]
        },
        {
          "output_type": "stream",
          "name": "stderr",
          "text": [
            "/content/pyIDS/pyids/algorithms/ids_classifier.py:58: FutureWarning: iteritems is deprecated and will be removed in a future version. Use .items instead.\n",
            "  for name, value in row.iteritems():\n"
          ]
        },
        {
          "output_type": "stream",
          "name": "stdout",
          "text": [
            "{'fraction_overlap': 0.377587029089175, 'fraction_classes': 1.0, 'fraction_uncovered': 0.3977110157367668, 'average_rule_width': 2.6666666666666665, 'ruleset_length': 6}\n",
            "{'l1': 12.676268861454044, 'l2': 36.02880658436213, 'l3': 18.514403292181065, 'l4': 18.514403292181065, 'l5': 18.514403292181065, 'l6': 18.514403292181065, 'l7': 18.514403292181065}\n"
          ]
        },
        {
          "output_type": "stream",
          "name": "stderr",
          "text": [
            "/content/pyIDS/pyids/algorithms/ids_classifier.py:58: FutureWarning: iteritems is deprecated and will be removed in a future version. Use .items instead.\n",
            "  for name, value in row.iteritems():\n"
          ]
        },
        {
          "output_type": "stream",
          "name": "stdout",
          "text": [
            "{'fraction_overlap': 0.36671435383881734, 'fraction_classes': 1.0, 'fraction_uncovered': 0.42346208869814017, 'average_rule_width': 3.0, 'ruleset_length': 6}\n",
            "{'l1': 12.676268861454044, 'l2': 12.676268861454043, 'l3': 18.514403292181065, 'l4': 18.514403292181065, 'l5': 18.514403292181065, 'l6': 18.514403292181065, 'l7': 18.514403292181065}\n"
          ]
        },
        {
          "output_type": "stream",
          "name": "stderr",
          "text": [
            "/content/pyIDS/pyids/algorithms/ids_classifier.py:58: FutureWarning: iteritems is deprecated and will be removed in a future version. Use .items instead.\n",
            "  for name, value in row.iteritems():\n"
          ]
        },
        {
          "output_type": "stream",
          "name": "stdout",
          "text": [
            "{'fraction_overlap': 0.3856938483547926, 'fraction_classes': 1.0, 'fraction_uncovered': 0.41773962804005726, 'average_rule_width': 3.0, 'ruleset_length': 6}\n",
            "{'l1': 12.676268861454044, 'l2': 24.35253772290809, 'l3': 18.514403292181065, 'l4': 18.514403292181065, 'l5': 18.514403292181065, 'l6': 18.514403292181065, 'l7': 18.514403292181065}\n"
          ]
        },
        {
          "output_type": "stream",
          "name": "stderr",
          "text": [
            "/content/pyIDS/pyids/algorithms/ids_classifier.py:58: FutureWarning: iteritems is deprecated and will be removed in a future version. Use .items instead.\n",
            "  for name, value in row.iteritems():\n"
          ]
        },
        {
          "output_type": "stream",
          "name": "stdout",
          "text": [
            "{'fraction_overlap': 0.37288189477030687, 'fraction_classes': 1.0, 'fraction_uncovered': 0.41201716738197425, 'average_rule_width': 2.7, 'ruleset_length': 10}\n",
            "{'l1': 12.676268861454044, 'l2': 12.676268861454044, 'l3': 18.514403292181065, 'l4': 18.514403292181065, 'l5': 18.514403292181065, 'l6': 18.514403292181065, 'l7': 18.514403292181065}\n"
          ]
        },
        {
          "output_type": "stream",
          "name": "stderr",
          "text": [
            "/content/pyIDS/pyids/algorithms/ids_classifier.py:58: FutureWarning: iteritems is deprecated and will be removed in a future version. Use .items instead.\n",
            "  for name, value in row.iteritems():\n"
          ]
        },
        {
          "output_type": "stream",
          "name": "stdout",
          "text": [
            "{'fraction_overlap': 0.3752026704816405, 'fraction_classes': 1.0, 'fraction_uncovered': 0.40486409155937053, 'average_rule_width': 3.0, 'ruleset_length': 6}\n",
            "using precision 25.0\n",
            "{'l1': 12.676268861454044, 'l2': 12.676268861454044, 'l3': 134.0, 'l4': 18.514403292181065, 'l5': 18.514403292181065, 'l6': 18.514403292181065, 'l7': 18.514403292181065}\n"
          ]
        },
        {
          "output_type": "stream",
          "name": "stderr",
          "text": [
            "/content/pyIDS/pyids/algorithms/ids_classifier.py:58: FutureWarning: iteritems is deprecated and will be removed in a future version. Use .items instead.\n",
            "  for name, value in row.iteritems():\n"
          ]
        },
        {
          "output_type": "stream",
          "name": "stdout",
          "text": [
            "{'fraction_overlap': 0.37587029089175006, 'fraction_classes': 1.0, 'fraction_uncovered': 0.40915593705293274, 'average_rule_width': 2.9, 'ruleset_length': 10}\n",
            "{'l1': 12.676268861454044, 'l2': 12.676268861454044, 'l3': 267.0, 'l4': 18.514403292181065, 'l5': 18.514403292181065, 'l6': 18.514403292181065, 'l7': 18.514403292181065}\n"
          ]
        },
        {
          "output_type": "stream",
          "name": "stderr",
          "text": [
            "/content/pyIDS/pyids/algorithms/ids_classifier.py:58: FutureWarning: iteritems is deprecated and will be removed in a future version. Use .items instead.\n",
            "  for name, value in row.iteritems():\n"
          ]
        },
        {
          "output_type": "stream",
          "name": "stdout",
          "text": [
            "{'fraction_overlap': 0.3836274042282626, 'fraction_classes': 1.0, 'fraction_uncovered': 0.40486409155937053, 'average_rule_width': 2.9, 'ruleset_length': 10}\n",
            "{'l1': 12.676268861454044, 'l2': 12.676268861454044, 'l3': 89.66666666666667, 'l4': 18.514403292181065, 'l5': 18.514403292181065, 'l6': 18.514403292181065, 'l7': 18.514403292181065}\n"
          ]
        },
        {
          "output_type": "stream",
          "name": "stderr",
          "text": [
            "/content/pyIDS/pyids/algorithms/ids_classifier.py:58: FutureWarning: iteritems is deprecated and will be removed in a future version. Use .items instead.\n",
            "  for name, value in row.iteritems():\n"
          ]
        },
        {
          "output_type": "stream",
          "name": "stdout",
          "text": [
            "{'fraction_overlap': 0.3684174671299135, 'fraction_classes': 1.0, 'fraction_uncovered': 0.41487839771101576, 'average_rule_width': 2.857142857142857, 'ruleset_length': 7}\n",
            "{'l1': 12.676268861454044, 'l2': 12.676268861454044, 'l3': 178.33333333333331, 'l4': 18.514403292181065, 'l5': 18.514403292181065, 'l6': 18.514403292181065, 'l7': 18.514403292181065}\n"
          ]
        },
        {
          "output_type": "stream",
          "name": "stderr",
          "text": [
            "/content/pyIDS/pyids/algorithms/ids_classifier.py:58: FutureWarning: iteritems is deprecated and will be removed in a future version. Use .items instead.\n",
            "  for name, value in row.iteritems():\n"
          ]
        },
        {
          "output_type": "stream",
          "name": "stdout",
          "text": [
            "{'fraction_overlap': 0.380066762041011, 'fraction_classes': 1.0, 'fraction_uncovered': 0.4449213161659513, 'average_rule_width': 3.0, 'ruleset_length': 3}\n",
            "{'l1': 12.676268861454044, 'l2': 12.676268861454044, 'l3': 60.11111111111111, 'l4': 18.514403292181065, 'l5': 18.514403292181065, 'l6': 18.514403292181065, 'l7': 18.514403292181065}\n"
          ]
        },
        {
          "output_type": "stream",
          "name": "stderr",
          "text": [
            "/content/pyIDS/pyids/algorithms/ids_classifier.py:58: FutureWarning: iteritems is deprecated and will be removed in a future version. Use .items instead.\n",
            "  for name, value in row.iteritems():\n"
          ]
        },
        {
          "output_type": "stream",
          "name": "stdout",
          "text": [
            "{'fraction_overlap': 0.37267525035765386, 'fraction_classes': 1.0, 'fraction_uncovered': 0.42060085836909866, 'average_rule_width': 2.8, 'ruleset_length': 5}\n",
            "{'l1': 12.676268861454044, 'l2': 12.676268861454044, 'l3': 119.2222222222222, 'l4': 18.514403292181065, 'l5': 18.514403292181065, 'l6': 18.514403292181065, 'l7': 18.514403292181065}\n"
          ]
        },
        {
          "output_type": "stream",
          "name": "stderr",
          "text": [
            "/content/pyIDS/pyids/algorithms/ids_classifier.py:58: FutureWarning: iteritems is deprecated and will be removed in a future version. Use .items instead.\n",
            "  for name, value in row.iteritems():\n"
          ]
        },
        {
          "output_type": "stream",
          "name": "stdout",
          "text": [
            "{'fraction_overlap': 0.3898426323319028, 'fraction_classes': 1.0, 'fraction_uncovered': 0.4291845493562232, 'average_rule_width': 2.8, 'ruleset_length': 5}\n",
            "{'l1': 12.676268861454044, 'l2': 12.676268861454044, 'l3': 40.4074074074074, 'l4': 18.514403292181065, 'l5': 18.514403292181065, 'l6': 18.514403292181065, 'l7': 18.514403292181065}\n"
          ]
        },
        {
          "output_type": "stream",
          "name": "stderr",
          "text": [
            "/content/pyIDS/pyids/algorithms/ids_classifier.py:58: FutureWarning: iteritems is deprecated and will be removed in a future version. Use .items instead.\n",
            "  for name, value in row.iteritems():\n"
          ]
        },
        {
          "output_type": "stream",
          "name": "stdout",
          "text": [
            "{'fraction_overlap': 0.3663056066489543, 'fraction_classes': 1.0, 'fraction_uncovered': 0.41487839771101576, 'average_rule_width': 2.857142857142857, 'ruleset_length': 7}\n",
            "{'l1': 12.676268861454044, 'l2': 12.676268861454044, 'l3': 79.81481481481481, 'l4': 18.514403292181065, 'l5': 18.514403292181065, 'l6': 18.514403292181065, 'l7': 18.514403292181065}\n"
          ]
        },
        {
          "output_type": "stream",
          "name": "stderr",
          "text": [
            "/content/pyIDS/pyids/algorithms/ids_classifier.py:58: FutureWarning: iteritems is deprecated and will be removed in a future version. Use .items instead.\n",
            "  for name, value in row.iteritems():\n"
          ]
        },
        {
          "output_type": "stream",
          "name": "stdout",
          "text": [
            "{'fraction_overlap': 0.3717691940867907, 'fraction_classes': 1.0, 'fraction_uncovered': 0.40915593705293274, 'average_rule_width': 2.8, 'ruleset_length': 10}\n",
            "{'l1': 12.676268861454044, 'l2': 12.676268861454044, 'l3': 27.271604938271604, 'l4': 18.514403292181065, 'l5': 18.514403292181065, 'l6': 18.514403292181065, 'l7': 18.514403292181065}\n"
          ]
        },
        {
          "output_type": "stream",
          "name": "stderr",
          "text": [
            "/content/pyIDS/pyids/algorithms/ids_classifier.py:58: FutureWarning: iteritems is deprecated and will be removed in a future version. Use .items instead.\n",
            "  for name, value in row.iteritems():\n"
          ]
        },
        {
          "output_type": "stream",
          "name": "stdout",
          "text": [
            "{'fraction_overlap': 0.3653791130185981, 'fraction_classes': 1.0, 'fraction_uncovered': 0.41487839771101576, 'average_rule_width': 2.8, 'ruleset_length': 5}\n",
            "{'l1': 12.676268861454044, 'l2': 12.676268861454044, 'l3': 53.5432098765432, 'l4': 18.514403292181065, 'l5': 18.514403292181065, 'l6': 18.514403292181065, 'l7': 18.514403292181065}\n"
          ]
        },
        {
          "output_type": "stream",
          "name": "stderr",
          "text": [
            "/content/pyIDS/pyids/algorithms/ids_classifier.py:58: FutureWarning: iteritems is deprecated and will be removed in a future version. Use .items instead.\n",
            "  for name, value in row.iteritems():\n"
          ]
        },
        {
          "output_type": "stream",
          "name": "stdout",
          "text": [
            "{'fraction_overlap': 0.393164838658401, 'fraction_classes': 1.0, 'fraction_uncovered': 0.3977110157367668, 'average_rule_width': 2.9, 'ruleset_length': 10}\n",
            "{'l1': 12.676268861454044, 'l2': 12.676268861454044, 'l3': 18.51440329218107, 'l4': 18.514403292181065, 'l5': 18.514403292181065, 'l6': 18.514403292181065, 'l7': 18.514403292181065}\n"
          ]
        },
        {
          "output_type": "stream",
          "name": "stderr",
          "text": [
            "/content/pyIDS/pyids/algorithms/ids_classifier.py:58: FutureWarning: iteritems is deprecated and will be removed in a future version. Use .items instead.\n",
            "  for name, value in row.iteritems():\n"
          ]
        },
        {
          "output_type": "stream",
          "name": "stdout",
          "text": [
            "{'fraction_overlap': 0.3818091779465171, 'fraction_classes': 1.0, 'fraction_uncovered': 0.3948497854077253, 'average_rule_width': 2.8461538461538463, 'ruleset_length': 13}\n",
            "{'l1': 12.676268861454044, 'l2': 12.676268861454044, 'l3': 36.02880658436213, 'l4': 18.514403292181065, 'l5': 18.514403292181065, 'l6': 18.514403292181065, 'l7': 18.514403292181065}\n"
          ]
        },
        {
          "output_type": "stream",
          "name": "stderr",
          "text": [
            "/content/pyIDS/pyids/algorithms/ids_classifier.py:58: FutureWarning: iteritems is deprecated and will be removed in a future version. Use .items instead.\n",
            "  for name, value in row.iteritems():\n"
          ]
        },
        {
          "output_type": "stream",
          "name": "stdout",
          "text": [
            "{'fraction_overlap': 0.418693371483071, 'fraction_classes': 1.0, 'fraction_uncovered': 0.41058655221745355, 'average_rule_width': 3.0, 'ruleset_length': 4}\n",
            "{'l1': 12.676268861454044, 'l2': 12.676268861454044, 'l3': 12.676268861454043, 'l4': 18.514403292181065, 'l5': 18.514403292181065, 'l6': 18.514403292181065, 'l7': 18.514403292181065}\n"
          ]
        },
        {
          "output_type": "stream",
          "name": "stderr",
          "text": [
            "/content/pyIDS/pyids/algorithms/ids_classifier.py:58: FutureWarning: iteritems is deprecated and will be removed in a future version. Use .items instead.\n",
            "  for name, value in row.iteritems():\n"
          ]
        },
        {
          "output_type": "stream",
          "name": "stdout",
          "text": [
            "{'fraction_overlap': 0.3806707995549198, 'fraction_classes': 1.0, 'fraction_uncovered': 0.3948497854077253, 'average_rule_width': 2.9, 'ruleset_length': 10}\n",
            "{'l1': 12.676268861454044, 'l2': 12.676268861454044, 'l3': 24.35253772290809, 'l4': 18.514403292181065, 'l5': 18.514403292181065, 'l6': 18.514403292181065, 'l7': 18.514403292181065}\n"
          ]
        },
        {
          "output_type": "stream",
          "name": "stderr",
          "text": [
            "/content/pyIDS/pyids/algorithms/ids_classifier.py:58: FutureWarning: iteritems is deprecated and will be removed in a future version. Use .items instead.\n",
            "  for name, value in row.iteritems():\n"
          ]
        },
        {
          "output_type": "stream",
          "name": "stdout",
          "text": [
            "{'fraction_overlap': 0.3610872675250357, 'fraction_classes': 1.0, 'fraction_uncovered': 0.41058655221745355, 'average_rule_width': 2.8, 'ruleset_length': 5}\n",
            "{'l1': 12.676268861454044, 'l2': 12.676268861454044, 'l3': 12.676268861454044, 'l4': 18.514403292181065, 'l5': 18.514403292181065, 'l6': 18.514403292181065, 'l7': 18.514403292181065}\n"
          ]
        },
        {
          "output_type": "stream",
          "name": "stderr",
          "text": [
            "/content/pyIDS/pyids/algorithms/ids_classifier.py:58: FutureWarning: iteritems is deprecated and will be removed in a future version. Use .items instead.\n",
            "  for name, value in row.iteritems():\n"
          ]
        },
        {
          "output_type": "stream",
          "name": "stdout",
          "text": [
            "{'fraction_overlap': 0.3715307582260372, 'fraction_classes': 1.0, 'fraction_uncovered': 0.402002861230329, 'average_rule_width': 3.0, 'ruleset_length': 5}\n",
            "using precision 25.0\n",
            "{'l1': 12.676268861454044, 'l2': 12.676268861454044, 'l3': 12.676268861454044, 'l4': 134.0, 'l5': 18.514403292181065, 'l6': 18.514403292181065, 'l7': 18.514403292181065}\n"
          ]
        },
        {
          "output_type": "stream",
          "name": "stderr",
          "text": [
            "/content/pyIDS/pyids/algorithms/ids_classifier.py:58: FutureWarning: iteritems is deprecated and will be removed in a future version. Use .items instead.\n",
            "  for name, value in row.iteritems():\n"
          ]
        },
        {
          "output_type": "stream",
          "name": "stdout",
          "text": [
            "{'fraction_overlap': 0.37059745214251655, 'fraction_classes': 1.0, 'fraction_uncovered': 0.40915593705293274, 'average_rule_width': 2.857142857142857, 'ruleset_length': 7}\n",
            "{'l1': 12.676268861454044, 'l2': 12.676268861454044, 'l3': 12.676268861454044, 'l4': 267.0, 'l5': 18.514403292181065, 'l6': 18.514403292181065, 'l7': 18.514403292181065}\n"
          ]
        },
        {
          "output_type": "stream",
          "name": "stderr",
          "text": [
            "/content/pyIDS/pyids/algorithms/ids_classifier.py:58: FutureWarning: iteritems is deprecated and will be removed in a future version. Use .items instead.\n",
            "  for name, value in row.iteritems():\n"
          ]
        },
        {
          "output_type": "stream",
          "name": "stdout",
          "text": [
            "{'fraction_overlap': 0.3590844062947067, 'fraction_classes': 1.0, 'fraction_uncovered': 0.41487839771101576, 'average_rule_width': 3.0, 'ruleset_length': 5}\n",
            "{'l1': 12.676268861454044, 'l2': 12.676268861454044, 'l3': 12.676268861454044, 'l4': 89.66666666666667, 'l5': 18.514403292181065, 'l6': 18.514403292181065, 'l7': 18.514403292181065}\n"
          ]
        },
        {
          "output_type": "stream",
          "name": "stderr",
          "text": [
            "/content/pyIDS/pyids/algorithms/ids_classifier.py:58: FutureWarning: iteritems is deprecated and will be removed in a future version. Use .items instead.\n",
            "  for name, value in row.iteritems():\n"
          ]
        },
        {
          "output_type": "stream",
          "name": "stdout",
          "text": [
            "{'fraction_overlap': 0.3921077730090605, 'fraction_classes': 1.0, 'fraction_uncovered': 0.41917024320457796, 'average_rule_width': 2.7777777777777777, 'ruleset_length': 9}\n",
            "{'l1': 12.676268861454044, 'l2': 12.676268861454044, 'l3': 12.676268861454044, 'l4': 178.33333333333331, 'l5': 18.514403292181065, 'l6': 18.514403292181065, 'l7': 18.514403292181065}\n"
          ]
        },
        {
          "output_type": "stream",
          "name": "stderr",
          "text": [
            "/content/pyIDS/pyids/algorithms/ids_classifier.py:58: FutureWarning: iteritems is deprecated and will be removed in a future version. Use .items instead.\n",
            "  for name, value in row.iteritems():\n"
          ]
        },
        {
          "output_type": "stream",
          "name": "stdout",
          "text": [
            "{'fraction_overlap': 0.36967095851216025, 'fraction_classes': 1.0, 'fraction_uncovered': 0.402002861230329, 'average_rule_width': 3.0, 'ruleset_length': 6}\n",
            "{'l1': 12.676268861454044, 'l2': 12.676268861454044, 'l3': 12.676268861454044, 'l4': 60.11111111111111, 'l5': 18.514403292181065, 'l6': 18.514403292181065, 'l7': 18.514403292181065}\n"
          ]
        },
        {
          "output_type": "stream",
          "name": "stderr",
          "text": [
            "/content/pyIDS/pyids/algorithms/ids_classifier.py:58: FutureWarning: iteritems is deprecated and will be removed in a future version. Use .items instead.\n",
            "  for name, value in row.iteritems():\n"
          ]
        },
        {
          "output_type": "stream",
          "name": "stdout",
          "text": [
            "{'fraction_overlap': 0.35431568907963756, 'fraction_classes': 1.0, 'fraction_uncovered': 0.4406294706723891, 'average_rule_width': 2.75, 'ruleset_length': 4}\n",
            "{'l1': 12.676268861454044, 'l2': 12.676268861454044, 'l3': 12.676268861454044, 'l4': 119.2222222222222, 'l5': 18.514403292181065, 'l6': 18.514403292181065, 'l7': 18.514403292181065}\n"
          ]
        },
        {
          "output_type": "stream",
          "name": "stderr",
          "text": [
            "/content/pyIDS/pyids/algorithms/ids_classifier.py:58: FutureWarning: iteritems is deprecated and will be removed in a future version. Use .items instead.\n",
            "  for name, value in row.iteritems():\n"
          ]
        },
        {
          "output_type": "stream",
          "name": "stdout",
          "text": [
            "{'fraction_overlap': 0.4056815859390966, 'fraction_classes': 1.0, 'fraction_uncovered': 0.3977110157367668, 'average_rule_width': 2.75, 'ruleset_length': 8}\n",
            "{'l1': 12.676268861454044, 'l2': 12.676268861454044, 'l3': 12.676268861454044, 'l4': 40.4074074074074, 'l5': 18.514403292181065, 'l6': 18.514403292181065, 'l7': 18.514403292181065}\n"
          ]
        },
        {
          "output_type": "stream",
          "name": "stderr",
          "text": [
            "/content/pyIDS/pyids/algorithms/ids_classifier.py:58: FutureWarning: iteritems is deprecated and will be removed in a future version. Use .items instead.\n",
            "  for name, value in row.iteritems():\n"
          ]
        },
        {
          "output_type": "stream",
          "name": "stdout",
          "text": [
            "{'fraction_overlap': 0.3839771101573677, 'fraction_classes': 1.0, 'fraction_uncovered': 0.40915593705293274, 'average_rule_width': 3.0, 'ruleset_length': 5}\n",
            "{'l1': 12.676268861454044, 'l2': 12.676268861454044, 'l3': 12.676268861454044, 'l4': 79.81481481481481, 'l5': 18.514403292181065, 'l6': 18.514403292181065, 'l7': 18.514403292181065}\n"
          ]
        },
        {
          "output_type": "stream",
          "name": "stderr",
          "text": [
            "/content/pyIDS/pyids/algorithms/ids_classifier.py:58: FutureWarning: iteritems is deprecated and will be removed in a future version. Use .items instead.\n",
            "  for name, value in row.iteritems():\n"
          ]
        },
        {
          "output_type": "stream",
          "name": "stdout",
          "text": [
            "{'fraction_overlap': 0.3791130185979972, 'fraction_classes': 1.0, 'fraction_uncovered': 0.5264663805436338, 'average_rule_width': 2.6666666666666665, 'ruleset_length': 3}\n",
            "{'l1': 12.676268861454044, 'l2': 12.676268861454044, 'l3': 12.676268861454044, 'l4': 27.271604938271604, 'l5': 18.514403292181065, 'l6': 18.514403292181065, 'l7': 18.514403292181065}\n"
          ]
        },
        {
          "output_type": "stream",
          "name": "stderr",
          "text": [
            "/content/pyIDS/pyids/algorithms/ids_classifier.py:58: FutureWarning: iteritems is deprecated and will be removed in a future version. Use .items instead.\n",
            "  for name, value in row.iteritems():\n"
          ]
        },
        {
          "output_type": "stream",
          "name": "stdout",
          "text": [
            "{'fraction_overlap': 0.40476871721506913, 'fraction_classes': 1.0, 'fraction_uncovered': 0.4363376251788269, 'average_rule_width': 2.8333333333333335, 'ruleset_length': 6}\n",
            "{'l1': 12.676268861454044, 'l2': 12.676268861454044, 'l3': 12.676268861454044, 'l4': 53.5432098765432, 'l5': 18.514403292181065, 'l6': 18.514403292181065, 'l7': 18.514403292181065}\n"
          ]
        },
        {
          "output_type": "stream",
          "name": "stderr",
          "text": [
            "/content/pyIDS/pyids/algorithms/ids_classifier.py:58: FutureWarning: iteritems is deprecated and will be removed in a future version. Use .items instead.\n",
            "  for name, value in row.iteritems():\n"
          ]
        },
        {
          "output_type": "stream",
          "name": "stdout",
          "text": [
            "{'fraction_overlap': 0.39271975838499434, 'fraction_classes': 1.0, 'fraction_uncovered': 0.40486409155937053, 'average_rule_width': 2.9, 'ruleset_length': 10}\n",
            "{'l1': 12.676268861454044, 'l2': 12.676268861454044, 'l3': 12.676268861454044, 'l4': 18.51440329218107, 'l5': 18.514403292181065, 'l6': 18.514403292181065, 'l7': 18.514403292181065}\n"
          ]
        },
        {
          "output_type": "stream",
          "name": "stderr",
          "text": [
            "/content/pyIDS/pyids/algorithms/ids_classifier.py:58: FutureWarning: iteritems is deprecated and will be removed in a future version. Use .items instead.\n",
            "  for name, value in row.iteritems():\n"
          ]
        },
        {
          "output_type": "stream",
          "name": "stdout",
          "text": [
            "{'fraction_overlap': 0.424415832141154, 'fraction_classes': 1.0, 'fraction_uncovered': 0.4763948497854077, 'average_rule_width': 2.6666666666666665, 'ruleset_length': 3}\n",
            "{'l1': 12.676268861454044, 'l2': 12.676268861454044, 'l3': 12.676268861454044, 'l4': 36.02880658436213, 'l5': 18.514403292181065, 'l6': 18.514403292181065, 'l7': 18.514403292181065}\n"
          ]
        },
        {
          "output_type": "stream",
          "name": "stderr",
          "text": [
            "/content/pyIDS/pyids/algorithms/ids_classifier.py:58: FutureWarning: iteritems is deprecated and will be removed in a future version. Use .items instead.\n",
            "  for name, value in row.iteritems():\n"
          ]
        },
        {
          "output_type": "stream",
          "name": "stdout",
          "text": [
            "{'fraction_overlap': 0.3767286599904625, 'fraction_classes': 1.0, 'fraction_uncovered': 0.41917024320457796, 'average_rule_width': 3.0, 'ruleset_length': 6}\n",
            "{'l1': 12.676268861454044, 'l2': 12.676268861454044, 'l3': 12.676268861454044, 'l4': 12.676268861454043, 'l5': 18.514403292181065, 'l6': 18.514403292181065, 'l7': 18.514403292181065}\n"
          ]
        },
        {
          "output_type": "stream",
          "name": "stderr",
          "text": [
            "/content/pyIDS/pyids/algorithms/ids_classifier.py:58: FutureWarning: iteritems is deprecated and will be removed in a future version. Use .items instead.\n",
            "  for name, value in row.iteritems():\n"
          ]
        },
        {
          "output_type": "stream",
          "name": "stdout",
          "text": [
            "{'fraction_overlap': 0.3801348865726549, 'fraction_classes': 1.0, 'fraction_uncovered': 0.40772532188841204, 'average_rule_width': 3.0, 'ruleset_length': 8}\n",
            "{'l1': 12.676268861454044, 'l2': 12.676268861454044, 'l3': 12.676268861454044, 'l4': 24.35253772290809, 'l5': 18.514403292181065, 'l6': 18.514403292181065, 'l7': 18.514403292181065}\n"
          ]
        },
        {
          "output_type": "stream",
          "name": "stderr",
          "text": [
            "/content/pyIDS/pyids/algorithms/ids_classifier.py:58: FutureWarning: iteritems is deprecated and will be removed in a future version. Use .items instead.\n",
            "  for name, value in row.iteritems():\n"
          ]
        },
        {
          "output_type": "stream",
          "name": "stdout",
          "text": [
            "{'fraction_overlap': 0.386623748211731, 'fraction_classes': 1.0, 'fraction_uncovered': 0.41917024320457796, 'average_rule_width': 2.75, 'ruleset_length': 8}\n",
            "{'l1': 12.676268861454044, 'l2': 12.676268861454044, 'l3': 12.676268861454044, 'l4': 12.676268861454044, 'l5': 18.514403292181065, 'l6': 18.514403292181065, 'l7': 18.514403292181065}\n"
          ]
        },
        {
          "output_type": "stream",
          "name": "stderr",
          "text": [
            "/content/pyIDS/pyids/algorithms/ids_classifier.py:58: FutureWarning: iteritems is deprecated and will be removed in a future version. Use .items instead.\n",
            "  for name, value in row.iteritems():\n"
          ]
        },
        {
          "output_type": "stream",
          "name": "stdout",
          "text": [
            "{'fraction_overlap': 0.37625178826895567, 'fraction_classes': 1.0, 'fraction_uncovered': 0.40486409155937053, 'average_rule_width': 2.8333333333333335, 'ruleset_length': 6}\n",
            "using precision 25.0\n",
            "{'l1': 12.676268861454044, 'l2': 12.676268861454044, 'l3': 12.676268861454044, 'l4': 12.676268861454044, 'l5': 134.0, 'l6': 18.514403292181065, 'l7': 18.514403292181065}\n"
          ]
        },
        {
          "output_type": "stream",
          "name": "stderr",
          "text": [
            "/content/pyIDS/pyids/algorithms/ids_classifier.py:58: FutureWarning: iteritems is deprecated and will be removed in a future version. Use .items instead.\n",
            "  for name, value in row.iteritems():\n"
          ]
        },
        {
          "output_type": "stream",
          "name": "stdout",
          "text": [
            "{'fraction_overlap': 0.38960419647114924, 'fraction_classes': 1.0, 'fraction_uncovered': 0.4320457796852647, 'average_rule_width': 2.6666666666666665, 'ruleset_length': 3}\n",
            "{'l1': 12.676268861454044, 'l2': 12.676268861454044, 'l3': 12.676268861454044, 'l4': 12.676268861454044, 'l5': 267.0, 'l6': 18.514403292181065, 'l7': 18.514403292181065}\n"
          ]
        },
        {
          "output_type": "stream",
          "name": "stderr",
          "text": [
            "/content/pyIDS/pyids/algorithms/ids_classifier.py:58: FutureWarning: iteritems is deprecated and will be removed in a future version. Use .items instead.\n",
            "  for name, value in row.iteritems():\n"
          ]
        },
        {
          "output_type": "stream",
          "name": "stdout",
          "text": [
            "{'fraction_overlap': 0.3500238435860753, 'fraction_classes': 1.0, 'fraction_uncovered': 0.4721030042918455, 'average_rule_width': 3.0, 'ruleset_length': 3}\n",
            "{'l1': 12.676268861454044, 'l2': 12.676268861454044, 'l3': 12.676268861454044, 'l4': 12.676268861454044, 'l5': 89.66666666666667, 'l6': 18.514403292181065, 'l7': 18.514403292181065}\n"
          ]
        },
        {
          "output_type": "stream",
          "name": "stderr",
          "text": [
            "/content/pyIDS/pyids/algorithms/ids_classifier.py:58: FutureWarning: iteritems is deprecated and will be removed in a future version. Use .items instead.\n",
            "  for name, value in row.iteritems():\n"
          ]
        },
        {
          "output_type": "stream",
          "name": "stdout",
          "text": [
            "{'fraction_overlap': 0.35479256080114446, 'fraction_classes': 1.0, 'fraction_uncovered': 0.4449213161659513, 'average_rule_width': 3.0, 'ruleset_length': 3}\n",
            "{'l1': 12.676268861454044, 'l2': 12.676268861454044, 'l3': 12.676268861454044, 'l4': 12.676268861454044, 'l5': 178.33333333333331, 'l6': 18.514403292181065, 'l7': 18.514403292181065}\n"
          ]
        },
        {
          "output_type": "stream",
          "name": "stderr",
          "text": [
            "/content/pyIDS/pyids/algorithms/ids_classifier.py:58: FutureWarning: iteritems is deprecated and will be removed in a future version. Use .items instead.\n",
            "  for name, value in row.iteritems():\n"
          ]
        },
        {
          "output_type": "stream",
          "name": "stdout",
          "text": [
            "{'fraction_overlap': 0.3833537706928265, 'fraction_classes': 1.0, 'fraction_uncovered': 0.40629470672389123, 'average_rule_width': 2.875, 'ruleset_length': 8}\n",
            "{'l1': 12.676268861454044, 'l2': 12.676268861454044, 'l3': 12.676268861454044, 'l4': 12.676268861454044, 'l5': 60.11111111111111, 'l6': 18.514403292181065, 'l7': 18.514403292181065}\n"
          ]
        },
        {
          "output_type": "stream",
          "name": "stderr",
          "text": [
            "/content/pyIDS/pyids/algorithms/ids_classifier.py:58: FutureWarning: iteritems is deprecated and will be removed in a future version. Use .items instead.\n",
            "  for name, value in row.iteritems():\n"
          ]
        },
        {
          "output_type": "stream",
          "name": "stdout",
          "text": [
            "{'fraction_overlap': 0.38503985285101167, 'fraction_classes': 1.0, 'fraction_uncovered': 0.41630901287553645, 'average_rule_width': 2.875, 'ruleset_length': 8}\n",
            "{'l1': 12.676268861454044, 'l2': 12.676268861454044, 'l3': 12.676268861454044, 'l4': 12.676268861454044, 'l5': 119.2222222222222, 'l6': 18.514403292181065, 'l7': 18.514403292181065}\n"
          ]
        },
        {
          "output_type": "stream",
          "name": "stderr",
          "text": [
            "/content/pyIDS/pyids/algorithms/ids_classifier.py:58: FutureWarning: iteritems is deprecated and will be removed in a future version. Use .items instead.\n",
            "  for name, value in row.iteritems():\n"
          ]
        },
        {
          "output_type": "stream",
          "name": "stdout",
          "text": [
            "{'fraction_overlap': 0.3937370847242092, 'fraction_classes': 1.0, 'fraction_uncovered': 0.41917024320457796, 'average_rule_width': 2.9, 'ruleset_length': 10}\n",
            "{'l1': 12.676268861454044, 'l2': 12.676268861454044, 'l3': 12.676268861454044, 'l4': 12.676268861454044, 'l5': 40.4074074074074, 'l6': 18.514403292181065, 'l7': 18.514403292181065}\n"
          ]
        },
        {
          "output_type": "stream",
          "name": "stderr",
          "text": [
            "/content/pyIDS/pyids/algorithms/ids_classifier.py:58: FutureWarning: iteritems is deprecated and will be removed in a future version. Use .items instead.\n",
            "  for name, value in row.iteritems():\n"
          ]
        },
        {
          "output_type": "stream",
          "name": "stdout",
          "text": [
            "{'fraction_overlap': 0.38170175080046326, 'fraction_classes': 1.0, 'fraction_uncovered': 0.3991416309012875, 'average_rule_width': 2.857142857142857, 'ruleset_length': 7}\n",
            "{'l1': 12.676268861454044, 'l2': 12.676268861454044, 'l3': 12.676268861454044, 'l4': 12.676268861454044, 'l5': 79.81481481481481, 'l6': 18.514403292181065, 'l7': 18.514403292181065}\n"
          ]
        },
        {
          "output_type": "stream",
          "name": "stderr",
          "text": [
            "/content/pyIDS/pyids/algorithms/ids_classifier.py:58: FutureWarning: iteritems is deprecated and will be removed in a future version. Use .items instead.\n",
            "  for name, value in row.iteritems():\n"
          ]
        },
        {
          "output_type": "stream",
          "name": "stdout",
          "text": [
            "{'fraction_overlap': 0.3786838340486409, 'fraction_classes': 1.0, 'fraction_uncovered': 0.424892703862661, 'average_rule_width': 2.6, 'ruleset_length': 5}\n",
            "{'l1': 12.676268861454044, 'l2': 12.676268861454044, 'l3': 12.676268861454044, 'l4': 12.676268861454044, 'l5': 27.271604938271604, 'l6': 18.514403292181065, 'l7': 18.514403292181065}\n"
          ]
        },
        {
          "output_type": "stream",
          "name": "stderr",
          "text": [
            "/content/pyIDS/pyids/algorithms/ids_classifier.py:58: FutureWarning: iteritems is deprecated and will be removed in a future version. Use .items instead.\n",
            "  for name, value in row.iteritems():\n"
          ]
        },
        {
          "output_type": "stream",
          "name": "stdout",
          "text": [
            "{'fraction_overlap': 0.3849717283193677, 'fraction_classes': 1.0, 'fraction_uncovered': 0.41773962804005726, 'average_rule_width': 2.857142857142857, 'ruleset_length': 7}\n",
            "{'l1': 12.676268861454044, 'l2': 12.676268861454044, 'l3': 12.676268861454044, 'l4': 12.676268861454044, 'l5': 53.5432098765432, 'l6': 18.514403292181065, 'l7': 18.514403292181065}\n"
          ]
        },
        {
          "output_type": "stream",
          "name": "stderr",
          "text": [
            "/content/pyIDS/pyids/algorithms/ids_classifier.py:58: FutureWarning: iteritems is deprecated and will be removed in a future version. Use .items instead.\n",
            "  for name, value in row.iteritems():\n"
          ]
        },
        {
          "output_type": "stream",
          "name": "stdout",
          "text": [
            "{'fraction_overlap': 0.38445398187887464, 'fraction_classes': 1.0, 'fraction_uncovered': 0.41773962804005726, 'average_rule_width': 2.8333333333333335, 'ruleset_length': 6}\n",
            "{'l1': 12.676268861454044, 'l2': 12.676268861454044, 'l3': 12.676268861454044, 'l4': 12.676268861454044, 'l5': 18.51440329218107, 'l6': 18.514403292181065, 'l7': 18.514403292181065}\n"
          ]
        },
        {
          "output_type": "stream",
          "name": "stderr",
          "text": [
            "/content/pyIDS/pyids/algorithms/ids_classifier.py:58: FutureWarning: iteritems is deprecated and will be removed in a future version. Use .items instead.\n",
            "  for name, value in row.iteritems():\n"
          ]
        },
        {
          "output_type": "stream",
          "name": "stdout",
          "text": [
            "{'fraction_overlap': 0.38156550173717557, 'fraction_classes': 1.0, 'fraction_uncovered': 0.3977110157367668, 'average_rule_width': 2.875, 'ruleset_length': 8}\n",
            "{'l1': 12.676268861454044, 'l2': 12.676268861454044, 'l3': 12.676268861454044, 'l4': 12.676268861454044, 'l5': 36.02880658436213, 'l6': 18.514403292181065, 'l7': 18.514403292181065}\n"
          ]
        },
        {
          "output_type": "stream",
          "name": "stderr",
          "text": [
            "/content/pyIDS/pyids/algorithms/ids_classifier.py:58: FutureWarning: iteritems is deprecated and will be removed in a future version. Use .items instead.\n",
            "  for name, value in row.iteritems():\n"
          ]
        },
        {
          "output_type": "stream",
          "name": "stdout",
          "text": [
            "{'fraction_overlap': 0.36075345731998093, 'fraction_classes': 1.0, 'fraction_uncovered': 0.41917024320457796, 'average_rule_width': 3.0, 'ruleset_length': 4}\n",
            "{'l1': 12.676268861454044, 'l2': 12.676268861454044, 'l3': 12.676268861454044, 'l4': 12.676268861454044, 'l5': 12.676268861454043, 'l6': 18.514403292181065, 'l7': 18.514403292181065}\n"
          ]
        },
        {
          "output_type": "stream",
          "name": "stderr",
          "text": [
            "/content/pyIDS/pyids/algorithms/ids_classifier.py:58: FutureWarning: iteritems is deprecated and will be removed in a future version. Use .items instead.\n",
            "  for name, value in row.iteritems():\n"
          ]
        },
        {
          "output_type": "stream",
          "name": "stdout",
          "text": [
            "{'fraction_overlap': 0.40324272770624703, 'fraction_classes': 1.0, 'fraction_uncovered': 0.41201716738197425, 'average_rule_width': 3.0, 'ruleset_length': 6}\n",
            "{'l1': 12.676268861454044, 'l2': 12.676268861454044, 'l3': 12.676268861454044, 'l4': 12.676268861454044, 'l5': 24.35253772290809, 'l6': 18.514403292181065, 'l7': 18.514403292181065}\n"
          ]
        },
        {
          "output_type": "stream",
          "name": "stderr",
          "text": [
            "/content/pyIDS/pyids/algorithms/ids_classifier.py:58: FutureWarning: iteritems is deprecated and will be removed in a future version. Use .items instead.\n",
            "  for name, value in row.iteritems():\n"
          ]
        },
        {
          "output_type": "stream",
          "name": "stdout",
          "text": [
            "{'fraction_overlap': 0.3767286599904625, 'fraction_classes': 1.0, 'fraction_uncovered': 0.40343347639484983, 'average_rule_width': 2.8333333333333335, 'ruleset_length': 6}\n",
            "{'l1': 12.676268861454044, 'l2': 12.676268861454044, 'l3': 12.676268861454044, 'l4': 12.676268861454044, 'l5': 12.676268861454044, 'l6': 18.514403292181065, 'l7': 18.514403292181065}\n"
          ]
        },
        {
          "output_type": "stream",
          "name": "stderr",
          "text": [
            "/content/pyIDS/pyids/algorithms/ids_classifier.py:58: FutureWarning: iteritems is deprecated and will be removed in a future version. Use .items instead.\n",
            "  for name, value in row.iteritems():\n"
          ]
        },
        {
          "output_type": "stream",
          "name": "stdout",
          "text": [
            "{'fraction_overlap': 0.3862660944206009, 'fraction_classes': 1.0, 'fraction_uncovered': 0.45493562231759654, 'average_rule_width': 2.8, 'ruleset_length': 5}\n",
            "using precision 25.0\n",
            "{'l1': 12.676268861454044, 'l2': 12.676268861454044, 'l3': 12.676268861454044, 'l4': 12.676268861454044, 'l5': 12.676268861454044, 'l6': 134.0, 'l7': 18.514403292181065}\n"
          ]
        },
        {
          "output_type": "stream",
          "name": "stderr",
          "text": [
            "/content/pyIDS/pyids/algorithms/ids_classifier.py:58: FutureWarning: iteritems is deprecated and will be removed in a future version. Use .items instead.\n",
            "  for name, value in row.iteritems():\n"
          ]
        },
        {
          "output_type": "stream",
          "name": "stdout",
          "text": [
            "{'fraction_overlap': 0.3968526466380544, 'fraction_classes': 1.0, 'fraction_uncovered': 0.45493562231759654, 'average_rule_width': 2.8, 'ruleset_length': 5}\n",
            "{'l1': 12.676268861454044, 'l2': 12.676268861454044, 'l3': 12.676268861454044, 'l4': 12.676268861454044, 'l5': 12.676268861454044, 'l6': 267.0, 'l7': 18.514403292181065}\n"
          ]
        },
        {
          "output_type": "stream",
          "name": "stderr",
          "text": [
            "/content/pyIDS/pyids/algorithms/ids_classifier.py:58: FutureWarning: iteritems is deprecated and will be removed in a future version. Use .items instead.\n",
            "  for name, value in row.iteritems():\n"
          ]
        },
        {
          "output_type": "stream",
          "name": "stdout",
          "text": [
            "{'fraction_overlap': 0.4031473533619456, 'fraction_classes': 1.0, 'fraction_uncovered': 0.4763948497854077, 'average_rule_width': 3.0, 'ruleset_length': 5}\n",
            "{'l1': 12.676268861454044, 'l2': 12.676268861454044, 'l3': 12.676268861454044, 'l4': 12.676268861454044, 'l5': 12.676268861454044, 'l6': 89.66666666666667, 'l7': 18.514403292181065}\n"
          ]
        },
        {
          "output_type": "stream",
          "name": "stderr",
          "text": [
            "/content/pyIDS/pyids/algorithms/ids_classifier.py:58: FutureWarning: iteritems is deprecated and will be removed in a future version. Use .items instead.\n",
            "  for name, value in row.iteritems():\n"
          ]
        },
        {
          "output_type": "stream",
          "name": "stdout",
          "text": [
            "{'fraction_overlap': 0.36725935009196814, 'fraction_classes': 1.0, 'fraction_uncovered': 0.40772532188841204, 'average_rule_width': 2.857142857142857, 'ruleset_length': 7}\n",
            "{'l1': 12.676268861454044, 'l2': 12.676268861454044, 'l3': 12.676268861454044, 'l4': 12.676268861454044, 'l5': 12.676268861454044, 'l6': 178.33333333333331, 'l7': 18.514403292181065}\n"
          ]
        },
        {
          "output_type": "stream",
          "name": "stderr",
          "text": [
            "/content/pyIDS/pyids/algorithms/ids_classifier.py:58: FutureWarning: iteritems is deprecated and will be removed in a future version. Use .items instead.\n",
            "  for name, value in row.iteritems():\n"
          ]
        },
        {
          "output_type": "stream",
          "name": "stdout",
          "text": [
            "{'fraction_overlap': 0.3794945159752027, 'fraction_classes': 1.0, 'fraction_uncovered': 0.42346208869814017, 'average_rule_width': 3.0, 'ruleset_length': 6}\n",
            "{'l1': 12.676268861454044, 'l2': 12.676268861454044, 'l3': 12.676268861454044, 'l4': 12.676268861454044, 'l5': 12.676268861454044, 'l6': 60.11111111111111, 'l7': 18.514403292181065}\n"
          ]
        },
        {
          "output_type": "stream",
          "name": "stderr",
          "text": [
            "/content/pyIDS/pyids/algorithms/ids_classifier.py:58: FutureWarning: iteritems is deprecated and will be removed in a future version. Use .items instead.\n",
            "  for name, value in row.iteritems():\n"
          ]
        },
        {
          "output_type": "stream",
          "name": "stdout",
          "text": [
            "{'fraction_overlap': 0.4032347798442218, 'fraction_classes': 1.0, 'fraction_uncovered': 0.3948497854077253, 'average_rule_width': 2.7777777777777777, 'ruleset_length': 9}\n",
            "{'l1': 12.676268861454044, 'l2': 12.676268861454044, 'l3': 12.676268861454044, 'l4': 12.676268861454044, 'l5': 12.676268861454044, 'l6': 119.2222222222222, 'l7': 18.514403292181065}\n"
          ]
        },
        {
          "output_type": "stream",
          "name": "stderr",
          "text": [
            "/content/pyIDS/pyids/algorithms/ids_classifier.py:58: FutureWarning: iteritems is deprecated and will be removed in a future version. Use .items instead.\n",
            "  for name, value in row.iteritems():\n"
          ]
        },
        {
          "output_type": "stream",
          "name": "stdout",
          "text": [
            "{'fraction_overlap': 0.37241978336398934, 'fraction_classes': 1.0, 'fraction_uncovered': 0.402002861230329, 'average_rule_width': 2.875, 'ruleset_length': 8}\n",
            "{'l1': 12.676268861454044, 'l2': 12.676268861454044, 'l3': 12.676268861454044, 'l4': 12.676268861454044, 'l5': 12.676268861454044, 'l6': 40.4074074074074, 'l7': 18.514403292181065}\n"
          ]
        },
        {
          "output_type": "stream",
          "name": "stderr",
          "text": [
            "/content/pyIDS/pyids/algorithms/ids_classifier.py:58: FutureWarning: iteritems is deprecated and will be removed in a future version. Use .items instead.\n",
            "  for name, value in row.iteritems():\n"
          ]
        },
        {
          "output_type": "stream",
          "name": "stdout",
          "text": [
            "{'fraction_overlap': 0.37509934827531394, 'fraction_classes': 1.0, 'fraction_uncovered': 0.40915593705293274, 'average_rule_width': 2.888888888888889, 'ruleset_length': 9}\n",
            "{'l1': 12.676268861454044, 'l2': 12.676268861454044, 'l3': 12.676268861454044, 'l4': 12.676268861454044, 'l5': 12.676268861454044, 'l6': 79.81481481481481, 'l7': 18.514403292181065}\n"
          ]
        },
        {
          "output_type": "stream",
          "name": "stderr",
          "text": [
            "/content/pyIDS/pyids/algorithms/ids_classifier.py:58: FutureWarning: iteritems is deprecated and will be removed in a future version. Use .items instead.\n",
            "  for name, value in row.iteritems():\n"
          ]
        },
        {
          "output_type": "stream",
          "name": "stdout",
          "text": [
            "{'fraction_overlap': 0.37226650316779064, 'fraction_classes': 1.0, 'fraction_uncovered': 0.4005722460658083, 'average_rule_width': 2.875, 'ruleset_length': 8}\n",
            "{'l1': 12.676268861454044, 'l2': 12.676268861454044, 'l3': 12.676268861454044, 'l4': 12.676268861454044, 'l5': 12.676268861454044, 'l6': 27.271604938271604, 'l7': 18.514403292181065}\n"
          ]
        },
        {
          "output_type": "stream",
          "name": "stderr",
          "text": [
            "/content/pyIDS/pyids/algorithms/ids_classifier.py:58: FutureWarning: iteritems is deprecated and will be removed in a future version. Use .items instead.\n",
            "  for name, value in row.iteritems():\n"
          ]
        },
        {
          "output_type": "stream",
          "name": "stdout",
          "text": [
            "{'fraction_overlap': 0.3961441515089584, 'fraction_classes': 1.0, 'fraction_uncovered': 0.41773962804005726, 'average_rule_width': 2.5714285714285716, 'ruleset_length': 7}\n",
            "{'l1': 12.676268861454044, 'l2': 12.676268861454044, 'l3': 12.676268861454044, 'l4': 12.676268861454044, 'l5': 12.676268861454044, 'l6': 53.5432098765432, 'l7': 18.514403292181065}\n"
          ]
        },
        {
          "output_type": "stream",
          "name": "stderr",
          "text": [
            "/content/pyIDS/pyids/algorithms/ids_classifier.py:58: FutureWarning: iteritems is deprecated and will be removed in a future version. Use .items instead.\n",
            "  for name, value in row.iteritems():\n"
          ]
        },
        {
          "output_type": "stream",
          "name": "stdout",
          "text": [
            "{'fraction_overlap': 0.3894134477825466, 'fraction_classes': 1.0, 'fraction_uncovered': 0.41058655221745355, 'average_rule_width': 2.8, 'ruleset_length': 5}\n",
            "{'l1': 12.676268861454044, 'l2': 12.676268861454044, 'l3': 12.676268861454044, 'l4': 12.676268861454044, 'l5': 12.676268861454044, 'l6': 18.51440329218107, 'l7': 18.514403292181065}\n"
          ]
        },
        {
          "output_type": "stream",
          "name": "stderr",
          "text": [
            "/content/pyIDS/pyids/algorithms/ids_classifier.py:58: FutureWarning: iteritems is deprecated and will be removed in a future version. Use .items instead.\n",
            "  for name, value in row.iteritems():\n"
          ]
        },
        {
          "output_type": "stream",
          "name": "stdout",
          "text": [
            "{'fraction_overlap': 0.3567000476871721, 'fraction_classes': 1.0, 'fraction_uncovered': 0.45207439198855504, 'average_rule_width': 3.0, 'ruleset_length': 3}\n",
            "{'l1': 12.676268861454044, 'l2': 12.676268861454044, 'l3': 12.676268861454044, 'l4': 12.676268861454044, 'l5': 12.676268861454044, 'l6': 36.02880658436213, 'l7': 18.514403292181065}\n"
          ]
        },
        {
          "output_type": "stream",
          "name": "stderr",
          "text": [
            "/content/pyIDS/pyids/algorithms/ids_classifier.py:58: FutureWarning: iteritems is deprecated and will be removed in a future version. Use .items instead.\n",
            "  for name, value in row.iteritems():\n"
          ]
        },
        {
          "output_type": "stream",
          "name": "stdout",
          "text": [
            "{'fraction_overlap': 0.37708414618285857, 'fraction_classes': 1.0, 'fraction_uncovered': 0.41201716738197425, 'average_rule_width': 2.727272727272727, 'ruleset_length': 11}\n",
            "{'l1': 12.676268861454044, 'l2': 12.676268861454044, 'l3': 12.676268861454044, 'l4': 12.676268861454044, 'l5': 12.676268861454044, 'l6': 12.676268861454043, 'l7': 18.514403292181065}\n"
          ]
        },
        {
          "output_type": "stream",
          "name": "stderr",
          "text": [
            "/content/pyIDS/pyids/algorithms/ids_classifier.py:58: FutureWarning: iteritems is deprecated and will be removed in a future version. Use .items instead.\n",
            "  for name, value in row.iteritems():\n"
          ]
        },
        {
          "output_type": "stream",
          "name": "stdout",
          "text": [
            "{'fraction_overlap': 0.38154506437768243, 'fraction_classes': 1.0, 'fraction_uncovered': 0.40486409155937053, 'average_rule_width': 3.0, 'ruleset_length': 5}\n",
            "{'l1': 12.676268861454044, 'l2': 12.676268861454044, 'l3': 12.676268861454044, 'l4': 12.676268861454044, 'l5': 12.676268861454044, 'l6': 24.35253772290809, 'l7': 18.514403292181065}\n"
          ]
        },
        {
          "output_type": "stream",
          "name": "stderr",
          "text": [
            "/content/pyIDS/pyids/algorithms/ids_classifier.py:58: FutureWarning: iteritems is deprecated and will be removed in a future version. Use .items instead.\n",
            "  for name, value in row.iteritems():\n"
          ]
        },
        {
          "output_type": "stream",
          "name": "stdout",
          "text": [
            "{'fraction_overlap': 0.4240752094829347, 'fraction_classes': 1.0, 'fraction_uncovered': 0.4391988555078684, 'average_rule_width': 2.7142857142857144, 'ruleset_length': 7}\n",
            "{'l1': 12.676268861454044, 'l2': 12.676268861454044, 'l3': 12.676268861454044, 'l4': 12.676268861454044, 'l5': 12.676268861454044, 'l6': 12.676268861454044, 'l7': 18.514403292181065}\n"
          ]
        },
        {
          "output_type": "stream",
          "name": "stderr",
          "text": [
            "/content/pyIDS/pyids/algorithms/ids_classifier.py:58: FutureWarning: iteritems is deprecated and will be removed in a future version. Use .items instead.\n",
            "  for name, value in row.iteritems():\n"
          ]
        },
        {
          "output_type": "stream",
          "name": "stdout",
          "text": [
            "{'fraction_overlap': 0.4027976474328406, 'fraction_classes': 1.0, 'fraction_uncovered': 0.3977110157367668, 'average_rule_width': 2.8, 'ruleset_length': 10}\n",
            "using precision 25.0\n",
            "{'l1': 12.676268861454044, 'l2': 12.676268861454044, 'l3': 12.676268861454044, 'l4': 12.676268861454044, 'l5': 12.676268861454044, 'l6': 12.676268861454044, 'l7': 134.0}\n"
          ]
        },
        {
          "output_type": "stream",
          "name": "stderr",
          "text": [
            "/content/pyIDS/pyids/algorithms/ids_classifier.py:58: FutureWarning: iteritems is deprecated and will be removed in a future version. Use .items instead.\n",
            "  for name, value in row.iteritems():\n"
          ]
        },
        {
          "output_type": "stream",
          "name": "stdout",
          "text": [
            "{'fraction_overlap': 0.4678111587982833, 'fraction_classes': 1.0, 'fraction_uncovered': 0.5050071530758227, 'average_rule_width': 3.0, 'ruleset_length': 2}\n",
            "{'l1': 12.676268861454044, 'l2': 12.676268861454044, 'l3': 12.676268861454044, 'l4': 12.676268861454044, 'l5': 12.676268861454044, 'l6': 12.676268861454044, 'l7': 267.0}\n"
          ]
        },
        {
          "output_type": "stream",
          "name": "stderr",
          "text": [
            "/content/pyIDS/pyids/algorithms/ids_classifier.py:58: FutureWarning: iteritems is deprecated and will be removed in a future version. Use .items instead.\n",
            "  for name, value in row.iteritems():\n"
          ]
        },
        {
          "output_type": "stream",
          "name": "stdout",
          "text": [
            "{'fraction_overlap': 0.3719599427753934, 'fraction_classes': 1.0, 'fraction_uncovered': 0.4864091559370529, 'average_rule_width': 3.0, 'ruleset_length': 2}\n",
            "{'l1': 12.676268861454044, 'l2': 12.676268861454044, 'l3': 12.676268861454044, 'l4': 12.676268861454044, 'l5': 12.676268861454044, 'l6': 12.676268861454044, 'l7': 89.66666666666667}\n"
          ]
        },
        {
          "output_type": "stream",
          "name": "stderr",
          "text": [
            "/content/pyIDS/pyids/algorithms/ids_classifier.py:58: FutureWarning: iteritems is deprecated and will be removed in a future version. Use .items instead.\n",
            "  for name, value in row.iteritems():\n"
          ]
        },
        {
          "output_type": "stream",
          "name": "stdout",
          "text": [
            "{'fraction_overlap': 0.3615368894338852, 'fraction_classes': 1.0, 'fraction_uncovered': 0.41201716738197425, 'average_rule_width': 2.7142857142857144, 'ruleset_length': 7}\n",
            "{'l1': 12.676268861454044, 'l2': 12.676268861454044, 'l3': 12.676268861454044, 'l4': 12.676268861454044, 'l5': 12.676268861454044, 'l6': 12.676268861454044, 'l7': 178.33333333333331}\n"
          ]
        },
        {
          "output_type": "stream",
          "name": "stderr",
          "text": [
            "/content/pyIDS/pyids/algorithms/ids_classifier.py:58: FutureWarning: iteritems is deprecated and will be removed in a future version. Use .items instead.\n",
            "  for name, value in row.iteritems():\n"
          ]
        },
        {
          "output_type": "stream",
          "name": "stdout",
          "text": [
            "{'fraction_overlap': 0.3715511955855303, 'fraction_classes': 1.0, 'fraction_uncovered': 0.42060085836909866, 'average_rule_width': 2.75, 'ruleset_length': 8}\n",
            "{'l1': 12.676268861454044, 'l2': 12.676268861454044, 'l3': 12.676268861454044, 'l4': 12.676268861454044, 'l5': 12.676268861454044, 'l6': 12.676268861454044, 'l7': 60.11111111111111}\n"
          ]
        },
        {
          "output_type": "stream",
          "name": "stderr",
          "text": [
            "/content/pyIDS/pyids/algorithms/ids_classifier.py:58: FutureWarning: iteritems is deprecated and will be removed in a future version. Use .items instead.\n",
            "  for name, value in row.iteritems():\n"
          ]
        },
        {
          "output_type": "stream",
          "name": "stdout",
          "text": [
            "{'fraction_overlap': 0.38531235097758704, 'fraction_classes': 1.0, 'fraction_uncovered': 0.40343347639484983, 'average_rule_width': 3.0, 'ruleset_length': 7}\n",
            "{'l1': 12.676268861454044, 'l2': 12.676268861454044, 'l3': 12.676268861454044, 'l4': 12.676268861454044, 'l5': 12.676268861454044, 'l6': 12.676268861454044, 'l7': 119.2222222222222}\n"
          ]
        },
        {
          "output_type": "stream",
          "name": "stderr",
          "text": [
            "/content/pyIDS/pyids/algorithms/ids_classifier.py:58: FutureWarning: iteritems is deprecated and will be removed in a future version. Use .items instead.\n",
            "  for name, value in row.iteritems():\n"
          ]
        },
        {
          "output_type": "stream",
          "name": "stdout",
          "text": [
            "{'fraction_overlap': 0.3843586075345731, 'fraction_classes': 1.0, 'fraction_uncovered': 0.4220314735336195, 'average_rule_width': 3.0, 'ruleset_length': 9}\n",
            "{'l1': 12.676268861454044, 'l2': 12.676268861454044, 'l3': 12.676268861454044, 'l4': 12.676268861454044, 'l5': 12.676268861454044, 'l6': 12.676268861454044, 'l7': 40.4074074074074}\n"
          ]
        },
        {
          "output_type": "stream",
          "name": "stderr",
          "text": [
            "/content/pyIDS/pyids/algorithms/ids_classifier.py:58: FutureWarning: iteritems is deprecated and will be removed in a future version. Use .items instead.\n",
            "  for name, value in row.iteritems():\n"
          ]
        },
        {
          "output_type": "stream",
          "name": "stdout",
          "text": [
            "{'fraction_overlap': 0.3746849240411473, 'fraction_classes': 1.0, 'fraction_uncovered': 0.4005722460658083, 'average_rule_width': 3.0, 'ruleset_length': 7}\n",
            "{'l1': 12.676268861454044, 'l2': 12.676268861454044, 'l3': 12.676268861454044, 'l4': 12.676268861454044, 'l5': 12.676268861454044, 'l6': 12.676268861454044, 'l7': 79.81481481481481}\n"
          ]
        },
        {
          "output_type": "stream",
          "name": "stderr",
          "text": [
            "/content/pyIDS/pyids/algorithms/ids_classifier.py:58: FutureWarning: iteritems is deprecated and will be removed in a future version. Use .items instead.\n",
            "  for name, value in row.iteritems():\n"
          ]
        },
        {
          "output_type": "stream",
          "name": "stdout",
          "text": [
            "{'fraction_overlap': 0.3732951835956128, 'fraction_classes': 1.0, 'fraction_uncovered': 0.41630901287553645, 'average_rule_width': 2.6666666666666665, 'ruleset_length': 6}\n",
            "{'l1': 12.676268861454044, 'l2': 12.676268861454044, 'l3': 12.676268861454044, 'l4': 12.676268861454044, 'l5': 12.676268861454044, 'l6': 12.676268861454044, 'l7': 27.271604938271604}\n"
          ]
        },
        {
          "output_type": "stream",
          "name": "stderr",
          "text": [
            "/content/pyIDS/pyids/algorithms/ids_classifier.py:58: FutureWarning: iteritems is deprecated and will be removed in a future version. Use .items instead.\n",
            "  for name, value in row.iteritems():\n"
          ]
        },
        {
          "output_type": "stream",
          "name": "stdout",
          "text": [
            "{'fraction_overlap': 0.4002861230329042, 'fraction_classes': 1.0, 'fraction_uncovered': 0.40772532188841204, 'average_rule_width': 3.0, 'ruleset_length': 6}\n",
            "{'l1': 12.676268861454044, 'l2': 12.676268861454044, 'l3': 12.676268861454044, 'l4': 12.676268861454044, 'l5': 12.676268861454044, 'l6': 12.676268861454044, 'l7': 53.5432098765432}\n"
          ]
        },
        {
          "output_type": "stream",
          "name": "stderr",
          "text": [
            "/content/pyIDS/pyids/algorithms/ids_classifier.py:58: FutureWarning: iteritems is deprecated and will be removed in a future version. Use .items instead.\n",
            "  for name, value in row.iteritems():\n"
          ]
        },
        {
          "output_type": "stream",
          "name": "stdout",
          "text": [
            "{'fraction_overlap': 0.380066762041011, 'fraction_classes': 1.0, 'fraction_uncovered': 0.41487839771101576, 'average_rule_width': 2.888888888888889, 'ruleset_length': 9}\n",
            "{'l1': 12.676268861454044, 'l2': 12.676268861454044, 'l3': 12.676268861454044, 'l4': 12.676268861454044, 'l5': 12.676268861454044, 'l6': 12.676268861454044, 'l7': 18.51440329218107}\n"
          ]
        },
        {
          "output_type": "stream",
          "name": "stderr",
          "text": [
            "/content/pyIDS/pyids/algorithms/ids_classifier.py:58: FutureWarning: iteritems is deprecated and will be removed in a future version. Use .items instead.\n",
            "  for name, value in row.iteritems():\n"
          ]
        },
        {
          "output_type": "stream",
          "name": "stdout",
          "text": [
            "{'fraction_overlap': 0.39542203147353366, 'fraction_classes': 1.0, 'fraction_uncovered': 0.41917024320457796, 'average_rule_width': 2.6, 'ruleset_length': 5}\n",
            "{'l1': 12.676268861454044, 'l2': 12.676268861454044, 'l3': 12.676268861454044, 'l4': 12.676268861454044, 'l5': 12.676268861454044, 'l6': 12.676268861454044, 'l7': 36.02880658436213}\n"
          ]
        },
        {
          "output_type": "stream",
          "name": "stderr",
          "text": [
            "/content/pyIDS/pyids/algorithms/ids_classifier.py:58: FutureWarning: iteritems is deprecated and will be removed in a future version. Use .items instead.\n",
            "  for name, value in row.iteritems():\n"
          ]
        },
        {
          "output_type": "stream",
          "name": "stdout",
          "text": [
            "{'fraction_overlap': 0.3717555691804618, 'fraction_classes': 1.0, 'fraction_uncovered': 0.41487839771101576, 'average_rule_width': 2.857142857142857, 'ruleset_length': 7}\n",
            "{'l1': 12.676268861454044, 'l2': 12.676268861454044, 'l3': 12.676268861454044, 'l4': 12.676268861454044, 'l5': 12.676268861454044, 'l6': 12.676268861454044, 'l7': 12.676268861454043}\n"
          ]
        },
        {
          "output_type": "stream",
          "name": "stderr",
          "text": [
            "/content/pyIDS/pyids/algorithms/ids_classifier.py:58: FutureWarning: iteritems is deprecated and will be removed in a future version. Use .items instead.\n",
            "  for name, value in row.iteritems():\n"
          ]
        },
        {
          "output_type": "stream",
          "name": "stdout",
          "text": [
            "{'fraction_overlap': 0.38681109067375163, 'fraction_classes': 1.0, 'fraction_uncovered': 0.3948497854077253, 'average_rule_width': 2.7142857142857144, 'ruleset_length': 7}\n",
            "{'l1': 12.676268861454044, 'l2': 12.676268861454044, 'l3': 12.676268861454044, 'l4': 12.676268861454044, 'l5': 12.676268861454044, 'l6': 12.676268861454044, 'l7': 24.35253772290809}\n"
          ]
        },
        {
          "output_type": "stream",
          "name": "stderr",
          "text": [
            "/content/pyIDS/pyids/algorithms/ids_classifier.py:58: FutureWarning: iteritems is deprecated and will be removed in a future version. Use .items instead.\n",
            "  for name, value in row.iteritems():\n"
          ]
        },
        {
          "output_type": "stream",
          "name": "stdout",
          "text": [
            "{'fraction_overlap': 0.3624225083452551, 'fraction_classes': 1.0, 'fraction_uncovered': 0.44921316165951364, 'average_rule_width': 2.6666666666666665, 'ruleset_length': 3}\n",
            "{'l1': 12.676268861454044, 'l2': 12.676268861454044, 'l3': 12.676268861454044, 'l4': 12.676268861454044, 'l5': 12.676268861454044, 'l6': 12.676268861454044, 'l7': 12.676268861454044}\n",
            "{'fraction_overlap': 0.37649022412970906, 'fraction_classes': 1.0, 'fraction_uncovered': 0.4263233190271817, 'average_rule_width': 2.75, 'ruleset_length': 4}\n"
          ]
        },
        {
          "output_type": "stream",
          "name": "stderr",
          "text": [
            "/content/pyIDS/pyids/algorithms/ids_classifier.py:58: FutureWarning: iteritems is deprecated and will be removed in a future version. Use .items instead.\n",
            "  for name, value in row.iteritems():\n"
          ]
        }
      ]
    },
    {
      "cell_type": "markdown",
      "source": [
        "# Best parameters obtained"
      ],
      "metadata": {
        "id": "gBEqlnihVXkk"
      }
    },
    {
      "cell_type": "code",
      "source": [
        "pars = [round(x, 2) for x in best_pars]\n",
        "\n",
        "pars_df = pd.DataFrame({\n",
        "    \"parametr\": [ f\"$\\lambda_{i}$\" for i in range(1, 8) ],\n",
        "    \"hodnota parametru\": pars\n",
        "})\n",
        "\n",
        "print(pars_df.to_latex(index=False, escape=False))"
      ],
      "metadata": {
        "colab": {
          "base_uri": "https://localhost:8080/"
        },
        "id": "OEpsrOxdlIcP",
        "outputId": "1047d28e-ba76-46a0-8a8d-294d5304db1f"
      },
      "execution_count": 17,
      "outputs": [
        {
          "output_type": "stream",
          "name": "stdout",
          "text": [
            "\\begin{tabular}{lr}\n",
            "\\toprule\n",
            "   parametr &  hodnota parametru \\\\\n",
            "\\midrule\n",
            "$\\lambda_1$ &                 34 \\\\\n",
            "$\\lambda_2$ &                155 \\\\\n",
            "$\\lambda_3$ &                321 \\\\\n",
            "$\\lambda_4$ &                194 \\\\\n",
            "$\\lambda_5$ &                266 \\\\\n",
            "$\\lambda_6$ &                 48 \\\\\n",
            "$\\lambda_7$ &                309 \\\\\n",
            "\\bottomrule\n",
            "\\end{tabular}\n",
            "\n"
          ]
        },
        {
          "output_type": "stream",
          "name": "stderr",
          "text": [
            "<ipython-input-17-de770b53e833>:8: FutureWarning: In future versions `DataFrame.to_latex` is expected to utilise the base implementation of `Styler.to_latex` for formatting and rendering. The arguments signature may therefore change. It is recommended instead to use `DataFrame.style.to_latex` which also contains additional functionality.\n",
            "  print(pars_df.to_latex(index=False, escape=False))\n"
          ]
        }
      ]
    },
    {
      "cell_type": "code",
      "source": [
        "ids = IDS()\n",
        "ids.fit(class_association_rules=cars, quant_dataframe=quant_dataframe_train, lambda_array=best_pars)\n",
        "ids.score_auc(quant_dataframe_test)"
      ],
      "metadata": {
        "id": "NDGtMMC2kn9W",
        "colab": {
          "base_uri": "https://localhost:8080/"
        },
        "outputId": "939adc10-45be-4c73-b707-5dc8050765bc"
      },
      "execution_count": 18,
      "outputs": [
        {
          "output_type": "stream",
          "name": "stderr",
          "text": [
            "/content/pyIDS/pyids/algorithms/ids_classifier.py:58: FutureWarning: iteritems is deprecated and will be removed in a future version. Use .items instead.\n",
            "  for name, value in row.iteritems():\n",
            "/content/pyIDS/pyids/algorithms/ids_classifier.py:91: FutureWarning: iteritems is deprecated and will be removed in a future version. Use .items instead.\n",
            "  for name, value in row.iteritems():\n"
          ]
        },
        {
          "output_type": "execute_result",
          "data": {
            "text/plain": [
              "0.9578947368421052"
            ]
          },
          "metadata": {},
          "execution_count": 18
        }
      ]
    },
    {
      "cell_type": "code",
      "source": [
        "ids.score_interpretability_metrics(quant_dataframe_test)"
      ],
      "metadata": {
        "colab": {
          "base_uri": "https://localhost:8080/"
        },
        "id": "8tmAHJ4ruIkY",
        "outputId": "916ee33c-a3ef-4b67-d057-243518616320"
      },
      "execution_count": 19,
      "outputs": [
        {
          "output_type": "execute_result",
          "data": {
            "text/plain": [
              "{'fraction_overlap': 0.37423469387755104,\n",
              " 'fraction_classes': 1.0,\n",
              " 'fraction_uncovered': 0.37857142857142856,\n",
              " 'average_rule_width': 3.0,\n",
              " 'ruleset_length': 8}"
            ]
          },
          "metadata": {},
          "execution_count": 19
        }
      ]
    },
    {
      "cell_type": "code",
      "source": [
        "metric_df = pd.DataFrame([\n",
        "    {\"Data\": \"Training\", \"Accuracy\": ids.score(quant_dataframe_train), \"AUC\": ids.score_auc(quant_dataframe_train)},\n",
        "    {\"Data\": \"Testing\", \"Accuracy\": ids.score(quant_dataframe_test), \"AUC\": ids.score_auc(quant_dataframe_test)}\n",
        "])\n",
        "metric_df"
      ],
      "metadata": {
        "colab": {
          "base_uri": "https://localhost:8080/",
          "height": 333
        },
        "id": "ycGuu77iqtd3",
        "outputId": "4359305d-14b4-43af-d6a8-e89219346d72"
      },
      "execution_count": 20,
      "outputs": [
        {
          "output_type": "stream",
          "name": "stderr",
          "text": [
            "/content/pyIDS/pyids/algorithms/ids_classifier.py:58: FutureWarning: iteritems is deprecated and will be removed in a future version. Use .items instead.\n",
            "  for name, value in row.iteritems():\n",
            "/content/pyIDS/pyids/algorithms/ids_classifier.py:58: FutureWarning: iteritems is deprecated and will be removed in a future version. Use .items instead.\n",
            "  for name, value in row.iteritems():\n",
            "/content/pyIDS/pyids/algorithms/ids_classifier.py:91: FutureWarning: iteritems is deprecated and will be removed in a future version. Use .items instead.\n",
            "  for name, value in row.iteritems():\n",
            "/content/pyIDS/pyids/algorithms/ids_classifier.py:58: FutureWarning: iteritems is deprecated and will be removed in a future version. Use .items instead.\n",
            "  for name, value in row.iteritems():\n",
            "/content/pyIDS/pyids/algorithms/ids_classifier.py:58: FutureWarning: iteritems is deprecated and will be removed in a future version. Use .items instead.\n",
            "  for name, value in row.iteritems():\n",
            "/content/pyIDS/pyids/algorithms/ids_classifier.py:91: FutureWarning: iteritems is deprecated and will be removed in a future version. Use .items instead.\n",
            "  for name, value in row.iteritems():\n"
          ]
        },
        {
          "output_type": "execute_result",
          "data": {
            "text/plain": [
              "       Data  Accuracy       AUC\n",
              "0  Training  0.939177  0.953168\n",
              "1   Testing  0.942857  0.957895"
            ],
            "text/html": [
              "\n",
              "  <div id=\"df-4a66c5fe-16ab-4927-9c5f-c6365512d1f4\" class=\"colab-df-container\">\n",
              "    <div>\n",
              "<style scoped>\n",
              "    .dataframe tbody tr th:only-of-type {\n",
              "        vertical-align: middle;\n",
              "    }\n",
              "\n",
              "    .dataframe tbody tr th {\n",
              "        vertical-align: top;\n",
              "    }\n",
              "\n",
              "    .dataframe thead th {\n",
              "        text-align: right;\n",
              "    }\n",
              "</style>\n",
              "<table border=\"1\" class=\"dataframe\">\n",
              "  <thead>\n",
              "    <tr style=\"text-align: right;\">\n",
              "      <th></th>\n",
              "      <th>Data</th>\n",
              "      <th>Accuracy</th>\n",
              "      <th>AUC</th>\n",
              "    </tr>\n",
              "  </thead>\n",
              "  <tbody>\n",
              "    <tr>\n",
              "      <th>0</th>\n",
              "      <td>Training</td>\n",
              "      <td>0.939177</td>\n",
              "      <td>0.953168</td>\n",
              "    </tr>\n",
              "    <tr>\n",
              "      <th>1</th>\n",
              "      <td>Testing</td>\n",
              "      <td>0.942857</td>\n",
              "      <td>0.957895</td>\n",
              "    </tr>\n",
              "  </tbody>\n",
              "</table>\n",
              "</div>\n",
              "    <div class=\"colab-df-buttons\">\n",
              "\n",
              "  <div class=\"colab-df-container\">\n",
              "    <button class=\"colab-df-convert\" onclick=\"convertToInteractive('df-4a66c5fe-16ab-4927-9c5f-c6365512d1f4')\"\n",
              "            title=\"Convert this dataframe to an interactive table.\"\n",
              "            style=\"display:none;\">\n",
              "\n",
              "  <svg xmlns=\"http://www.w3.org/2000/svg\" height=\"24px\" viewBox=\"0 -960 960 960\">\n",
              "    <path d=\"M120-120v-720h720v720H120Zm60-500h600v-160H180v160Zm220 220h160v-160H400v160Zm0 220h160v-160H400v160ZM180-400h160v-160H180v160Zm440 0h160v-160H620v160ZM180-180h160v-160H180v160Zm440 0h160v-160H620v160Z\"/>\n",
              "  </svg>\n",
              "    </button>\n",
              "\n",
              "  <style>\n",
              "    .colab-df-container {\n",
              "      display:flex;\n",
              "      gap: 12px;\n",
              "    }\n",
              "\n",
              "    .colab-df-convert {\n",
              "      background-color: #E8F0FE;\n",
              "      border: none;\n",
              "      border-radius: 50%;\n",
              "      cursor: pointer;\n",
              "      display: none;\n",
              "      fill: #1967D2;\n",
              "      height: 32px;\n",
              "      padding: 0 0 0 0;\n",
              "      width: 32px;\n",
              "    }\n",
              "\n",
              "    .colab-df-convert:hover {\n",
              "      background-color: #E2EBFA;\n",
              "      box-shadow: 0px 1px 2px rgba(60, 64, 67, 0.3), 0px 1px 3px 1px rgba(60, 64, 67, 0.15);\n",
              "      fill: #174EA6;\n",
              "    }\n",
              "\n",
              "    .colab-df-buttons div {\n",
              "      margin-bottom: 4px;\n",
              "    }\n",
              "\n",
              "    [theme=dark] .colab-df-convert {\n",
              "      background-color: #3B4455;\n",
              "      fill: #D2E3FC;\n",
              "    }\n",
              "\n",
              "    [theme=dark] .colab-df-convert:hover {\n",
              "      background-color: #434B5C;\n",
              "      box-shadow: 0px 1px 3px 1px rgba(0, 0, 0, 0.15);\n",
              "      filter: drop-shadow(0px 1px 2px rgba(0, 0, 0, 0.3));\n",
              "      fill: #FFFFFF;\n",
              "    }\n",
              "  </style>\n",
              "\n",
              "    <script>\n",
              "      const buttonEl =\n",
              "        document.querySelector('#df-4a66c5fe-16ab-4927-9c5f-c6365512d1f4 button.colab-df-convert');\n",
              "      buttonEl.style.display =\n",
              "        google.colab.kernel.accessAllowed ? 'block' : 'none';\n",
              "\n",
              "      async function convertToInteractive(key) {\n",
              "        const element = document.querySelector('#df-4a66c5fe-16ab-4927-9c5f-c6365512d1f4');\n",
              "        const dataTable =\n",
              "          await google.colab.kernel.invokeFunction('convertToInteractive',\n",
              "                                                    [key], {});\n",
              "        if (!dataTable) return;\n",
              "\n",
              "        const docLinkHtml = 'Like what you see? Visit the ' +\n",
              "          '<a target=\"_blank\" href=https://colab.research.google.com/notebooks/data_table.ipynb>data table notebook</a>'\n",
              "          + ' to learn more about interactive tables.';\n",
              "        element.innerHTML = '';\n",
              "        dataTable['output_type'] = 'display_data';\n",
              "        await google.colab.output.renderOutput(dataTable, element);\n",
              "        const docLink = document.createElement('div');\n",
              "        docLink.innerHTML = docLinkHtml;\n",
              "        element.appendChild(docLink);\n",
              "      }\n",
              "    </script>\n",
              "  </div>\n",
              "\n",
              "\n",
              "<div id=\"df-8ae63d62-0cf4-4a60-92c4-ff3fc69ef6ba\">\n",
              "  <button class=\"colab-df-quickchart\" onclick=\"quickchart('df-8ae63d62-0cf4-4a60-92c4-ff3fc69ef6ba')\"\n",
              "            title=\"Suggest charts\"\n",
              "            style=\"display:none;\">\n",
              "\n",
              "<svg xmlns=\"http://www.w3.org/2000/svg\" height=\"24px\"viewBox=\"0 0 24 24\"\n",
              "     width=\"24px\">\n",
              "    <g>\n",
              "        <path d=\"M19 3H5c-1.1 0-2 .9-2 2v14c0 1.1.9 2 2 2h14c1.1 0 2-.9 2-2V5c0-1.1-.9-2-2-2zM9 17H7v-7h2v7zm4 0h-2V7h2v10zm4 0h-2v-4h2v4z\"/>\n",
              "    </g>\n",
              "</svg>\n",
              "  </button>\n",
              "\n",
              "<style>\n",
              "  .colab-df-quickchart {\n",
              "      --bg-color: #E8F0FE;\n",
              "      --fill-color: #1967D2;\n",
              "      --hover-bg-color: #E2EBFA;\n",
              "      --hover-fill-color: #174EA6;\n",
              "      --disabled-fill-color: #AAA;\n",
              "      --disabled-bg-color: #DDD;\n",
              "  }\n",
              "\n",
              "  [theme=dark] .colab-df-quickchart {\n",
              "      --bg-color: #3B4455;\n",
              "      --fill-color: #D2E3FC;\n",
              "      --hover-bg-color: #434B5C;\n",
              "      --hover-fill-color: #FFFFFF;\n",
              "      --disabled-bg-color: #3B4455;\n",
              "      --disabled-fill-color: #666;\n",
              "  }\n",
              "\n",
              "  .colab-df-quickchart {\n",
              "    background-color: var(--bg-color);\n",
              "    border: none;\n",
              "    border-radius: 50%;\n",
              "    cursor: pointer;\n",
              "    display: none;\n",
              "    fill: var(--fill-color);\n",
              "    height: 32px;\n",
              "    padding: 0;\n",
              "    width: 32px;\n",
              "  }\n",
              "\n",
              "  .colab-df-quickchart:hover {\n",
              "    background-color: var(--hover-bg-color);\n",
              "    box-shadow: 0 1px 2px rgba(60, 64, 67, 0.3), 0 1px 3px 1px rgba(60, 64, 67, 0.15);\n",
              "    fill: var(--button-hover-fill-color);\n",
              "  }\n",
              "\n",
              "  .colab-df-quickchart-complete:disabled,\n",
              "  .colab-df-quickchart-complete:disabled:hover {\n",
              "    background-color: var(--disabled-bg-color);\n",
              "    fill: var(--disabled-fill-color);\n",
              "    box-shadow: none;\n",
              "  }\n",
              "\n",
              "  .colab-df-spinner {\n",
              "    border: 2px solid var(--fill-color);\n",
              "    border-color: transparent;\n",
              "    border-bottom-color: var(--fill-color);\n",
              "    animation:\n",
              "      spin 1s steps(1) infinite;\n",
              "  }\n",
              "\n",
              "  @keyframes spin {\n",
              "    0% {\n",
              "      border-color: transparent;\n",
              "      border-bottom-color: var(--fill-color);\n",
              "      border-left-color: var(--fill-color);\n",
              "    }\n",
              "    20% {\n",
              "      border-color: transparent;\n",
              "      border-left-color: var(--fill-color);\n",
              "      border-top-color: var(--fill-color);\n",
              "    }\n",
              "    30% {\n",
              "      border-color: transparent;\n",
              "      border-left-color: var(--fill-color);\n",
              "      border-top-color: var(--fill-color);\n",
              "      border-right-color: var(--fill-color);\n",
              "    }\n",
              "    40% {\n",
              "      border-color: transparent;\n",
              "      border-right-color: var(--fill-color);\n",
              "      border-top-color: var(--fill-color);\n",
              "    }\n",
              "    60% {\n",
              "      border-color: transparent;\n",
              "      border-right-color: var(--fill-color);\n",
              "    }\n",
              "    80% {\n",
              "      border-color: transparent;\n",
              "      border-right-color: var(--fill-color);\n",
              "      border-bottom-color: var(--fill-color);\n",
              "    }\n",
              "    90% {\n",
              "      border-color: transparent;\n",
              "      border-bottom-color: var(--fill-color);\n",
              "    }\n",
              "  }\n",
              "</style>\n",
              "\n",
              "  <script>\n",
              "    async function quickchart(key) {\n",
              "      const quickchartButtonEl =\n",
              "        document.querySelector('#' + key + ' button');\n",
              "      quickchartButtonEl.disabled = true;  // To prevent multiple clicks.\n",
              "      quickchartButtonEl.classList.add('colab-df-spinner');\n",
              "      try {\n",
              "        const charts = await google.colab.kernel.invokeFunction(\n",
              "            'suggestCharts', [key], {});\n",
              "      } catch (error) {\n",
              "        console.error('Error during call to suggestCharts:', error);\n",
              "      }\n",
              "      quickchartButtonEl.classList.remove('colab-df-spinner');\n",
              "      quickchartButtonEl.classList.add('colab-df-quickchart-complete');\n",
              "    }\n",
              "    (() => {\n",
              "      let quickchartButtonEl =\n",
              "        document.querySelector('#df-8ae63d62-0cf4-4a60-92c4-ff3fc69ef6ba button');\n",
              "      quickchartButtonEl.style.display =\n",
              "        google.colab.kernel.accessAllowed ? 'block' : 'none';\n",
              "    })();\n",
              "  </script>\n",
              "</div>\n",
              "\n",
              "  <div id=\"id_be5abf1a-8cea-40cb-8cf5-7e6aec14892c\">\n",
              "    <style>\n",
              "      .colab-df-generate {\n",
              "        background-color: #E8F0FE;\n",
              "        border: none;\n",
              "        border-radius: 50%;\n",
              "        cursor: pointer;\n",
              "        display: none;\n",
              "        fill: #1967D2;\n",
              "        height: 32px;\n",
              "        padding: 0 0 0 0;\n",
              "        width: 32px;\n",
              "      }\n",
              "\n",
              "      .colab-df-generate:hover {\n",
              "        background-color: #E2EBFA;\n",
              "        box-shadow: 0px 1px 2px rgba(60, 64, 67, 0.3), 0px 1px 3px 1px rgba(60, 64, 67, 0.15);\n",
              "        fill: #174EA6;\n",
              "      }\n",
              "\n",
              "      [theme=dark] .colab-df-generate {\n",
              "        background-color: #3B4455;\n",
              "        fill: #D2E3FC;\n",
              "      }\n",
              "\n",
              "      [theme=dark] .colab-df-generate:hover {\n",
              "        background-color: #434B5C;\n",
              "        box-shadow: 0px 1px 3px 1px rgba(0, 0, 0, 0.15);\n",
              "        filter: drop-shadow(0px 1px 2px rgba(0, 0, 0, 0.3));\n",
              "        fill: #FFFFFF;\n",
              "      }\n",
              "    </style>\n",
              "    <button class=\"colab-df-generate\" onclick=\"generateWithVariable('metric_df')\"\n",
              "            title=\"Generate code using this dataframe.\"\n",
              "            style=\"display:none;\">\n",
              "\n",
              "  <svg xmlns=\"http://www.w3.org/2000/svg\" height=\"24px\"viewBox=\"0 0 24 24\"\n",
              "       width=\"24px\">\n",
              "    <path d=\"M7,19H8.4L18.45,9,17,7.55,7,17.6ZM5,21V16.75L18.45,3.32a2,2,0,0,1,2.83,0l1.4,1.43a1.91,1.91,0,0,1,.58,1.4,1.91,1.91,0,0,1-.58,1.4L9.25,21ZM18.45,9,17,7.55Zm-12,3A5.31,5.31,0,0,0,4.9,8.1,5.31,5.31,0,0,0,1,6.5,5.31,5.31,0,0,0,4.9,4.9,5.31,5.31,0,0,0,6.5,1,5.31,5.31,0,0,0,8.1,4.9,5.31,5.31,0,0,0,12,6.5,5.46,5.46,0,0,0,6.5,12Z\"/>\n",
              "  </svg>\n",
              "    </button>\n",
              "    <script>\n",
              "      (() => {\n",
              "      const buttonEl =\n",
              "        document.querySelector('#id_be5abf1a-8cea-40cb-8cf5-7e6aec14892c button.colab-df-generate');\n",
              "      buttonEl.style.display =\n",
              "        google.colab.kernel.accessAllowed ? 'block' : 'none';\n",
              "\n",
              "      buttonEl.onclick = () => {\n",
              "        google.colab.notebook.generateWithVariable('metric_df');\n",
              "      }\n",
              "      })();\n",
              "    </script>\n",
              "  </div>\n",
              "\n",
              "    </div>\n",
              "  </div>\n"
            ],
            "application/vnd.google.colaboratory.intrinsic+json": {
              "type": "dataframe",
              "variable_name": "metric_df",
              "summary": "{\n  \"name\": \"metric_df\",\n  \"rows\": 2,\n  \"fields\": [\n    {\n      \"column\": \"Data\",\n      \"properties\": {\n        \"dtype\": \"string\",\n        \"num_unique_values\": 2,\n        \"samples\": [\n          \"Testing\",\n          \"Training\"\n        ],\n        \"semantic_type\": \"\",\n        \"description\": \"\"\n      }\n    },\n    {\n      \"column\": \"Accuracy\",\n      \"properties\": {\n        \"dtype\": \"number\",\n        \"std\": 0.0026021818678983147,\n        \"min\": 0.9391771019677997,\n        \"max\": 0.9428571428571428,\n        \"num_unique_values\": 2,\n        \"samples\": [\n          0.9428571428571428,\n          0.9391771019677997\n        ],\n        \"semantic_type\": \"\",\n        \"description\": \"\"\n      }\n    },\n    {\n      \"column\": \"AUC\",\n      \"properties\": {\n        \"dtype\": \"number\",\n        \"std\": 0.003342276506695803,\n        \"min\": 0.9531680440771351,\n        \"max\": 0.9578947368421052,\n        \"num_unique_values\": 2,\n        \"samples\": [\n          0.9578947368421052,\n          0.9531680440771351\n        ],\n        \"semantic_type\": \"\",\n        \"description\": \"\"\n      }\n    }\n  ]\n}"
            }
          },
          "metadata": {},
          "execution_count": 20
        }
      ]
    }
  ],
  "metadata": {
    "kernelspec": {
      "display_name": "Python 3",
      "language": "python",
      "name": "python3"
    },
    "language_info": {
      "codemirror_mode": {
        "name": "ipython",
        "version": 3
      },
      "file_extension": ".py",
      "mimetype": "text/x-python",
      "name": "python",
      "nbconvert_exporter": "python",
      "pygments_lexer": "ipython3",
      "version": "3.7.3"
    },
    "colab": {
      "provenance": []
    }
  },
  "nbformat": 4,
  "nbformat_minor": 0
}